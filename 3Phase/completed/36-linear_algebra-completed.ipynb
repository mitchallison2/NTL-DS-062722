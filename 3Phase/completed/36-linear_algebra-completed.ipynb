{
 "cells": [
  {
   "cell_type": "markdown",
   "metadata": {
    "toc": true
   },
   "source": [
    "<h1>Table of Contents<span class=\"tocSkip\"></span></h1>\n",
    "<div class=\"toc\"><ul class=\"toc-item\"><li><span><a href=\"#Objectives\" data-toc-modified-id=\"Objectives-1\"><span class=\"toc-item-num\">1&nbsp;&nbsp;</span>Objectives</a></span></li><li><span><a href=\"#What-&amp;-Why-of-Linear-Algebra\" data-toc-modified-id=\"What-&amp;-Why-of-Linear-Algebra-2\"><span class=\"toc-item-num\">2&nbsp;&nbsp;</span>What &amp; Why of Linear Algebra</a></span></li><li><span><a href=\"#Scalars,-Vectors,-and-Tensors!-Oh-My!\" data-toc-modified-id=\"Scalars,-Vectors,-and-Tensors!-Oh-My!-3\"><span class=\"toc-item-num\">3&nbsp;&nbsp;</span>Scalars, Vectors, and Tensors! Oh My!</a></span><ul class=\"toc-item\"><li><span><a href=\"#Scalars\" data-toc-modified-id=\"Scalars-3.1\"><span class=\"toc-item-num\">3.1&nbsp;&nbsp;</span>Scalars</a></span></li><li><span><a href=\"#Vectors\" data-toc-modified-id=\"Vectors-3.2\"><span class=\"toc-item-num\">3.2&nbsp;&nbsp;</span>Vectors</a></span><ul class=\"toc-item\"><li><span><a href=\"#Code-for-Vectors\" data-toc-modified-id=\"Code-for-Vectors-3.2.1\"><span class=\"toc-item-num\">3.2.1&nbsp;&nbsp;</span>Code for Vectors</a></span></li><li><span><a href=\"#Math-with-Vectors\" data-toc-modified-id=\"Math-with-Vectors-3.2.2\"><span class=\"toc-item-num\">3.2.2&nbsp;&nbsp;</span>Math with Vectors</a></span><ul class=\"toc-item\"><li><span><a href=\"#Vector-Addition\" data-toc-modified-id=\"Vector-Addition-3.2.2.1\"><span class=\"toc-item-num\">3.2.2.1&nbsp;&nbsp;</span>Vector Addition</a></span></li><li><span><a href=\"#Vector-Multiplication\" data-toc-modified-id=\"Vector-Multiplication-3.2.2.2\"><span class=\"toc-item-num\">3.2.2.2&nbsp;&nbsp;</span>Vector Multiplication</a></span></li></ul></li></ul></li><li><span><a href=\"#Matrices-and-Tensors\" data-toc-modified-id=\"Matrices-and-Tensors-3.3\"><span class=\"toc-item-num\">3.3&nbsp;&nbsp;</span>Matrices and Tensors</a></span><ul class=\"toc-item\"><li><span><a href=\"#Code-for-Matrices-and-Tensors\" data-toc-modified-id=\"Code-for-Matrices-and-Tensors-3.3.1\"><span class=\"toc-item-num\">3.3.1&nbsp;&nbsp;</span>Code for Matrices and Tensors</a></span></li><li><span><a href=\"#Math-with-Tensors\" data-toc-modified-id=\"Math-with-Tensors-3.3.2\"><span class=\"toc-item-num\">3.3.2&nbsp;&nbsp;</span>Math with Tensors</a></span><ul class=\"toc-item\"><li><span><a href=\"#Addition\" data-toc-modified-id=\"Addition-3.3.2.1\"><span class=\"toc-item-num\">3.3.2.1&nbsp;&nbsp;</span>Addition</a></span></li><li><span><a href=\"#Dot-Product\" data-toc-modified-id=\"Dot-Product-3.3.2.2\"><span class=\"toc-item-num\">3.3.2.2&nbsp;&nbsp;</span>Dot-Product</a></span></li></ul></li></ul></li></ul></li><li><span><a href=\"#More-with-Matrices\" data-toc-modified-id=\"More-with-Matrices-4\"><span class=\"toc-item-num\">4&nbsp;&nbsp;</span>More with Matrices</a></span><ul class=\"toc-item\"><li><span><a href=\"#Identity-Matrices\" data-toc-modified-id=\"Identity-Matrices-4.1\"><span class=\"toc-item-num\">4.1&nbsp;&nbsp;</span>Identity Matrices</a></span><ul class=\"toc-item\"><li><span><a href=\"#Identity-Matrices-in-NumPy\" data-toc-modified-id=\"Identity-Matrices-in-NumPy-4.1.1\"><span class=\"toc-item-num\">4.1.1&nbsp;&nbsp;</span>Identity Matrices in NumPy</a></span></li></ul></li><li><span><a href=\"#Inverse-Matrices\" data-toc-modified-id=\"Inverse-Matrices-4.2\"><span class=\"toc-item-num\">4.2&nbsp;&nbsp;</span>Inverse Matrices</a></span></li></ul></li><li><span><a href=\"#Solving-a-System-of-Linear-Equations\" data-toc-modified-id=\"Solving-a-System-of-Linear-Equations-5\"><span class=\"toc-item-num\">5&nbsp;&nbsp;</span>Solving a System of Linear Equations</a></span><ul class=\"toc-item\"><li><span><a href=\"#Representing-the-System-with-Matrices\" data-toc-modified-id=\"Representing-the-System-with-Matrices-5.1\"><span class=\"toc-item-num\">5.1&nbsp;&nbsp;</span>Representing the System with Matrices</a></span><ul class=\"toc-item\"><li><span><a href=\"#Coding-It-with-NumPy\" data-toc-modified-id=\"Coding-It-with-NumPy-5.1.1\"><span class=\"toc-item-num\">5.1.1&nbsp;&nbsp;</span>Coding It with NumPy</a></span></li><li><span><a href=\"#Solve-It-Faster-with-NumPy's-linalg.solve()\" data-toc-modified-id=\"Solve-It-Faster-with-NumPy's-linalg.solve()-5.1.2\"><span class=\"toc-item-num\">5.1.2&nbsp;&nbsp;</span>Solve It Faster with NumPy's <code>linalg.solve()</code></a></span></li></ul></li></ul></li><li><span><a href=\"#Solving-for-the-Line-of-Best-Fit:-Linear-Regression\" data-toc-modified-id=\"Solving-for-the-Line-of-Best-Fit:-Linear-Regression-6\"><span class=\"toc-item-num\">6&nbsp;&nbsp;</span>Solving for the Line of Best Fit: Linear Regression</a></span><ul class=\"toc-item\"><li><span><a href=\"#Linear-Algebra-Solves-the-Best-Fit-Line-Problem\" data-toc-modified-id=\"Linear-Algebra-Solves-the-Best-Fit-Line-Problem-6.1\"><span class=\"toc-item-num\">6.1&nbsp;&nbsp;</span>Linear Algebra Solves the Best-Fit Line Problem</a></span></li><li><span><a href=\"#Level-Up:-Cramer's-Rule\" data-toc-modified-id=\"Level-Up:-Cramer's-Rule-6.2\"><span class=\"toc-item-num\">6.2&nbsp;&nbsp;</span>Level Up: Cramer's Rule</a></span></li></ul></li></ul></div>"
   ]
  },
  {
   "cell_type": "code",
   "execution_count": 1,
   "metadata": {
    "ExecuteTime": {
     "end_time": "2022-08-09T15:59:53.946130Z",
     "start_time": "2022-08-09T15:59:53.034067Z"
    }
   },
   "outputs": [],
   "source": [
    "import numpy as np\n",
    "from sklearn.linear_model import LinearRegression"
   ]
  },
  {
   "cell_type": "markdown",
   "metadata": {},
   "source": [
    "![linalg](https://online-learning.harvard.edu/sites/default/files/styles/header/public/course/3295580_orig.jpg?itok=0Rdh9m8k)"
   ]
  },
  {
   "cell_type": "markdown",
   "metadata": {},
   "source": [
    "# Objectives"
   ]
  },
  {
   "cell_type": "markdown",
   "metadata": {},
   "source": [
    "- Use `numpy` to construct and manipulate scalars, vectors, and matrices\n",
    "- Use `numpy` to construct and manipulate identity matrices and inverse matrices\n",
    "- Use `numpy` to solve systems of equations\n",
    "- Describe the matrix manipulations required to solve the best-fit line problem"
   ]
  },
  {
   "cell_type": "markdown",
   "metadata": {},
   "source": [
    "# What & Why of Linear Algebra"
   ]
  },
  {
   "cell_type": "markdown",
   "metadata": {},
   "source": [
    "Matrices are a fundamental aspect of data science models and problems, including image processing, deep learning, NLP, and PCA. You will encounter matrices *many* times in your career as a data scientist. Matrices are a fundamental tool in **linear algebra**."
   ]
  },
  {
   "cell_type": "markdown",
   "metadata": {},
   "source": [
    "-----------"
   ]
  },
  {
   "cell_type": "markdown",
   "metadata": {},
   "source": [
    "- Study of \"vector spaces\"; relationship of **linear** relationships\n",
    "- Uses vectors, matrices, and tensors\n",
    "- Mapping & dimensionality (PCA)\n",
    "- Used in lots of ML applications"
   ]
  },
  {
   "cell_type": "markdown",
   "metadata": {},
   "source": [
    "We'll try to put abstract ideas into the formalism of linear algebra, such as:\n",
    "- data values\n",
    "- images/pixels\n",
    "- language (NLP)"
   ]
  },
  {
   "cell_type": "markdown",
   "metadata": {},
   "source": [
    "# Scalars, Vectors, and Tensors! Oh My!"
   ]
  },
  {
   "cell_type": "markdown",
   "metadata": {},
   "source": [
    "![](images/different_tensors.png)"
   ]
  },
  {
   "cell_type": "markdown",
   "metadata": {},
   "source": [
    "> You can think of these values being built up to higher dimensions"
   ]
  },
  {
   "cell_type": "markdown",
   "metadata": {},
   "source": [
    "## Scalars"
   ]
  },
  {
   "cell_type": "markdown",
   "metadata": {},
   "source": [
    "A _scalar_ has simply a single value. Any real number can be the value of a scalar."
   ]
  },
  {
   "cell_type": "code",
   "execution_count": 2,
   "metadata": {
    "ExecuteTime": {
     "end_time": "2022-08-09T16:00:14.744845Z",
     "start_time": "2022-08-09T16:00:14.742207Z"
    }
   },
   "outputs": [],
   "source": [
    "# Scalar\n",
    "\n",
    "s = np.arange(1)"
   ]
  },
  {
   "cell_type": "code",
   "execution_count": 3,
   "metadata": {
    "ExecuteTime": {
     "end_time": "2022-08-09T16:00:16.596224Z",
     "start_time": "2022-08-09T16:00:16.586377Z"
    }
   },
   "outputs": [
    {
     "data": {
      "text/plain": [
       "array([0])"
      ]
     },
     "execution_count": 3,
     "metadata": {},
     "output_type": "execute_result"
    }
   ],
   "source": [
    "s"
   ]
  },
  {
   "cell_type": "markdown",
   "metadata": {},
   "source": [
    "## Vectors"
   ]
  },
  {
   "cell_type": "markdown",
   "metadata": {},
   "source": [
    "A _vector_ can be specified by with just _two_ parameters: magnitude and direction. To remind of this direction, a vector is typically denoted with an arrow above the variable representing it: $\\vec{v}$ ."
   ]
  },
  {
   "cell_type": "markdown",
   "metadata": {},
   "source": [
    "In a Cartesian coordinate system, a vector $\\vec{v}$ will often be specified by the components defined by the coordinate system. \n",
    "\n",
    "In this way a vector can be embedded in a higher-dimensional space, which allows us to speak of vectors of any dimension (even though, as directed line segments, all vectors are, strictly speaking, one-dimensional)."
   ]
  },
  {
   "cell_type": "markdown",
   "metadata": {},
   "source": [
    "![](https://upload.wikimedia.org/wikipedia/commons/b/ba/Vector-length.png)\n",
    "\n",
    "> <a href=\"https://commons.wikimedia.org/wiki/File:Vector-length.png\">Svjo</a>, <a href=\"https://creativecommons.org/licenses/by-sa/4.0\">CC BY-SA 4.0</a>, via Wikimedia Commons"
   ]
  },
  {
   "cell_type": "markdown",
   "metadata": {},
   "source": [
    "For more on vectors, see this helpful [video](https://www.youtube.com/watch?v=fNk_zzaMoSs&list=PLZHQObOWTQDPD3MizzM2xVFitgF8hE_ab)."
   ]
  },
  {
   "cell_type": "markdown",
   "metadata": {},
   "source": [
    "### Code for Vectors"
   ]
  },
  {
   "cell_type": "markdown",
   "metadata": {},
   "source": [
    "> Note we can think of vectors as a one-dimensional object residing in multidimensional space."
   ]
  },
  {
   "cell_type": "code",
   "execution_count": 10,
   "metadata": {
    "ExecuteTime": {
     "end_time": "2022-08-09T16:02:58.775206Z",
     "start_time": "2022-08-09T16:02:58.773044Z"
    }
   },
   "outputs": [],
   "source": [
    "# Vector with arange\n",
    "\n",
    "v = np.arange(4)"
   ]
  },
  {
   "cell_type": "code",
   "execution_count": 11,
   "metadata": {
    "ExecuteTime": {
     "end_time": "2022-08-09T16:02:59.121306Z",
     "start_time": "2022-08-09T16:02:59.116222Z"
    }
   },
   "outputs": [
    {
     "data": {
      "text/plain": [
       "array([0, 1, 2, 3])"
      ]
     },
     "execution_count": 11,
     "metadata": {},
     "output_type": "execute_result"
    }
   ],
   "source": [
    "v"
   ]
  },
  {
   "cell_type": "code",
   "execution_count": 12,
   "metadata": {
    "ExecuteTime": {
     "end_time": "2022-08-09T16:02:59.483799Z",
     "start_time": "2022-08-09T16:02:59.475102Z"
    }
   },
   "outputs": [
    {
     "data": {
      "text/plain": [
       "array([1, 0, 2, 1, 0, 1, 0, 1, 1])"
      ]
     },
     "metadata": {},
     "output_type": "display_data"
    },
    {
     "name": "stdout",
     "output_type": "stream",
     "text": [
      "Shape: (9,)\n"
     ]
    }
   ],
   "source": [
    "# Vector manually\n",
    "v = np.array([1, 0, 2, 1, 0, 1, 0, 1, 1])\n",
    "display(v)\n",
    "print('Shape:', np.shape(v))"
   ]
  },
  {
   "cell_type": "code",
   "execution_count": 13,
   "metadata": {
    "ExecuteTime": {
     "end_time": "2022-08-09T16:03:00.098118Z",
     "start_time": "2022-08-09T16:03:00.094028Z"
    }
   },
   "outputs": [],
   "source": [
    "v = np.array([v])"
   ]
  },
  {
   "cell_type": "code",
   "execution_count": 14,
   "metadata": {
    "ExecuteTime": {
     "end_time": "2022-08-09T16:03:02.320557Z",
     "start_time": "2022-08-09T16:03:02.315202Z"
    }
   },
   "outputs": [
    {
     "data": {
      "text/plain": [
       "array([[1, 0, 2, 1, 0, 1, 0, 1, 1]])"
      ]
     },
     "execution_count": 14,
     "metadata": {},
     "output_type": "execute_result"
    }
   ],
   "source": [
    "v"
   ]
  },
  {
   "cell_type": "code",
   "execution_count": 15,
   "metadata": {
    "ExecuteTime": {
     "end_time": "2022-08-09T16:03:06.610894Z",
     "start_time": "2022-08-09T16:03:06.606022Z"
    }
   },
   "outputs": [
    {
     "data": {
      "text/plain": [
       "(1, 9)"
      ]
     },
     "execution_count": 15,
     "metadata": {},
     "output_type": "execute_result"
    }
   ],
   "source": [
    "np.shape(v)"
   ]
  },
  {
   "cell_type": "code",
   "execution_count": 16,
   "metadata": {
    "ExecuteTime": {
     "end_time": "2022-08-09T16:04:02.877693Z",
     "start_time": "2022-08-09T16:04:02.870389Z"
    }
   },
   "outputs": [
    {
     "data": {
      "text/plain": [
       "array([-3.14159265, -2.44346095, -1.74532925, -1.04719755, -0.34906585,\n",
       "        0.34906585,  1.04719755,  1.74532925,  2.44346095,  3.14159265])"
      ]
     },
     "metadata": {},
     "output_type": "display_data"
    },
    {
     "name": "stdout",
     "output_type": "stream",
     "text": [
      "Shape: (10,)\n"
     ]
    }
   ],
   "source": [
    "# Other ways to define vector\n",
    "x = np.linspace(-np.pi, np.pi, 10)\n",
    "display(x)\n",
    "print('Shape:', np.shape(x))"
   ]
  },
  {
   "cell_type": "markdown",
   "metadata": {},
   "source": [
    "These vectors above are usually called _row vectors_.\n",
    "\n",
    "We can also specify _column vectors_. "
   ]
  },
  {
   "cell_type": "code",
   "execution_count": 18,
   "metadata": {
    "ExecuteTime": {
     "end_time": "2022-08-09T16:05:40.098019Z",
     "start_time": "2022-08-09T16:05:40.095476Z"
    }
   },
   "outputs": [],
   "source": [
    "# Column vector from scratch\n",
    "col_vector = np.array([[0],[1],[2],[3]]   )"
   ]
  },
  {
   "cell_type": "code",
   "execution_count": 19,
   "metadata": {
    "ExecuteTime": {
     "end_time": "2022-08-09T16:05:44.458591Z",
     "start_time": "2022-08-09T16:05:44.454087Z"
    }
   },
   "outputs": [
    {
     "data": {
      "text/plain": [
       "array([[0],\n",
       "       [1],\n",
       "       [2],\n",
       "       [3]])"
      ]
     },
     "execution_count": 19,
     "metadata": {},
     "output_type": "execute_result"
    }
   ],
   "source": [
    "col_vector"
   ]
  },
  {
   "cell_type": "code",
   "execution_count": 20,
   "metadata": {
    "ExecuteTime": {
     "end_time": "2022-08-09T16:05:55.795352Z",
     "start_time": "2022-08-09T16:05:55.790761Z"
    }
   },
   "outputs": [
    {
     "data": {
      "text/plain": [
       "(4, 1)"
      ]
     },
     "execution_count": 20,
     "metadata": {},
     "output_type": "execute_result"
    }
   ],
   "source": [
    "np.shape(col_vector\n",
    "        )"
   ]
  },
  {
   "cell_type": "code",
   "execution_count": 26,
   "metadata": {
    "ExecuteTime": {
     "end_time": "2022-08-09T16:08:22.956927Z",
     "start_time": "2022-08-09T16:08:22.951428Z"
    }
   },
   "outputs": [
    {
     "data": {
      "text/plain": [
       "array([[1, 0, 2, 1, 0, 1, 0, 1, 1]])"
      ]
     },
     "execution_count": 26,
     "metadata": {},
     "output_type": "execute_result"
    }
   ],
   "source": []
  },
  {
   "cell_type": "code",
   "execution_count": 37,
   "metadata": {
    "ExecuteTime": {
     "end_time": "2022-08-09T16:10:53.532285Z",
     "start_time": "2022-08-09T16:10:53.520220Z"
    },
    "scrolled": false
   },
   "outputs": [
    {
     "data": {
      "text/plain": [
       "array([[1, 0, 2, 1, 0, 1, 0, 1, 1]])"
      ]
     },
     "metadata": {},
     "output_type": "display_data"
    },
    {
     "name": "stdout",
     "output_type": "stream",
     "text": [
      "Shape: (1, 9)\n",
      "\n",
      "================================================================\n"
     ]
    },
    {
     "data": {
      "text/plain": [
       "array([[1, 0, 2],\n",
       "       [1, 0, 1],\n",
       "       [0, 1, 1]])"
      ]
     },
     "metadata": {},
     "output_type": "display_data"
    },
    {
     "name": "stdout",
     "output_type": "stream",
     "text": [
      "Shape: (3, 3)\n"
     ]
    }
   ],
   "source": [
    "# Reformatting or \"reshaping\" a row vector to a column vector\n",
    "display(v)\n",
    "print('Shape:', np.shape(v))\n",
    "\n",
    "\n",
    "print('')\n",
    "print('='*64)\n",
    "\n",
    "col_vector = v.reshape(-1,3) # This is a common way for row -> column\n",
    "display(col_vector)\n",
    "print('Shape:', np.shape(col_vector))"
   ]
  },
  {
   "cell_type": "code",
   "execution_count": 27,
   "metadata": {
    "ExecuteTime": {
     "end_time": "2022-08-09T16:08:44.254246Z",
     "start_time": "2022-08-09T16:08:44.248114Z"
    }
   },
   "outputs": [],
   "source": [
    "v2 = np.array([1,2,3,4,5,6,7,8])"
   ]
  },
  {
   "cell_type": "code",
   "execution_count": 38,
   "metadata": {
    "ExecuteTime": {
     "end_time": "2022-08-09T16:11:51.864624Z",
     "start_time": "2022-08-09T16:11:51.858580Z"
    }
   },
   "outputs": [
    {
     "data": {
      "text/plain": [
       "array([1, 2, 3, 4, 5, 6, 7, 8])"
      ]
     },
     "execution_count": 38,
     "metadata": {},
     "output_type": "execute_result"
    }
   ],
   "source": [
    "v2"
   ]
  },
  {
   "cell_type": "code",
   "execution_count": 44,
   "metadata": {
    "ExecuteTime": {
     "end_time": "2022-08-09T16:14:44.524027Z",
     "start_time": "2022-08-09T16:14:44.520006Z"
    }
   },
   "outputs": [
    {
     "data": {
      "text/plain": [
       "array([[1, 2, 3, 4, 5, 6, 7, 8]])"
      ]
     },
     "execution_count": 44,
     "metadata": {},
     "output_type": "execute_result"
    }
   ],
   "source": [
    "v2.reshape(1, -1)"
   ]
  },
  {
   "cell_type": "code",
   "execution_count": 32,
   "metadata": {
    "ExecuteTime": {
     "end_time": "2022-08-09T16:09:39.562027Z",
     "start_time": "2022-08-09T16:09:39.554702Z"
    }
   },
   "outputs": [
    {
     "data": {
      "text/plain": [
       "array([1, 2, 3, 4, 5, 6, 7, 8])"
      ]
     },
     "execution_count": 32,
     "metadata": {},
     "output_type": "execute_result"
    }
   ],
   "source": [
    "v2.T"
   ]
  },
  {
   "cell_type": "code",
   "execution_count": 34,
   "metadata": {
    "ExecuteTime": {
     "end_time": "2022-08-09T16:09:51.708947Z",
     "start_time": "2022-08-09T16:09:51.703549Z"
    }
   },
   "outputs": [
    {
     "data": {
      "text/plain": [
       "array([[1, 2],\n",
       "       [3, 4],\n",
       "       [5, 6],\n",
       "       [7, 8]])"
      ]
     },
     "execution_count": 34,
     "metadata": {},
     "output_type": "execute_result"
    }
   ],
   "source": [
    "v2.reshape(-1,2)"
   ]
  },
  {
   "cell_type": "code",
   "execution_count": null,
   "metadata": {},
   "outputs": [],
   "source": []
  },
  {
   "cell_type": "code",
   "execution_count": null,
   "metadata": {},
   "outputs": [],
   "source": []
  },
  {
   "cell_type": "markdown",
   "metadata": {},
   "source": [
    "### Math with Vectors"
   ]
  },
  {
   "cell_type": "code",
   "execution_count": null,
   "metadata": {},
   "outputs": [],
   "source": []
  },
  {
   "cell_type": "markdown",
   "metadata": {},
   "source": [
    "#### Vector Addition"
   ]
  },
  {
   "cell_type": "markdown",
   "metadata": {},
   "source": [
    "Vector addition is simple: Just add the corresponding components together:\n",
    "\n",
    "$[8, 14] + [7, 6] = [15, 20]$"
   ]
  },
  {
   "cell_type": "markdown",
   "metadata": {},
   "source": [
    "Base Python is not particularly good for non-scalar arithmetic. Make a general practice of turning to `numpy` for mathematical operations."
   ]
  },
  {
   "cell_type": "code",
   "execution_count": 45,
   "metadata": {
    "ExecuteTime": {
     "end_time": "2022-08-09T16:15:14.368913Z",
     "start_time": "2022-08-09T16:15:14.362954Z"
    }
   },
   "outputs": [
    {
     "data": {
      "text/plain": [
       "[8, 14, 7, 6]"
      ]
     },
     "execution_count": 45,
     "metadata": {},
     "output_type": "execute_result"
    }
   ],
   "source": [
    "[8, 14] + [7, 6]"
   ]
  },
  {
   "cell_type": "code",
   "execution_count": 46,
   "metadata": {
    "ExecuteTime": {
     "end_time": "2022-08-09T16:15:31.527393Z",
     "start_time": "2022-08-09T16:15:31.521255Z"
    }
   },
   "outputs": [
    {
     "data": {
      "text/plain": [
       "array([15, 20])"
      ]
     },
     "execution_count": 46,
     "metadata": {},
     "output_type": "execute_result"
    }
   ],
   "source": [
    "vec_1 = np.array([8, 14])\n",
    "vec_2 = np.array([7, 6])\n",
    "vec_1 + vec_2"
   ]
  },
  {
   "cell_type": "markdown",
   "metadata": {},
   "source": [
    "#### Vector Multiplication"
   ]
  },
  {
   "cell_type": "markdown",
   "metadata": {},
   "source": [
    "In fact there are multiple ways of understanding the notion of vector multiplication. All are potentially useful, but the one that we'll likely be of most use is the *dot-product*, which is defined as follows:\n",
    "\n",
    "\n",
    "$$\n",
    "\\begin{equation}\n",
    "\\begin{bmatrix}\n",
    "a \\\\\n",
    "b\n",
    "\\end{bmatrix}\n",
    ". \n",
    "\\begin{bmatrix}\n",
    "c \\\\\n",
    "d\n",
    "\\end{bmatrix}\n",
    "=\n",
    "ac + bd\n",
    "\\end{equation}\n",
    "$$"
   ]
  },
  {
   "cell_type": "markdown",
   "metadata": {},
   "source": [
    "The dot-product is the sum of the pariwise products of the vectors' entries."
   ]
  },
  {
   "cell_type": "code",
   "execution_count": 47,
   "metadata": {
    "ExecuteTime": {
     "end_time": "2022-08-09T16:16:11.337679Z",
     "start_time": "2022-08-09T16:16:11.332984Z"
    }
   },
   "outputs": [
    {
     "data": {
      "text/plain": [
       "140"
      ]
     },
     "execution_count": 47,
     "metadata": {},
     "output_type": "execute_result"
    }
   ],
   "source": [
    "# Let's check out the different attributes and methods available to\n",
    "# a NumPy array.\n",
    "\n",
    "# vec_1.\n",
    "\n",
    "# There are many options. Notice that one of these options is 'dot'.\n",
    "# This is our dot-product! So let's use the .dot() method to calculate\n",
    "# the dot-product of our two vectors:\n",
    "\n",
    "vec_1.dot(vec_2)"
   ]
  },
  {
   "cell_type": "code",
   "execution_count": 48,
   "metadata": {
    "ExecuteTime": {
     "end_time": "2022-08-09T16:16:14.061867Z",
     "start_time": "2022-08-09T16:16:14.057662Z"
    }
   },
   "outputs": [
    {
     "data": {
      "text/plain": [
       "array([ 8, 14])"
      ]
     },
     "execution_count": 48,
     "metadata": {},
     "output_type": "execute_result"
    }
   ],
   "source": [
    "vec_1"
   ]
  },
  {
   "cell_type": "code",
   "execution_count": 49,
   "metadata": {
    "ExecuteTime": {
     "end_time": "2022-08-09T16:16:14.519537Z",
     "start_time": "2022-08-09T16:16:14.514813Z"
    }
   },
   "outputs": [
    {
     "data": {
      "text/plain": [
       "array([7, 6])"
      ]
     },
     "execution_count": 49,
     "metadata": {},
     "output_type": "execute_result"
    }
   ],
   "source": [
    "vec_2"
   ]
  },
  {
   "cell_type": "code",
   "execution_count": 50,
   "metadata": {
    "ExecuteTime": {
     "end_time": "2022-08-09T16:16:18.251586Z",
     "start_time": "2022-08-09T16:16:18.246369Z"
    }
   },
   "outputs": [
    {
     "data": {
      "text/plain": [
       "140"
      ]
     },
     "execution_count": 50,
     "metadata": {},
     "output_type": "execute_result"
    }
   ],
   "source": [
    "8*7 + 14*6"
   ]
  },
  {
   "cell_type": "code",
   "execution_count": 51,
   "metadata": {
    "ExecuteTime": {
     "end_time": "2022-08-09T16:16:33.100743Z",
     "start_time": "2022-08-09T16:16:33.096579Z"
    }
   },
   "outputs": [
    {
     "data": {
      "text/plain": [
       "140"
      ]
     },
     "execution_count": 51,
     "metadata": {},
     "output_type": "execute_result"
    }
   ],
   "source": [
    "# We can also use '@'\n",
    "\n",
    "vec_1 @ vec_2"
   ]
  },
  {
   "cell_type": "markdown",
   "metadata": {},
   "source": [
    "## Matrices and Tensors"
   ]
  },
  {
   "cell_type": "markdown",
   "metadata": {},
   "source": [
    "For higher dimensions we can use **matrices** to express ourselves. Suppose we had a two-variable system:\n",
    "\n",
    "$$\n",
    "\\begin{align}\n",
    "a_{1,1}x_1 + a_{1,2}x_2 = c_1 \\\\\n",
    "a_{2,1}x_1 + a_{2,2}x_2 = c_2\n",
    "\\end{align}\n",
    "$$"
   ]
  },
  {
   "cell_type": "markdown",
   "metadata": {},
   "source": [
    "Using matrices, we can write this as:\n",
    "\n",
    "$$\n",
    "\\begin{equation}\n",
    "\\begin{bmatrix}\n",
    "a_{1,1} & a_{1,2} \\\\\n",
    "a_{2,1} & a_{2,2}\n",
    "\\end{bmatrix}\n",
    "\\begin{bmatrix}\n",
    "x_1 \\\\\n",
    "x_2\n",
    "\\end{bmatrix} =\n",
    "\\begin{bmatrix}\n",
    "c_1 \\\\\n",
    "c_2\n",
    "\\end{bmatrix}\n",
    "\\end{equation}\n",
    "$$\n",
    "\n",
    "or\n",
    "\n",
    "$A\\vec{x} = \\vec{c}$,\n",
    "\n",
    "where:\n",
    "\n",
    "- $\\vec{x}$ is the _vector_ $(x_1, x_2)$;\n",
    "- $\\vec{c}$ is the _vector_ $(c_1, c_2)$; and\n",
    "- $A$ is the _matrix_ of coefficients that describe our system:\n",
    "\n",
    "$\\begin{equation} A = \n",
    "\\begin{bmatrix}\n",
    "a_{1,1} & a_{1,2} \\\\\n",
    "a_{2,1} & a_{2,2}\n",
    "\\end{bmatrix}\n",
    "\\end{equation}$"
   ]
  },
  {
   "cell_type": "markdown",
   "metadata": {},
   "source": [
    "------"
   ]
  },
  {
   "cell_type": "markdown",
   "metadata": {},
   "source": [
    "Technically, all of what we've talked about are **tensors**, just different ranks:\n",
    "\n",
    "- scalar == 0th rank tensor\n",
    "- vector == 1st rank tensor\n",
    "    + vectors are made up from a \"list\" of scalars\n",
    "- matrix == 2nd rank tensor\n",
    "    + matrices are made up from a \"list\" of vectors\n",
    "- 3D matrix == 3rd rank tensor\n",
    "    + 3D matrices are made up from a \"list\" of (2D) matrices\n",
    "- and so on..."
   ]
  },
  {
   "cell_type": "markdown",
   "metadata": {},
   "source": [
    "> However, people are referring to the higher ranked tensors (2nd and above) when they say \"tensor\"."
   ]
  },
  {
   "cell_type": "markdown",
   "metadata": {},
   "source": [
    "### Code for Matrices and Tensors"
   ]
  },
  {
   "cell_type": "code",
   "execution_count": 54,
   "metadata": {
    "ExecuteTime": {
     "end_time": "2022-08-09T16:19:55.348642Z",
     "start_time": "2022-08-09T16:19:55.346094Z"
    }
   },
   "outputs": [],
   "source": [
    "# Matrix\n",
    "M = np.arange(4 * 2).reshape( (4,2) )"
   ]
  },
  {
   "cell_type": "code",
   "execution_count": 55,
   "metadata": {
    "ExecuteTime": {
     "end_time": "2022-08-09T16:19:55.879832Z",
     "start_time": "2022-08-09T16:19:55.875334Z"
    }
   },
   "outputs": [
    {
     "data": {
      "text/plain": [
       "array([[0, 1],\n",
       "       [2, 3],\n",
       "       [4, 5],\n",
       "       [6, 7]])"
      ]
     },
     "execution_count": 55,
     "metadata": {},
     "output_type": "execute_result"
    }
   ],
   "source": [
    "M"
   ]
  },
  {
   "cell_type": "code",
   "execution_count": 56,
   "metadata": {
    "ExecuteTime": {
     "end_time": "2022-08-09T16:20:43.099801Z",
     "start_time": "2022-08-09T16:20:43.093857Z"
    }
   },
   "outputs": [
    {
     "data": {
      "text/plain": [
       "array([[[ 0,  1,  2],\n",
       "        [ 3,  4,  5]],\n",
       "\n",
       "       [[ 6,  7,  8],\n",
       "        [ 9, 10, 11]],\n",
       "\n",
       "       [[12, 13, 14],\n",
       "        [15, 16, 17]],\n",
       "\n",
       "       [[18, 19, 20],\n",
       "        [21, 22, 23]]])"
      ]
     },
     "execution_count": 56,
     "metadata": {},
     "output_type": "execute_result"
    }
   ],
   "source": [
    "# 3D Tensor\n",
    "T_3D = np.arange(4 * 2 * 3).reshape(4,2,3)\n",
    "\n",
    "T_3D"
   ]
  },
  {
   "cell_type": "code",
   "execution_count": 63,
   "metadata": {
    "ExecuteTime": {
     "end_time": "2022-08-09T16:23:02.264323Z",
     "start_time": "2022-08-09T16:23:02.259745Z"
    }
   },
   "outputs": [
    {
     "data": {
      "text/plain": [
       "0"
      ]
     },
     "execution_count": 63,
     "metadata": {},
     "output_type": "execute_result"
    }
   ],
   "source": [
    "# 4D Tensor\n",
    "T_4D = np.arange(4 * 2 * 3).reshape(2,2,2,3)\n",
    "\n",
    "T_4D"
   ]
  },
  {
   "cell_type": "markdown",
   "metadata": {},
   "source": [
    "### Math with Tensors"
   ]
  },
  {
   "cell_type": "markdown",
   "metadata": {},
   "source": [
    "#### Addition"
   ]
  },
  {
   "cell_type": "markdown",
   "metadata": {},
   "source": [
    "The addition of matrices is straightforward: Just add corresponding elements. In order to add two matrices $A$ and $B$, they must have the same number of rows and columns:\n",
    "\n",
    "$\\begin{bmatrix}\n",
    "a_{11} & a_{12} \\\\\n",
    "a_{21} & a_{22}\n",
    "\\end{bmatrix}\n",
    "+\n",
    "\\begin{bmatrix}\n",
    "b_{11} & b_{12} \\\\\n",
    "b_{21} & b_{22}\n",
    "\\end{bmatrix}\n",
    "=\n",
    "\\begin{bmatrix}\n",
    "a_{11} + b_{11} & a_{12} + b_{12} \\\\\n",
    "a_{21} + b_{21} & a_{22} + b_{22}\n",
    "\\end{bmatrix}\n",
    "$"
   ]
  },
  {
   "cell_type": "code",
   "execution_count": 58,
   "metadata": {
    "ExecuteTime": {
     "end_time": "2022-08-09T16:22:09.400391Z",
     "start_time": "2022-08-09T16:22:09.393734Z"
    }
   },
   "outputs": [
    {
     "data": {
      "text/plain": [
       "array([[1, 2],\n",
       "       [3, 4]])"
      ]
     },
     "metadata": {},
     "output_type": "display_data"
    },
    {
     "data": {
      "text/plain": [
       "array([[4, 3],\n",
       "       [2, 1]])"
      ]
     },
     "metadata": {},
     "output_type": "display_data"
    }
   ],
   "source": [
    "A = np.array([[1, 2], [3, 4]]) \n",
    "B = np.array([[4, 3], [2, 1]])\n",
    "display(A)\n",
    "display(B)"
   ]
  },
  {
   "cell_type": "code",
   "execution_count": 59,
   "metadata": {
    "ExecuteTime": {
     "end_time": "2022-08-09T16:22:15.852373Z",
     "start_time": "2022-08-09T16:22:15.848387Z"
    }
   },
   "outputs": [
    {
     "data": {
      "text/plain": [
       "array([[5, 5],\n",
       "       [5, 5]])"
      ]
     },
     "execution_count": 59,
     "metadata": {},
     "output_type": "execute_result"
    }
   ],
   "source": [
    "A + B"
   ]
  },
  {
   "cell_type": "markdown",
   "metadata": {},
   "source": [
    "#### Dot-Product"
   ]
  },
  {
   "cell_type": "markdown",
   "metadata": {},
   "source": [
    "> Just as there were different notions of \"multiplication\" for vectors, so too there are different notions of multiplication for matrices."
   ]
  },
  {
   "cell_type": "markdown",
   "metadata": {},
   "source": [
    "Very often when people talk about multiplying matrices they'll mean the dot-product:\n",
    "\n",
    "$$\n",
    "\\begin{equation}\n",
    "\\begin{bmatrix}\n",
    "a_{1,1} & a_{1,2} \\\\\n",
    "a_{2,1} & a_{2,2}\n",
    "\\end{bmatrix}\n",
    "\\cdot\n",
    "\\begin{bmatrix}\n",
    "b_{1,1} & b_{1,2} \\\\\n",
    "b_{2,1} & b_{2,2}\n",
    "\\end{bmatrix}\n",
    "=\n",
    "\\begin{bmatrix}\n",
    "a_{1,1}\\times b_{1,1} + a_{1,2}\\times b_{2,1} & a_{1,1}\\times b_{1,2} + a_{1,2}\\times b_{2,2} \\\\\n",
    "a_{2,1}\\times b_{1,1} + a_{2,2}\\times b_{2,1} & a_{2,1}\\times b_{1,2} + a_{2,2}\\times b_{2,2}\n",
    "\\end{bmatrix}\n",
    "\\end{equation}\n",
    "$$\n",
    "\n",
    "or\n",
    "\n",
    "$$\n",
    "\\begin{equation}\n",
    "\\begin{bmatrix}\n",
    "a & b \\\\\n",
    "c & d\n",
    "\\end{bmatrix}\n",
    "\\cdot\n",
    "\\begin{bmatrix}\n",
    "e & f \\\\\n",
    "g & h\n",
    "\\end{bmatrix}\n",
    "=\n",
    "\\begin{bmatrix}\n",
    "ae + bg & af + bh \\\\\n",
    "ce + dg & cf + dh\n",
    "\\end{bmatrix}\n",
    "\\end{equation}\n",
    "$$"
   ]
  },
  {
   "cell_type": "markdown",
   "metadata": {},
   "source": [
    "Take the entries in each *row* of the left matrix and multiply them, respectively, by the entries in each *column* of the right matrix, and then add them up. This is the product we calculated above with our two vectors!"
   ]
  },
  {
   "cell_type": "markdown",
   "metadata": {},
   "source": [
    "We can multiply in NumPy in the same way of doing a dot product with vectors.\n",
    "\n",
    "```python\n",
    "A = np.array([[1, 2, 3], [4, 5, 6]])\n",
    "B = np.array([[11, 22], [33, 44], [55, 66]])\n",
    "\n",
    "# Different ways to do the same dot product\n",
    "AB = np.dot(A,B)\n",
    "AB = A.dot(B)\n",
    "AB = A @ B\n",
    "```"
   ]
  },
  {
   "cell_type": "markdown",
   "metadata": {},
   "source": [
    "Observe also that in order to be able to perform the dot product on two matrices A and B, **the number of columns of A must equal the number of rows of B**.\n",
    "\n",
    "Also, **the number of rows of the product matrix will equal the number of rows of A, and the number of columns of the product matrix will equal the number of columns of B**."
   ]
  },
  {
   "cell_type": "markdown",
   "metadata": {},
   "source": [
    "> **A note about vectors and matrices**\n",
    ">\n",
    "> Matrix dot-multiplication is NOT commutative! In general, $AB \\neq BA$.\n",
    "> \n",
    "> Strictly speaking, this is true for vectors as well. Above, we multiplied the *row*-vector $(a, b)$ by the *column*-vector $(c, d)$. A row-vector is simply a matrix with only one row; a column-vector is simply a matrix with only one column. \n",
    ">\n",
    "> What would be the result of multiplying the column-vector $(c, d)$ on the left by the row-vector $(a, b)$ on the right?\n",
    ">\n",
    "> $$\\begin{equation}\n",
    "    \\begin{bmatrix}\n",
    "        c \\\\\n",
    "        d\n",
    "    \\end{bmatrix}\n",
    "    \\space\n",
    "    \\begin{bmatrix}\n",
    "        a & b\n",
    "    \\end{bmatrix}\n",
    "    =\n",
    "    \\begin{bmatrix}\n",
    "        ca & cb \\\\\n",
    "        da & db\n",
    "    \\end{bmatrix}\n",
    "  \\end{equation}$$"
   ]
  },
  {
   "cell_type": "markdown",
   "metadata": {},
   "source": [
    "##### Exercise"
   ]
  },
  {
   "cell_type": "markdown",
   "metadata": {},
   "source": [
    "Illustrate this difference between $\\begin{bmatrix} a & b \\end{bmatrix} \\begin{bmatrix} c \\\\ d \\end{bmatrix}$ and $\\begin{bmatrix} c \\\\ d \\end{bmatrix} \\begin{bmatrix} a & b \\end{bmatrix}$ in Python for $a=2, b=3, c=4$, and $d=5$."
   ]
  },
  {
   "cell_type": "code",
   "execution_count": 71,
   "metadata": {
    "ExecuteTime": {
     "end_time": "2022-08-09T16:27:43.152798Z",
     "start_time": "2022-08-09T16:27:43.149847Z"
    }
   },
   "outputs": [],
   "source": [
    "# Your code here\n",
    "ab = np.array( [ [2,3] ] )\n",
    "cd = np.array([ [4], [5] ])\n"
   ]
  },
  {
   "cell_type": "code",
   "execution_count": 72,
   "metadata": {
    "ExecuteTime": {
     "end_time": "2022-08-09T16:27:43.553917Z",
     "start_time": "2022-08-09T16:27:43.549579Z"
    }
   },
   "outputs": [
    {
     "data": {
      "text/plain": [
       "array([[2, 3]])"
      ]
     },
     "execution_count": 72,
     "metadata": {},
     "output_type": "execute_result"
    }
   ],
   "source": [
    "ab"
   ]
  },
  {
   "cell_type": "code",
   "execution_count": 73,
   "metadata": {
    "ExecuteTime": {
     "end_time": "2022-08-09T16:27:44.133390Z",
     "start_time": "2022-08-09T16:27:44.128056Z"
    }
   },
   "outputs": [
    {
     "data": {
      "text/plain": [
       "array([[4],\n",
       "       [5]])"
      ]
     },
     "execution_count": 73,
     "metadata": {},
     "output_type": "execute_result"
    }
   ],
   "source": [
    "cd"
   ]
  },
  {
   "cell_type": "code",
   "execution_count": 74,
   "metadata": {
    "ExecuteTime": {
     "end_time": "2022-08-09T16:27:44.600880Z",
     "start_time": "2022-08-09T16:27:44.596193Z"
    }
   },
   "outputs": [
    {
     "data": {
      "text/plain": [
       "array([[23]])"
      ]
     },
     "execution_count": 74,
     "metadata": {},
     "output_type": "execute_result"
    }
   ],
   "source": [
    "ab.dot(cd)"
   ]
  },
  {
   "cell_type": "code",
   "execution_count": 75,
   "metadata": {
    "ExecuteTime": {
     "end_time": "2022-08-09T16:27:45.049019Z",
     "start_time": "2022-08-09T16:27:45.041503Z"
    }
   },
   "outputs": [
    {
     "data": {
      "text/plain": [
       "array([[ 8, 12],\n",
       "       [10, 15]])"
      ]
     },
     "execution_count": 75,
     "metadata": {},
     "output_type": "execute_result"
    }
   ],
   "source": [
    "cd.dot(ab)"
   ]
  },
  {
   "cell_type": "code",
   "execution_count": 76,
   "metadata": {
    "ExecuteTime": {
     "end_time": "2022-08-09T16:27:46.592133Z",
     "start_time": "2022-08-09T16:27:46.587898Z"
    }
   },
   "outputs": [
    {
     "data": {
      "text/plain": [
       "array([[23]])"
      ]
     },
     "execution_count": 76,
     "metadata": {},
     "output_type": "execute_result"
    }
   ],
   "source": [
    "ab @ cd"
   ]
  },
  {
   "cell_type": "code",
   "execution_count": 77,
   "metadata": {
    "ExecuteTime": {
     "end_time": "2022-08-09T16:27:46.964890Z",
     "start_time": "2022-08-09T16:27:46.959566Z"
    }
   },
   "outputs": [
    {
     "data": {
      "text/plain": [
       "array([[ 8, 12],\n",
       "       [10, 15]])"
      ]
     },
     "execution_count": 77,
     "metadata": {},
     "output_type": "execute_result"
    }
   ],
   "source": [
    "cd @ ab\n"
   ]
  },
  {
   "cell_type": "markdown",
   "metadata": {},
   "source": [
    "# More with Matrices"
   ]
  },
  {
   "cell_type": "markdown",
   "metadata": {},
   "source": [
    "In order to solve an equation like $A\\vec{x} = \\vec{c}$ for $\\vec{x}$, we can't very well divide $\\vec{c}$ by $A$! But there is a notion of matrix _inversion_ that is relevant here, which is analogous to multiplicative inversion. If we have an equation like $2x = 10$, we can simply multiply both sides by the multiplicative inverse of the coefficient of $x$, viz. $2^{-1}$. And here the point, of course, is that $2^{-1} \\times 2 = 1$."
   ]
  },
  {
   "cell_type": "markdown",
   "metadata": {},
   "source": [
    "We'll see there is an equivalent _inverse_ for matrices. But first, we should discuss the identity matrix."
   ]
  },
  {
   "cell_type": "markdown",
   "metadata": {},
   "source": [
    "## Identity Matrices"
   ]
  },
  {
   "cell_type": "markdown",
   "metadata": {},
   "source": [
    "> The **identity matrix** $I$ is the matrix containing 1's along the main diagonal (upper-left to lower-right) and 0's everywhere else:\n",
    ">\n",
    "> $$\\begin{align}\n",
    "    I_3 &= \\begin{bmatrix} 1 & 0 & 0 \\\\ 0 & 1 & 0 \\\\ 0 & 0 & 1 \\end{bmatrix} \\\\\n",
    "    \\\\\n",
    "    I_5 &= \\begin{bmatrix} 1 & 0 & 0 & 0 & 0 & 0 \\\\\n",
    "                           0 & 1 & 0 & 0 & 0 & 0 \\\\\n",
    "                           0 & 0 & 1 & 0 & 0 & 0 \\\\\n",
    "                           0 & 0 & 0 & 1 & 0 & 0 \\\\\n",
    "                           0 & 0 & 0 & 0 & 1 & 0 \\\\\n",
    "                           0 & 0 & 0 & 0 & 0 & 1 \\\\                           \n",
    "            \\end{bmatrix}\n",
    "\\end{align}$$"
   ]
  },
  {
   "cell_type": "markdown",
   "metadata": {},
   "source": [
    "The identity matrix is a special matrix since any (compatible) matrix $A$ multiplied by it is the matrix itself: $AI = A$ and $IA = A$"
   ]
  },
  {
   "cell_type": "markdown",
   "metadata": {},
   "source": [
    "###  Identity Matrices in NumPy"
   ]
  },
  {
   "cell_type": "code",
   "execution_count": 78,
   "metadata": {
    "ExecuteTime": {
     "end_time": "2022-08-09T16:30:55.365762Z",
     "start_time": "2022-08-09T16:30:55.357806Z"
    }
   },
   "outputs": [
    {
     "name": "stdout",
     "output_type": "stream",
     "text": [
      "[[1. 0. 0. 0. 0.]\n",
      " [0. 1. 0. 0. 0.]\n",
      " [0. 0. 1. 0. 0.]\n",
      " [0. 0. 0. 1. 0.]\n",
      " [0. 0. 0. 0. 1.]]\n"
     ]
    }
   ],
   "source": [
    "I5 = np.eye(5)\n",
    "print(I5)"
   ]
  },
  {
   "cell_type": "code",
   "execution_count": 79,
   "metadata": {
    "ExecuteTime": {
     "end_time": "2022-08-09T16:31:14.763213Z",
     "start_time": "2022-08-09T16:31:14.755502Z"
    }
   },
   "outputs": [
    {
     "data": {
      "text/plain": [
       "array([[42., 42., 42., 42., 42.],\n",
       "       [42., 42., 42., 42., 42.],\n",
       "       [42., 42., 42., 42., 42.],\n",
       "       [42., 42., 42., 42., 42.],\n",
       "       [42., 42., 42., 42., 42.]])"
      ]
     },
     "execution_count": 79,
     "metadata": {},
     "output_type": "execute_result"
    }
   ],
   "source": [
    "A = 42*np.ones(25).reshape(5,5)\n",
    "A"
   ]
  },
  {
   "cell_type": "code",
   "execution_count": 80,
   "metadata": {
    "ExecuteTime": {
     "end_time": "2022-08-09T16:31:29.448454Z",
     "start_time": "2022-08-09T16:31:29.438511Z"
    }
   },
   "outputs": [
    {
     "name": "stdout",
     "output_type": "stream",
     "text": [
      "[[42. 42. 42. 42. 42.]\n",
      " [42. 42. 42. 42. 42.]\n",
      " [42. 42. 42. 42. 42.]\n",
      " [42. 42. 42. 42. 42.]\n",
      " [42. 42. 42. 42. 42.]]\n",
      "\n",
      "[[42. 42. 42. 42. 42.]\n",
      " [42. 42. 42. 42. 42.]\n",
      " [42. 42. 42. 42. 42.]\n",
      " [42. 42. 42. 42. 42.]\n",
      " [42. 42. 42. 42. 42.]]\n",
      "\n",
      "Both are the same:\n",
      "[[ True  True  True  True  True]\n",
      " [ True  True  True  True  True]\n",
      " [ True  True  True  True  True]\n",
      " [ True  True  True  True  True]\n",
      " [ True  True  True  True  True]]\n"
     ]
    }
   ],
   "source": [
    "print(I5 @ A)\n",
    "print()\n",
    "print(A @ I5)\n",
    "print()\n",
    "is_equal = (I5 @ A) == (A @ I5)\n",
    "print('Both are the same:')\n",
    "print(is_equal)"
   ]
  },
  {
   "cell_type": "markdown",
   "metadata": {},
   "source": [
    "## Inverse Matrices"
   ]
  },
  {
   "cell_type": "markdown",
   "metadata": {},
   "source": [
    "In the higher-dimensional case, what we can do is to left-multiply both sides by the _inverse matrix_ of A, denoted $A^{-1}$, and here the point is that the dot-product $A^{-1}A = I$, where $I$ is the identity matrix."
   ]
  },
  {
   "cell_type": "markdown",
   "metadata": {},
   "source": [
    "Thus when we have a matrix equation $A\\vec{x} = \\vec{c}$, we can calculate the solution by multiplying both sides by $A^{-1}$:"
   ]
  },
  {
   "cell_type": "markdown",
   "metadata": {},
   "source": [
    "$$\\begin{align}\n",
    "    A\\vec{x}       &= \\vec{c}\\\\\n",
    "    A^{-1}A\\vec{x} &= A^{-1}\\vec{c}\\\\\n",
    "    I \\vec{x}      &= A^{-1}\\vec{c}\\\\\n",
    "    \\vec{x}        &= A^{-1}\\vec{c}\\\\\n",
    "\\end{align}$$"
   ]
  },
  {
   "cell_type": "markdown",
   "metadata": {},
   "source": [
    "##### Exercise"
   ]
  },
  {
   "cell_type": "markdown",
   "metadata": {},
   "source": [
    "You can produce the inverse of a matrix in `numpy` by calling `np.linalg.inv()`."
   ]
  },
  {
   "cell_type": "markdown",
   "metadata": {},
   "source": [
    "Using `numpy` arrays, find the inverse $A^{-1}$ of the matrix below:\n",
    "\n",
    "$$A = \\begin{bmatrix} 1 & -2 & 3 \\\\ 2 & -5 & 10 \\\\ 0 & 0 & 1 \\end{bmatrix}$$\n",
    "\n",
    "> Confirm this is the inverse by multiplying the matrices"
   ]
  },
  {
   "cell_type": "code",
   "execution_count": 81,
   "metadata": {
    "ExecuteTime": {
     "end_time": "2022-08-09T16:34:01.095388Z",
     "start_time": "2022-08-09T16:34:01.091919Z"
    }
   },
   "outputs": [],
   "source": [
    "# Your code here\n",
    "\n",
    "M = np.array( [ [1,-2,3], [2,-5,10] , [0,0,1] ])"
   ]
  },
  {
   "cell_type": "code",
   "execution_count": 82,
   "metadata": {
    "ExecuteTime": {
     "end_time": "2022-08-09T16:34:02.902197Z",
     "start_time": "2022-08-09T16:34:02.897503Z"
    }
   },
   "outputs": [
    {
     "data": {
      "text/plain": [
       "array([[ 1, -2,  3],\n",
       "       [ 2, -5, 10],\n",
       "       [ 0,  0,  1]])"
      ]
     },
     "execution_count": 82,
     "metadata": {},
     "output_type": "execute_result"
    }
   ],
   "source": [
    "M"
   ]
  },
  {
   "cell_type": "code",
   "execution_count": 83,
   "metadata": {
    "ExecuteTime": {
     "end_time": "2022-08-09T16:34:33.216021Z",
     "start_time": "2022-08-09T16:34:33.210584Z"
    }
   },
   "outputs": [],
   "source": [
    "M_inv = np.linalg.inv(M)"
   ]
  },
  {
   "cell_type": "code",
   "execution_count": 84,
   "metadata": {
    "ExecuteTime": {
     "end_time": "2022-08-09T16:34:36.439572Z",
     "start_time": "2022-08-09T16:34:36.431902Z"
    }
   },
   "outputs": [
    {
     "data": {
      "text/plain": [
       "array([[ 5., -2.,  5.],\n",
       "       [ 2., -1.,  4.],\n",
       "       [ 0.,  0.,  1.]])"
      ]
     },
     "execution_count": 84,
     "metadata": {},
     "output_type": "execute_result"
    }
   ],
   "source": [
    "M_inv"
   ]
  },
  {
   "cell_type": "code",
   "execution_count": 85,
   "metadata": {
    "ExecuteTime": {
     "end_time": "2022-08-09T16:34:44.563855Z",
     "start_time": "2022-08-09T16:34:44.554620Z"
    }
   },
   "outputs": [
    {
     "data": {
      "text/plain": [
       "array([[1., 0., 0.],\n",
       "       [0., 1., 0.],\n",
       "       [0., 0., 1.]])"
      ]
     },
     "execution_count": 85,
     "metadata": {},
     "output_type": "execute_result"
    }
   ],
   "source": [
    "M.dot(M_inv)"
   ]
  },
  {
   "cell_type": "code",
   "execution_count": null,
   "metadata": {},
   "outputs": [],
   "source": []
  },
  {
   "cell_type": "code",
   "execution_count": null,
   "metadata": {},
   "outputs": [],
   "source": []
  },
  {
   "cell_type": "markdown",
   "metadata": {},
   "source": [
    "# Solving a System of Linear Equations"
   ]
  },
  {
   "cell_type": "markdown",
   "metadata": {},
   "source": [
    "Solving a system of equations can take a lot of work\n",
    "\n",
    "$$ \\begin{align}\n",
    " x - 2y + 3z &= 9 \\\\\n",
    " 2x - 5y + 10z &= 4 \\\\\n",
    "  6z &= 0 \n",
    "\\end{align}$$"
   ]
  },
  {
   "cell_type": "markdown",
   "metadata": {},
   "source": [
    "## Representing the System with Matrices"
   ]
  },
  {
   "cell_type": "markdown",
   "metadata": {},
   "source": [
    "But we can make it easier by writing it in matrix form\n",
    "\n",
    "$$ \n",
    "\\begin{pmatrix} \n",
    "    1 & -2 & 3 \\\\\n",
    "    2 & -5 & 10 \\\\\n",
    "    0 & 0 & 6\n",
    "\\end{pmatrix}\n",
    "\\cdot\n",
    "\\begin{pmatrix} \n",
    "    x \\\\\n",
    "    y \\\\\n",
    "    z\n",
    "\\end{pmatrix}\n",
    "=\n",
    "\\begin{pmatrix} \n",
    "    9 \\\\\n",
    "    4 \\\\\n",
    "    0\n",
    "\\end{pmatrix}\n",
    "$$"
   ]
  },
  {
   "cell_type": "markdown",
   "metadata": {},
   "source": [
    "We can think of this in the abstract:\n",
    "$$ A \\cdot \\vec{x} = \\vec{b} $$\n",
    "$$ A^{-1} \\cdot A \\cdot \\vec{x} = A^{-1} \\cdot \\vec{b} $$\n",
    "$$ I \\cdot \\vec{x} = A^{-1} \\cdot \\vec{b} $$\n",
    "$$ \\vec{x} = A^{-1} \\cdot \\vec{b} $$"
   ]
  },
  {
   "cell_type": "markdown",
   "metadata": {},
   "source": [
    "### Coding It with NumPy"
   ]
  },
  {
   "cell_type": "markdown",
   "metadata": {},
   "source": [
    "Let's try solving the system with matrices:\n",
    "\n",
    "$$ \\begin{align}\n",
    " 1 - 2y + 3z &= 9 \\\\\n",
    " 2x - 5y + 10z &= 4 \\\\\n",
    "  6z &= 0 \n",
    "\\end{align}$$"
   ]
  },
  {
   "cell_type": "markdown",
   "metadata": {},
   "source": [
    "First define the system's matrices:\n",
    "\n",
    "$$ \n",
    "\\begin{pmatrix} \n",
    "    1 & -2 & 3 \\\\\n",
    "    2 & -5 & 10 \\\\\n",
    "    0 & 0 & 6\n",
    "\\end{pmatrix}\n",
    "\\cdot\n",
    "\\begin{pmatrix} \n",
    "    x \\\\\n",
    "    y \\\\\n",
    "    z\n",
    "\\end{pmatrix}\n",
    "=\n",
    "\\begin{pmatrix} \n",
    "    9 \\\\\n",
    "    4 \\\\\n",
    "    0\n",
    "\\end{pmatrix}\n",
    "$$\n",
    "\n",
    "to \n",
    "\n",
    "$$ A \\cdot \\vec{x} = \\vec{b} $$"
   ]
  },
  {
   "cell_type": "code",
   "execution_count": 86,
   "metadata": {
    "ExecuteTime": {
     "end_time": "2022-08-09T16:36:35.792792Z",
     "start_time": "2022-08-09T16:36:35.785737Z"
    }
   },
   "outputs": [
    {
     "data": {
      "text/plain": [
       "array([[ 1, -2,  3],\n",
       "       [ 2, -5, 10],\n",
       "       [ 0,  0,  6]])"
      ]
     },
     "execution_count": 86,
     "metadata": {},
     "output_type": "execute_result"
    }
   ],
   "source": [
    "# Create A\n",
    "A = np.array( [ [1,-2,3], [2,-5,10] , [0,0,6] ])\n",
    "A"
   ]
  },
  {
   "cell_type": "code",
   "execution_count": 87,
   "metadata": {
    "ExecuteTime": {
     "end_time": "2022-08-09T16:37:10.072574Z",
     "start_time": "2022-08-09T16:37:10.067248Z"
    }
   },
   "outputs": [
    {
     "data": {
      "text/plain": [
       "array([[9],\n",
       "       [4],\n",
       "       [0]])"
      ]
     },
     "execution_count": 87,
     "metadata": {},
     "output_type": "execute_result"
    }
   ],
   "source": [
    "# Create b\n",
    "\n",
    "b = np.array( [ [9], [4],[0]])\n",
    "b"
   ]
  },
  {
   "cell_type": "code",
   "execution_count": 88,
   "metadata": {
    "ExecuteTime": {
     "end_time": "2022-08-09T16:37:11.033176Z",
     "start_time": "2022-08-09T16:37:11.028951Z"
    }
   },
   "outputs": [
    {
     "name": "stdout",
     "output_type": "stream",
     "text": [
      "A:\n",
      "[[ 1 -2  3]\n",
      " [ 2 -5 10]\n",
      " [ 0  0  6]]\n",
      "\n",
      "b:\n",
      "[[9]\n",
      " [4]\n",
      " [0]]\n"
     ]
    }
   ],
   "source": [
    "print('A:')\n",
    "print(A)\n",
    "print()\n",
    "print('b:')\n",
    "print(b)"
   ]
  },
  {
   "cell_type": "markdown",
   "metadata": {},
   "source": [
    "Find the inverse"
   ]
  },
  {
   "cell_type": "code",
   "execution_count": 89,
   "metadata": {
    "ExecuteTime": {
     "end_time": "2022-08-09T16:37:37.008893Z",
     "start_time": "2022-08-09T16:37:37.001331Z"
    }
   },
   "outputs": [
    {
     "data": {
      "text/plain": [
       "array([[ 5.        , -2.        ,  0.83333333],\n",
       "       [ 2.        , -1.        ,  0.66666667],\n",
       "       [ 0.        ,  0.        ,  0.16666667]])"
      ]
     },
     "execution_count": 89,
     "metadata": {},
     "output_type": "execute_result"
    }
   ],
   "source": [
    "A_inv = np.linalg.inv(A)\n",
    "A_inv"
   ]
  },
  {
   "cell_type": "markdown",
   "metadata": {},
   "source": [
    "Getting the solution"
   ]
  },
  {
   "cell_type": "code",
   "execution_count": 90,
   "metadata": {
    "ExecuteTime": {
     "end_time": "2022-08-09T16:37:54.516985Z",
     "start_time": "2022-08-09T16:37:54.511593Z"
    }
   },
   "outputs": [
    {
     "data": {
      "text/plain": [
       "array([[37.],\n",
       "       [14.],\n",
       "       [ 0.]])"
      ]
     },
     "execution_count": 90,
     "metadata": {},
     "output_type": "execute_result"
    }
   ],
   "source": [
    "A_inv.dot(b)"
   ]
  },
  {
   "cell_type": "markdown",
   "metadata": {},
   "source": [
    "### Solve It Faster with NumPy's `linalg.solve()`"
   ]
  },
  {
   "cell_type": "markdown",
   "metadata": {},
   "source": [
    "NumPy's ```linalg``` module has a ```.solve()``` method that you can use to solve a system of linear equations!"
   ]
  },
  {
   "cell_type": "markdown",
   "metadata": {},
   "source": [
    "In particular, it will solve for the vector $\\vec{x}$ in the equation $A\\vec{x} = b$. You should know that, \"under the hood\", the ```.solve()``` method does NOT compute the inverse matrix $A^{-1}$. This is largely because of the enormous expense of directly computing a matrix inverse, which takes $\\mathcal{O}(n^3)$ time.\n",
    "\n",
    "Check out [this discussion](https://stackoverflow.com/questions/31256252/why-does-numpy-linalg-solve-offer-more-precise-matrix-inversions-than-numpy-li) on stackoverflow for more on the differences between using `.solve()` and `.inv()`.\n",
    "\n",
    "And check out the documentation for ```.solve()``` [here](https://docs.scipy.org/doc/numpy/reference/generated/numpy.linalg.solve.html)."
   ]
  },
  {
   "cell_type": "code",
   "execution_count": 91,
   "metadata": {
    "ExecuteTime": {
     "end_time": "2022-08-09T16:38:22.466984Z",
     "start_time": "2022-08-09T16:38:22.462143Z"
    }
   },
   "outputs": [],
   "source": [
    "# Let's use the .solve() method to solve this system of equations\n",
    "\n",
    "A = np.array([\n",
    "    [1, -2,  3],\n",
    "    [2, -5, 10],\n",
    "    [0,  0,  6]\n",
    "])\n",
    "\n",
    "b = np.array([9, 4, 0]).reshape(3, 1)"
   ]
  },
  {
   "cell_type": "code",
   "execution_count": 92,
   "metadata": {
    "ExecuteTime": {
     "end_time": "2022-08-09T16:38:25.635950Z",
     "start_time": "2022-08-09T16:38:25.630305Z"
    }
   },
   "outputs": [
    {
     "data": {
      "text/plain": [
       "array([[ 1, -2,  3],\n",
       "       [ 2, -5, 10],\n",
       "       [ 0,  0,  6]])"
      ]
     },
     "execution_count": 92,
     "metadata": {},
     "output_type": "execute_result"
    }
   ],
   "source": [
    "A"
   ]
  },
  {
   "cell_type": "code",
   "execution_count": 93,
   "metadata": {
    "ExecuteTime": {
     "end_time": "2022-08-09T16:38:29.191993Z",
     "start_time": "2022-08-09T16:38:29.186264Z"
    }
   },
   "outputs": [
    {
     "data": {
      "text/plain": [
       "array([[9],\n",
       "       [4],\n",
       "       [0]])"
      ]
     },
     "execution_count": 93,
     "metadata": {},
     "output_type": "execute_result"
    }
   ],
   "source": [
    "b"
   ]
  },
  {
   "cell_type": "code",
   "execution_count": 94,
   "metadata": {
    "ExecuteTime": {
     "end_time": "2022-08-09T16:38:35.622771Z",
     "start_time": "2022-08-09T16:38:35.616809Z"
    }
   },
   "outputs": [
    {
     "data": {
      "text/plain": [
       "array([[37.],\n",
       "       [14.],\n",
       "       [ 0.]])"
      ]
     },
     "execution_count": 94,
     "metadata": {},
     "output_type": "execute_result"
    }
   ],
   "source": [
    "np.linalg.solve(A, b)"
   ]
  },
  {
   "cell_type": "markdown",
   "metadata": {},
   "source": [
    "Again, we could just solve our matrix equation by calculating the inverse of our matrix $X$ and then multiplying by $y$:"
   ]
  },
  {
   "cell_type": "code",
   "execution_count": 95,
   "metadata": {
    "ExecuteTime": {
     "end_time": "2022-08-09T16:41:07.466326Z",
     "start_time": "2022-08-09T16:41:07.458163Z"
    }
   },
   "outputs": [
    {
     "data": {
      "text/plain": [
       "array([[37.],\n",
       "       [14.],\n",
       "       [ 0.]])"
      ]
     },
     "execution_count": 95,
     "metadata": {},
     "output_type": "execute_result"
    }
   ],
   "source": [
    "np.linalg.inv(A).dot(b)"
   ]
  },
  {
   "cell_type": "markdown",
   "metadata": {},
   "source": [
    "But the time difference is striking:"
   ]
  },
  {
   "cell_type": "code",
   "execution_count": 96,
   "metadata": {
    "ExecuteTime": {
     "end_time": "2022-08-09T16:41:16.374589Z",
     "start_time": "2022-08-09T16:41:09.028824Z"
    }
   },
   "outputs": [
    {
     "name": "stdout",
     "output_type": "stream",
     "text": [
      "87.4 µs ± 10.5 µs per loop (mean ± std. dev. of 7 runs, 10000 loops each)\n"
     ]
    }
   ],
   "source": [
    "%timeit np.linalg.inv(A).dot(b)"
   ]
  },
  {
   "cell_type": "code",
   "execution_count": 97,
   "metadata": {
    "ExecuteTime": {
     "end_time": "2022-08-09T16:41:25.561529Z",
     "start_time": "2022-08-09T16:41:16.441134Z"
    }
   },
   "outputs": [
    {
     "name": "stdout",
     "output_type": "stream",
     "text": [
      "11 µs ± 221 ns per loop (mean ± std. dev. of 7 runs, 100000 loops each)\n"
     ]
    }
   ],
   "source": [
    "%timeit np.linalg.solve(A, b)"
   ]
  },
  {
   "cell_type": "markdown",
   "metadata": {},
   "source": [
    "Even for a (tiny!) 3x3 matrix, the cost of computing the inverse directly is evident."
   ]
  },
  {
   "cell_type": "markdown",
   "metadata": {},
   "source": [
    "# Solving for the Line of Best Fit: Linear Regression"
   ]
  },
  {
   "cell_type": "markdown",
   "metadata": {},
   "source": [
    "Consider a typical dataset and the associated multiple linear regression problem. We have many observations (rows), each of which consists of a set of values both for the predictors (columns, i.e. the independent variables) and for the target (the dependent variable).\n",
    "\n",
    "We can think of the values of the independent variables as our matrix $A$ of coefficients and of the values of the dependent variable as our output vector $\\vec{c}$.\n",
    "\n",
    "The task here is, in effect, to solve for $\\vec{\\beta}$, where we have that $A\\vec{\\beta} = \\vec{c}$, except in general we'll have more rows than columns. This is why we won't in general be computing matrix inverses. (They're computationally expensive, anyway.) This is also why we have a problem requiring not a direct solution but rather an optimization--in our case, a best-fit line.\n",
    "\n",
    "Using $z$ for our independent variables and $y$ for our dependent variable, we have:\n",
    "\n",
    "\n",
    "\\begin{equation}\n",
    "\\beta_1\\begin{bmatrix}\n",
    "z_{1,1} \\\\\n",
    ". \\\\\n",
    ". \\\\\n",
    ". \\\\\n",
    "z_{m,1}\n",
    "\\end{bmatrix} +\n",
    "... + \\beta_n\\begin{bmatrix}\n",
    "z_{1,n} \\\\\n",
    ". \\\\\n",
    ". \\\\\n",
    ". \\\\\n",
    "z_{m,n}\n",
    "\\end{bmatrix} \\approx \\begin{bmatrix}\n",
    "y_1 \\\\\n",
    ".  \\\\\n",
    ".  \\\\\n",
    ".  \\\\\n",
    "y_m\n",
    "\\end{bmatrix}\n",
    "\\end{equation}"
   ]
  },
  {
   "cell_type": "markdown",
   "metadata": {},
   "source": [
    "## Linear Algebra Solves the Best-Fit Line Problem"
   ]
  },
  {
   "cell_type": "markdown",
   "metadata": {},
   "source": [
    "If we have a matrix of predictors $X$ and a target column $y$, we can express $\\vec{\\beta}$, the vectorized parameters of the best-fit line, as  follows:\n",
    "\n",
    "$\\large\\vec{\\beta} = (X^TX)^{-1}X^Ty$.\n",
    "\n",
    "$(X^TX)^{-1}X^T$ is sometimes called the *pseudo-inverse* of $X$. We'll have more to say about this in a future lesson when we talk about the singular value decomposition.\n",
    "\n",
    "Let's see this in action:"
   ]
  },
  {
   "cell_type": "code",
   "execution_count": 98,
   "metadata": {
    "ExecuteTime": {
     "end_time": "2022-08-09T16:43:36.118465Z",
     "start_time": "2022-08-09T16:43:36.108683Z"
    }
   },
   "outputs": [],
   "source": [
    "preds = np.array(list(zip(np.random.normal(size=10),\n",
    "                          np.array(np.random.normal(size=10, loc=2)))))\n",
    "target = np.array(np.random.exponential(size=10))"
   ]
  },
  {
   "cell_type": "code",
   "execution_count": 99,
   "metadata": {
    "ExecuteTime": {
     "end_time": "2022-08-09T16:43:36.641400Z",
     "start_time": "2022-08-09T16:43:36.636787Z"
    }
   },
   "outputs": [
    {
     "data": {
      "text/plain": [
       "array([[-1.37037777,  1.87621951],\n",
       "       [-0.54880097,  2.77415917],\n",
       "       [ 0.36844058,  1.45713222],\n",
       "       [-1.47858479,  4.36947578],\n",
       "       [ 0.89860251,  2.82995974],\n",
       "       [ 0.17921434,  2.56114922],\n",
       "       [ 0.70883836,  3.53466776],\n",
       "       [-2.21705168,  2.74732413],\n",
       "       [-0.79678292, -0.0509905 ],\n",
       "       [-0.40506102,  3.18894109]])"
      ]
     },
     "execution_count": 99,
     "metadata": {},
     "output_type": "execute_result"
    }
   ],
   "source": [
    "preds"
   ]
  },
  {
   "cell_type": "code",
   "execution_count": 100,
   "metadata": {
    "ExecuteTime": {
     "end_time": "2022-08-09T16:43:46.959890Z",
     "start_time": "2022-08-09T16:43:46.956030Z"
    }
   },
   "outputs": [
    {
     "data": {
      "text/plain": [
       "array([0.96432421, 0.10127693, 0.48517646, 0.33873749, 0.268679  ,\n",
       "       0.19295545, 0.64434614, 1.02919436, 0.41100372, 1.42794579])"
      ]
     },
     "execution_count": 100,
     "metadata": {},
     "output_type": "execute_result"
    }
   ],
   "source": [
    "target"
   ]
  },
  {
   "cell_type": "code",
   "execution_count": 101,
   "metadata": {
    "ExecuteTime": {
     "end_time": "2022-08-09T16:44:14.412763Z",
     "start_time": "2022-08-09T16:44:14.406645Z"
    }
   },
   "outputs": [
    {
     "data": {
      "text/plain": [
       "array([-0.1874693 ,  0.16768759])"
      ]
     },
     "execution_count": 101,
     "metadata": {},
     "output_type": "execute_result"
    }
   ],
   "source": [
    "np.linalg.inv(preds.T.dot(preds)).dot(preds.T).dot(target)"
   ]
  },
  {
   "cell_type": "code",
   "execution_count": 102,
   "metadata": {
    "ExecuteTime": {
     "end_time": "2022-08-09T16:44:27.967077Z",
     "start_time": "2022-08-09T16:44:27.946917Z"
    }
   },
   "outputs": [
    {
     "data": {
      "text/plain": [
       "array([-0.1874693 ,  0.16768759])"
      ]
     },
     "execution_count": 102,
     "metadata": {},
     "output_type": "execute_result"
    }
   ],
   "source": [
    "LinearRegression(fit_intercept=False).fit(preds, target).coef_"
   ]
  },
  {
   "cell_type": "code",
   "execution_count": 105,
   "metadata": {
    "ExecuteTime": {
     "end_time": "2022-08-09T16:47:13.228437Z",
     "start_time": "2022-08-09T16:47:11.911000Z"
    }
   },
   "outputs": [
    {
     "name": "stdout",
     "output_type": "stream",
     "text": [
      "150 µs ± 29 µs per loop (mean ± std. dev. of 7 runs, 1000 loops each)\n"
     ]
    }
   ],
   "source": [
    "%timeit np.linalg.inv(preds.T.dot(preds)).dot(preds.T).dot(target)"
   ]
  },
  {
   "cell_type": "code",
   "execution_count": 106,
   "metadata": {
    "ExecuteTime": {
     "end_time": "2022-08-09T16:47:16.412038Z",
     "start_time": "2022-08-09T16:47:13.311839Z"
    }
   },
   "outputs": [
    {
     "name": "stdout",
     "output_type": "stream",
     "text": [
      "371 µs ± 34.6 µs per loop (mean ± std. dev. of 7 runs, 1000 loops each)\n"
     ]
    }
   ],
   "source": [
    "%timeit LinearRegression(fit_intercept=False).fit(preds, target).coef_"
   ]
  },
  {
   "cell_type": "markdown",
   "metadata": {},
   "source": [
    "## Level Up: Cramer's Rule"
   ]
  },
  {
   "cell_type": "markdown",
   "metadata": {},
   "source": [
    "Cramer's Rule tells us how to solve a system of linear equations in terms of the [determinant](https://en.wikipedia.org/wiki/Determinant) of the data matrix:\n",
    "\n",
    "If we have $A\\vec{x} = \\vec{b}$, where $\\vec{x} = \\begin{bmatrix}x_1 \\\\ . \\\\ . \\\\ . \\\\ x_n \\end{bmatrix}$, then $x_i = \\frac{|A_i|}{|A|}$,\n",
    "\n",
    "where $A_i$ is the matrix formed by replacing the $i$'th column of $A$ with $\\vec{b}$."
   ]
  },
  {
   "cell_type": "code",
   "execution_count": 107,
   "metadata": {
    "ExecuteTime": {
     "end_time": "2022-08-09T16:50:42.134984Z",
     "start_time": "2022-08-09T16:50:42.125775Z"
    }
   },
   "outputs": [
    {
     "data": {
      "text/plain": [
       "array([[ 1, -2,  3],\n",
       "       [ 2, -5, 10],\n",
       "       [ 0,  0,  6]])"
      ]
     },
     "metadata": {},
     "output_type": "display_data"
    },
    {
     "data": {
      "text/plain": [
       "array([[9],\n",
       "       [4],\n",
       "       [0]])"
      ]
     },
     "metadata": {},
     "output_type": "display_data"
    }
   ],
   "source": [
    "# Using the A and B from above.\n",
    "\n",
    "A = np.array([\n",
    "    [1, -2,  3],\n",
    "    [2, -5, 10],\n",
    "    [0,  0,  6]\n",
    "])\n",
    "\n",
    "b = np.array([9, 4, 0]).reshape(3, 1)\n",
    "\n",
    "display(A)\n",
    "display(b)"
   ]
  },
  {
   "cell_type": "code",
   "execution_count": 108,
   "metadata": {
    "ExecuteTime": {
     "end_time": "2022-08-09T16:50:46.737174Z",
     "start_time": "2022-08-09T16:50:46.731850Z"
    }
   },
   "outputs": [
    {
     "data": {
      "text/plain": [
       "-6.0"
      ]
     },
     "execution_count": 108,
     "metadata": {},
     "output_type": "execute_result"
    }
   ],
   "source": [
    "# Cramer's Rule.\n",
    "\n",
    "det_A = np.linalg.det(A)\n",
    "det_A"
   ]
  },
  {
   "cell_type": "code",
   "execution_count": 109,
   "metadata": {
    "ExecuteTime": {
     "end_time": "2022-08-09T16:50:50.538287Z",
     "start_time": "2022-08-09T16:50:50.532755Z"
    }
   },
   "outputs": [
    {
     "data": {
      "text/plain": [
       "array([[ 9, -2,  3],\n",
       "       [ 4, -5, 10],\n",
       "       [ 0,  0,  6]])"
      ]
     },
     "execution_count": 109,
     "metadata": {},
     "output_type": "execute_result"
    }
   ],
   "source": [
    "x1_num = np.hstack((b, A[:, 1:]))\n",
    "x1_num"
   ]
  },
  {
   "cell_type": "code",
   "execution_count": 110,
   "metadata": {
    "ExecuteTime": {
     "end_time": "2022-08-09T16:51:01.592297Z",
     "start_time": "2022-08-09T16:51:01.584627Z"
    }
   },
   "outputs": [
    {
     "data": {
      "text/plain": [
       "array([[ 1,  9,  3],\n",
       "       [ 2,  4, 10],\n",
       "       [ 0,  0,  6]])"
      ]
     },
     "execution_count": 110,
     "metadata": {},
     "output_type": "execute_result"
    }
   ],
   "source": [
    "x2_num = np.hstack((A[:, :1], b, A[:, -1:]))\n",
    "x2_num"
   ]
  },
  {
   "cell_type": "code",
   "execution_count": 111,
   "metadata": {
    "ExecuteTime": {
     "end_time": "2022-08-09T16:51:02.500056Z",
     "start_time": "2022-08-09T16:51:02.495506Z"
    }
   },
   "outputs": [
    {
     "data": {
      "text/plain": [
       "array([[ 1, -2,  9],\n",
       "       [ 2, -5,  4],\n",
       "       [ 0,  0,  0]])"
      ]
     },
     "execution_count": 111,
     "metadata": {},
     "output_type": "execute_result"
    }
   ],
   "source": [
    "x3_num = np.hstack((A[:, :2], b))\n",
    "x3_num"
   ]
  },
  {
   "cell_type": "code",
   "execution_count": 112,
   "metadata": {
    "ExecuteTime": {
     "end_time": "2022-08-09T16:51:06.928395Z",
     "start_time": "2022-08-09T16:51:06.920305Z"
    }
   },
   "outputs": [
    {
     "name": "stdout",
     "output_type": "stream",
     "text": [
      "37.00000000000003\n",
      "13.999999999999998\n",
      "-0.0\n"
     ]
    }
   ],
   "source": [
    "print(np.linalg.det(x1_num) / det_A)\n",
    "print(np.linalg.det(x2_num) / det_A)\n",
    "print(np.linalg.det(x3_num) / det_A)"
   ]
  },
  {
   "cell_type": "code",
   "execution_count": null,
   "metadata": {},
   "outputs": [],
   "source": []
  }
 ],
 "metadata": {
  "kernelspec": {
   "display_name": "learn-env",
   "language": "python",
   "name": "learn-env"
  },
  "language_info": {
   "codemirror_mode": {
    "name": "ipython",
    "version": 3
   },
   "file_extension": ".py",
   "mimetype": "text/x-python",
   "name": "python",
   "nbconvert_exporter": "python",
   "pygments_lexer": "ipython3",
   "version": "3.8.5"
  },
  "toc": {
   "base_numbering": 1,
   "nav_menu": {},
   "number_sections": true,
   "sideBar": true,
   "skip_h1_title": false,
   "title_cell": "Table of Contents",
   "title_sidebar": "TOC",
   "toc_cell": true,
   "toc_position": {
    "height": "calc(100% - 180px)",
    "left": "10px",
    "top": "150px",
    "width": "384px"
   },
   "toc_section_display": true,
   "toc_window_display": false
  },
  "varInspector": {
   "cols": {
    "lenName": 16,
    "lenType": 16,
    "lenVar": 40
   },
   "kernels_config": {
    "python": {
     "delete_cmd_postfix": "",
     "delete_cmd_prefix": "del ",
     "library": "var_list.py",
     "varRefreshCmd": "print(var_dic_list())"
    },
    "r": {
     "delete_cmd_postfix": ") ",
     "delete_cmd_prefix": "rm(",
     "library": "var_list.r",
     "varRefreshCmd": "cat(var_dic_list()) "
    }
   },
   "types_to_exclude": [
    "module",
    "function",
    "builtin_function_or_method",
    "instance",
    "_Feature"
   ],
   "window_display": true
  }
 },
 "nbformat": 4,
 "nbformat_minor": 2
}
