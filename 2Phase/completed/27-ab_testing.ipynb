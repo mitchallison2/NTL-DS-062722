{
 "cells": [
  {
   "cell_type": "markdown",
   "metadata": {
    "toc": true
   },
   "source": [
    "<h1>Table of Contents<span class=\"tocSkip\"></span></h1>\n",
    "<div class=\"toc\"><ul class=\"toc-item\"><li><span><a href=\"#Objectives\" data-toc-modified-id=\"Objectives-1\"><span class=\"toc-item-num\">1&nbsp;&nbsp;</span>Objectives</a></span></li><li><span><a href=\"#Example-Together\" data-toc-modified-id=\"Example-Together-2\"><span class=\"toc-item-num\">2&nbsp;&nbsp;</span>Example Together</a></span><ul class=\"toc-item\"><li><span><a href=\"#Question\" data-toc-modified-id=\"Question-2.1\"><span class=\"toc-item-num\">2.1&nbsp;&nbsp;</span>Question</a></span></li><li><span><a href=\"#Considerations\" data-toc-modified-id=\"Considerations-2.2\"><span class=\"toc-item-num\">2.2&nbsp;&nbsp;</span>Considerations</a></span></li><li><span><a href=\"#Loading-the-Data\" data-toc-modified-id=\"Loading-the-Data-2.3\"><span class=\"toc-item-num\">2.3&nbsp;&nbsp;</span>Loading the Data</a></span></li><li><span><a href=\"#Some-Exploration-to-Better-Understand-our-Data\" data-toc-modified-id=\"Some-Exploration-to-Better-Understand-our-Data-2.4\"><span class=\"toc-item-num\">2.4&nbsp;&nbsp;</span>Some Exploration to Better Understand our Data</a></span></li><li><span><a href=\"#Experimental-Setup\" data-toc-modified-id=\"Experimental-Setup-2.5\"><span class=\"toc-item-num\">2.5&nbsp;&nbsp;</span>Experimental Setup</a></span><ul class=\"toc-item\"><li><span><a href=\"#What-Test-Would-Make-Sense?\" data-toc-modified-id=\"What-Test-Would-Make-Sense?-2.5.1\"><span class=\"toc-item-num\">2.5.1&nbsp;&nbsp;</span>What Test Would Make Sense?</a></span></li><li><span><a href=\"#The-Hypotheses\" data-toc-modified-id=\"The-Hypotheses-2.5.2\"><span class=\"toc-item-num\">2.5.2&nbsp;&nbsp;</span>The Hypotheses</a></span></li><li><span><a href=\"#Setting-a-Threshold\" data-toc-modified-id=\"Setting-a-Threshold-2.5.3\"><span class=\"toc-item-num\">2.5.3&nbsp;&nbsp;</span>Setting a Threshold</a></span></li></ul></li><li><span><a href=\"#$\\chi^2$-Test\" data-toc-modified-id=\"$\\chi^2$-Test-2.6\"><span class=\"toc-item-num\">2.6&nbsp;&nbsp;</span>$\\chi^2$ Test</a></span><ul class=\"toc-item\"><li><span><a href=\"#Setup-the-Data\" data-toc-modified-id=\"Setup-the-Data-2.6.1\"><span class=\"toc-item-num\">2.6.1&nbsp;&nbsp;</span>Setup the Data</a></span></li><li><span><a href=\"#Calculation\" data-toc-modified-id=\"Calculation-2.6.2\"><span class=\"toc-item-num\">2.6.2&nbsp;&nbsp;</span>Calculation</a></span></li></ul></li><li><span><a href=\"#Interpretation\" data-toc-modified-id=\"Interpretation-2.7\"><span class=\"toc-item-num\">2.7&nbsp;&nbsp;</span>Interpretation</a></span></li></ul></li><li><span><a href=\"#Exercise\" data-toc-modified-id=\"Exercise-3\"><span class=\"toc-item-num\">3&nbsp;&nbsp;</span>Exercise</a></span></li></ul></div>"
   ]
  },
  {
   "cell_type": "code",
   "execution_count": 2,
   "metadata": {
    "ExecuteTime": {
     "end_time": "2022-07-22T18:05:20.180997Z",
     "start_time": "2022-07-22T18:05:20.178466Z"
    },
    "_cell_guid": "b1076dfc-b9ad-4769-8c92-a6c4dae69d19",
    "_uuid": "8f2839f25d086af736a60e9eeb907d3b93b6e0e5"
   },
   "outputs": [],
   "source": [
    "import numpy as np\n",
    "import pandas as pd\n",
    "\n",
    "from scipy import stats\n",
    "import seaborn as sns"
   ]
  },
  {
   "cell_type": "markdown",
   "metadata": {},
   "source": [
    "# Objectives"
   ]
  },
  {
   "cell_type": "markdown",
   "metadata": {},
   "source": [
    "- Conduct an A/B test in Python\n",
    "- Interpret the results of the A/B tests for a stakeholder"
   ]
  },
  {
   "cell_type": "markdown",
   "metadata": {},
   "source": [
    "# Example Together"
   ]
  },
  {
   "cell_type": "markdown",
   "metadata": {},
   "source": [
    "## Question"
   ]
  },
  {
   "cell_type": "markdown",
   "metadata": {},
   "source": [
    "We have data about whether customers completed sales transactions, segregated by the type of ad banners to which the customers were exposed.\n",
    "\n",
    "The question we want to answer is whether there was any difference in sales \"conversions\" between desktop customers who saw the sneakers banner and desktop customers who saw the accessories banner in the month of May 2019."
   ]
  },
  {
   "cell_type": "markdown",
   "metadata": {},
   "source": [
    "## Considerations"
   ]
  },
  {
   "cell_type": "markdown",
   "metadata": {},
   "source": [
    "What would we need to consider when designing our experiment?"
   ]
  },
  {
   "cell_type": "markdown",
   "metadata": {},
   "source": [
    "Might include:\n",
    "\n",
    "- Who is it that we're including in our test?\n",
    "- How big of an effect would make it \"worth\" us seeing?\n",
    "    - This can affect sample size\n",
    "    - This can give context of a statistically significant result\n",
    "- Other biases or \"gotchas\""
   ]
  },
  {
   "cell_type": "markdown",
   "metadata": {},
   "source": [
    "## Loading the Data"
   ]
  },
  {
   "cell_type": "markdown",
   "metadata": {},
   "source": [
    "First let's download the data from [kaggle](https://www.kaggle.com/podsyp/how-to-do-product-analytics) via the release page of this repo: https://github.com/flatiron-school/ds-ab_testing/releases \n",
    "\n",
    "The code below will load it into our DataFrame:"
   ]
  },
  {
   "cell_type": "code",
   "execution_count": 3,
   "metadata": {
    "ExecuteTime": {
     "end_time": "2022-07-22T18:06:39.446842Z",
     "start_time": "2022-07-22T18:06:28.303198Z"
    },
    "_cell_guid": "79c7e3d0-c299-4dcb-8224-4455121ee9b0",
    "_uuid": "d629ff2d2480ee46fbb7e2d37f6b5fab8052498a"
   },
   "outputs": [],
   "source": [
    "# This will download the data from online so it can take\n",
    "# some time (but relatively small download)\n",
    "\n",
    "df = pd.read_csv('https://github.com/flatiron-school/ds-ab_testing/\\\n",
    "releases/download/v1.2/products_small.csv')"
   ]
  },
  {
   "cell_type": "markdown",
   "metadata": {},
   "source": [
    "> Let's take a look while we're at it"
   ]
  },
  {
   "cell_type": "code",
   "execution_count": 4,
   "metadata": {
    "ExecuteTime": {
     "end_time": "2022-07-22T18:07:03.722703Z",
     "start_time": "2022-07-22T18:07:03.706868Z"
    }
   },
   "outputs": [
    {
     "data": {
      "text/html": [
       "<div>\n",
       "<style scoped>\n",
       "    .dataframe tbody tr th:only-of-type {\n",
       "        vertical-align: middle;\n",
       "    }\n",
       "\n",
       "    .dataframe tbody tr th {\n",
       "        vertical-align: top;\n",
       "    }\n",
       "\n",
       "    .dataframe thead th {\n",
       "        text-align: right;\n",
       "    }\n",
       "</style>\n",
       "<table border=\"1\" class=\"dataframe\">\n",
       "  <thead>\n",
       "    <tr style=\"text-align: right;\">\n",
       "      <th></th>\n",
       "      <th>Unnamed: 0</th>\n",
       "      <th>order_id</th>\n",
       "      <th>user_id</th>\n",
       "      <th>page_id</th>\n",
       "      <th>product</th>\n",
       "      <th>site_version</th>\n",
       "      <th>time</th>\n",
       "      <th>title</th>\n",
       "      <th>target</th>\n",
       "    </tr>\n",
       "  </thead>\n",
       "  <tbody>\n",
       "    <tr>\n",
       "      <th>0</th>\n",
       "      <td>4122928</td>\n",
       "      <td>3e6c5e89fdddcaee0eed210ec2c9cadf</td>\n",
       "      <td>90d58d967eb72656e86059ec6f208092</td>\n",
       "      <td>2fdc16a09e0016555dd4da4a3fe84414</td>\n",
       "      <td>accessories</td>\n",
       "      <td>desktop</td>\n",
       "      <td>2019-03-06 08:42:47</td>\n",
       "      <td>banner_show</td>\n",
       "      <td>0</td>\n",
       "    </tr>\n",
       "    <tr>\n",
       "      <th>1</th>\n",
       "      <td>564306</td>\n",
       "      <td>feed6203517d3abf6aab13761633174b</td>\n",
       "      <td>08703dab1f004eabba25aacb7f0e5484</td>\n",
       "      <td>6b0a902b9b73d5a158d0119d6feb38ac</td>\n",
       "      <td>sneakers</td>\n",
       "      <td>mobile</td>\n",
       "      <td>2019-04-19 18:30:45</td>\n",
       "      <td>banner_show</td>\n",
       "      <td>0</td>\n",
       "    </tr>\n",
       "    <tr>\n",
       "      <th>2</th>\n",
       "      <td>1872289</td>\n",
       "      <td>e33d5d7941edc281646aa37763729771</td>\n",
       "      <td>bdf1d25697e21419901c94fabdafad15</td>\n",
       "      <td>9ddb7315c4357929931b48f2b3d11c62</td>\n",
       "      <td>company</td>\n",
       "      <td>mobile</td>\n",
       "      <td>2019-01-20 17:20:10</td>\n",
       "      <td>banner_show</td>\n",
       "      <td>0</td>\n",
       "    </tr>\n",
       "    <tr>\n",
       "      <th>3</th>\n",
       "      <td>3616779</td>\n",
       "      <td>7c4caa8d508fa7c3bbc25f35cdd9168a</td>\n",
       "      <td>8d2f23a732c9527d95678088a3bac122</td>\n",
       "      <td>1f86cd0bea31d54a5b511b42fd19401a</td>\n",
       "      <td>sneakers</td>\n",
       "      <td>mobile</td>\n",
       "      <td>2019-02-20 09:38:32</td>\n",
       "      <td>banner_show</td>\n",
       "      <td>0</td>\n",
       "    </tr>\n",
       "    <tr>\n",
       "      <th>4</th>\n",
       "      <td>5871482</td>\n",
       "      <td>12874b29bde8bbd43fb2b95735caf9e6</td>\n",
       "      <td>5a22604f8f31ae98ee1211ece3a02004</td>\n",
       "      <td>b533f7e2003418c63fd71471264c559a</td>\n",
       "      <td>sneakers</td>\n",
       "      <td>mobile</td>\n",
       "      <td>2019-04-24 09:19:02</td>\n",
       "      <td>banner_show</td>\n",
       "      <td>0</td>\n",
       "    </tr>\n",
       "  </tbody>\n",
       "</table>\n",
       "</div>"
      ],
      "text/plain": [
       "   Unnamed: 0                          order_id  \\\n",
       "0     4122928  3e6c5e89fdddcaee0eed210ec2c9cadf   \n",
       "1      564306  feed6203517d3abf6aab13761633174b   \n",
       "2     1872289  e33d5d7941edc281646aa37763729771   \n",
       "3     3616779  7c4caa8d508fa7c3bbc25f35cdd9168a   \n",
       "4     5871482  12874b29bde8bbd43fb2b95735caf9e6   \n",
       "\n",
       "                            user_id                           page_id  \\\n",
       "0  90d58d967eb72656e86059ec6f208092  2fdc16a09e0016555dd4da4a3fe84414   \n",
       "1  08703dab1f004eabba25aacb7f0e5484  6b0a902b9b73d5a158d0119d6feb38ac   \n",
       "2  bdf1d25697e21419901c94fabdafad15  9ddb7315c4357929931b48f2b3d11c62   \n",
       "3  8d2f23a732c9527d95678088a3bac122  1f86cd0bea31d54a5b511b42fd19401a   \n",
       "4  5a22604f8f31ae98ee1211ece3a02004  b533f7e2003418c63fd71471264c559a   \n",
       "\n",
       "       product site_version                 time        title  target  \n",
       "0  accessories      desktop  2019-03-06 08:42:47  banner_show       0  \n",
       "1     sneakers       mobile  2019-04-19 18:30:45  banner_show       0  \n",
       "2      company       mobile  2019-01-20 17:20:10  banner_show       0  \n",
       "3     sneakers       mobile  2019-02-20 09:38:32  banner_show       0  \n",
       "4     sneakers       mobile  2019-04-24 09:19:02  banner_show       0  "
      ]
     },
     "execution_count": 4,
     "metadata": {},
     "output_type": "execute_result"
    }
   ],
   "source": [
    "# Check it out\n",
    "df.head()"
   ]
  },
  {
   "cell_type": "code",
   "execution_count": 5,
   "metadata": {
    "ExecuteTime": {
     "end_time": "2022-07-22T18:07:26.922248Z",
     "start_time": "2022-07-22T18:07:26.622443Z"
    }
   },
   "outputs": [
    {
     "name": "stdout",
     "output_type": "stream",
     "text": [
      "<class 'pandas.core.frame.DataFrame'>\n",
      "RangeIndex: 1000000 entries, 0 to 999999\n",
      "Data columns (total 9 columns):\n",
      " #   Column        Non-Null Count    Dtype \n",
      "---  ------        --------------    ----- \n",
      " 0   Unnamed: 0    1000000 non-null  int64 \n",
      " 1   order_id      1000000 non-null  object\n",
      " 2   user_id       1000000 non-null  object\n",
      " 3   page_id       1000000 non-null  object\n",
      " 4   product       1000000 non-null  object\n",
      " 5   site_version  1000000 non-null  object\n",
      " 6   time          1000000 non-null  object\n",
      " 7   title         1000000 non-null  object\n",
      " 8   target        1000000 non-null  int64 \n",
      "dtypes: int64(2), object(7)\n",
      "memory usage: 68.7+ MB\n"
     ]
    }
   ],
   "source": [
    "df.info()"
   ]
  },
  {
   "cell_type": "code",
   "execution_count": 6,
   "metadata": {
    "ExecuteTime": {
     "end_time": "2022-07-22T18:08:24.207245Z",
     "start_time": "2022-07-22T18:08:24.107697Z"
    }
   },
   "outputs": [
    {
     "data": {
      "text/html": [
       "<div>\n",
       "<style scoped>\n",
       "    .dataframe tbody tr th:only-of-type {\n",
       "        vertical-align: middle;\n",
       "    }\n",
       "\n",
       "    .dataframe tbody tr th {\n",
       "        vertical-align: top;\n",
       "    }\n",
       "\n",
       "    .dataframe thead th {\n",
       "        text-align: right;\n",
       "    }\n",
       "</style>\n",
       "<table border=\"1\" class=\"dataframe\">\n",
       "  <thead>\n",
       "    <tr style=\"text-align: right;\">\n",
       "      <th></th>\n",
       "      <th>Unnamed: 0</th>\n",
       "      <th>target</th>\n",
       "    </tr>\n",
       "  </thead>\n",
       "  <tbody>\n",
       "    <tr>\n",
       "      <th>count</th>\n",
       "      <td>1.000000e+06</td>\n",
       "      <td>1000000.000000</td>\n",
       "    </tr>\n",
       "    <tr>\n",
       "      <th>mean</th>\n",
       "      <td>4.239850e+06</td>\n",
       "      <td>0.029395</td>\n",
       "    </tr>\n",
       "    <tr>\n",
       "      <th>std</th>\n",
       "      <td>2.443943e+06</td>\n",
       "      <td>0.168911</td>\n",
       "    </tr>\n",
       "    <tr>\n",
       "      <th>min</th>\n",
       "      <td>4.000000e+00</td>\n",
       "      <td>0.000000</td>\n",
       "    </tr>\n",
       "    <tr>\n",
       "      <th>25%</th>\n",
       "      <td>2.125160e+06</td>\n",
       "      <td>0.000000</td>\n",
       "    </tr>\n",
       "    <tr>\n",
       "      <th>50%</th>\n",
       "      <td>4.244678e+06</td>\n",
       "      <td>0.000000</td>\n",
       "    </tr>\n",
       "    <tr>\n",
       "      <th>75%</th>\n",
       "      <td>6.355990e+06</td>\n",
       "      <td>0.000000</td>\n",
       "    </tr>\n",
       "    <tr>\n",
       "      <th>max</th>\n",
       "      <td>8.471211e+06</td>\n",
       "      <td>1.000000</td>\n",
       "    </tr>\n",
       "  </tbody>\n",
       "</table>\n",
       "</div>"
      ],
      "text/plain": [
       "         Unnamed: 0          target\n",
       "count  1.000000e+06  1000000.000000\n",
       "mean   4.239850e+06        0.029395\n",
       "std    2.443943e+06        0.168911\n",
       "min    4.000000e+00        0.000000\n",
       "25%    2.125160e+06        0.000000\n",
       "50%    4.244678e+06        0.000000\n",
       "75%    6.355990e+06        0.000000\n",
       "max    8.471211e+06        1.000000"
      ]
     },
     "execution_count": 6,
     "metadata": {},
     "output_type": "execute_result"
    }
   ],
   "source": [
    "df.describe()"
   ]
  },
  {
   "cell_type": "code",
   "execution_count": 7,
   "metadata": {
    "ExecuteTime": {
     "end_time": "2022-07-22T18:09:17.155047Z",
     "start_time": "2022-07-22T18:09:12.101757Z"
    }
   },
   "outputs": [
    {
     "data": {
      "text/html": [
       "<div>\n",
       "<style scoped>\n",
       "    .dataframe tbody tr th:only-of-type {\n",
       "        vertical-align: middle;\n",
       "    }\n",
       "\n",
       "    .dataframe tbody tr th {\n",
       "        vertical-align: top;\n",
       "    }\n",
       "\n",
       "    .dataframe thead th {\n",
       "        text-align: right;\n",
       "    }\n",
       "</style>\n",
       "<table border=\"1\" class=\"dataframe\">\n",
       "  <thead>\n",
       "    <tr style=\"text-align: right;\">\n",
       "      <th></th>\n",
       "      <th>order_id</th>\n",
       "      <th>user_id</th>\n",
       "      <th>page_id</th>\n",
       "      <th>product</th>\n",
       "      <th>site_version</th>\n",
       "      <th>time</th>\n",
       "      <th>title</th>\n",
       "    </tr>\n",
       "  </thead>\n",
       "  <tbody>\n",
       "    <tr>\n",
       "      <th>count</th>\n",
       "      <td>1000000</td>\n",
       "      <td>1000000</td>\n",
       "      <td>1000000</td>\n",
       "      <td>1000000</td>\n",
       "      <td>1000000</td>\n",
       "      <td>1000000</td>\n",
       "      <td>1000000</td>\n",
       "    </tr>\n",
       "    <tr>\n",
       "      <th>unique</th>\n",
       "      <td>1000000</td>\n",
       "      <td>882589</td>\n",
       "      <td>959023</td>\n",
       "      <td>5</td>\n",
       "      <td>2</td>\n",
       "      <td>952092</td>\n",
       "      <td>3</td>\n",
       "    </tr>\n",
       "    <tr>\n",
       "      <th>top</th>\n",
       "      <td>80428d02e5d3ed8469b7f579efe2fc0e</td>\n",
       "      <td>2a98f631f947487fc710b89d13d5a51a</td>\n",
       "      <td>a3d2de7675556553a5f08e4c88d2c228</td>\n",
       "      <td>clothes</td>\n",
       "      <td>mobile</td>\n",
       "      <td>2019-01-14 18:47:47</td>\n",
       "      <td>banner_show</td>\n",
       "    </tr>\n",
       "    <tr>\n",
       "      <th>freq</th>\n",
       "      <td>1</td>\n",
       "      <td>8</td>\n",
       "      <td>29395</td>\n",
       "      <td>210996</td>\n",
       "      <td>718521</td>\n",
       "      <td>5</td>\n",
       "      <td>872275</td>\n",
       "    </tr>\n",
       "  </tbody>\n",
       "</table>\n",
       "</div>"
      ],
      "text/plain": [
       "                                order_id                           user_id  \\\n",
       "count                            1000000                           1000000   \n",
       "unique                           1000000                            882589   \n",
       "top     80428d02e5d3ed8469b7f579efe2fc0e  2a98f631f947487fc710b89d13d5a51a   \n",
       "freq                                   1                                 8   \n",
       "\n",
       "                                 page_id  product site_version  \\\n",
       "count                            1000000  1000000      1000000   \n",
       "unique                            959023        5            2   \n",
       "top     a3d2de7675556553a5f08e4c88d2c228  clothes       mobile   \n",
       "freq                               29395   210996       718521   \n",
       "\n",
       "                       time        title  \n",
       "count               1000000      1000000  \n",
       "unique               952092            3  \n",
       "top     2019-01-14 18:47:47  banner_show  \n",
       "freq                      5       872275  "
      ]
     },
     "execution_count": 7,
     "metadata": {},
     "output_type": "execute_result"
    }
   ],
   "source": [
    "df.describe(include=['object'])"
   ]
  },
  {
   "cell_type": "code",
   "execution_count": null,
   "metadata": {
    "scrolled": true
   },
   "outputs": [],
   "source": [
    "# All the deets\n"
   ]
  },
  {
   "cell_type": "markdown",
   "metadata": {},
   "source": [
    "## Some Exploration to Better Understand our Data"
   ]
  },
  {
   "cell_type": "markdown",
   "metadata": {},
   "source": [
    "Lets's look at the different banner types:"
   ]
  },
  {
   "cell_type": "code",
   "execution_count": 10,
   "metadata": {
    "ExecuteTime": {
     "end_time": "2022-07-22T18:11:38.425782Z",
     "start_time": "2022-07-22T18:11:38.313346Z"
    },
    "scrolled": true
   },
   "outputs": [
    {
     "data": {
      "text/plain": [
       "clothes             210996\n",
       "company             203020\n",
       "sneakers            201298\n",
       "sports_nutrition    193200\n",
       "accessories         191486\n",
       "Name: product, dtype: int64"
      ]
     },
     "execution_count": 10,
     "metadata": {},
     "output_type": "execute_result"
    }
   ],
   "source": [
    "# banner types\n",
    "\n",
    "df['product'].value_counts()"
   ]
  },
  {
   "cell_type": "code",
   "execution_count": 11,
   "metadata": {
    "ExecuteTime": {
     "end_time": "2022-07-22T18:12:17.692028Z",
     "start_time": "2022-07-22T18:12:17.577002Z"
    }
   },
   "outputs": [
    {
     "data": {
      "text/plain": [
       "mobile     718521\n",
       "desktop    281479\n",
       "Name: site_version, dtype: int64"
      ]
     },
     "execution_count": 11,
     "metadata": {},
     "output_type": "execute_result"
    }
   ],
   "source": [
    "df.site_version.value_counts()"
   ]
  },
  {
   "cell_type": "code",
   "execution_count": 14,
   "metadata": {
    "ExecuteTime": {
     "end_time": "2022-07-22T18:13:49.343912Z",
     "start_time": "2022-07-22T18:13:49.151038Z"
    }
   },
   "outputs": [
    {
     "data": {
      "text/plain": [
       "product           target\n",
       "accessories       0         0.972014\n",
       "                  1         0.027986\n",
       "clothes           0         0.937079\n",
       "                  1         0.062921\n",
       "company           0         1.000000\n",
       "sneakers          0         0.960640\n",
       "                  1         0.039360\n",
       "sports_nutrition  0         0.985316\n",
       "                  1         0.014684\n",
       "Name: target, dtype: float64"
      ]
     },
     "execution_count": 14,
     "metadata": {},
     "output_type": "execute_result"
    }
   ],
   "source": [
    "# products and targets\n",
    "df.groupby('product')['target'].value_counts(normalize=True)"
   ]
  },
  {
   "cell_type": "markdown",
   "metadata": {},
   "source": [
    "Let's look at the range of time-stamps on these data:"
   ]
  },
  {
   "cell_type": "code",
   "execution_count": 15,
   "metadata": {
    "ExecuteTime": {
     "end_time": "2022-07-22T18:14:44.100621Z",
     "start_time": "2022-07-22T18:14:43.980770Z"
    }
   },
   "outputs": [
    {
     "data": {
      "text/plain": [
       "'2019-01-01 00:00:25'"
      ]
     },
     "execution_count": 15,
     "metadata": {},
     "output_type": "execute_result"
    }
   ],
   "source": [
    "# Date range\n",
    "df['time'].min()"
   ]
  },
  {
   "cell_type": "code",
   "execution_count": 16,
   "metadata": {
    "ExecuteTime": {
     "end_time": "2022-07-22T18:14:55.912123Z",
     "start_time": "2022-07-22T18:14:55.791955Z"
    }
   },
   "outputs": [
    {
     "data": {
      "text/plain": [
       "'2019-05-31 23:59:21'"
      ]
     },
     "execution_count": 16,
     "metadata": {},
     "output_type": "execute_result"
    }
   ],
   "source": [
    "df['time'].max()"
   ]
  },
  {
   "cell_type": "markdown",
   "metadata": {},
   "source": [
    "Let's check the counts of the different site_version values:"
   ]
  },
  {
   "cell_type": "code",
   "execution_count": null,
   "metadata": {
    "scrolled": true
   },
   "outputs": [],
   "source": [
    "# Site types\n"
   ]
  },
  {
   "cell_type": "code",
   "execution_count": 17,
   "metadata": {
    "ExecuteTime": {
     "end_time": "2022-07-22T18:16:12.284304Z",
     "start_time": "2022-07-22T18:16:12.170580Z"
    }
   },
   "outputs": [
    {
     "data": {
      "text/plain": [
       "banner_show     872275\n",
       "banner_click     98330\n",
       "order            29395\n",
       "Name: title, dtype: int64"
      ]
     },
     "execution_count": 17,
     "metadata": {},
     "output_type": "execute_result"
    }
   ],
   "source": [
    "# action title\n",
    "df['title'].value_counts()"
   ]
  },
  {
   "cell_type": "code",
   "execution_count": 18,
   "metadata": {
    "ExecuteTime": {
     "end_time": "2022-07-22T18:17:27.560883Z",
     "start_time": "2022-07-22T18:17:27.543968Z"
    }
   },
   "outputs": [
    {
     "data": {
      "text/plain": [
       "0    970605\n",
       "1     29395\n",
       "Name: target, dtype: int64"
      ]
     },
     "execution_count": 18,
     "metadata": {},
     "output_type": "execute_result"
    }
   ],
   "source": [
    "# double check\n",
    "df['target'].value_counts()"
   ]
  },
  {
   "cell_type": "code",
   "execution_count": 19,
   "metadata": {
    "ExecuteTime": {
     "end_time": "2022-07-22T18:18:04.861837Z",
     "start_time": "2022-07-22T18:18:04.774926Z"
    }
   },
   "outputs": [
    {
     "data": {
      "text/plain": [
       "29395"
      ]
     },
     "execution_count": 19,
     "metadata": {},
     "output_type": "execute_result"
    }
   ],
   "source": [
    "sum(df['target'])"
   ]
  },
  {
   "cell_type": "code",
   "execution_count": 22,
   "metadata": {
    "ExecuteTime": {
     "end_time": "2022-07-22T18:18:45.447761Z",
     "start_time": "2022-07-22T18:18:45.376648Z"
    }
   },
   "outputs": [
    {
     "data": {
      "text/plain": [
       "29395"
      ]
     },
     "execution_count": 22,
     "metadata": {},
     "output_type": "execute_result"
    }
   ],
   "source": [
    "len(df['title'].loc[ df['title'] == 'order'])"
   ]
  },
  {
   "cell_type": "code",
   "execution_count": 24,
   "metadata": {
    "ExecuteTime": {
     "end_time": "2022-07-22T18:19:42.080892Z",
     "start_time": "2022-07-22T18:19:41.622386Z"
    }
   },
   "outputs": [
    {
     "data": {
      "text/html": [
       "<div>\n",
       "<style scoped>\n",
       "    .dataframe tbody tr th:only-of-type {\n",
       "        vertical-align: middle;\n",
       "    }\n",
       "\n",
       "    .dataframe tbody tr th {\n",
       "        vertical-align: top;\n",
       "    }\n",
       "\n",
       "    .dataframe thead th {\n",
       "        text-align: right;\n",
       "    }\n",
       "</style>\n",
       "<table border=\"1\" class=\"dataframe\">\n",
       "  <thead>\n",
       "    <tr style=\"text-align: right;\">\n",
       "      <th></th>\n",
       "      <th>Unnamed: 0</th>\n",
       "      <th>order_id</th>\n",
       "      <th>user_id</th>\n",
       "      <th>page_id</th>\n",
       "      <th>product</th>\n",
       "      <th>site_version</th>\n",
       "      <th>time</th>\n",
       "      <th>target</th>\n",
       "    </tr>\n",
       "    <tr>\n",
       "      <th>title</th>\n",
       "      <th></th>\n",
       "      <th></th>\n",
       "      <th></th>\n",
       "      <th></th>\n",
       "      <th></th>\n",
       "      <th></th>\n",
       "      <th></th>\n",
       "      <th></th>\n",
       "    </tr>\n",
       "  </thead>\n",
       "  <tbody>\n",
       "    <tr>\n",
       "      <th>banner_click</th>\n",
       "      <td>98330</td>\n",
       "      <td>98330</td>\n",
       "      <td>98330</td>\n",
       "      <td>98330</td>\n",
       "      <td>98330</td>\n",
       "      <td>98330</td>\n",
       "      <td>98330</td>\n",
       "      <td>98330</td>\n",
       "    </tr>\n",
       "    <tr>\n",
       "      <th>banner_show</th>\n",
       "      <td>872275</td>\n",
       "      <td>872275</td>\n",
       "      <td>872275</td>\n",
       "      <td>872275</td>\n",
       "      <td>872275</td>\n",
       "      <td>872275</td>\n",
       "      <td>872275</td>\n",
       "      <td>872275</td>\n",
       "    </tr>\n",
       "    <tr>\n",
       "      <th>order</th>\n",
       "      <td>29395</td>\n",
       "      <td>29395</td>\n",
       "      <td>29395</td>\n",
       "      <td>29395</td>\n",
       "      <td>29395</td>\n",
       "      <td>29395</td>\n",
       "      <td>29395</td>\n",
       "      <td>29395</td>\n",
       "    </tr>\n",
       "  </tbody>\n",
       "</table>\n",
       "</div>"
      ],
      "text/plain": [
       "              Unnamed: 0  order_id  user_id  page_id  product  site_version  \\\n",
       "title                                                                         \n",
       "banner_click       98330     98330    98330    98330    98330         98330   \n",
       "banner_show       872275    872275   872275   872275   872275        872275   \n",
       "order              29395     29395    29395    29395    29395         29395   \n",
       "\n",
       "                time  target  \n",
       "title                         \n",
       "banner_click   98330   98330  \n",
       "banner_show   872275  872275  \n",
       "order          29395   29395  "
      ]
     },
     "execution_count": 24,
     "metadata": {},
     "output_type": "execute_result"
    }
   ],
   "source": [
    "df.groupby('title').count()"
   ]
  },
  {
   "cell_type": "code",
   "execution_count": 27,
   "metadata": {
    "ExecuteTime": {
     "end_time": "2022-07-22T18:20:48.560360Z",
     "start_time": "2022-07-22T18:20:48.498576Z"
    }
   },
   "outputs": [],
   "source": [
    "o_f = df['title'] == 'order'\n",
    "\n",
    "t_f  = df['target'] == 1"
   ]
  },
  {
   "cell_type": "code",
   "execution_count": null,
   "metadata": {},
   "outputs": [],
   "source": []
  },
  {
   "cell_type": "code",
   "execution_count": 29,
   "metadata": {
    "ExecuteTime": {
     "end_time": "2022-07-22T18:21:28.178675Z",
     "start_time": "2022-07-22T18:21:28.151642Z"
    }
   },
   "outputs": [
    {
     "data": {
      "text/plain": [
       "(29395, 9)"
      ]
     },
     "execution_count": 29,
     "metadata": {},
     "output_type": "execute_result"
    }
   ],
   "source": [
    "df.loc[ (o_f) & (t_f)  ].shape"
   ]
  },
  {
   "cell_type": "code",
   "execution_count": 30,
   "metadata": {
    "ExecuteTime": {
     "end_time": "2022-07-22T18:24:18.409676Z",
     "start_time": "2022-07-22T18:24:18.017264Z"
    }
   },
   "outputs": [],
   "source": [
    "df['target2'] = df['title'].apply(lambda x: 1 if x == 'order' else 0)"
   ]
  },
  {
   "cell_type": "code",
   "execution_count": 31,
   "metadata": {
    "ExecuteTime": {
     "end_time": "2022-07-22T18:24:22.538303Z",
     "start_time": "2022-07-22T18:24:22.525457Z"
    }
   },
   "outputs": [
    {
     "data": {
      "text/html": [
       "<div>\n",
       "<style scoped>\n",
       "    .dataframe tbody tr th:only-of-type {\n",
       "        vertical-align: middle;\n",
       "    }\n",
       "\n",
       "    .dataframe tbody tr th {\n",
       "        vertical-align: top;\n",
       "    }\n",
       "\n",
       "    .dataframe thead th {\n",
       "        text-align: right;\n",
       "    }\n",
       "</style>\n",
       "<table border=\"1\" class=\"dataframe\">\n",
       "  <thead>\n",
       "    <tr style=\"text-align: right;\">\n",
       "      <th></th>\n",
       "      <th>Unnamed: 0</th>\n",
       "      <th>order_id</th>\n",
       "      <th>user_id</th>\n",
       "      <th>page_id</th>\n",
       "      <th>product</th>\n",
       "      <th>site_version</th>\n",
       "      <th>time</th>\n",
       "      <th>title</th>\n",
       "      <th>target</th>\n",
       "      <th>target2</th>\n",
       "    </tr>\n",
       "  </thead>\n",
       "  <tbody>\n",
       "    <tr>\n",
       "      <th>0</th>\n",
       "      <td>4122928</td>\n",
       "      <td>3e6c5e89fdddcaee0eed210ec2c9cadf</td>\n",
       "      <td>90d58d967eb72656e86059ec6f208092</td>\n",
       "      <td>2fdc16a09e0016555dd4da4a3fe84414</td>\n",
       "      <td>accessories</td>\n",
       "      <td>desktop</td>\n",
       "      <td>2019-03-06 08:42:47</td>\n",
       "      <td>banner_show</td>\n",
       "      <td>0</td>\n",
       "      <td>0</td>\n",
       "    </tr>\n",
       "    <tr>\n",
       "      <th>1</th>\n",
       "      <td>564306</td>\n",
       "      <td>feed6203517d3abf6aab13761633174b</td>\n",
       "      <td>08703dab1f004eabba25aacb7f0e5484</td>\n",
       "      <td>6b0a902b9b73d5a158d0119d6feb38ac</td>\n",
       "      <td>sneakers</td>\n",
       "      <td>mobile</td>\n",
       "      <td>2019-04-19 18:30:45</td>\n",
       "      <td>banner_show</td>\n",
       "      <td>0</td>\n",
       "      <td>0</td>\n",
       "    </tr>\n",
       "    <tr>\n",
       "      <th>2</th>\n",
       "      <td>1872289</td>\n",
       "      <td>e33d5d7941edc281646aa37763729771</td>\n",
       "      <td>bdf1d25697e21419901c94fabdafad15</td>\n",
       "      <td>9ddb7315c4357929931b48f2b3d11c62</td>\n",
       "      <td>company</td>\n",
       "      <td>mobile</td>\n",
       "      <td>2019-01-20 17:20:10</td>\n",
       "      <td>banner_show</td>\n",
       "      <td>0</td>\n",
       "      <td>0</td>\n",
       "    </tr>\n",
       "    <tr>\n",
       "      <th>3</th>\n",
       "      <td>3616779</td>\n",
       "      <td>7c4caa8d508fa7c3bbc25f35cdd9168a</td>\n",
       "      <td>8d2f23a732c9527d95678088a3bac122</td>\n",
       "      <td>1f86cd0bea31d54a5b511b42fd19401a</td>\n",
       "      <td>sneakers</td>\n",
       "      <td>mobile</td>\n",
       "      <td>2019-02-20 09:38:32</td>\n",
       "      <td>banner_show</td>\n",
       "      <td>0</td>\n",
       "      <td>0</td>\n",
       "    </tr>\n",
       "    <tr>\n",
       "      <th>4</th>\n",
       "      <td>5871482</td>\n",
       "      <td>12874b29bde8bbd43fb2b95735caf9e6</td>\n",
       "      <td>5a22604f8f31ae98ee1211ece3a02004</td>\n",
       "      <td>b533f7e2003418c63fd71471264c559a</td>\n",
       "      <td>sneakers</td>\n",
       "      <td>mobile</td>\n",
       "      <td>2019-04-24 09:19:02</td>\n",
       "      <td>banner_show</td>\n",
       "      <td>0</td>\n",
       "      <td>0</td>\n",
       "    </tr>\n",
       "  </tbody>\n",
       "</table>\n",
       "</div>"
      ],
      "text/plain": [
       "   Unnamed: 0                          order_id  \\\n",
       "0     4122928  3e6c5e89fdddcaee0eed210ec2c9cadf   \n",
       "1      564306  feed6203517d3abf6aab13761633174b   \n",
       "2     1872289  e33d5d7941edc281646aa37763729771   \n",
       "3     3616779  7c4caa8d508fa7c3bbc25f35cdd9168a   \n",
       "4     5871482  12874b29bde8bbd43fb2b95735caf9e6   \n",
       "\n",
       "                            user_id                           page_id  \\\n",
       "0  90d58d967eb72656e86059ec6f208092  2fdc16a09e0016555dd4da4a3fe84414   \n",
       "1  08703dab1f004eabba25aacb7f0e5484  6b0a902b9b73d5a158d0119d6feb38ac   \n",
       "2  bdf1d25697e21419901c94fabdafad15  9ddb7315c4357929931b48f2b3d11c62   \n",
       "3  8d2f23a732c9527d95678088a3bac122  1f86cd0bea31d54a5b511b42fd19401a   \n",
       "4  5a22604f8f31ae98ee1211ece3a02004  b533f7e2003418c63fd71471264c559a   \n",
       "\n",
       "       product site_version                 time        title  target  target2  \n",
       "0  accessories      desktop  2019-03-06 08:42:47  banner_show       0        0  \n",
       "1     sneakers       mobile  2019-04-19 18:30:45  banner_show       0        0  \n",
       "2      company       mobile  2019-01-20 17:20:10  banner_show       0        0  \n",
       "3     sneakers       mobile  2019-02-20 09:38:32  banner_show       0        0  \n",
       "4     sneakers       mobile  2019-04-24 09:19:02  banner_show       0        0  "
      ]
     },
     "execution_count": 31,
     "metadata": {},
     "output_type": "execute_result"
    }
   ],
   "source": [
    "df.head()"
   ]
  },
  {
   "cell_type": "markdown",
   "metadata": {},
   "source": [
    "## Experimental Setup"
   ]
  },
  {
   "cell_type": "markdown",
   "metadata": {},
   "source": [
    "We need to filter by site_version, time, and product:"
   ]
  },
  {
   "cell_type": "code",
   "execution_count": null,
   "metadata": {},
   "outputs": [],
   "source": [
    "site_version = desktop\n",
    "time = May\n",
    "product = sneakers and accessories"
   ]
  },
  {
   "cell_type": "code",
   "execution_count": 33,
   "metadata": {
    "ExecuteTime": {
     "end_time": "2022-07-22T18:29:22.228829Z",
     "start_time": "2022-07-22T18:29:22.224564Z"
    }
   },
   "outputs": [
    {
     "data": {
      "text/plain": [
       "False"
      ]
     },
     "execution_count": 33,
     "metadata": {},
     "output_type": "execute_result"
    }
   ],
   "source": [
    "'a' > 'b'"
   ]
  },
  {
   "cell_type": "code",
   "execution_count": 42,
   "metadata": {
    "ExecuteTime": {
     "end_time": "2022-07-22T18:33:25.184706Z",
     "start_time": "2022-07-22T18:33:25.178790Z"
    }
   },
   "outputs": [
    {
     "data": {
      "text/plain": [
       "True"
      ]
     },
     "execution_count": 42,
     "metadata": {},
     "output_type": "execute_result"
    }
   ],
   "source": [
    "'2019-05-01' < '2019-05-01 00:00:00 '"
   ]
  },
  {
   "cell_type": "code",
   "execution_count": 44,
   "metadata": {
    "ExecuteTime": {
     "end_time": "2022-07-22T18:35:19.110941Z",
     "start_time": "2022-07-22T18:35:18.910042Z"
    }
   },
   "outputs": [],
   "source": [
    "desk_filter = df['site_version'] == 'desktop'\n",
    "\n",
    "time_filter = df['time'] > '2019-05-01'\n",
    "\n",
    "product_filter = df['product'].isin(['sneakers','accessories'])\n",
    "\n"
   ]
  },
  {
   "cell_type": "code",
   "execution_count": 45,
   "metadata": {
    "ExecuteTime": {
     "end_time": "2022-07-22T18:36:27.422016Z",
     "start_time": "2022-07-22T18:36:26.997266Z"
    }
   },
   "outputs": [],
   "source": [
    "df2 = df.loc[desk_filter & time_filter & product_filter].copy()"
   ]
  },
  {
   "cell_type": "code",
   "execution_count": 47,
   "metadata": {
    "ExecuteTime": {
     "end_time": "2022-07-22T18:36:32.522877Z",
     "start_time": "2022-07-22T18:36:32.501836Z"
    }
   },
   "outputs": [
    {
     "data": {
      "text/html": [
       "<div>\n",
       "<style scoped>\n",
       "    .dataframe tbody tr th:only-of-type {\n",
       "        vertical-align: middle;\n",
       "    }\n",
       "\n",
       "    .dataframe tbody tr th {\n",
       "        vertical-align: top;\n",
       "    }\n",
       "\n",
       "    .dataframe thead th {\n",
       "        text-align: right;\n",
       "    }\n",
       "</style>\n",
       "<table border=\"1\" class=\"dataframe\">\n",
       "  <thead>\n",
       "    <tr style=\"text-align: right;\">\n",
       "      <th></th>\n",
       "      <th>Unnamed: 0</th>\n",
       "      <th>order_id</th>\n",
       "      <th>user_id</th>\n",
       "      <th>page_id</th>\n",
       "      <th>product</th>\n",
       "      <th>site_version</th>\n",
       "      <th>time</th>\n",
       "      <th>title</th>\n",
       "      <th>target</th>\n",
       "      <th>target2</th>\n",
       "    </tr>\n",
       "  </thead>\n",
       "  <tbody>\n",
       "    <tr>\n",
       "      <th>32</th>\n",
       "      <td>8064199</td>\n",
       "      <td>f909eb9bbf2795337dd38323b7951705</td>\n",
       "      <td>5a96585c3db94eb2ae40e559cbd2e164</td>\n",
       "      <td>94b6ea2316b773afa20925d9b79d5bf8</td>\n",
       "      <td>accessories</td>\n",
       "      <td>desktop</td>\n",
       "      <td>2019-05-19 09:26:29</td>\n",
       "      <td>banner_show</td>\n",
       "      <td>0</td>\n",
       "      <td>0</td>\n",
       "    </tr>\n",
       "    <tr>\n",
       "      <th>38</th>\n",
       "      <td>7560076</td>\n",
       "      <td>97808cfd3d44fa7e8cfeb71bb5f02590</td>\n",
       "      <td>1e2db5d01051fc65fffc6c27f34400a3</td>\n",
       "      <td>48c8e3f287d814493cff887ff445f535</td>\n",
       "      <td>sneakers</td>\n",
       "      <td>desktop</td>\n",
       "      <td>2019-05-03 05:34:46</td>\n",
       "      <td>banner_show</td>\n",
       "      <td>0</td>\n",
       "      <td>0</td>\n",
       "    </tr>\n",
       "    <tr>\n",
       "      <th>59</th>\n",
       "      <td>5923209</td>\n",
       "      <td>71c39cc2e2ede95a7ca296d4e3e56f85</td>\n",
       "      <td>46a6f13750d5032f366349e3e3171678</td>\n",
       "      <td>30559d0b23980e7a778c93c52ba5deca</td>\n",
       "      <td>sneakers</td>\n",
       "      <td>desktop</td>\n",
       "      <td>2019-05-19 05:04:32</td>\n",
       "      <td>banner_show</td>\n",
       "      <td>0</td>\n",
       "      <td>0</td>\n",
       "    </tr>\n",
       "    <tr>\n",
       "      <th>105</th>\n",
       "      <td>8161379</td>\n",
       "      <td>e969a575bcf5b10d6676c2fab9cbf784</td>\n",
       "      <td>aa77bca62e9a84f5cd8d734c70afd060</td>\n",
       "      <td>70ed6e66458fda7a3164e2633d81ea07</td>\n",
       "      <td>sneakers</td>\n",
       "      <td>desktop</td>\n",
       "      <td>2019-05-29 17:51:46</td>\n",
       "      <td>banner_show</td>\n",
       "      <td>0</td>\n",
       "      <td>0</td>\n",
       "    </tr>\n",
       "    <tr>\n",
       "      <th>115</th>\n",
       "      <td>4564531</td>\n",
       "      <td>3068b616fac2838de6a2d33a6fad60ad</td>\n",
       "      <td>aec8ee5450418b5bc97127c2269058ca</td>\n",
       "      <td>14cbe8cf92c259f5d18310347e3cb5cb</td>\n",
       "      <td>sneakers</td>\n",
       "      <td>desktop</td>\n",
       "      <td>2019-05-04 09:33:44</td>\n",
       "      <td>banner_show</td>\n",
       "      <td>0</td>\n",
       "      <td>0</td>\n",
       "    </tr>\n",
       "  </tbody>\n",
       "</table>\n",
       "</div>"
      ],
      "text/plain": [
       "     Unnamed: 0                          order_id  \\\n",
       "32      8064199  f909eb9bbf2795337dd38323b7951705   \n",
       "38      7560076  97808cfd3d44fa7e8cfeb71bb5f02590   \n",
       "59      5923209  71c39cc2e2ede95a7ca296d4e3e56f85   \n",
       "105     8161379  e969a575bcf5b10d6676c2fab9cbf784   \n",
       "115     4564531  3068b616fac2838de6a2d33a6fad60ad   \n",
       "\n",
       "                              user_id                           page_id  \\\n",
       "32   5a96585c3db94eb2ae40e559cbd2e164  94b6ea2316b773afa20925d9b79d5bf8   \n",
       "38   1e2db5d01051fc65fffc6c27f34400a3  48c8e3f287d814493cff887ff445f535   \n",
       "59   46a6f13750d5032f366349e3e3171678  30559d0b23980e7a778c93c52ba5deca   \n",
       "105  aa77bca62e9a84f5cd8d734c70afd060  70ed6e66458fda7a3164e2633d81ea07   \n",
       "115  aec8ee5450418b5bc97127c2269058ca  14cbe8cf92c259f5d18310347e3cb5cb   \n",
       "\n",
       "         product site_version                 time        title  target  \\\n",
       "32   accessories      desktop  2019-05-19 09:26:29  banner_show       0   \n",
       "38      sneakers      desktop  2019-05-03 05:34:46  banner_show       0   \n",
       "59      sneakers      desktop  2019-05-19 05:04:32  banner_show       0   \n",
       "105     sneakers      desktop  2019-05-29 17:51:46  banner_show       0   \n",
       "115     sneakers      desktop  2019-05-04 09:33:44  banner_show       0   \n",
       "\n",
       "     target2  \n",
       "32         0  \n",
       "38         0  \n",
       "59         0  \n",
       "105        0  \n",
       "115        0  "
      ]
     },
     "execution_count": 47,
     "metadata": {},
     "output_type": "execute_result"
    }
   ],
   "source": [
    "df2.head()"
   ]
  },
  {
   "cell_type": "code",
   "execution_count": 51,
   "metadata": {
    "ExecuteTime": {
     "end_time": "2022-07-22T18:37:12.516104Z",
     "start_time": "2022-07-22T18:37:12.505082Z"
    }
   },
   "outputs": [
    {
     "data": {
      "text/plain": [
       "desktop    25972\n",
       "Name: site_version, dtype: int64"
      ]
     },
     "execution_count": 51,
     "metadata": {},
     "output_type": "execute_result"
    }
   ],
   "source": [
    "df2.site_version.value_counts()\n"
   ]
  },
  {
   "cell_type": "code",
   "execution_count": 53,
   "metadata": {
    "ExecuteTime": {
     "end_time": "2022-07-22T18:37:29.757119Z",
     "start_time": "2022-07-22T18:37:29.745486Z"
    }
   },
   "outputs": [
    {
     "data": {
      "text/plain": [
       "sneakers       13269\n",
       "accessories    12703\n",
       "Name: product, dtype: int64"
      ]
     },
     "execution_count": 53,
     "metadata": {},
     "output_type": "execute_result"
    }
   ],
   "source": [
    "df2['product'].value_counts()"
   ]
  },
  {
   "cell_type": "code",
   "execution_count": null,
   "metadata": {
    "scrolled": true
   },
   "outputs": [],
   "source": [
    "# sniff test!"
   ]
  },
  {
   "cell_type": "markdown",
   "metadata": {},
   "source": [
    "### What Test Would Make Sense?"
   ]
  },
  {
   "cell_type": "markdown",
   "metadata": {},
   "source": [
    "Since we're comparing the frequency of conversions of customers who saw the \"sneakers\" banner against those who saw the \"accessories\" banner, we can use a $\\chi^2$ test.\n",
    "\n",
    "Note there are other hypothesis tests we can use but this should be fine since it should fit our criteria."
   ]
  },
  {
   "cell_type": "markdown",
   "metadata": {},
   "source": [
    "### The Hypotheses"
   ]
  },
  {
   "cell_type": "markdown",
   "metadata": {},
   "source": [
    "$H_0$: There is no difference between the two\n",
    "\n",
    "$H_1$: There is a difference"
   ]
  },
  {
   "cell_type": "markdown",
   "metadata": {},
   "source": [
    "### Setting a Threshold"
   ]
  },
  {
   "cell_type": "markdown",
   "metadata": {},
   "source": [
    "We'll set a false-positive rate of $\\alpha = 0.05$."
   ]
  },
  {
   "cell_type": "markdown",
   "metadata": {},
   "source": [
    "## $\\chi^2$ Test"
   ]
  },
  {
   "cell_type": "markdown",
   "metadata": {},
   "source": [
    "### Setup the Data"
   ]
  },
  {
   "cell_type": "markdown",
   "metadata": {},
   "source": [
    "We need our contingency table: the numbers of people who did or did not submit orders, both for the accessories banner and the sneakers banner. "
   ]
  },
  {
   "cell_type": "code",
   "execution_count": 54,
   "metadata": {
    "ExecuteTime": {
     "end_time": "2022-07-22T18:40:58.831103Z",
     "start_time": "2022-07-22T18:40:58.815934Z"
    }
   },
   "outputs": [],
   "source": [
    "# Create the two product types\n",
    "df_A = df2.loc[ df2['product'] == 'accessories']\n",
    "df_B = df2.loc[ df2['product'] == 'sneakers']"
   ]
  },
  {
   "cell_type": "code",
   "execution_count": 55,
   "metadata": {
    "ExecuteTime": {
     "end_time": "2022-07-22T18:42:59.690799Z",
     "start_time": "2022-07-22T18:42:59.680380Z"
    }
   },
   "outputs": [],
   "source": [
    "# Get number of orders\n",
    "accessories_orders = sum(df_A['target'])\n",
    "sneakers_orders = sum(df_B['target'])"
   ]
  },
  {
   "cell_type": "code",
   "execution_count": 56,
   "metadata": {
    "ExecuteTime": {
     "end_time": "2022-07-22T18:43:06.889716Z",
     "start_time": "2022-07-22T18:43:06.860518Z"
    }
   },
   "outputs": [
    {
     "data": {
      "text/plain": [
       "(496, 799)"
      ]
     },
     "execution_count": 56,
     "metadata": {},
     "output_type": "execute_result"
    }
   ],
   "source": [
    "accessories_orders, sneakers_orders"
   ]
  },
  {
   "cell_type": "markdown",
   "metadata": {},
   "source": [
    "To get the numbers of people who didn't submit orders, we get the total number of people who were shown banners and then subtract the numbers of people who did make orders."
   ]
  },
  {
   "cell_type": "code",
   "execution_count": null,
   "metadata": {},
   "outputs": [],
   "source": [
    "len, shape, "
   ]
  },
  {
   "cell_type": "code",
   "execution_count": 66,
   "metadata": {
    "ExecuteTime": {
     "end_time": "2022-07-22T18:48:44.892977Z",
     "start_time": "2022-07-22T18:48:44.888697Z"
    }
   },
   "outputs": [],
   "source": [
    "# get conversion rates\n",
    "\n",
    "accessories_total = len(df_A)\n",
    "sneakers_total = len(df_B)\n",
    "\n",
    "\n",
    "accessories_no_order = accessories_total - accessories_orders\n",
    "sneakers_no_order = sneakers_total - sneakers_orders"
   ]
  },
  {
   "cell_type": "code",
   "execution_count": 67,
   "metadata": {
    "ExecuteTime": {
     "end_time": "2022-07-22T18:48:45.750240Z",
     "start_time": "2022-07-22T18:48:45.745092Z"
    }
   },
   "outputs": [
    {
     "data": {
      "text/plain": [
       "(12207, 12470)"
      ]
     },
     "execution_count": 67,
     "metadata": {},
     "output_type": "execute_result"
    }
   ],
   "source": [
    "accessories_no_order, sneakers_no_order"
   ]
  },
  {
   "cell_type": "code",
   "execution_count": 68,
   "metadata": {
    "ExecuteTime": {
     "end_time": "2022-07-22T18:48:46.737259Z",
     "start_time": "2022-07-22T18:48:46.732517Z"
    }
   },
   "outputs": [
    {
     "data": {
      "text/plain": [
       "(12703, 10)"
      ]
     },
     "execution_count": 68,
     "metadata": {},
     "output_type": "execute_result"
    }
   ],
   "source": [
    "df_A.shape"
   ]
  },
  {
   "cell_type": "code",
   "execution_count": 69,
   "metadata": {
    "ExecuteTime": {
     "end_time": "2022-07-22T18:48:47.569582Z",
     "start_time": "2022-07-22T18:48:47.564127Z"
    }
   },
   "outputs": [
    {
     "data": {
      "text/plain": [
       "12703"
      ]
     },
     "execution_count": 69,
     "metadata": {},
     "output_type": "execute_result"
    }
   ],
   "source": [
    "accessories_no_order + accessories_orders"
   ]
  },
  {
   "cell_type": "code",
   "execution_count": 74,
   "metadata": {
    "ExecuteTime": {
     "end_time": "2022-07-22T18:53:47.151112Z",
     "start_time": "2022-07-22T18:53:47.146199Z"
    }
   },
   "outputs": [],
   "source": [
    "# Create table\n",
    "contingency_table = np.array([\n",
    "    [accessories_orders, accessories_no_order],\n",
    "    [sneakers_orders, sneakers_no_order]\n",
    "])"
   ]
  },
  {
   "cell_type": "code",
   "execution_count": 75,
   "metadata": {
    "ExecuteTime": {
     "end_time": "2022-07-22T18:53:47.531152Z",
     "start_time": "2022-07-22T18:53:47.526387Z"
    }
   },
   "outputs": [
    {
     "data": {
      "text/plain": [
       "array([[  496, 12207],\n",
       "       [  799, 12470]])"
      ]
     },
     "execution_count": 75,
     "metadata": {},
     "output_type": "execute_result"
    }
   ],
   "source": [
    "contingency_table"
   ]
  },
  {
   "cell_type": "markdown",
   "metadata": {},
   "source": [
    "### Calculation\n"
   ]
  },
  {
   "cell_type": "code",
   "execution_count": null,
   "metadata": {},
   "outputs": [],
   "source": [
    "stats.chisquare()"
   ]
  },
  {
   "cell_type": "code",
   "execution_count": 76,
   "metadata": {
    "ExecuteTime": {
     "end_time": "2022-07-22T18:54:34.239387Z",
     "start_time": "2022-07-22T18:54:34.227596Z"
    },
    "scrolled": false
   },
   "outputs": [
    {
     "data": {
      "text/plain": [
       "(60.94640624666488,\n",
       " 5.86498985882812e-15,\n",
       " 1,\n",
       " array([[  633.38922686, 12069.61077314],\n",
       "        [  661.61077314, 12607.38922686]]))"
      ]
     },
     "execution_count": 76,
     "metadata": {},
     "output_type": "execute_result"
    }
   ],
   "source": [
    "# Chi^2!\n",
    "\n",
    "stats.chi2_contingency(contingency_table)"
   ]
  },
  {
   "cell_type": "markdown",
   "metadata": {},
   "source": [
    "This extremely low $p$-value suggests that these two groups are genuinely performing differently. In particular, the desktop customers who saw the sneakers banner in May 2019 bought at a higher rate than the desktop customers who saw the accessories banner in May 2019."
   ]
  },
  {
   "cell_type": "markdown",
   "metadata": {},
   "source": [
    "## Interpretation"
   ]
  },
  {
   "cell_type": "code",
   "execution_count": 77,
   "metadata": {
    "ExecuteTime": {
     "end_time": "2022-07-22T18:56:50.243429Z",
     "start_time": "2022-07-22T18:56:50.239696Z"
    }
   },
   "outputs": [
    {
     "data": {
      "text/plain": [
       "array([[  496, 12207],\n",
       "       [  799, 12470]])"
      ]
     },
     "execution_count": 77,
     "metadata": {},
     "output_type": "execute_result"
    }
   ],
   "source": [
    "contingency_table"
   ]
  },
  {
   "cell_type": "code",
   "execution_count": 80,
   "metadata": {
    "ExecuteTime": {
     "end_time": "2022-07-22T18:58:13.924665Z",
     "start_time": "2022-07-22T18:58:13.913396Z"
    }
   },
   "outputs": [
    {
     "data": {
      "text/plain": [
       "array([496, 799])"
      ]
     },
     "execution_count": 80,
     "metadata": {},
     "output_type": "execute_result"
    }
   ],
   "source": [
    "contingency_table[:,0]"
   ]
  },
  {
   "cell_type": "code",
   "execution_count": 82,
   "metadata": {
    "ExecuteTime": {
     "end_time": "2022-07-22T18:58:54.301808Z",
     "start_time": "2022-07-22T18:58:54.295277Z"
    }
   },
   "outputs": [
    {
     "data": {
      "text/plain": [
       "12703"
      ]
     },
     "execution_count": 82,
     "metadata": {},
     "output_type": "execute_result"
    }
   ],
   "source": [
    "len(df_A)"
   ]
  },
  {
   "cell_type": "code",
   "execution_count": 81,
   "metadata": {
    "ExecuteTime": {
     "end_time": "2022-07-22T18:58:42.644232Z",
     "start_time": "2022-07-22T18:58:42.640042Z"
    }
   },
   "outputs": [
    {
     "data": {
      "text/plain": [
       "array([12703, 13269])"
      ]
     },
     "execution_count": 81,
     "metadata": {},
     "output_type": "execute_result"
    }
   ],
   "source": [
    "contingency_table.sum(axis=1)"
   ]
  },
  {
   "cell_type": "code",
   "execution_count": null,
   "metadata": {},
   "outputs": [],
   "source": []
  },
  {
   "cell_type": "code",
   "execution_count": 78,
   "metadata": {
    "ExecuteTime": {
     "end_time": "2022-07-22T18:56:50.761824Z",
     "start_time": "2022-07-22T18:56:50.753561Z"
    }
   },
   "outputs": [],
   "source": [
    "# Find the difference in conversion rate\n",
    "accessory_CR, sneaker_CR = contingency_table[:, 0] / contingency_table.sum(axis=1)"
   ]
  },
  {
   "cell_type": "code",
   "execution_count": 79,
   "metadata": {
    "ExecuteTime": {
     "end_time": "2022-07-22T18:56:51.211688Z",
     "start_time": "2022-07-22T18:56:51.205726Z"
    }
   },
   "outputs": [
    {
     "name": "stdout",
     "output_type": "stream",
     "text": [
      "Conversion Rate for accessory banner:\n",
      "\t3.905%\n",
      "Conversion Rate for sneaker banner:\n",
      "\t6.022%\n",
      "\n",
      "Absolute difference of CR: 2.117%\n"
     ]
    }
   ],
   "source": [
    "print(f'Conversion Rate for accessory banner:\\n\\t{100*accessory_CR:.3f}%')\n",
    "print(f'Conversion Rate for sneaker banner:\\n\\t{100*sneaker_CR:.3f}%')\n",
    "print('')\n",
    "print(f'Absolute difference of CR: {100*(sneaker_CR-accessory_CR):.3f}%')"
   ]
  },
  {
   "cell_type": "markdown",
   "metadata": {},
   "source": [
    "\n",
    "So we can say:\n",
    "- There was a statistically significant difference at the $\\alpha$-level (confidence level)\n",
    "- The difference was about $2.1\\%$ in favor of the sneaker banner!"
   ]
  },
  {
   "cell_type": "markdown",
   "metadata": {},
   "source": [
    "# Exercise"
   ]
  },
  {
   "cell_type": "markdown",
   "metadata": {},
   "source": [
    "> The company is impressed with what you found and is now wondering if there is a difference in their other banner ads!\n",
    "\n",
    "With your group, look at the same month (May 2019) but compare different platforms ('mobile' vs 'desktop') and or different banner types ('accessories', 'sneakers', 'clothes', 'sports_nutrition'). Just don't repeat the same test we did above 😉"
   ]
  },
  {
   "cell_type": "markdown",
   "metadata": {},
   "source": [
    "Make sure you record what considerations you have for the experiment, what hypothesis test you performed ($H_0$ and $H_1$ too), and your overall conclusion/interpretation for the _business stakeholders_. Is there a follow-up you'd suggest? "
   ]
  },
  {
   "cell_type": "markdown",
   "metadata": {
    "ExecuteTime": {
     "end_time": "2022-07-22T19:22:00.046658Z",
     "start_time": "2022-07-22T19:22:00.015739Z"
    }
   },
   "source": [
    "H0 = no difference in conversion rate\n",
    "HA = there is a difference"
   ]
  },
  {
   "cell_type": "code",
   "execution_count": 84,
   "metadata": {
    "ExecuteTime": {
     "end_time": "2022-07-22T19:23:59.961690Z",
     "start_time": "2022-07-22T19:23:58.441804Z"
    }
   },
   "outputs": [
    {
     "name": "stdout",
     "output_type": "stream",
     "text": [
      "Mobile Results\n",
      "Conversion Rate for accessory banner:\n",
      "\t1.734%\n",
      "Conversion Rate for sneaker banner:\n",
      "\t2.833%\n",
      "\n",
      "Absolute difference of CR: 1.098%\n",
      " Desktop Results:\n",
      "\n",
      "Conversion Rate for accessory banner:\n",
      "\t3.905%\n",
      "Conversion Rate for sneaker banner:\n",
      "\t10.718%\n",
      "\n",
      "P-Value: \n",
      "     7.124173664285203e-101\n",
      "\n",
      "Absolute difference of CR: 6.813%\n"
     ]
    }
   ],
   "source": [
    "# Charlie\n",
    "\n",
    "site_f2 = df['site_version'] == 'mobile'\n",
    "time_f2 = df['time'] > '2019-05-01'\n",
    "product_f2 = df['product'].isin(['clothes', 'accessories'])\n",
    "\n",
    "df3 = df.loc[site_f2 & time_f2 & product_f2].copy()\n",
    "\n",
    "\n",
    "\n",
    "df_a = df3.loc[df3['product'] == 'accessories']\n",
    "df_b = df3.loc[df3['product'] == 'clothes']\n",
    "\n",
    "\n",
    "accessories_orders = sum(df_a['target'])\n",
    "clothes_orders = sum(df_b['target'])\n",
    "\n",
    "accessories_total = len(df_a)\n",
    "clothes_total = len(df_b)\n",
    "\n",
    "accessories_no_order = accessories_total - accessories_orders\n",
    "clothes_no_order = clothes_total - clothes_orders\n",
    "clothes_no_order, accessories_no_order\n",
    "\n",
    "\n",
    "contingency_table = np.array([\n",
    "    (accessories_orders, accessories_no_order),\n",
    "    (clothes_orders, clothes_no_order)\n",
    "])\n",
    "\n",
    "# contingency_table\n",
    "\n",
    "stats.chi2_contingency(contingency_table)\n",
    "\n",
    "# Find the difference in conversion rate\n",
    "accessory_CR, clothes_CR = contingency_table[:, 0] / contingency_table.sum(axis=1)\n",
    "\n",
    "print('Mobile Results')\n",
    "print(f'Conversion Rate for accessory banner:\\n\\t{100*accessory_CR:.3f}%')\n",
    "print(f'Conversion Rate for sneaker banner:\\n\\t{100*clothes_CR:.3f}%')\n",
    "print('')\n",
    "print(f'Absolute difference of CR: {100*(clothes_CR-accessory_CR):.3f}%')\n",
    "\n",
    "accessory_CR, clothes_CR\n",
    "\n",
    "print(''' Desktop Results:\n",
    "\n",
    "Conversion Rate for accessory banner:\n",
    "\t3.905%\n",
    "Conversion Rate for sneaker banner:\n",
    "\t10.718%\n",
    "\n",
    "P-Value: \n",
    "     7.124173664285203e-101\n",
    "\n",
    "Absolute difference of CR: 6.813%''')"
   ]
  },
  {
   "cell_type": "code",
   "execution_count": 85,
   "metadata": {
    "ExecuteTime": {
     "end_time": "2022-07-22T19:25:07.674535Z",
     "start_time": "2022-07-22T19:25:07.267364Z"
    }
   },
   "outputs": [
    {
     "name": "stdout",
     "output_type": "stream",
     "text": [
      "Conversion Rate for accessory banner:\n",
      "\t1.734%\n",
      "Conversion Rate for sneaker banner:\n",
      "\t2.463%\n",
      "\n",
      "Absolute difference of CR: 0.729%\n"
     ]
    }
   ],
   "source": [
    "# Ian\n",
    "\n",
    "mobile_filter = df['site_version'] == 'mobile'\n",
    "\n",
    "df3 = df.loc[mobile_filter & time_filter & product_filter].copy()\n",
    "\n",
    "df3['product'].value_counts()\n",
    "\n",
    "df_A_m = df3[df3['product'] == 'accessories']\n",
    "df_B_m = df3[df3['product'] == 'sneakers']\n",
    "\n",
    "accessories_orders_m = sum(df_A_m['target'])\n",
    "sneakers_orders_m = sum(df_B_m['target'])\n",
    "\n",
    "accessories_total_m = len(df_A_m)\n",
    "sneakers_total_m = len(df_B_m)\n",
    "\n",
    "accessories_no_order_m = accessories_total_m - accessories_orders_m\n",
    "sneakers_no_order_m = sneakers_total_m - sneakers_orders_m\n",
    "\n",
    "accessories_no_order_m + accessories_orders_m\n",
    "\n",
    "contingency_table_m = np.array([\n",
    "    [accessories_orders_m, accessories_no_order_m],\n",
    "    [sneakers_orders_m, sneakers_no_order_m]\n",
    "])\n",
    "\n",
    "contingency_table_m\n",
    "\n",
    "accessory_CR_m, sneaker_CR_m = contingency_table_m[:, 0] / contingency_table_m.sum(axis=1)\n",
    "\n",
    "print(f'Conversion Rate for accessory banner:\\n\\t{100*accessory_CR_m:.3f}%')\n",
    "print(f'Conversion Rate for sneaker banner:\\n\\t{100*sneaker_CR_m:.3f}%')\n",
    "print('')\n",
    "print(f'Absolute difference of CR: {100*(sneaker_CR_m-accessory_CR_m):.3f}%')"
   ]
  },
  {
   "cell_type": "code",
   "execution_count": 87,
   "metadata": {
    "ExecuteTime": {
     "end_time": "2022-07-22T19:28:19.871916Z",
     "start_time": "2022-07-22T19:28:19.290359Z"
    }
   },
   "outputs": [
    {
     "name": "stdout",
     "output_type": "stream",
     "text": [
      "2939 180996\n",
      "3224 64616\n",
      "(2063.9893282896182, 0.0, 1, array([[  4502.39859001, 179432.60140999],\n",
      "       [  1660.60140999,  66179.39859001]]))\n",
      "Conversion Rate for mobile banner:\n",
      "\t1.598%\n",
      "Conversion Rate for desktop banner:\n",
      "\t4.752%\n",
      "\n",
      "Absolute difference of CR: 3.155%\n"
     ]
    }
   ],
   "source": [
    "# Mitch, Garret, and Charles\n",
    "df['site_version'].value_counts()\n",
    "\n",
    "time_filter = df['time'] >= '2019-05-01'\n",
    "\n",
    "df3 = df.loc[time_filter]\n",
    "\n",
    "df3.head()\n",
    "\n",
    "# Null: There is no difference in conversion rate between mobile and desktop versions.\n",
    "\n",
    "# Alt: There is a difference between mobile and desktop conversion rates.\n",
    "\n",
    "# Create new dataframes for each site_versions\n",
    "mobile_filter = df3['site_version'] == 'mobile'\n",
    "desktop_filter = df3['site_version'] == 'desktop'\n",
    "\n",
    "# Create new dataframes for each site_versions\n",
    "df_m = df3.loc[mobile_filter]\n",
    "df_d = df3.loc[desktop_filter]\n",
    "\n",
    "# finding total people who bought and didn't buy\n",
    "# mobile \n",
    "mobile_orders = sum(df_m['target'])\n",
    "mobile_no_orders = len(df_m) - mobile_orders\n",
    "\n",
    "# desktop\n",
    "desktop_orders = sum(df_d['target'])\n",
    "desktop_no_orders = len(df_d) - desktop_orders\n",
    "\n",
    "print(mobile_orders, mobile_no_orders)\n",
    "print(desktop_orders, desktop_no_orders)\n",
    "\n",
    "len(df_m), len(df_d)\n",
    "\n",
    "# Make a contingency table\n",
    "contingency_table = np.array([\n",
    "    [mobile_orders, mobile_no_orders],\n",
    "    [desktop_orders, desktop_no_orders]    \n",
    "])\n",
    "contingency_table\n",
    "\n",
    "print(stats.chi2_contingency(contingency_table))\n",
    "\n",
    "# Find the difference in conversion rate\n",
    "mobile_CR, desktop_CR = contingency_table[:, 0] / contingency_table.sum(axis=1)\n",
    "\n",
    "print(f'Conversion Rate for mobile banner:\\n\\t{100*mobile_CR:.3f}%')\n",
    "print(f'Conversion Rate for desktop banner:\\n\\t{100*desktop_CR:.3f}%')\n",
    "print('')\n",
    "print(f'Absolute difference of CR: {100*(desktop_CR-mobile_CR):.3f}%')"
   ]
  },
  {
   "cell_type": "code",
   "execution_count": 88,
   "metadata": {
    "ExecuteTime": {
     "end_time": "2022-07-22T19:28:49.444132Z",
     "start_time": "2022-07-22T19:28:49.439599Z"
    }
   },
   "outputs": [],
   "source": [
    "results = stats.chi2_contingency(contingency_table)"
   ]
  },
  {
   "cell_type": "code",
   "execution_count": 89,
   "metadata": {
    "ExecuteTime": {
     "end_time": "2022-07-22T19:28:51.514706Z",
     "start_time": "2022-07-22T19:28:51.502770Z"
    },
    "scrolled": true
   },
   "outputs": [
    {
     "data": {
      "text/plain": [
       "(2063.9893282896182,\n",
       " 0.0,\n",
       " 1,\n",
       " array([[  4502.39859001, 179432.60140999],\n",
       "        [  1660.60140999,  66179.39859001]]))"
      ]
     },
     "execution_count": 89,
     "metadata": {},
     "output_type": "execute_result"
    }
   ],
   "source": [
    "\n",
    "results"
   ]
  },
  {
   "cell_type": "code",
   "execution_count": 90,
   "metadata": {
    "ExecuteTime": {
     "end_time": "2022-07-22T19:29:08.653009Z",
     "start_time": "2022-07-22T19:29:08.648026Z"
    }
   },
   "outputs": [],
   "source": [
    "a,p,dof,vals = results"
   ]
  },
  {
   "cell_type": "code",
   "execution_count": 91,
   "metadata": {
    "ExecuteTime": {
     "end_time": "2022-07-22T19:29:15.053586Z",
     "start_time": "2022-07-22T19:29:15.049920Z"
    }
   },
   "outputs": [
    {
     "data": {
      "text/plain": [
       "0.0"
      ]
     },
     "execution_count": 91,
     "metadata": {},
     "output_type": "execute_result"
    }
   ],
   "source": [
    "p"
   ]
  },
  {
   "cell_type": "code",
   "execution_count": null,
   "metadata": {},
   "outputs": [],
   "source": []
  },
  {
   "cell_type": "code",
   "execution_count": null,
   "metadata": {},
   "outputs": [],
   "source": []
  },
  {
   "cell_type": "code",
   "execution_count": null,
   "metadata": {},
   "outputs": [],
   "source": []
  },
  {
   "cell_type": "code",
   "execution_count": null,
   "metadata": {},
   "outputs": [],
   "source": []
  },
  {
   "cell_type": "code",
   "execution_count": null,
   "metadata": {},
   "outputs": [],
   "source": []
  },
  {
   "cell_type": "code",
   "execution_count": null,
   "metadata": {},
   "outputs": [],
   "source": []
  },
  {
   "cell_type": "code",
   "execution_count": null,
   "metadata": {},
   "outputs": [],
   "source": []
  },
  {
   "cell_type": "code",
   "execution_count": null,
   "metadata": {},
   "outputs": [],
   "source": []
  }
 ],
 "metadata": {
  "kernelspec": {
   "display_name": "learn-env",
   "language": "python",
   "name": "learn-env"
  },
  "language_info": {
   "codemirror_mode": {
    "name": "ipython",
    "version": 3
   },
   "file_extension": ".py",
   "mimetype": "text/x-python",
   "name": "python",
   "nbconvert_exporter": "python",
   "pygments_lexer": "ipython3",
   "version": "3.8.5"
  },
  "toc": {
   "base_numbering": 1,
   "nav_menu": {},
   "number_sections": true,
   "sideBar": true,
   "skip_h1_title": false,
   "title_cell": "Table of Contents",
   "title_sidebar": "TOC",
   "toc_cell": true,
   "toc_position": {
    "height": "calc(100% - 180px)",
    "left": "10px",
    "top": "150px",
    "width": "288px"
   },
   "toc_section_display": true,
   "toc_window_display": false
  },
  "varInspector": {
   "cols": {
    "lenName": 16,
    "lenType": 16,
    "lenVar": 40
   },
   "kernels_config": {
    "python": {
     "delete_cmd_postfix": "",
     "delete_cmd_prefix": "del ",
     "library": "var_list.py",
     "varRefreshCmd": "print(var_dic_list())"
    },
    "r": {
     "delete_cmd_postfix": ") ",
     "delete_cmd_prefix": "rm(",
     "library": "var_list.r",
     "varRefreshCmd": "cat(var_dic_list()) "
    }
   },
   "types_to_exclude": [
    "module",
    "function",
    "builtin_function_or_method",
    "instance",
    "_Feature"
   ],
   "window_display": false
  }
 },
 "nbformat": 4,
 "nbformat_minor": 4
}
