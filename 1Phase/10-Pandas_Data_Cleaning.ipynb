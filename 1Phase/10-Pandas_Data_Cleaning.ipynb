{
 "cells": [
  {
   "cell_type": "markdown",
   "metadata": {
    "toc": true
   },
   "source": [
    "<h1>Table of Contents<span class=\"tocSkip\"></span></h1>\n",
    "<div class=\"toc\"><ul class=\"toc-item\"><li><span><a href=\"#Pandas-Data-Cleaning\" data-toc-modified-id=\"Pandas-Data-Cleaning-1\"><span class=\"toc-item-num\">1&nbsp;&nbsp;</span>Pandas Data Cleaning</a></span></li><li><span><a href=\"#Objectives\" data-toc-modified-id=\"Objectives-2\"><span class=\"toc-item-num\">2&nbsp;&nbsp;</span>Objectives</a></span><ul class=\"toc-item\"><li><span><a href=\"#To-The-Center!\" data-toc-modified-id=\"To-The-Center!-2.1\"><span class=\"toc-item-num\">2.1&nbsp;&nbsp;</span>To The Center!</a></span></li><li><span><a href=\"#Using-Questions-to-Drive-Both-Exploration-and-Cleaning\" data-toc-modified-id=\"Using-Questions-to-Drive-Both-Exploration-and-Cleaning-2.2\"><span class=\"toc-item-num\">2.2&nbsp;&nbsp;</span>Using Questions to Drive Both Exploration and Cleaning</a></span></li><li><span><a href=\"#Question-1:-How-old-are-the-animals-in-our-dataset?\" data-toc-modified-id=\"Question-1:-How-old-are-the-animals-in-our-dataset?-2.3\"><span class=\"toc-item-num\">2.3&nbsp;&nbsp;</span>Question 1: How old are the animals in our dataset?</a></span><ul class=\"toc-item\"><li><span><a href=\"#Handling-Missing-Data\" data-toc-modified-id=\"Handling-Missing-Data-2.3.1\"><span class=\"toc-item-num\">2.3.1&nbsp;&nbsp;</span>Handling Missing Data</a></span></li><li><span><a href=\"#Map,-Apply-and-Applymap\" data-toc-modified-id=\"Map,-Apply-and-Applymap-2.3.2\"><span class=\"toc-item-num\">2.3.2&nbsp;&nbsp;</span>Map, Apply and Applymap</a></span></li></ul></li><li><span><a href=\"#Question-2:-Are-Most-of-The-Animals-Already-Fixed?\" data-toc-modified-id=\"Question-2:-Are-Most-of-The-Animals-Already-Fixed?-2.4\"><span class=\"toc-item-num\">2.4&nbsp;&nbsp;</span>Question 2: Are Most of The Animals Already Fixed?</a></span></li><li><span><a href=\"#A-Quick-Aside---for-Lambda-Functions!\" data-toc-modified-id=\"A-Quick-Aside---for-Lambda-Functions!-2.5\"><span class=\"toc-item-num\">2.5&nbsp;&nbsp;</span>A Quick Aside - for Lambda Functions!</a></span><ul class=\"toc-item\"><li><span><a href=\"#One-More-Strategy:-Build-a-Missing-Indicator\" data-toc-modified-id=\"One-More-Strategy:-Build-a-Missing-Indicator-2.5.1\"><span class=\"toc-item-num\">2.5.1&nbsp;&nbsp;</span>One More Strategy: Build a Missing Indicator</a></span></li></ul></li><li><span><a href=\"#Comparing-Before-and-After\" data-toc-modified-id=\"Comparing-Before-and-After-2.6\"><span class=\"toc-item-num\">2.6&nbsp;&nbsp;</span>Comparing Before and After</a></span></li></ul></li><li><span><a href=\"#Level-Up:-.applymap()\" data-toc-modified-id=\"Level-Up:-.applymap()-3\"><span class=\"toc-item-num\">3&nbsp;&nbsp;</span>Level Up: <code>.applymap()</code></a></span></li><li><span><a href=\"#Level-Up:-Faster-NumPy-Methods\" data-toc-modified-id=\"Level-Up:-Faster-NumPy-Methods-4\"><span class=\"toc-item-num\">4&nbsp;&nbsp;</span>Level Up: Faster NumPy Methods</a></span><ul class=\"toc-item\"><li><span><a href=\"#NumPy's-where()-Method\" data-toc-modified-id=\"NumPy's-where()-Method-4.1\"><span class=\"toc-item-num\">4.1&nbsp;&nbsp;</span>NumPy's <code>where()</code> Method</a></span></li><li><span><a href=\"#NumPy's-select()-Method\" data-toc-modified-id=\"NumPy's-select()-Method-4.2\"><span class=\"toc-item-num\">4.2&nbsp;&nbsp;</span>NumPy's <code>select()</code> Method</a></span></li></ul></li></ul></div>"
   ]
  },
  {
   "cell_type": "markdown",
   "metadata": {},
   "source": [
    "![panda](http://res.freestockphotos.biz/thumbs/3/3173-illustration-of-a-giant-panda-eating-bamboo-th.png)"
   ]
  },
  {
   "cell_type": "markdown",
   "metadata": {
    "heading_collapsed": true
   },
   "source": [
    "# Pandas Data Cleaning"
   ]
  },
  {
   "cell_type": "markdown",
   "metadata": {
    "heading_collapsed": true
   },
   "source": [
    "# Objectives"
   ]
  },
  {
   "cell_type": "markdown",
   "metadata": {
    "hidden": true
   },
   "source": [
    "- Handle missing data, and recognize when different strategies for handling missing data would be appropriate\n",
    "- Use DataFrame methods (and sometimes lambda functions) to transform data\n",
    "- Use string methods to transform object-type columns"
   ]
  },
  {
   "cell_type": "code",
   "execution_count": 1,
   "metadata": {
    "hidden": true
   },
   "outputs": [],
   "source": [
    "# Imports\n",
    "\n",
    "import pandas as pd\n",
    "import numpy as np\n",
    "\n",
    "import matplotlib.pyplot as plt\n",
    "import seaborn as sns"
   ]
  },
  {
   "cell_type": "markdown",
   "metadata": {
    "heading_collapsed": true,
    "hidden": true
   },
   "source": [
    "## To The Center!\n",
    "\n",
    "That's right - we're still working with Austin Animal Center data! But now, let's check out the Outcomes data, instead of the Intakes data we were working with before.\n",
    "\n",
    "Data source: https://data.austintexas.gov/Health-and-Community-Services/Austin-Animal-Center-Outcomes/9t4d-g238"
   ]
  },
  {
   "cell_type": "code",
   "execution_count": 2,
   "metadata": {
    "hidden": true
   },
   "outputs": [],
   "source": [
    "# Read in the animal center outcomes data as df\n",
    "# Can use parse_dates and pass a column name to read it as a datetime\n",
    "df = pd.read_csv('data/Austin_Animal_Center_Outcomes_022822.csv',\n",
    "                 parse_dates=['DateTime', 'Date of Birth'])"
   ]
  },
  {
   "cell_type": "code",
   "execution_count": 3,
   "metadata": {
    "hidden": true
   },
   "outputs": [
    {
     "data": {
      "text/html": [
       "<div>\n",
       "<style scoped>\n",
       "    .dataframe tbody tr th:only-of-type {\n",
       "        vertical-align: middle;\n",
       "    }\n",
       "\n",
       "    .dataframe tbody tr th {\n",
       "        vertical-align: top;\n",
       "    }\n",
       "\n",
       "    .dataframe thead th {\n",
       "        text-align: right;\n",
       "    }\n",
       "</style>\n",
       "<table border=\"1\" class=\"dataframe\">\n",
       "  <thead>\n",
       "    <tr style=\"text-align: right;\">\n",
       "      <th></th>\n",
       "      <th>Animal ID</th>\n",
       "      <th>Name</th>\n",
       "      <th>DateTime</th>\n",
       "      <th>MonthYear</th>\n",
       "      <th>Date of Birth</th>\n",
       "      <th>Outcome Type</th>\n",
       "      <th>Outcome Subtype</th>\n",
       "      <th>Animal Type</th>\n",
       "      <th>Sex upon Outcome</th>\n",
       "      <th>Age upon Outcome</th>\n",
       "      <th>Breed</th>\n",
       "      <th>Color</th>\n",
       "    </tr>\n",
       "  </thead>\n",
       "  <tbody>\n",
       "    <tr>\n",
       "      <th>0</th>\n",
       "      <td>A794011</td>\n",
       "      <td>Chunk</td>\n",
       "      <td>2019-05-08 18:20:00</td>\n",
       "      <td>May 2019</td>\n",
       "      <td>2017-05-02</td>\n",
       "      <td>Rto-Adopt</td>\n",
       "      <td>NaN</td>\n",
       "      <td>Cat</td>\n",
       "      <td>Neutered Male</td>\n",
       "      <td>2 years</td>\n",
       "      <td>Domestic Shorthair Mix</td>\n",
       "      <td>Brown Tabby/White</td>\n",
       "    </tr>\n",
       "    <tr>\n",
       "      <th>1</th>\n",
       "      <td>A776359</td>\n",
       "      <td>Gizmo</td>\n",
       "      <td>2018-07-18 16:02:00</td>\n",
       "      <td>Jul 2018</td>\n",
       "      <td>2017-07-12</td>\n",
       "      <td>Adoption</td>\n",
       "      <td>NaN</td>\n",
       "      <td>Dog</td>\n",
       "      <td>Neutered Male</td>\n",
       "      <td>1 year</td>\n",
       "      <td>Chihuahua Shorthair Mix</td>\n",
       "      <td>White/Brown</td>\n",
       "    </tr>\n",
       "    <tr>\n",
       "      <th>2</th>\n",
       "      <td>A821648</td>\n",
       "      <td>NaN</td>\n",
       "      <td>2020-08-16 11:38:00</td>\n",
       "      <td>Aug 2020</td>\n",
       "      <td>2019-08-16</td>\n",
       "      <td>Euthanasia</td>\n",
       "      <td>NaN</td>\n",
       "      <td>Other</td>\n",
       "      <td>Unknown</td>\n",
       "      <td>1 year</td>\n",
       "      <td>Raccoon</td>\n",
       "      <td>Gray</td>\n",
       "    </tr>\n",
       "    <tr>\n",
       "      <th>3</th>\n",
       "      <td>A720371</td>\n",
       "      <td>Moose</td>\n",
       "      <td>2016-02-13 17:59:00</td>\n",
       "      <td>Feb 2016</td>\n",
       "      <td>2015-10-08</td>\n",
       "      <td>Adoption</td>\n",
       "      <td>NaN</td>\n",
       "      <td>Dog</td>\n",
       "      <td>Neutered Male</td>\n",
       "      <td>4 months</td>\n",
       "      <td>Anatol Shepherd/Labrador Retriever</td>\n",
       "      <td>Buff</td>\n",
       "    </tr>\n",
       "    <tr>\n",
       "      <th>4</th>\n",
       "      <td>A674754</td>\n",
       "      <td>NaN</td>\n",
       "      <td>2014-03-18 11:47:00</td>\n",
       "      <td>Mar 2014</td>\n",
       "      <td>2014-03-12</td>\n",
       "      <td>Transfer</td>\n",
       "      <td>Partner</td>\n",
       "      <td>Cat</td>\n",
       "      <td>Intact Male</td>\n",
       "      <td>6 days</td>\n",
       "      <td>Domestic Shorthair Mix</td>\n",
       "      <td>Orange Tabby</td>\n",
       "    </tr>\n",
       "  </tbody>\n",
       "</table>\n",
       "</div>"
      ],
      "text/plain": [
       "  Animal ID   Name            DateTime MonthYear Date of Birth Outcome Type  \\\n",
       "0   A794011  Chunk 2019-05-08 18:20:00  May 2019    2017-05-02    Rto-Adopt   \n",
       "1   A776359  Gizmo 2018-07-18 16:02:00  Jul 2018    2017-07-12     Adoption   \n",
       "2   A821648    NaN 2020-08-16 11:38:00  Aug 2020    2019-08-16   Euthanasia   \n",
       "3   A720371  Moose 2016-02-13 17:59:00  Feb 2016    2015-10-08     Adoption   \n",
       "4   A674754    NaN 2014-03-18 11:47:00  Mar 2014    2014-03-12     Transfer   \n",
       "\n",
       "  Outcome Subtype Animal Type Sex upon Outcome Age upon Outcome  \\\n",
       "0             NaN         Cat    Neutered Male          2 years   \n",
       "1             NaN         Dog    Neutered Male           1 year   \n",
       "2             NaN       Other          Unknown           1 year   \n",
       "3             NaN         Dog    Neutered Male         4 months   \n",
       "4         Partner         Cat      Intact Male           6 days   \n",
       "\n",
       "                                Breed              Color  \n",
       "0              Domestic Shorthair Mix  Brown Tabby/White  \n",
       "1             Chihuahua Shorthair Mix        White/Brown  \n",
       "2                             Raccoon               Gray  \n",
       "3  Anatol Shepherd/Labrador Retriever               Buff  \n",
       "4              Domestic Shorthair Mix       Orange Tabby  "
      ]
     },
     "execution_count": 3,
     "metadata": {},
     "output_type": "execute_result"
    }
   ],
   "source": [
    "# Check it out\n",
    "df.head()"
   ]
  },
  {
   "cell_type": "code",
   "execution_count": 4,
   "metadata": {
    "hidden": true
   },
   "outputs": [
    {
     "name": "stdout",
     "output_type": "stream",
     "text": [
      "<class 'pandas.core.frame.DataFrame'>\n",
      "RangeIndex: 137097 entries, 0 to 137096\n",
      "Data columns (total 12 columns):\n",
      " #   Column            Non-Null Count   Dtype         \n",
      "---  ------            --------------   -----         \n",
      " 0   Animal ID         137097 non-null  object        \n",
      " 1   Name              96095 non-null   object        \n",
      " 2   DateTime          137097 non-null  datetime64[ns]\n",
      " 3   MonthYear         137097 non-null  object        \n",
      " 4   Date of Birth     137097 non-null  datetime64[ns]\n",
      " 5   Outcome Type      137073 non-null  object        \n",
      " 6   Outcome Subtype   62653 non-null   object        \n",
      " 7   Animal Type       137097 non-null  object        \n",
      " 8   Sex upon Outcome  137095 non-null  object        \n",
      " 9   Age upon Outcome  137092 non-null  object        \n",
      " 10  Breed             137097 non-null  object        \n",
      " 11  Color             137097 non-null  object        \n",
      "dtypes: datetime64[ns](2), object(10)\n",
      "memory usage: 12.6+ MB\n"
     ]
    }
   ],
   "source": [
    "# Info on the dataframe\n",
    "df.info()"
   ]
  },
  {
   "cell_type": "markdown",
   "metadata": {
    "heading_collapsed": true,
    "hidden": true
   },
   "source": [
    "## Using Questions to Drive Both Exploration and Cleaning\n",
    "\n",
    "The best way to think about how to both explore and clean your data set is to think about what is interesting in your data, what questions you have, what you want to know and how to actually get there. We're going to ask a few questions of our dataset, and use that to drive our 'cleaning' process (and talk a little bit about how and when to clean data in the process!)"
   ]
  },
  {
   "cell_type": "markdown",
   "metadata": {
    "heading_collapsed": true,
    "hidden": true
   },
   "source": [
    "## Question 1: How old are the animals in our dataset?"
   ]
  },
  {
   "cell_type": "markdown",
   "metadata": {
    "hidden": true
   },
   "source": [
    "Let's try to answer this with the `Age upon Outcome` variable:"
   ]
  },
  {
   "cell_type": "code",
   "execution_count": 5,
   "metadata": {
    "hidden": true
   },
   "outputs": [
    {
     "data": {
      "text/plain": [
       "1 year       23780\n",
       "2 years      21332\n",
       "2 months     17063\n",
       "3 years       8112\n",
       "3 months      6685\n",
       "1 month       5902\n",
       "4 years       4765\n",
       "4 months      4502\n",
       "5 years       4413\n",
       "5 months      3436\n",
       "6 months      3329\n",
       "6 years       2925\n",
       "8 years       2551\n",
       "7 years       2527\n",
       "3 weeks       2331\n",
       "2 weeks       2294\n",
       "8 months      2177\n",
       "10 years      2045\n",
       "10 months     1988\n",
       "4 weeks       1938\n",
       "7 months      1777\n",
       "9 months      1415\n",
       "9 years       1410\n",
       "1 weeks        995\n",
       "12 years       995\n",
       "11 months      869\n",
       "11 years       801\n",
       "1 week         748\n",
       "13 years       656\n",
       "14 years       441\n",
       "3 days         399\n",
       "2 days         389\n",
       "15 years       369\n",
       "1 day          316\n",
       "6 days         263\n",
       "4 days         250\n",
       "0 years        207\n",
       "5 days         167\n",
       "16 years       163\n",
       "5 weeks        152\n",
       "17 years        92\n",
       "18 years        56\n",
       "19 years        27\n",
       "20 years        21\n",
       "-1 years         6\n",
       "22 years         6\n",
       "25 years         1\n",
       "23 years         1\n",
       "30 years         1\n",
       "-2 years         1\n",
       "-3 years         1\n",
       "24 years         1\n",
       "21 years         1\n",
       "Name: Age upon Outcome, dtype: int64"
      ]
     },
     "execution_count": 5,
     "metadata": {},
     "output_type": "execute_result"
    }
   ],
   "source": [
    "df['Age upon Outcome'].value_counts()"
   ]
  },
  {
   "cell_type": "markdown",
   "metadata": {
    "hidden": true
   },
   "source": [
    "Oh no! These aren't numbers! And the data is pretty dirty! Let's see how we can break this column apart, into the Age Number and the Age Unit."
   ]
  },
  {
   "cell_type": "code",
   "execution_count": 8,
   "metadata": {
    "hidden": true
   },
   "outputs": [],
   "source": [
    "# Split out the age number and age unit - using string methods!\n",
    "df['Age Number'] = df['Age upon Outcome'].str.split().str[0]\n",
    "df['Age Unit'] = df['Age upon Outcome'].str.split().str[1]"
   ]
  },
  {
   "cell_type": "code",
   "execution_count": 9,
   "metadata": {
    "hidden": true
   },
   "outputs": [
    {
     "data": {
      "text/html": [
       "<div>\n",
       "<style scoped>\n",
       "    .dataframe tbody tr th:only-of-type {\n",
       "        vertical-align: middle;\n",
       "    }\n",
       "\n",
       "    .dataframe tbody tr th {\n",
       "        vertical-align: top;\n",
       "    }\n",
       "\n",
       "    .dataframe thead th {\n",
       "        text-align: right;\n",
       "    }\n",
       "</style>\n",
       "<table border=\"1\" class=\"dataframe\">\n",
       "  <thead>\n",
       "    <tr style=\"text-align: right;\">\n",
       "      <th></th>\n",
       "      <th>Animal ID</th>\n",
       "      <th>Name</th>\n",
       "      <th>DateTime</th>\n",
       "      <th>MonthYear</th>\n",
       "      <th>Date of Birth</th>\n",
       "      <th>Outcome Type</th>\n",
       "      <th>Outcome Subtype</th>\n",
       "      <th>Animal Type</th>\n",
       "      <th>Sex upon Outcome</th>\n",
       "      <th>Age upon Outcome</th>\n",
       "      <th>Breed</th>\n",
       "      <th>Color</th>\n",
       "      <th>Age Number</th>\n",
       "      <th>Age Unit</th>\n",
       "    </tr>\n",
       "  </thead>\n",
       "  <tbody>\n",
       "    <tr>\n",
       "      <th>0</th>\n",
       "      <td>A794011</td>\n",
       "      <td>Chunk</td>\n",
       "      <td>2019-05-08 18:20:00</td>\n",
       "      <td>May 2019</td>\n",
       "      <td>2017-05-02</td>\n",
       "      <td>Rto-Adopt</td>\n",
       "      <td>NaN</td>\n",
       "      <td>Cat</td>\n",
       "      <td>Neutered Male</td>\n",
       "      <td>2 years</td>\n",
       "      <td>Domestic Shorthair Mix</td>\n",
       "      <td>Brown Tabby/White</td>\n",
       "      <td>2</td>\n",
       "      <td>years</td>\n",
       "    </tr>\n",
       "    <tr>\n",
       "      <th>1</th>\n",
       "      <td>A776359</td>\n",
       "      <td>Gizmo</td>\n",
       "      <td>2018-07-18 16:02:00</td>\n",
       "      <td>Jul 2018</td>\n",
       "      <td>2017-07-12</td>\n",
       "      <td>Adoption</td>\n",
       "      <td>NaN</td>\n",
       "      <td>Dog</td>\n",
       "      <td>Neutered Male</td>\n",
       "      <td>1 year</td>\n",
       "      <td>Chihuahua Shorthair Mix</td>\n",
       "      <td>White/Brown</td>\n",
       "      <td>1</td>\n",
       "      <td>year</td>\n",
       "    </tr>\n",
       "    <tr>\n",
       "      <th>2</th>\n",
       "      <td>A821648</td>\n",
       "      <td>NaN</td>\n",
       "      <td>2020-08-16 11:38:00</td>\n",
       "      <td>Aug 2020</td>\n",
       "      <td>2019-08-16</td>\n",
       "      <td>Euthanasia</td>\n",
       "      <td>NaN</td>\n",
       "      <td>Other</td>\n",
       "      <td>Unknown</td>\n",
       "      <td>1 year</td>\n",
       "      <td>Raccoon</td>\n",
       "      <td>Gray</td>\n",
       "      <td>1</td>\n",
       "      <td>year</td>\n",
       "    </tr>\n",
       "    <tr>\n",
       "      <th>3</th>\n",
       "      <td>A720371</td>\n",
       "      <td>Moose</td>\n",
       "      <td>2016-02-13 17:59:00</td>\n",
       "      <td>Feb 2016</td>\n",
       "      <td>2015-10-08</td>\n",
       "      <td>Adoption</td>\n",
       "      <td>NaN</td>\n",
       "      <td>Dog</td>\n",
       "      <td>Neutered Male</td>\n",
       "      <td>4 months</td>\n",
       "      <td>Anatol Shepherd/Labrador Retriever</td>\n",
       "      <td>Buff</td>\n",
       "      <td>4</td>\n",
       "      <td>months</td>\n",
       "    </tr>\n",
       "    <tr>\n",
       "      <th>4</th>\n",
       "      <td>A674754</td>\n",
       "      <td>NaN</td>\n",
       "      <td>2014-03-18 11:47:00</td>\n",
       "      <td>Mar 2014</td>\n",
       "      <td>2014-03-12</td>\n",
       "      <td>Transfer</td>\n",
       "      <td>Partner</td>\n",
       "      <td>Cat</td>\n",
       "      <td>Intact Male</td>\n",
       "      <td>6 days</td>\n",
       "      <td>Domestic Shorthair Mix</td>\n",
       "      <td>Orange Tabby</td>\n",
       "      <td>6</td>\n",
       "      <td>days</td>\n",
       "    </tr>\n",
       "  </tbody>\n",
       "</table>\n",
       "</div>"
      ],
      "text/plain": [
       "  Animal ID   Name            DateTime MonthYear Date of Birth Outcome Type  \\\n",
       "0   A794011  Chunk 2019-05-08 18:20:00  May 2019    2017-05-02    Rto-Adopt   \n",
       "1   A776359  Gizmo 2018-07-18 16:02:00  Jul 2018    2017-07-12     Adoption   \n",
       "2   A821648    NaN 2020-08-16 11:38:00  Aug 2020    2019-08-16   Euthanasia   \n",
       "3   A720371  Moose 2016-02-13 17:59:00  Feb 2016    2015-10-08     Adoption   \n",
       "4   A674754    NaN 2014-03-18 11:47:00  Mar 2014    2014-03-12     Transfer   \n",
       "\n",
       "  Outcome Subtype Animal Type Sex upon Outcome Age upon Outcome  \\\n",
       "0             NaN         Cat    Neutered Male          2 years   \n",
       "1             NaN         Dog    Neutered Male           1 year   \n",
       "2             NaN       Other          Unknown           1 year   \n",
       "3             NaN         Dog    Neutered Male         4 months   \n",
       "4         Partner         Cat      Intact Male           6 days   \n",
       "\n",
       "                                Breed              Color Age Number Age Unit  \n",
       "0              Domestic Shorthair Mix  Brown Tabby/White          2    years  \n",
       "1             Chihuahua Shorthair Mix        White/Brown          1     year  \n",
       "2                             Raccoon               Gray          1     year  \n",
       "3  Anatol Shepherd/Labrador Retriever               Buff          4   months  \n",
       "4              Domestic Shorthair Mix       Orange Tabby          6     days  "
      ]
     },
     "execution_count": 9,
     "metadata": {},
     "output_type": "execute_result"
    }
   ],
   "source": [
    "# Sanity check\n",
    "df.head()"
   ]
  },
  {
   "cell_type": "code",
   "execution_count": 10,
   "metadata": {
    "hidden": true
   },
   "outputs": [
    {
     "name": "stdout",
     "output_type": "stream",
     "text": [
      "<class 'pandas.core.frame.DataFrame'>\n",
      "RangeIndex: 137097 entries, 0 to 137096\n",
      "Data columns (total 14 columns):\n",
      " #   Column            Non-Null Count   Dtype         \n",
      "---  ------            --------------   -----         \n",
      " 0   Animal ID         137097 non-null  object        \n",
      " 1   Name              96095 non-null   object        \n",
      " 2   DateTime          137097 non-null  datetime64[ns]\n",
      " 3   MonthYear         137097 non-null  object        \n",
      " 4   Date of Birth     137097 non-null  datetime64[ns]\n",
      " 5   Outcome Type      137073 non-null  object        \n",
      " 6   Outcome Subtype   62653 non-null   object        \n",
      " 7   Animal Type       137097 non-null  object        \n",
      " 8   Sex upon Outcome  137095 non-null  object        \n",
      " 9   Age upon Outcome  137092 non-null  object        \n",
      " 10  Breed             137097 non-null  object        \n",
      " 11  Color             137097 non-null  object        \n",
      " 12  Age Number        137092 non-null  object        \n",
      " 13  Age Unit          137092 non-null  object        \n",
      "dtypes: datetime64[ns](2), object(12)\n",
      "memory usage: 14.6+ MB\n"
     ]
    }
   ],
   "source": [
    "# Check the data types really quick...\n",
    "df.info()"
   ]
  },
  {
   "cell_type": "code",
   "execution_count": 11,
   "metadata": {
    "hidden": true
   },
   "outputs": [
    {
     "ename": "ValueError",
     "evalue": "cannot convert float NaN to integer",
     "output_type": "error",
     "traceback": [
      "\u001b[1;31m---------------------------------------------------------------------------\u001b[0m",
      "\u001b[1;31mValueError\u001b[0m                                Traceback (most recent call last)",
      "\u001b[1;32m<ipython-input-11-7be47edd8101>\u001b[0m in \u001b[0;36m<module>\u001b[1;34m\u001b[0m\n\u001b[0;32m      1\u001b[0m \u001b[1;31m# Need to make our Age Number actual numbers!\u001b[0m\u001b[1;33m\u001b[0m\u001b[1;33m\u001b[0m\u001b[1;33m\u001b[0m\u001b[0m\n\u001b[1;32m----> 2\u001b[1;33m \u001b[0mdf\u001b[0m\u001b[1;33m[\u001b[0m\u001b[1;34m'Age Number'\u001b[0m\u001b[1;33m]\u001b[0m\u001b[1;33m.\u001b[0m\u001b[0mastype\u001b[0m\u001b[1;33m(\u001b[0m\u001b[0mint\u001b[0m\u001b[1;33m)\u001b[0m\u001b[1;33m\u001b[0m\u001b[1;33m\u001b[0m\u001b[0m\n\u001b[0m",
      "\u001b[1;32m~\\anaconda3\\envs\\learn-env\\lib\\site-packages\\pandas\\core\\generic.py\u001b[0m in \u001b[0;36mastype\u001b[1;34m(self, dtype, copy, errors)\u001b[0m\n\u001b[0;32m   5544\u001b[0m         \u001b[1;32melse\u001b[0m\u001b[1;33m:\u001b[0m\u001b[1;33m\u001b[0m\u001b[1;33m\u001b[0m\u001b[0m\n\u001b[0;32m   5545\u001b[0m             \u001b[1;31m# else, only a single dtype is given\u001b[0m\u001b[1;33m\u001b[0m\u001b[1;33m\u001b[0m\u001b[1;33m\u001b[0m\u001b[0m\n\u001b[1;32m-> 5546\u001b[1;33m             \u001b[0mnew_data\u001b[0m \u001b[1;33m=\u001b[0m \u001b[0mself\u001b[0m\u001b[1;33m.\u001b[0m\u001b[0m_mgr\u001b[0m\u001b[1;33m.\u001b[0m\u001b[0mastype\u001b[0m\u001b[1;33m(\u001b[0m\u001b[0mdtype\u001b[0m\u001b[1;33m=\u001b[0m\u001b[0mdtype\u001b[0m\u001b[1;33m,\u001b[0m \u001b[0mcopy\u001b[0m\u001b[1;33m=\u001b[0m\u001b[0mcopy\u001b[0m\u001b[1;33m,\u001b[0m \u001b[0merrors\u001b[0m\u001b[1;33m=\u001b[0m\u001b[0merrors\u001b[0m\u001b[1;33m,\u001b[0m\u001b[1;33m)\u001b[0m\u001b[1;33m\u001b[0m\u001b[1;33m\u001b[0m\u001b[0m\n\u001b[0m\u001b[0;32m   5547\u001b[0m             \u001b[1;32mreturn\u001b[0m \u001b[0mself\u001b[0m\u001b[1;33m.\u001b[0m\u001b[0m_constructor\u001b[0m\u001b[1;33m(\u001b[0m\u001b[0mnew_data\u001b[0m\u001b[1;33m)\u001b[0m\u001b[1;33m.\u001b[0m\u001b[0m__finalize__\u001b[0m\u001b[1;33m(\u001b[0m\u001b[0mself\u001b[0m\u001b[1;33m,\u001b[0m \u001b[0mmethod\u001b[0m\u001b[1;33m=\u001b[0m\u001b[1;34m\"astype\"\u001b[0m\u001b[1;33m)\u001b[0m\u001b[1;33m\u001b[0m\u001b[1;33m\u001b[0m\u001b[0m\n\u001b[0;32m   5548\u001b[0m \u001b[1;33m\u001b[0m\u001b[0m\n",
      "\u001b[1;32m~\\anaconda3\\envs\\learn-env\\lib\\site-packages\\pandas\\core\\internals\\managers.py\u001b[0m in \u001b[0;36mastype\u001b[1;34m(self, dtype, copy, errors)\u001b[0m\n\u001b[0;32m    593\u001b[0m         \u001b[0mself\u001b[0m\u001b[1;33m,\u001b[0m \u001b[0mdtype\u001b[0m\u001b[1;33m,\u001b[0m \u001b[0mcopy\u001b[0m\u001b[1;33m:\u001b[0m \u001b[0mbool\u001b[0m \u001b[1;33m=\u001b[0m \u001b[1;32mFalse\u001b[0m\u001b[1;33m,\u001b[0m \u001b[0merrors\u001b[0m\u001b[1;33m:\u001b[0m \u001b[0mstr\u001b[0m \u001b[1;33m=\u001b[0m \u001b[1;34m\"raise\"\u001b[0m\u001b[1;33m\u001b[0m\u001b[1;33m\u001b[0m\u001b[0m\n\u001b[0;32m    594\u001b[0m     ) -> \"BlockManager\":\n\u001b[1;32m--> 595\u001b[1;33m         \u001b[1;32mreturn\u001b[0m \u001b[0mself\u001b[0m\u001b[1;33m.\u001b[0m\u001b[0mapply\u001b[0m\u001b[1;33m(\u001b[0m\u001b[1;34m\"astype\"\u001b[0m\u001b[1;33m,\u001b[0m \u001b[0mdtype\u001b[0m\u001b[1;33m=\u001b[0m\u001b[0mdtype\u001b[0m\u001b[1;33m,\u001b[0m \u001b[0mcopy\u001b[0m\u001b[1;33m=\u001b[0m\u001b[0mcopy\u001b[0m\u001b[1;33m,\u001b[0m \u001b[0merrors\u001b[0m\u001b[1;33m=\u001b[0m\u001b[0merrors\u001b[0m\u001b[1;33m)\u001b[0m\u001b[1;33m\u001b[0m\u001b[1;33m\u001b[0m\u001b[0m\n\u001b[0m\u001b[0;32m    596\u001b[0m \u001b[1;33m\u001b[0m\u001b[0m\n\u001b[0;32m    597\u001b[0m     def convert(\n",
      "\u001b[1;32m~\\anaconda3\\envs\\learn-env\\lib\\site-packages\\pandas\\core\\internals\\managers.py\u001b[0m in \u001b[0;36mapply\u001b[1;34m(self, f, align_keys, **kwargs)\u001b[0m\n\u001b[0;32m    404\u001b[0m                 \u001b[0mapplied\u001b[0m \u001b[1;33m=\u001b[0m \u001b[0mb\u001b[0m\u001b[1;33m.\u001b[0m\u001b[0mapply\u001b[0m\u001b[1;33m(\u001b[0m\u001b[0mf\u001b[0m\u001b[1;33m,\u001b[0m \u001b[1;33m**\u001b[0m\u001b[0mkwargs\u001b[0m\u001b[1;33m)\u001b[0m\u001b[1;33m\u001b[0m\u001b[1;33m\u001b[0m\u001b[0m\n\u001b[0;32m    405\u001b[0m             \u001b[1;32melse\u001b[0m\u001b[1;33m:\u001b[0m\u001b[1;33m\u001b[0m\u001b[1;33m\u001b[0m\u001b[0m\n\u001b[1;32m--> 406\u001b[1;33m                 \u001b[0mapplied\u001b[0m \u001b[1;33m=\u001b[0m \u001b[0mgetattr\u001b[0m\u001b[1;33m(\u001b[0m\u001b[0mb\u001b[0m\u001b[1;33m,\u001b[0m \u001b[0mf\u001b[0m\u001b[1;33m)\u001b[0m\u001b[1;33m(\u001b[0m\u001b[1;33m**\u001b[0m\u001b[0mkwargs\u001b[0m\u001b[1;33m)\u001b[0m\u001b[1;33m\u001b[0m\u001b[1;33m\u001b[0m\u001b[0m\n\u001b[0m\u001b[0;32m    407\u001b[0m             \u001b[0mresult_blocks\u001b[0m \u001b[1;33m=\u001b[0m \u001b[0m_extend_blocks\u001b[0m\u001b[1;33m(\u001b[0m\u001b[0mapplied\u001b[0m\u001b[1;33m,\u001b[0m \u001b[0mresult_blocks\u001b[0m\u001b[1;33m)\u001b[0m\u001b[1;33m\u001b[0m\u001b[1;33m\u001b[0m\u001b[0m\n\u001b[0;32m    408\u001b[0m \u001b[1;33m\u001b[0m\u001b[0m\n",
      "\u001b[1;32m~\\anaconda3\\envs\\learn-env\\lib\\site-packages\\pandas\\core\\internals\\blocks.py\u001b[0m in \u001b[0;36mastype\u001b[1;34m(self, dtype, copy, errors)\u001b[0m\n\u001b[0;32m    593\u001b[0m             \u001b[0mvals1d\u001b[0m \u001b[1;33m=\u001b[0m \u001b[0mvalues\u001b[0m\u001b[1;33m.\u001b[0m\u001b[0mravel\u001b[0m\u001b[1;33m(\u001b[0m\u001b[1;33m)\u001b[0m\u001b[1;33m\u001b[0m\u001b[1;33m\u001b[0m\u001b[0m\n\u001b[0;32m    594\u001b[0m             \u001b[1;32mtry\u001b[0m\u001b[1;33m:\u001b[0m\u001b[1;33m\u001b[0m\u001b[1;33m\u001b[0m\u001b[0m\n\u001b[1;32m--> 595\u001b[1;33m                 \u001b[0mvalues\u001b[0m \u001b[1;33m=\u001b[0m \u001b[0mastype_nansafe\u001b[0m\u001b[1;33m(\u001b[0m\u001b[0mvals1d\u001b[0m\u001b[1;33m,\u001b[0m \u001b[0mdtype\u001b[0m\u001b[1;33m,\u001b[0m \u001b[0mcopy\u001b[0m\u001b[1;33m=\u001b[0m\u001b[1;32mTrue\u001b[0m\u001b[1;33m)\u001b[0m\u001b[1;33m\u001b[0m\u001b[1;33m\u001b[0m\u001b[0m\n\u001b[0m\u001b[0;32m    596\u001b[0m             \u001b[1;32mexcept\u001b[0m \u001b[1;33m(\u001b[0m\u001b[0mValueError\u001b[0m\u001b[1;33m,\u001b[0m \u001b[0mTypeError\u001b[0m\u001b[1;33m)\u001b[0m\u001b[1;33m:\u001b[0m\u001b[1;33m\u001b[0m\u001b[1;33m\u001b[0m\u001b[0m\n\u001b[0;32m    597\u001b[0m                 \u001b[1;31m# e.g. astype_nansafe can fail on object-dtype of strings\u001b[0m\u001b[1;33m\u001b[0m\u001b[1;33m\u001b[0m\u001b[1;33m\u001b[0m\u001b[0m\n",
      "\u001b[1;32m~\\anaconda3\\envs\\learn-env\\lib\\site-packages\\pandas\\core\\dtypes\\cast.py\u001b[0m in \u001b[0;36mastype_nansafe\u001b[1;34m(arr, dtype, copy, skipna)\u001b[0m\n\u001b[0;32m    970\u001b[0m         \u001b[1;31m# work around NumPy brokenness, #1987\u001b[0m\u001b[1;33m\u001b[0m\u001b[1;33m\u001b[0m\u001b[1;33m\u001b[0m\u001b[0m\n\u001b[0;32m    971\u001b[0m         \u001b[1;32mif\u001b[0m \u001b[0mnp\u001b[0m\u001b[1;33m.\u001b[0m\u001b[0missubdtype\u001b[0m\u001b[1;33m(\u001b[0m\u001b[0mdtype\u001b[0m\u001b[1;33m.\u001b[0m\u001b[0mtype\u001b[0m\u001b[1;33m,\u001b[0m \u001b[0mnp\u001b[0m\u001b[1;33m.\u001b[0m\u001b[0minteger\u001b[0m\u001b[1;33m)\u001b[0m\u001b[1;33m:\u001b[0m\u001b[1;33m\u001b[0m\u001b[1;33m\u001b[0m\u001b[0m\n\u001b[1;32m--> 972\u001b[1;33m             \u001b[1;32mreturn\u001b[0m \u001b[0mlib\u001b[0m\u001b[1;33m.\u001b[0m\u001b[0mastype_intsafe\u001b[0m\u001b[1;33m(\u001b[0m\u001b[0marr\u001b[0m\u001b[1;33m.\u001b[0m\u001b[0mravel\u001b[0m\u001b[1;33m(\u001b[0m\u001b[1;33m)\u001b[0m\u001b[1;33m,\u001b[0m \u001b[0mdtype\u001b[0m\u001b[1;33m)\u001b[0m\u001b[1;33m.\u001b[0m\u001b[0mreshape\u001b[0m\u001b[1;33m(\u001b[0m\u001b[0marr\u001b[0m\u001b[1;33m.\u001b[0m\u001b[0mshape\u001b[0m\u001b[1;33m)\u001b[0m\u001b[1;33m\u001b[0m\u001b[1;33m\u001b[0m\u001b[0m\n\u001b[0m\u001b[0;32m    973\u001b[0m \u001b[1;33m\u001b[0m\u001b[0m\n\u001b[0;32m    974\u001b[0m         \u001b[1;31m# if we have a datetime/timedelta array of objects\u001b[0m\u001b[1;33m\u001b[0m\u001b[1;33m\u001b[0m\u001b[1;33m\u001b[0m\u001b[0m\n",
      "\u001b[1;32mpandas\\_libs\\lib.pyx\u001b[0m in \u001b[0;36mpandas._libs.lib.astype_intsafe\u001b[1;34m()\u001b[0m\n",
      "\u001b[1;31mValueError\u001b[0m: cannot convert float NaN to integer"
     ]
    }
   ],
   "source": [
    "# Need to make our Age Number actual numbers! \n",
    "df['Age Number'].astype(int)"
   ]
  },
  {
   "cell_type": "markdown",
   "metadata": {
    "hidden": true
   },
   "source": [
    "Alas! Nulls! Let's check out these null values:"
   ]
  },
  {
   "cell_type": "code",
   "execution_count": 13,
   "metadata": {
    "hidden": true
   },
   "outputs": [
    {
     "data": {
      "text/plain": [
       "5"
      ]
     },
     "execution_count": 13,
     "metadata": {},
     "output_type": "execute_result"
    }
   ],
   "source": [
    "# Check how many nulls we have in our original Age Upon Outcome column\n",
    "\n",
    "df['Age Number'].isna().sum()\n",
    "#df['Age Number'].isnull() is an alias"
   ]
  },
  {
   "cell_type": "code",
   "execution_count": 14,
   "metadata": {},
   "outputs": [
    {
     "data": {
      "text/plain": [
       "Animal ID               0\n",
       "Name                41002\n",
       "DateTime                0\n",
       "MonthYear               0\n",
       "Date of Birth           0\n",
       "Outcome Type           24\n",
       "Outcome Subtype     74444\n",
       "Animal Type             0\n",
       "Sex upon Outcome        2\n",
       "Age upon Outcome        5\n",
       "Breed                   0\n",
       "Color                   0\n",
       "Age Number              5\n",
       "Age Unit                5\n",
       "dtype: int64"
      ]
     },
     "execution_count": 14,
     "metadata": {},
     "output_type": "execute_result"
    }
   ],
   "source": [
    "df.isna().sum()"
   ]
  },
  {
   "cell_type": "markdown",
   "metadata": {
    "heading_collapsed": true,
    "hidden": true
   },
   "source": [
    "### Handling Missing Data"
   ]
  },
  {
   "cell_type": "markdown",
   "metadata": {
    "hidden": true
   },
   "source": [
    "A lot of the times we'll have missing information in our data set. This can sometimes be troublesome in what we're trying to do."
   ]
  },
  {
   "cell_type": "markdown",
   "metadata": {
    "hidden": true
   },
   "source": [
    "There are a few strategies we can choose from and they each have their pros/cons:\n",
    "\n",
    "- **Fill with a Relevant Value**\n",
    "    - If we know what the nulls 'should' be, easy to fill them with that value\n",
    "    - For numbers, perhaps the null indicates a 0\n",
    "    - Or, for string columns, might be easier to handle if we fill with \"Missing\" or \"Unknown\"\n",
    "- **Fill with a Reasonable Value**\n",
    "    - For numeric data, it might be acceptable to fill with a measure of central tendency (mean or median)\n",
    "    - For categorical/string data, might be acceptable to fill with the most common (mode)\n",
    "    - But beware! Filling in missing values can lead to you drawing incorrect conclusions. If most of the data from a column are missing, it's going to appear that the value you filled it in with is more common that it actually was!\n",
    "- **Specify Missing Data**\n",
    "    - If you plan to fill in missing values, it might make sense to specify that the data was originally missing by creating a new indicator column\n",
    "    - This can be helpful when you suspect that the fact the data was missing could be important for an analysis.\n",
    "- **Drop Missing Data**\n",
    "    - While you should try to keep as much relevant data as possible, sometimes the other methods don't make as much sense and it's better to remove or **drop** the missing data\n",
    "    - We typically drop missing data if very little data would be lost and/or trying to fill in the values wouldn't make sense for our use case\n",
    "\n"
   ]
  },
  {
   "cell_type": "markdown",
   "metadata": {
    "hidden": true
   },
   "source": [
    "So: what should we do about the missing Age upon Outcome data?\n",
    "\n",
    "<br>\n",
    "<details>\n",
    "    <summary>Possible Answer</summary>\n",
    "\n",
    "- It's probably okay to drop the missing data in this case - not very many rows with nulls in that column\n",
    "- Should look at the percentage of the total (aka what percentage of rows would be dropped) to justify this decision\n",
    "    \n",
    "    \n",
    "Note! There is a Date of Birth column that does not have any nulls! But we're specifically trying to use Age Upon Outcome here because it helps us practice some other tactics for cleaning data.\n",
    "    \n",
    "</details>\n",
    "\n"
   ]
  },
  {
   "cell_type": "code",
   "execution_count": 19,
   "metadata": {
    "hidden": true
   },
   "outputs": [],
   "source": [
    "# No matter what - better to make this change on a COPY of the dataframe\n",
    "df_clean = df.copy()"
   ]
  },
  {
   "cell_type": "code",
   "execution_count": 20,
   "metadata": {
    "hidden": true
   },
   "outputs": [],
   "source": [
    "# Code here to handle nulls\n",
    "df_clean = df_clean.dropna(subset=['Age upon Outcome'])\n",
    "#df_clean.dropna(subset=['Age upon Outcome'], inplace=True)"
   ]
  },
  {
   "cell_type": "code",
   "execution_count": 21,
   "metadata": {
    "hidden": true
   },
   "outputs": [
    {
     "data": {
      "text/plain": [
       "Animal ID               0\n",
       "Name                40999\n",
       "DateTime                0\n",
       "MonthYear               0\n",
       "Date of Birth           0\n",
       "Outcome Type           23\n",
       "Outcome Subtype     74443\n",
       "Animal Type             0\n",
       "Sex upon Outcome        1\n",
       "Age upon Outcome        0\n",
       "Breed                   0\n",
       "Color                   0\n",
       "Age Number              0\n",
       "Age Unit                0\n",
       "dtype: int64"
      ]
     },
     "execution_count": 21,
     "metadata": {},
     "output_type": "execute_result"
    }
   ],
   "source": [
    "# Sanity check\n",
    "df_clean.isna().sum()"
   ]
  },
  {
   "cell_type": "code",
   "execution_count": 22,
   "metadata": {
    "hidden": true
   },
   "outputs": [],
   "source": [
    "# Cool - now we can make our Age Number column an integer\n",
    "df_clean['Age Number'] = df_clean['Age Number'].astype(int)"
   ]
  },
  {
   "cell_type": "code",
   "execution_count": 23,
   "metadata": {
    "hidden": true
   },
   "outputs": [
    {
     "name": "stdout",
     "output_type": "stream",
     "text": [
      "<class 'pandas.core.frame.DataFrame'>\n",
      "Int64Index: 137092 entries, 0 to 137096\n",
      "Data columns (total 14 columns):\n",
      " #   Column            Non-Null Count   Dtype         \n",
      "---  ------            --------------   -----         \n",
      " 0   Animal ID         137092 non-null  object        \n",
      " 1   Name              96093 non-null   object        \n",
      " 2   DateTime          137092 non-null  datetime64[ns]\n",
      " 3   MonthYear         137092 non-null  object        \n",
      " 4   Date of Birth     137092 non-null  datetime64[ns]\n",
      " 5   Outcome Type      137069 non-null  object        \n",
      " 6   Outcome Subtype   62649 non-null   object        \n",
      " 7   Animal Type       137092 non-null  object        \n",
      " 8   Sex upon Outcome  137091 non-null  object        \n",
      " 9   Age upon Outcome  137092 non-null  object        \n",
      " 10  Breed             137092 non-null  object        \n",
      " 11  Color             137092 non-null  object        \n",
      " 12  Age Number        137092 non-null  int32         \n",
      " 13  Age Unit          137092 non-null  object        \n",
      "dtypes: datetime64[ns](2), int32(1), object(11)\n",
      "memory usage: 15.2+ MB\n"
     ]
    }
   ],
   "source": [
    "# Sanity check\n",
    "df_clean.info()"
   ]
  },
  {
   "cell_type": "markdown",
   "metadata": {
    "hidden": true
   },
   "source": [
    "Now let's do something about those Age Values..."
   ]
  },
  {
   "cell_type": "markdown",
   "metadata": {
    "heading_collapsed": true,
    "hidden": true
   },
   "source": [
    "### Map, Apply and Applymap"
   ]
  },
  {
   "cell_type": "markdown",
   "metadata": {
    "hidden": true
   },
   "source": [
    "Resource: https://www.geeksforgeeks.org/difference-between-map-applymap-and-apply-methods-in-pandas/\n",
    "\n",
    "The `.map()` method applies a transformation to every entry in the Series. This transformation  \"maps\" each value from the Series to a new value. A transformation can be defined by a function, Series, or dictionary.\n",
    "\n",
    "The `.apply()` method is similar to the `.map()` method for Series, but can only take in functions. \n",
    "\n",
    "The `.applymap()` method only works on DataFrames, and applies the same transformation to every element (cell) of that DataFrame."
   ]
  },
  {
   "cell_type": "code",
   "execution_count": 24,
   "metadata": {},
   "outputs": [
    {
     "data": {
      "text/plain": [
       "years     53927\n",
       "months    43241\n",
       "year      23780\n",
       "weeks      7710\n",
       "month      5902\n",
       "days       1468\n",
       "week        748\n",
       "day         316\n",
       "Name: Age Unit, dtype: int64"
      ]
     },
     "execution_count": 24,
     "metadata": {},
     "output_type": "execute_result"
    }
   ],
   "source": [
    "df_clean['Age Unit'].value_counts()"
   ]
  },
  {
   "cell_type": "code",
   "execution_count": 25,
   "metadata": {
    "hidden": true
   },
   "outputs": [],
   "source": [
    "# Providing this dictionary to capture age values in # days (not perfect)\n",
    "age_vals = {\n",
    "    'years': 365,\n",
    "    'year': 365,\n",
    "    'months': 30,\n",
    "    'month': 30,\n",
    "    'weeks': 7,\n",
    "    'week': 7,\n",
    "    'days': 1,\n",
    "    'day': 1\n",
    "}"
   ]
  },
  {
   "cell_type": "code",
   "execution_count": 26,
   "metadata": {
    "hidden": true
   },
   "outputs": [],
   "source": [
    "# Now, how can we transform the Age Value column to capture these values?\n",
    "df_clean['Age Unit'] = df_clean['Age Unit'].map(age_vals)"
   ]
  },
  {
   "cell_type": "code",
   "execution_count": 27,
   "metadata": {
    "hidden": true
   },
   "outputs": [
    {
     "data": {
      "text/html": [
       "<div>\n",
       "<style scoped>\n",
       "    .dataframe tbody tr th:only-of-type {\n",
       "        vertical-align: middle;\n",
       "    }\n",
       "\n",
       "    .dataframe tbody tr th {\n",
       "        vertical-align: top;\n",
       "    }\n",
       "\n",
       "    .dataframe thead th {\n",
       "        text-align: right;\n",
       "    }\n",
       "</style>\n",
       "<table border=\"1\" class=\"dataframe\">\n",
       "  <thead>\n",
       "    <tr style=\"text-align: right;\">\n",
       "      <th></th>\n",
       "      <th>Animal ID</th>\n",
       "      <th>Name</th>\n",
       "      <th>DateTime</th>\n",
       "      <th>MonthYear</th>\n",
       "      <th>Date of Birth</th>\n",
       "      <th>Outcome Type</th>\n",
       "      <th>Outcome Subtype</th>\n",
       "      <th>Animal Type</th>\n",
       "      <th>Sex upon Outcome</th>\n",
       "      <th>Age upon Outcome</th>\n",
       "      <th>Breed</th>\n",
       "      <th>Color</th>\n",
       "      <th>Age Number</th>\n",
       "      <th>Age Unit</th>\n",
       "    </tr>\n",
       "  </thead>\n",
       "  <tbody>\n",
       "    <tr>\n",
       "      <th>0</th>\n",
       "      <td>A794011</td>\n",
       "      <td>Chunk</td>\n",
       "      <td>2019-05-08 18:20:00</td>\n",
       "      <td>May 2019</td>\n",
       "      <td>2017-05-02</td>\n",
       "      <td>Rto-Adopt</td>\n",
       "      <td>NaN</td>\n",
       "      <td>Cat</td>\n",
       "      <td>Neutered Male</td>\n",
       "      <td>2 years</td>\n",
       "      <td>Domestic Shorthair Mix</td>\n",
       "      <td>Brown Tabby/White</td>\n",
       "      <td>2</td>\n",
       "      <td>365</td>\n",
       "    </tr>\n",
       "    <tr>\n",
       "      <th>1</th>\n",
       "      <td>A776359</td>\n",
       "      <td>Gizmo</td>\n",
       "      <td>2018-07-18 16:02:00</td>\n",
       "      <td>Jul 2018</td>\n",
       "      <td>2017-07-12</td>\n",
       "      <td>Adoption</td>\n",
       "      <td>NaN</td>\n",
       "      <td>Dog</td>\n",
       "      <td>Neutered Male</td>\n",
       "      <td>1 year</td>\n",
       "      <td>Chihuahua Shorthair Mix</td>\n",
       "      <td>White/Brown</td>\n",
       "      <td>1</td>\n",
       "      <td>365</td>\n",
       "    </tr>\n",
       "    <tr>\n",
       "      <th>2</th>\n",
       "      <td>A821648</td>\n",
       "      <td>NaN</td>\n",
       "      <td>2020-08-16 11:38:00</td>\n",
       "      <td>Aug 2020</td>\n",
       "      <td>2019-08-16</td>\n",
       "      <td>Euthanasia</td>\n",
       "      <td>NaN</td>\n",
       "      <td>Other</td>\n",
       "      <td>Unknown</td>\n",
       "      <td>1 year</td>\n",
       "      <td>Raccoon</td>\n",
       "      <td>Gray</td>\n",
       "      <td>1</td>\n",
       "      <td>365</td>\n",
       "    </tr>\n",
       "    <tr>\n",
       "      <th>3</th>\n",
       "      <td>A720371</td>\n",
       "      <td>Moose</td>\n",
       "      <td>2016-02-13 17:59:00</td>\n",
       "      <td>Feb 2016</td>\n",
       "      <td>2015-10-08</td>\n",
       "      <td>Adoption</td>\n",
       "      <td>NaN</td>\n",
       "      <td>Dog</td>\n",
       "      <td>Neutered Male</td>\n",
       "      <td>4 months</td>\n",
       "      <td>Anatol Shepherd/Labrador Retriever</td>\n",
       "      <td>Buff</td>\n",
       "      <td>4</td>\n",
       "      <td>30</td>\n",
       "    </tr>\n",
       "    <tr>\n",
       "      <th>4</th>\n",
       "      <td>A674754</td>\n",
       "      <td>NaN</td>\n",
       "      <td>2014-03-18 11:47:00</td>\n",
       "      <td>Mar 2014</td>\n",
       "      <td>2014-03-12</td>\n",
       "      <td>Transfer</td>\n",
       "      <td>Partner</td>\n",
       "      <td>Cat</td>\n",
       "      <td>Intact Male</td>\n",
       "      <td>6 days</td>\n",
       "      <td>Domestic Shorthair Mix</td>\n",
       "      <td>Orange Tabby</td>\n",
       "      <td>6</td>\n",
       "      <td>1</td>\n",
       "    </tr>\n",
       "  </tbody>\n",
       "</table>\n",
       "</div>"
      ],
      "text/plain": [
       "  Animal ID   Name            DateTime MonthYear Date of Birth Outcome Type  \\\n",
       "0   A794011  Chunk 2019-05-08 18:20:00  May 2019    2017-05-02    Rto-Adopt   \n",
       "1   A776359  Gizmo 2018-07-18 16:02:00  Jul 2018    2017-07-12     Adoption   \n",
       "2   A821648    NaN 2020-08-16 11:38:00  Aug 2020    2019-08-16   Euthanasia   \n",
       "3   A720371  Moose 2016-02-13 17:59:00  Feb 2016    2015-10-08     Adoption   \n",
       "4   A674754    NaN 2014-03-18 11:47:00  Mar 2014    2014-03-12     Transfer   \n",
       "\n",
       "  Outcome Subtype Animal Type Sex upon Outcome Age upon Outcome  \\\n",
       "0             NaN         Cat    Neutered Male          2 years   \n",
       "1             NaN         Dog    Neutered Male           1 year   \n",
       "2             NaN       Other          Unknown           1 year   \n",
       "3             NaN         Dog    Neutered Male         4 months   \n",
       "4         Partner         Cat      Intact Male           6 days   \n",
       "\n",
       "                                Breed              Color  Age Number  Age Unit  \n",
       "0              Domestic Shorthair Mix  Brown Tabby/White           2       365  \n",
       "1             Chihuahua Shorthair Mix        White/Brown           1       365  \n",
       "2                             Raccoon               Gray           1       365  \n",
       "3  Anatol Shepherd/Labrador Retriever               Buff           4        30  \n",
       "4              Domestic Shorthair Mix       Orange Tabby           6         1  "
      ]
     },
     "execution_count": 27,
     "metadata": {},
     "output_type": "execute_result"
    }
   ],
   "source": [
    "# Sanity check\n",
    "df_clean.head()"
   ]
  },
  {
   "cell_type": "code",
   "execution_count": 28,
   "metadata": {
    "hidden": true
   },
   "outputs": [],
   "source": [
    "# Now, let's make a new Age in Days column!\n",
    "df_clean['Age in Days'] = df_clean['Age Number'] * df_clean['Age Unit']"
   ]
  },
  {
   "cell_type": "code",
   "execution_count": 29,
   "metadata": {
    "hidden": true
   },
   "outputs": [
    {
     "data": {
      "text/html": [
       "<div>\n",
       "<style scoped>\n",
       "    .dataframe tbody tr th:only-of-type {\n",
       "        vertical-align: middle;\n",
       "    }\n",
       "\n",
       "    .dataframe tbody tr th {\n",
       "        vertical-align: top;\n",
       "    }\n",
       "\n",
       "    .dataframe thead th {\n",
       "        text-align: right;\n",
       "    }\n",
       "</style>\n",
       "<table border=\"1\" class=\"dataframe\">\n",
       "  <thead>\n",
       "    <tr style=\"text-align: right;\">\n",
       "      <th></th>\n",
       "      <th>Animal ID</th>\n",
       "      <th>Name</th>\n",
       "      <th>DateTime</th>\n",
       "      <th>MonthYear</th>\n",
       "      <th>Date of Birth</th>\n",
       "      <th>Outcome Type</th>\n",
       "      <th>Outcome Subtype</th>\n",
       "      <th>Animal Type</th>\n",
       "      <th>Sex upon Outcome</th>\n",
       "      <th>Age upon Outcome</th>\n",
       "      <th>Breed</th>\n",
       "      <th>Color</th>\n",
       "      <th>Age Number</th>\n",
       "      <th>Age Unit</th>\n",
       "      <th>Age in Days</th>\n",
       "    </tr>\n",
       "  </thead>\n",
       "  <tbody>\n",
       "    <tr>\n",
       "      <th>0</th>\n",
       "      <td>A794011</td>\n",
       "      <td>Chunk</td>\n",
       "      <td>2019-05-08 18:20:00</td>\n",
       "      <td>May 2019</td>\n",
       "      <td>2017-05-02</td>\n",
       "      <td>Rto-Adopt</td>\n",
       "      <td>NaN</td>\n",
       "      <td>Cat</td>\n",
       "      <td>Neutered Male</td>\n",
       "      <td>2 years</td>\n",
       "      <td>Domestic Shorthair Mix</td>\n",
       "      <td>Brown Tabby/White</td>\n",
       "      <td>2</td>\n",
       "      <td>365</td>\n",
       "      <td>730</td>\n",
       "    </tr>\n",
       "    <tr>\n",
       "      <th>1</th>\n",
       "      <td>A776359</td>\n",
       "      <td>Gizmo</td>\n",
       "      <td>2018-07-18 16:02:00</td>\n",
       "      <td>Jul 2018</td>\n",
       "      <td>2017-07-12</td>\n",
       "      <td>Adoption</td>\n",
       "      <td>NaN</td>\n",
       "      <td>Dog</td>\n",
       "      <td>Neutered Male</td>\n",
       "      <td>1 year</td>\n",
       "      <td>Chihuahua Shorthair Mix</td>\n",
       "      <td>White/Brown</td>\n",
       "      <td>1</td>\n",
       "      <td>365</td>\n",
       "      <td>365</td>\n",
       "    </tr>\n",
       "    <tr>\n",
       "      <th>2</th>\n",
       "      <td>A821648</td>\n",
       "      <td>NaN</td>\n",
       "      <td>2020-08-16 11:38:00</td>\n",
       "      <td>Aug 2020</td>\n",
       "      <td>2019-08-16</td>\n",
       "      <td>Euthanasia</td>\n",
       "      <td>NaN</td>\n",
       "      <td>Other</td>\n",
       "      <td>Unknown</td>\n",
       "      <td>1 year</td>\n",
       "      <td>Raccoon</td>\n",
       "      <td>Gray</td>\n",
       "      <td>1</td>\n",
       "      <td>365</td>\n",
       "      <td>365</td>\n",
       "    </tr>\n",
       "    <tr>\n",
       "      <th>3</th>\n",
       "      <td>A720371</td>\n",
       "      <td>Moose</td>\n",
       "      <td>2016-02-13 17:59:00</td>\n",
       "      <td>Feb 2016</td>\n",
       "      <td>2015-10-08</td>\n",
       "      <td>Adoption</td>\n",
       "      <td>NaN</td>\n",
       "      <td>Dog</td>\n",
       "      <td>Neutered Male</td>\n",
       "      <td>4 months</td>\n",
       "      <td>Anatol Shepherd/Labrador Retriever</td>\n",
       "      <td>Buff</td>\n",
       "      <td>4</td>\n",
       "      <td>30</td>\n",
       "      <td>120</td>\n",
       "    </tr>\n",
       "    <tr>\n",
       "      <th>4</th>\n",
       "      <td>A674754</td>\n",
       "      <td>NaN</td>\n",
       "      <td>2014-03-18 11:47:00</td>\n",
       "      <td>Mar 2014</td>\n",
       "      <td>2014-03-12</td>\n",
       "      <td>Transfer</td>\n",
       "      <td>Partner</td>\n",
       "      <td>Cat</td>\n",
       "      <td>Intact Male</td>\n",
       "      <td>6 days</td>\n",
       "      <td>Domestic Shorthair Mix</td>\n",
       "      <td>Orange Tabby</td>\n",
       "      <td>6</td>\n",
       "      <td>1</td>\n",
       "      <td>6</td>\n",
       "    </tr>\n",
       "  </tbody>\n",
       "</table>\n",
       "</div>"
      ],
      "text/plain": [
       "  Animal ID   Name            DateTime MonthYear Date of Birth Outcome Type  \\\n",
       "0   A794011  Chunk 2019-05-08 18:20:00  May 2019    2017-05-02    Rto-Adopt   \n",
       "1   A776359  Gizmo 2018-07-18 16:02:00  Jul 2018    2017-07-12     Adoption   \n",
       "2   A821648    NaN 2020-08-16 11:38:00  Aug 2020    2019-08-16   Euthanasia   \n",
       "3   A720371  Moose 2016-02-13 17:59:00  Feb 2016    2015-10-08     Adoption   \n",
       "4   A674754    NaN 2014-03-18 11:47:00  Mar 2014    2014-03-12     Transfer   \n",
       "\n",
       "  Outcome Subtype Animal Type Sex upon Outcome Age upon Outcome  \\\n",
       "0             NaN         Cat    Neutered Male          2 years   \n",
       "1             NaN         Dog    Neutered Male           1 year   \n",
       "2             NaN       Other          Unknown           1 year   \n",
       "3             NaN         Dog    Neutered Male         4 months   \n",
       "4         Partner         Cat      Intact Male           6 days   \n",
       "\n",
       "                                Breed              Color  Age Number  \\\n",
       "0              Domestic Shorthair Mix  Brown Tabby/White           2   \n",
       "1             Chihuahua Shorthair Mix        White/Brown           1   \n",
       "2                             Raccoon               Gray           1   \n",
       "3  Anatol Shepherd/Labrador Retriever               Buff           4   \n",
       "4              Domestic Shorthair Mix       Orange Tabby           6   \n",
       "\n",
       "   Age Unit  Age in Days  \n",
       "0       365          730  \n",
       "1       365          365  \n",
       "2       365          365  \n",
       "3        30          120  \n",
       "4         1            6  "
      ]
     },
     "execution_count": 29,
     "metadata": {},
     "output_type": "execute_result"
    }
   ],
   "source": [
    "# Sanity check\n",
    "df_clean.head()"
   ]
  },
  {
   "cell_type": "code",
   "execution_count": 30,
   "metadata": {
    "hidden": true
   },
   "outputs": [
    {
     "data": {
      "image/png": "[encoded data removed]",
      "text/plain": [
       "<Figure size 432x288 with 1 Axes>"
      ]
     },
     "metadata": {
      "needs_background": "light"
     },
     "output_type": "display_data"
    }
   ],
   "source": [
    "# Now we can visualize!\n",
    "df_clean['Age in Days'].plot(kind='hist');"
   ]
  },
  {
   "cell_type": "code",
   "execution_count": 31,
   "metadata": {
    "hidden": true
   },
   "outputs": [],
   "source": [
    "# Of course, we could also try...\n",
    "# Use .dt.normalize on the DateTime column to access the date!\n",
    "df_clean['Calculated Age'] = df_clean['DateTime'].dt.normalize() - df_clean['Date of Birth']"
   ]
  },
  {
   "cell_type": "code",
   "execution_count": 32,
   "metadata": {
    "hidden": true
   },
   "outputs": [
    {
     "data": {
      "text/html": [
       "<div>\n",
       "<style scoped>\n",
       "    .dataframe tbody tr th:only-of-type {\n",
       "        vertical-align: middle;\n",
       "    }\n",
       "\n",
       "    .dataframe tbody tr th {\n",
       "        vertical-align: top;\n",
       "    }\n",
       "\n",
       "    .dataframe thead th {\n",
       "        text-align: right;\n",
       "    }\n",
       "</style>\n",
       "<table border=\"1\" class=\"dataframe\">\n",
       "  <thead>\n",
       "    <tr style=\"text-align: right;\">\n",
       "      <th></th>\n",
       "      <th>Animal ID</th>\n",
       "      <th>Name</th>\n",
       "      <th>DateTime</th>\n",
       "      <th>MonthYear</th>\n",
       "      <th>Date of Birth</th>\n",
       "      <th>Outcome Type</th>\n",
       "      <th>Outcome Subtype</th>\n",
       "      <th>Animal Type</th>\n",
       "      <th>Sex upon Outcome</th>\n",
       "      <th>Age upon Outcome</th>\n",
       "      <th>Breed</th>\n",
       "      <th>Color</th>\n",
       "      <th>Age Number</th>\n",
       "      <th>Age Unit</th>\n",
       "      <th>Age in Days</th>\n",
       "      <th>Calculated Age</th>\n",
       "    </tr>\n",
       "  </thead>\n",
       "  <tbody>\n",
       "    <tr>\n",
       "      <th>0</th>\n",
       "      <td>A794011</td>\n",
       "      <td>Chunk</td>\n",
       "      <td>2019-05-08 18:20:00</td>\n",
       "      <td>May 2019</td>\n",
       "      <td>2017-05-02</td>\n",
       "      <td>Rto-Adopt</td>\n",
       "      <td>NaN</td>\n",
       "      <td>Cat</td>\n",
       "      <td>Neutered Male</td>\n",
       "      <td>2 years</td>\n",
       "      <td>Domestic Shorthair Mix</td>\n",
       "      <td>Brown Tabby/White</td>\n",
       "      <td>2</td>\n",
       "      <td>365</td>\n",
       "      <td>730</td>\n",
       "      <td>736 days</td>\n",
       "    </tr>\n",
       "    <tr>\n",
       "      <th>1</th>\n",
       "      <td>A776359</td>\n",
       "      <td>Gizmo</td>\n",
       "      <td>2018-07-18 16:02:00</td>\n",
       "      <td>Jul 2018</td>\n",
       "      <td>2017-07-12</td>\n",
       "      <td>Adoption</td>\n",
       "      <td>NaN</td>\n",
       "      <td>Dog</td>\n",
       "      <td>Neutered Male</td>\n",
       "      <td>1 year</td>\n",
       "      <td>Chihuahua Shorthair Mix</td>\n",
       "      <td>White/Brown</td>\n",
       "      <td>1</td>\n",
       "      <td>365</td>\n",
       "      <td>365</td>\n",
       "      <td>371 days</td>\n",
       "    </tr>\n",
       "    <tr>\n",
       "      <th>2</th>\n",
       "      <td>A821648</td>\n",
       "      <td>NaN</td>\n",
       "      <td>2020-08-16 11:38:00</td>\n",
       "      <td>Aug 2020</td>\n",
       "      <td>2019-08-16</td>\n",
       "      <td>Euthanasia</td>\n",
       "      <td>NaN</td>\n",
       "      <td>Other</td>\n",
       "      <td>Unknown</td>\n",
       "      <td>1 year</td>\n",
       "      <td>Raccoon</td>\n",
       "      <td>Gray</td>\n",
       "      <td>1</td>\n",
       "      <td>365</td>\n",
       "      <td>365</td>\n",
       "      <td>366 days</td>\n",
       "    </tr>\n",
       "    <tr>\n",
       "      <th>3</th>\n",
       "      <td>A720371</td>\n",
       "      <td>Moose</td>\n",
       "      <td>2016-02-13 17:59:00</td>\n",
       "      <td>Feb 2016</td>\n",
       "      <td>2015-10-08</td>\n",
       "      <td>Adoption</td>\n",
       "      <td>NaN</td>\n",
       "      <td>Dog</td>\n",
       "      <td>Neutered Male</td>\n",
       "      <td>4 months</td>\n",
       "      <td>Anatol Shepherd/Labrador Retriever</td>\n",
       "      <td>Buff</td>\n",
       "      <td>4</td>\n",
       "      <td>30</td>\n",
       "      <td>120</td>\n",
       "      <td>128 days</td>\n",
       "    </tr>\n",
       "    <tr>\n",
       "      <th>4</th>\n",
       "      <td>A674754</td>\n",
       "      <td>NaN</td>\n",
       "      <td>2014-03-18 11:47:00</td>\n",
       "      <td>Mar 2014</td>\n",
       "      <td>2014-03-12</td>\n",
       "      <td>Transfer</td>\n",
       "      <td>Partner</td>\n",
       "      <td>Cat</td>\n",
       "      <td>Intact Male</td>\n",
       "      <td>6 days</td>\n",
       "      <td>Domestic Shorthair Mix</td>\n",
       "      <td>Orange Tabby</td>\n",
       "      <td>6</td>\n",
       "      <td>1</td>\n",
       "      <td>6</td>\n",
       "      <td>6 days</td>\n",
       "    </tr>\n",
       "  </tbody>\n",
       "</table>\n",
       "</div>"
      ],
      "text/plain": [
       "  Animal ID   Name            DateTime MonthYear Date of Birth Outcome Type  \\\n",
       "0   A794011  Chunk 2019-05-08 18:20:00  May 2019    2017-05-02    Rto-Adopt   \n",
       "1   A776359  Gizmo 2018-07-18 16:02:00  Jul 2018    2017-07-12     Adoption   \n",
       "2   A821648    NaN 2020-08-16 11:38:00  Aug 2020    2019-08-16   Euthanasia   \n",
       "3   A720371  Moose 2016-02-13 17:59:00  Feb 2016    2015-10-08     Adoption   \n",
       "4   A674754    NaN 2014-03-18 11:47:00  Mar 2014    2014-03-12     Transfer   \n",
       "\n",
       "  Outcome Subtype Animal Type Sex upon Outcome Age upon Outcome  \\\n",
       "0             NaN         Cat    Neutered Male          2 years   \n",
       "1             NaN         Dog    Neutered Male           1 year   \n",
       "2             NaN       Other          Unknown           1 year   \n",
       "3             NaN         Dog    Neutered Male         4 months   \n",
       "4         Partner         Cat      Intact Male           6 days   \n",
       "\n",
       "                                Breed              Color  Age Number  \\\n",
       "0              Domestic Shorthair Mix  Brown Tabby/White           2   \n",
       "1             Chihuahua Shorthair Mix        White/Brown           1   \n",
       "2                             Raccoon               Gray           1   \n",
       "3  Anatol Shepherd/Labrador Retriever               Buff           4   \n",
       "4              Domestic Shorthair Mix       Orange Tabby           6   \n",
       "\n",
       "   Age Unit  Age in Days Calculated Age  \n",
       "0       365          730       736 days  \n",
       "1       365          365       371 days  \n",
       "2       365          365       366 days  \n",
       "3        30          120       128 days  \n",
       "4         1            6         6 days  "
      ]
     },
     "execution_count": 32,
     "metadata": {},
     "output_type": "execute_result"
    }
   ],
   "source": [
    "# Check it\n",
    "df_clean.head()"
   ]
  },
  {
   "cell_type": "markdown",
   "metadata": {
    "heading_collapsed": true,
    "hidden": true
   },
   "source": [
    "## Question 2: Are Most of The Animals Already Fixed?"
   ]
  },
  {
   "cell_type": "markdown",
   "metadata": {
    "hidden": true
   },
   "source": [
    "Let's use `.map()` to turn the Sex upon Outcome column into a category with three values: Fixed, Intact, or Unknown. "
   ]
  },
  {
   "cell_type": "code",
   "execution_count": 33,
   "metadata": {
    "hidden": true
   },
   "outputs": [
    {
     "data": {
      "text/plain": [
       "Neutered Male    48299\n",
       "Spayed Female    43578\n",
       "Intact Male      17408\n",
       "Intact Female    16904\n",
       "Unknown          10902\n",
       "Name: Sex upon Outcome, dtype: int64"
      ]
     },
     "execution_count": 33,
     "metadata": {},
     "output_type": "execute_result"
    }
   ],
   "source": [
    "# Check out what's currently in that column\n",
    "df_clean['Sex upon Outcome'].value_counts()"
   ]
  },
  {
   "cell_type": "code",
   "execution_count": 34,
   "metadata": {
    "hidden": true
   },
   "outputs": [],
   "source": [
    "# We can write a function for this\n",
    "def fixed_mapper(status):\n",
    "    '''\n",
    "    Takes in the current status of animals and outputs whether they have been fixed\n",
    "    '''\n",
    "    if status in ['Neutered Male', 'Spayed Female']:\n",
    "        return 'Fixed'\n",
    "    elif status in ['Intact Male', 'Intact Female']:\n",
    "        return 'Intact'\n",
    "    else:\n",
    "        return 'Unknown'"
   ]
  },
  {
   "cell_type": "code",
   "execution_count": 35,
   "metadata": {
    "hidden": true
   },
   "outputs": [],
   "source": [
    "# Now let's use it!\n",
    "df_clean['Grouped Sex'] = df_clean['Sex upon Outcome'].map(fixed_mapper)"
   ]
  },
  {
   "cell_type": "code",
   "execution_count": 36,
   "metadata": {
    "hidden": true
   },
   "outputs": [
    {
     "data": {
      "text/plain": [
       "Animal ID               0\n",
       "Name                40999\n",
       "DateTime                0\n",
       "MonthYear               0\n",
       "Date of Birth           0\n",
       "Outcome Type           23\n",
       "Outcome Subtype     74443\n",
       "Animal Type             0\n",
       "Sex upon Outcome        1\n",
       "Age upon Outcome        0\n",
       "Breed                   0\n",
       "Color                   0\n",
       "Age Number              0\n",
       "Age Unit                0\n",
       "Age in Days             0\n",
       "Calculated Age          0\n",
       "Grouped Sex             0\n",
       "dtype: int64"
      ]
     },
     "execution_count": 36,
     "metadata": {},
     "output_type": "execute_result"
    }
   ],
   "source": [
    "# We had a null in that column before, did that change?\n",
    "df_clean.isnull().sum()"
   ]
  },
  {
   "cell_type": "code",
   "execution_count": 39,
   "metadata": {
    "hidden": true
   },
   "outputs": [
    {
     "data": {
      "image/png": "[encoded data removed]",
      "text/plain": [
       "<Figure size 432x288 with 1 Axes>"
      ]
     },
     "metadata": {
      "needs_background": "light"
     },
     "output_type": "display_data"
    }
   ],
   "source": [
    "# Visualize it!\n",
    "df_clean['Grouped Sex'].value_counts().plot(kind='barh');"
   ]
  },
  {
   "cell_type": "markdown",
   "metadata": {
    "heading_collapsed": true,
    "hidden": true
   },
   "source": [
    "## A Quick Aside - for Lambda Functions!"
   ]
  },
  {
   "cell_type": "markdown",
   "metadata": {
    "hidden": true
   },
   "source": [
    "Simple functions can be defined just when you need them, when you would call the function. These are called **lambda functions**. These functions are **anonymous** and disappear immediately after use.\n",
    "\n",
    "These can often be great as map transformation functions, but they can only do so much.\n",
    "\n",
    "Let's use them to fill some nulls!"
   ]
  },
  {
   "cell_type": "code",
   "execution_count": 40,
   "metadata": {
    "hidden": true
   },
   "outputs": [
    {
     "data": {
      "text/plain": [
       "Animal ID               0\n",
       "Name                40999\n",
       "DateTime                0\n",
       "MonthYear               0\n",
       "Date of Birth           0\n",
       "Outcome Type           23\n",
       "Outcome Subtype     74443\n",
       "Animal Type             0\n",
       "Sex upon Outcome        1\n",
       "Age upon Outcome        0\n",
       "Breed                   0\n",
       "Color                   0\n",
       "Age Number              0\n",
       "Age Unit                0\n",
       "Age in Days             0\n",
       "Calculated Age          0\n",
       "Grouped Sex             0\n",
       "dtype: int64"
      ]
     },
     "execution_count": 40,
     "metadata": {},
     "output_type": "execute_result"
    }
   ],
   "source": [
    "# Check which columns still have null values\n",
    "df_clean.isna().sum()"
   ]
  },
  {
   "cell_type": "markdown",
   "metadata": {
    "hidden": true
   },
   "source": [
    "Let's look at Outcome Subtype - a lot of nulls, why do we think that is? What would be an appropriate strategy here?\n",
    "\n",
    "<br>\n",
    "<details>\n",
    "    <summary>Possible Answer</summary>\n",
    "\n",
    "- Might be that the Type doesn't have Subtypes, or that there hasn't been an outcome yet\n",
    "- Would be appropriate to fill with N/A\n",
    "    \n",
    "</details>\n",
    "\n",
    "\n",
    "\n"
   ]
  },
  {
   "cell_type": "code",
   "execution_count": 41,
   "metadata": {
    "hidden": true
   },
   "outputs": [
    {
     "data": {
      "text/plain": [
       "0             N/A\n",
       "1             N/A\n",
       "2             N/A\n",
       "3             N/A\n",
       "4         Partner\n",
       "           ...   \n",
       "137092        N/A\n",
       "137093    Partner\n",
       "137094     Foster\n",
       "137095     Foster\n",
       "137096        N/A\n",
       "Name: Outcome Subtype, Length: 137092, dtype: object"
      ]
     },
     "execution_count": 41,
     "metadata": {},
     "output_type": "execute_result"
    }
   ],
   "source": [
    "# Let's try it!\n",
    "# Note: need to use x is np.nan as our if condition\n",
    "df_clean['Outcome Subtype'].map(lambda x: \"N/A\" if x is np.nan else x)"
   ]
  },
  {
   "cell_type": "code",
   "execution_count": 42,
   "metadata": {
    "hidden": true
   },
   "outputs": [
    {
     "data": {
      "text/plain": [
       "0             N/A\n",
       "1             N/A\n",
       "2             N/A\n",
       "3             N/A\n",
       "4         Partner\n",
       "           ...   \n",
       "137092        N/A\n",
       "137093    Partner\n",
       "137094     Foster\n",
       "137095     Foster\n",
       "137096        N/A\n",
       "Name: Outcome Subtype, Length: 137092, dtype: object"
      ]
     },
     "execution_count": 42,
     "metadata": {},
     "output_type": "execute_result"
    }
   ],
   "source": [
    "# BUT! Pandas has a function for this\n",
    "df_clean['Outcome Subtype'] = df_clean['Outcome Subtype'].fillna(\"N/A\")\n",
    "df_clean['Outcome Subtype']"
   ]
  },
  {
   "cell_type": "code",
   "execution_count": 43,
   "metadata": {
    "hidden": true
   },
   "outputs": [
    {
     "data": {
      "text/plain": [
       "array(['Rto-Adopt', 'Adoption', 'Euthanasia', 'Transfer',\n",
       "       'Return to Owner', 'Died', 'Disposal', 'Missing', 'Relocate', nan],\n",
       "      dtype=object)"
      ]
     },
     "execution_count": 43,
     "metadata": {},
     "output_type": "execute_result"
    }
   ],
   "source": [
    "# We can use one of these methods to fill the nulls for Outcome Type too\n",
    "# Explore the column here\n",
    "df_clean['Outcome Type'].unique()"
   ]
  },
  {
   "cell_type": "code",
   "execution_count": 44,
   "metadata": {
    "hidden": true
   },
   "outputs": [],
   "source": [
    "# Fill nulls here\n",
    "df_clean['Outcome Type'] = df_clean['Outcome Type'].fillna(\"Unknown\")"
   ]
  },
  {
   "cell_type": "code",
   "execution_count": 45,
   "metadata": {
    "hidden": true
   },
   "outputs": [
    {
     "data": {
      "text/plain": [
       "Animal ID               0\n",
       "Name                40999\n",
       "DateTime                0\n",
       "MonthYear               0\n",
       "Date of Birth           0\n",
       "Outcome Type            0\n",
       "Outcome Subtype         0\n",
       "Animal Type             0\n",
       "Sex upon Outcome        1\n",
       "Age upon Outcome        0\n",
       "Breed                   0\n",
       "Color                   0\n",
       "Age Number              0\n",
       "Age Unit                0\n",
       "Age in Days             0\n",
       "Calculated Age          0\n",
       "Grouped Sex             0\n",
       "dtype: int64"
      ]
     },
     "execution_count": 45,
     "metadata": {},
     "output_type": "execute_result"
    }
   ],
   "source": [
    "# Sanity Check\n",
    "df_clean.isna().sum()"
   ]
  },
  {
   "cell_type": "markdown",
   "metadata": {
    "heading_collapsed": true,
    "hidden": true
   },
   "source": [
    "### One More Strategy: Build a Missing Indicator\n",
    "\n",
    "While this doesn't directly answer a question we have, let's go ahead and build a new column to indicate where Name is null (just to demo).\n",
    "\n",
    "This can be quite useful when modeling, if the data being missing actually means something!"
   ]
  },
  {
   "cell_type": "code",
   "execution_count": 46,
   "metadata": {
    "hidden": true
   },
   "outputs": [],
   "source": [
    "# Quick pandas method for this\n",
    "df_clean['Name Missing'] = df_clean['Name'].isna()"
   ]
  },
  {
   "cell_type": "markdown",
   "metadata": {
    "hidden": true
   },
   "source": [
    "Might be more interesting to build an indicator of where \"Mix\" is in the Breed column"
   ]
  },
  {
   "cell_type": "code",
   "execution_count": 48,
   "metadata": {
    "hidden": true
   },
   "outputs": [],
   "source": [
    "# Let's do it\n",
    "#df_clean['Breed'].value_counts()\n",
    "df_clean['Mix Indicator'] = df_clean['Breed'].str.lower().str.contains('Mix')"
   ]
  },
  {
   "cell_type": "code",
   "execution_count": 49,
   "metadata": {
    "hidden": true
   },
   "outputs": [
    {
     "data": {
      "text/html": [
       "<div>\n",
       "<style scoped>\n",
       "    .dataframe tbody tr th:only-of-type {\n",
       "        vertical-align: middle;\n",
       "    }\n",
       "\n",
       "    .dataframe tbody tr th {\n",
       "        vertical-align: top;\n",
       "    }\n",
       "\n",
       "    .dataframe thead th {\n",
       "        text-align: right;\n",
       "    }\n",
       "</style>\n",
       "<table border=\"1\" class=\"dataframe\">\n",
       "  <thead>\n",
       "    <tr style=\"text-align: right;\">\n",
       "      <th></th>\n",
       "      <th>Animal ID</th>\n",
       "      <th>Name</th>\n",
       "      <th>DateTime</th>\n",
       "      <th>MonthYear</th>\n",
       "      <th>Date of Birth</th>\n",
       "      <th>Outcome Type</th>\n",
       "      <th>Outcome Subtype</th>\n",
       "      <th>Animal Type</th>\n",
       "      <th>Sex upon Outcome</th>\n",
       "      <th>Age upon Outcome</th>\n",
       "      <th>Breed</th>\n",
       "      <th>Color</th>\n",
       "      <th>Age Number</th>\n",
       "      <th>Age Unit</th>\n",
       "      <th>Age in Days</th>\n",
       "      <th>Calculated Age</th>\n",
       "      <th>Grouped Sex</th>\n",
       "      <th>Name Missing</th>\n",
       "      <th>Mix Indicator</th>\n",
       "    </tr>\n",
       "  </thead>\n",
       "  <tbody>\n",
       "    <tr>\n",
       "      <th>0</th>\n",
       "      <td>A794011</td>\n",
       "      <td>Chunk</td>\n",
       "      <td>2019-05-08 18:20:00</td>\n",
       "      <td>May 2019</td>\n",
       "      <td>2017-05-02</td>\n",
       "      <td>Rto-Adopt</td>\n",
       "      <td>N/A</td>\n",
       "      <td>Cat</td>\n",
       "      <td>Neutered Male</td>\n",
       "      <td>2 years</td>\n",
       "      <td>Domestic Shorthair Mix</td>\n",
       "      <td>Brown Tabby/White</td>\n",
       "      <td>2</td>\n",
       "      <td>365</td>\n",
       "      <td>730</td>\n",
       "      <td>736 days</td>\n",
       "      <td>Fixed</td>\n",
       "      <td>False</td>\n",
       "      <td>True</td>\n",
       "    </tr>\n",
       "    <tr>\n",
       "      <th>1</th>\n",
       "      <td>A776359</td>\n",
       "      <td>Gizmo</td>\n",
       "      <td>2018-07-18 16:02:00</td>\n",
       "      <td>Jul 2018</td>\n",
       "      <td>2017-07-12</td>\n",
       "      <td>Adoption</td>\n",
       "      <td>N/A</td>\n",
       "      <td>Dog</td>\n",
       "      <td>Neutered Male</td>\n",
       "      <td>1 year</td>\n",
       "      <td>Chihuahua Shorthair Mix</td>\n",
       "      <td>White/Brown</td>\n",
       "      <td>1</td>\n",
       "      <td>365</td>\n",
       "      <td>365</td>\n",
       "      <td>371 days</td>\n",
       "      <td>Fixed</td>\n",
       "      <td>False</td>\n",
       "      <td>True</td>\n",
       "    </tr>\n",
       "    <tr>\n",
       "      <th>2</th>\n",
       "      <td>A821648</td>\n",
       "      <td>NaN</td>\n",
       "      <td>2020-08-16 11:38:00</td>\n",
       "      <td>Aug 2020</td>\n",
       "      <td>2019-08-16</td>\n",
       "      <td>Euthanasia</td>\n",
       "      <td>N/A</td>\n",
       "      <td>Other</td>\n",
       "      <td>Unknown</td>\n",
       "      <td>1 year</td>\n",
       "      <td>Raccoon</td>\n",
       "      <td>Gray</td>\n",
       "      <td>1</td>\n",
       "      <td>365</td>\n",
       "      <td>365</td>\n",
       "      <td>366 days</td>\n",
       "      <td>Unknown</td>\n",
       "      <td>True</td>\n",
       "      <td>False</td>\n",
       "    </tr>\n",
       "    <tr>\n",
       "      <th>3</th>\n",
       "      <td>A720371</td>\n",
       "      <td>Moose</td>\n",
       "      <td>2016-02-13 17:59:00</td>\n",
       "      <td>Feb 2016</td>\n",
       "      <td>2015-10-08</td>\n",
       "      <td>Adoption</td>\n",
       "      <td>N/A</td>\n",
       "      <td>Dog</td>\n",
       "      <td>Neutered Male</td>\n",
       "      <td>4 months</td>\n",
       "      <td>Anatol Shepherd/Labrador Retriever</td>\n",
       "      <td>Buff</td>\n",
       "      <td>4</td>\n",
       "      <td>30</td>\n",
       "      <td>120</td>\n",
       "      <td>128 days</td>\n",
       "      <td>Fixed</td>\n",
       "      <td>False</td>\n",
       "      <td>False</td>\n",
       "    </tr>\n",
       "    <tr>\n",
       "      <th>4</th>\n",
       "      <td>A674754</td>\n",
       "      <td>NaN</td>\n",
       "      <td>2014-03-18 11:47:00</td>\n",
       "      <td>Mar 2014</td>\n",
       "      <td>2014-03-12</td>\n",
       "      <td>Transfer</td>\n",
       "      <td>Partner</td>\n",
       "      <td>Cat</td>\n",
       "      <td>Intact Male</td>\n",
       "      <td>6 days</td>\n",
       "      <td>Domestic Shorthair Mix</td>\n",
       "      <td>Orange Tabby</td>\n",
       "      <td>6</td>\n",
       "      <td>1</td>\n",
       "      <td>6</td>\n",
       "      <td>6 days</td>\n",
       "      <td>Intact</td>\n",
       "      <td>True</td>\n",
       "      <td>True</td>\n",
       "    </tr>\n",
       "  </tbody>\n",
       "</table>\n",
       "</div>"
      ],
      "text/plain": [
       "  Animal ID   Name            DateTime MonthYear Date of Birth Outcome Type  \\\n",
       "0   A794011  Chunk 2019-05-08 18:20:00  May 2019    2017-05-02    Rto-Adopt   \n",
       "1   A776359  Gizmo 2018-07-18 16:02:00  Jul 2018    2017-07-12     Adoption   \n",
       "2   A821648    NaN 2020-08-16 11:38:00  Aug 2020    2019-08-16   Euthanasia   \n",
       "3   A720371  Moose 2016-02-13 17:59:00  Feb 2016    2015-10-08     Adoption   \n",
       "4   A674754    NaN 2014-03-18 11:47:00  Mar 2014    2014-03-12     Transfer   \n",
       "\n",
       "  Outcome Subtype Animal Type Sex upon Outcome Age upon Outcome  \\\n",
       "0             N/A         Cat    Neutered Male          2 years   \n",
       "1             N/A         Dog    Neutered Male           1 year   \n",
       "2             N/A       Other          Unknown           1 year   \n",
       "3             N/A         Dog    Neutered Male         4 months   \n",
       "4         Partner         Cat      Intact Male           6 days   \n",
       "\n",
       "                                Breed              Color  Age Number  \\\n",
       "0              Domestic Shorthair Mix  Brown Tabby/White           2   \n",
       "1             Chihuahua Shorthair Mix        White/Brown           1   \n",
       "2                             Raccoon               Gray           1   \n",
       "3  Anatol Shepherd/Labrador Retriever               Buff           4   \n",
       "4              Domestic Shorthair Mix       Orange Tabby           6   \n",
       "\n",
       "   Age Unit  Age in Days Calculated Age Grouped Sex  Name Missing  \\\n",
       "0       365          730       736 days       Fixed         False   \n",
       "1       365          365       371 days       Fixed         False   \n",
       "2       365          365       366 days     Unknown          True   \n",
       "3        30          120       128 days       Fixed         False   \n",
       "4         1            6         6 days      Intact          True   \n",
       "\n",
       "   Mix Indicator  \n",
       "0           True  \n",
       "1           True  \n",
       "2          False  \n",
       "3          False  \n",
       "4           True  "
      ]
     },
     "execution_count": 49,
     "metadata": {},
     "output_type": "execute_result"
    }
   ],
   "source": [
    "# Sanity check\n",
    "df_clean.head()"
   ]
  },
  {
   "cell_type": "markdown",
   "metadata": {
    "heading_collapsed": true,
    "hidden": true
   },
   "source": [
    "## Comparing Before and After"
   ]
  },
  {
   "cell_type": "markdown",
   "metadata": {
    "hidden": true
   },
   "source": [
    "We can now see all the work we did!"
   ]
  },
  {
   "cell_type": "code",
   "execution_count": 50,
   "metadata": {
    "hidden": true
   },
   "outputs": [
    {
     "name": "stdout",
     "output_type": "stream",
     "text": [
      "<class 'pandas.core.frame.DataFrame'>\n",
      "RangeIndex: 137097 entries, 0 to 137096\n",
      "Data columns (total 14 columns):\n",
      " #   Column            Non-Null Count   Dtype         \n",
      "---  ------            --------------   -----         \n",
      " 0   Animal ID         137097 non-null  object        \n",
      " 1   Name              96095 non-null   object        \n",
      " 2   DateTime          137097 non-null  datetime64[ns]\n",
      " 3   MonthYear         137097 non-null  object        \n",
      " 4   Date of Birth     137097 non-null  datetime64[ns]\n",
      " 5   Outcome Type      137073 non-null  object        \n",
      " 6   Outcome Subtype   62653 non-null   object        \n",
      " 7   Animal Type       137097 non-null  object        \n",
      " 8   Sex upon Outcome  137095 non-null  object        \n",
      " 9   Age upon Outcome  137092 non-null  object        \n",
      " 10  Breed             137097 non-null  object        \n",
      " 11  Color             137097 non-null  object        \n",
      " 12  Age Number        137092 non-null  object        \n",
      " 13  Age Unit          137092 non-null  object        \n",
      "dtypes: datetime64[ns](2), object(12)\n",
      "memory usage: 14.6+ MB\n"
     ]
    }
   ],
   "source": [
    "# Original data\n",
    "df.info()"
   ]
  },
  {
   "cell_type": "code",
   "execution_count": 51,
   "metadata": {
    "hidden": true,
    "scrolled": false
   },
   "outputs": [
    {
     "name": "stdout",
     "output_type": "stream",
     "text": [
      "<class 'pandas.core.frame.DataFrame'>\n",
      "Int64Index: 137092 entries, 0 to 137096\n",
      "Data columns (total 19 columns):\n",
      " #   Column            Non-Null Count   Dtype          \n",
      "---  ------            --------------   -----          \n",
      " 0   Animal ID         137092 non-null  object         \n",
      " 1   Name              96093 non-null   object         \n",
      " 2   DateTime          137092 non-null  datetime64[ns] \n",
      " 3   MonthYear         137092 non-null  object         \n",
      " 4   Date of Birth     137092 non-null  datetime64[ns] \n",
      " 5   Outcome Type      137092 non-null  object         \n",
      " 6   Outcome Subtype   137092 non-null  object         \n",
      " 7   Animal Type       137092 non-null  object         \n",
      " 8   Sex upon Outcome  137091 non-null  object         \n",
      " 9   Age upon Outcome  137092 non-null  object         \n",
      " 10  Breed             137092 non-null  object         \n",
      " 11  Color             137092 non-null  object         \n",
      " 12  Age Number        137092 non-null  int32          \n",
      " 13  Age Unit          137092 non-null  int64          \n",
      " 14  Age in Days       137092 non-null  int64          \n",
      " 15  Calculated Age    137092 non-null  timedelta64[ns]\n",
      " 16  Grouped Sex       137092 non-null  object         \n",
      " 17  Name Missing      137092 non-null  bool           \n",
      " 18  Mix Indicator     137092 non-null  bool           \n",
      "dtypes: bool(2), datetime64[ns](2), int32(1), int64(2), object(11), timedelta64[ns](1)\n",
      "memory usage: 18.6+ MB\n"
     ]
    }
   ],
   "source": [
    "# Missing data cleaned\n",
    "df_clean.info()"
   ]
  },
  {
   "cell_type": "markdown",
   "metadata": {
    "heading_collapsed": true
   },
   "source": [
    "# Level Up: `.applymap()`"
   ]
  },
  {
   "cell_type": "markdown",
   "metadata": {
    "hidden": true
   },
   "source": [
    "`.applymap()` is used to apply a transformation to each element of a DataFrame."
   ]
  },
  {
   "cell_type": "code",
   "execution_count": 52,
   "metadata": {
    "hidden": true,
    "scrolled": false
   },
   "outputs": [
    {
     "data": {
      "text/html": [
       "<div>\n",
       "<style scoped>\n",
       "    .dataframe tbody tr th:only-of-type {\n",
       "        vertical-align: middle;\n",
       "    }\n",
       "\n",
       "    .dataframe tbody tr th {\n",
       "        vertical-align: top;\n",
       "    }\n",
       "\n",
       "    .dataframe thead th {\n",
       "        text-align: right;\n",
       "    }\n",
       "</style>\n",
       "<table border=\"1\" class=\"dataframe\">\n",
       "  <thead>\n",
       "    <tr style=\"text-align: right;\">\n",
       "      <th></th>\n",
       "      <th>Animal ID</th>\n",
       "      <th>Name</th>\n",
       "      <th>DateTime</th>\n",
       "      <th>MonthYear</th>\n",
       "      <th>Date of Birth</th>\n",
       "      <th>Outcome Type</th>\n",
       "      <th>Outcome Subtype</th>\n",
       "      <th>Animal Type</th>\n",
       "      <th>Sex upon Outcome</th>\n",
       "      <th>Age upon Outcome</th>\n",
       "      <th>Breed</th>\n",
       "      <th>Color</th>\n",
       "      <th>Age Number</th>\n",
       "      <th>Age Unit</th>\n",
       "    </tr>\n",
       "  </thead>\n",
       "  <tbody>\n",
       "    <tr>\n",
       "      <th>0</th>\n",
       "      <td>&lt;class 'str'&gt;</td>\n",
       "      <td>&lt;class 'str'&gt;</td>\n",
       "      <td>&lt;class 'pandas._libs.tslibs.timestamps.Timesta...</td>\n",
       "      <td>&lt;class 'str'&gt;</td>\n",
       "      <td>&lt;class 'pandas._libs.tslibs.timestamps.Timesta...</td>\n",
       "      <td>&lt;class 'str'&gt;</td>\n",
       "      <td>&lt;class 'float'&gt;</td>\n",
       "      <td>&lt;class 'str'&gt;</td>\n",
       "      <td>&lt;class 'str'&gt;</td>\n",
       "      <td>&lt;class 'str'&gt;</td>\n",
       "      <td>&lt;class 'str'&gt;</td>\n",
       "      <td>&lt;class 'str'&gt;</td>\n",
       "      <td>&lt;class 'str'&gt;</td>\n",
       "      <td>&lt;class 'str'&gt;</td>\n",
       "    </tr>\n",
       "    <tr>\n",
       "      <th>1</th>\n",
       "      <td>&lt;class 'str'&gt;</td>\n",
       "      <td>&lt;class 'str'&gt;</td>\n",
       "      <td>&lt;class 'pandas._libs.tslibs.timestamps.Timesta...</td>\n",
       "      <td>&lt;class 'str'&gt;</td>\n",
       "      <td>&lt;class 'pandas._libs.tslibs.timestamps.Timesta...</td>\n",
       "      <td>&lt;class 'str'&gt;</td>\n",
       "      <td>&lt;class 'float'&gt;</td>\n",
       "      <td>&lt;class 'str'&gt;</td>\n",
       "      <td>&lt;class 'str'&gt;</td>\n",
       "      <td>&lt;class 'str'&gt;</td>\n",
       "      <td>&lt;class 'str'&gt;</td>\n",
       "      <td>&lt;class 'str'&gt;</td>\n",
       "      <td>&lt;class 'str'&gt;</td>\n",
       "      <td>&lt;class 'str'&gt;</td>\n",
       "    </tr>\n",
       "    <tr>\n",
       "      <th>2</th>\n",
       "      <td>&lt;class 'str'&gt;</td>\n",
       "      <td>&lt;class 'float'&gt;</td>\n",
       "      <td>&lt;class 'pandas._libs.tslibs.timestamps.Timesta...</td>\n",
       "      <td>&lt;class 'str'&gt;</td>\n",
       "      <td>&lt;class 'pandas._libs.tslibs.timestamps.Timesta...</td>\n",
       "      <td>&lt;class 'str'&gt;</td>\n",
       "      <td>&lt;class 'float'&gt;</td>\n",
       "      <td>&lt;class 'str'&gt;</td>\n",
       "      <td>&lt;class 'str'&gt;</td>\n",
       "      <td>&lt;class 'str'&gt;</td>\n",
       "      <td>&lt;class 'str'&gt;</td>\n",
       "      <td>&lt;class 'str'&gt;</td>\n",
       "      <td>&lt;class 'str'&gt;</td>\n",
       "      <td>&lt;class 'str'&gt;</td>\n",
       "    </tr>\n",
       "    <tr>\n",
       "      <th>3</th>\n",
       "      <td>&lt;class 'str'&gt;</td>\n",
       "      <td>&lt;class 'str'&gt;</td>\n",
       "      <td>&lt;class 'pandas._libs.tslibs.timestamps.Timesta...</td>\n",
       "      <td>&lt;class 'str'&gt;</td>\n",
       "      <td>&lt;class 'pandas._libs.tslibs.timestamps.Timesta...</td>\n",
       "      <td>&lt;class 'str'&gt;</td>\n",
       "      <td>&lt;class 'float'&gt;</td>\n",
       "      <td>&lt;class 'str'&gt;</td>\n",
       "      <td>&lt;class 'str'&gt;</td>\n",
       "      <td>&lt;class 'str'&gt;</td>\n",
       "      <td>&lt;class 'str'&gt;</td>\n",
       "      <td>&lt;class 'str'&gt;</td>\n",
       "      <td>&lt;class 'str'&gt;</td>\n",
       "      <td>&lt;class 'str'&gt;</td>\n",
       "    </tr>\n",
       "    <tr>\n",
       "      <th>4</th>\n",
       "      <td>&lt;class 'str'&gt;</td>\n",
       "      <td>&lt;class 'float'&gt;</td>\n",
       "      <td>&lt;class 'pandas._libs.tslibs.timestamps.Timesta...</td>\n",
       "      <td>&lt;class 'str'&gt;</td>\n",
       "      <td>&lt;class 'pandas._libs.tslibs.timestamps.Timesta...</td>\n",
       "      <td>&lt;class 'str'&gt;</td>\n",
       "      <td>&lt;class 'str'&gt;</td>\n",
       "      <td>&lt;class 'str'&gt;</td>\n",
       "      <td>&lt;class 'str'&gt;</td>\n",
       "      <td>&lt;class 'str'&gt;</td>\n",
       "      <td>&lt;class 'str'&gt;</td>\n",
       "      <td>&lt;class 'str'&gt;</td>\n",
       "      <td>&lt;class 'str'&gt;</td>\n",
       "      <td>&lt;class 'str'&gt;</td>\n",
       "    </tr>\n",
       "  </tbody>\n",
       "</table>\n",
       "</div>"
      ],
      "text/plain": [
       "       Animal ID             Name  \\\n",
       "0  <class 'str'>    <class 'str'>   \n",
       "1  <class 'str'>    <class 'str'>   \n",
       "2  <class 'str'>  <class 'float'>   \n",
       "3  <class 'str'>    <class 'str'>   \n",
       "4  <class 'str'>  <class 'float'>   \n",
       "\n",
       "                                            DateTime      MonthYear  \\\n",
       "0  <class 'pandas._libs.tslibs.timestamps.Timesta...  <class 'str'>   \n",
       "1  <class 'pandas._libs.tslibs.timestamps.Timesta...  <class 'str'>   \n",
       "2  <class 'pandas._libs.tslibs.timestamps.Timesta...  <class 'str'>   \n",
       "3  <class 'pandas._libs.tslibs.timestamps.Timesta...  <class 'str'>   \n",
       "4  <class 'pandas._libs.tslibs.timestamps.Timesta...  <class 'str'>   \n",
       "\n",
       "                                       Date of Birth   Outcome Type  \\\n",
       "0  <class 'pandas._libs.tslibs.timestamps.Timesta...  <class 'str'>   \n",
       "1  <class 'pandas._libs.tslibs.timestamps.Timesta...  <class 'str'>   \n",
       "2  <class 'pandas._libs.tslibs.timestamps.Timesta...  <class 'str'>   \n",
       "3  <class 'pandas._libs.tslibs.timestamps.Timesta...  <class 'str'>   \n",
       "4  <class 'pandas._libs.tslibs.timestamps.Timesta...  <class 'str'>   \n",
       "\n",
       "   Outcome Subtype    Animal Type Sex upon Outcome Age upon Outcome  \\\n",
       "0  <class 'float'>  <class 'str'>    <class 'str'>    <class 'str'>   \n",
       "1  <class 'float'>  <class 'str'>    <class 'str'>    <class 'str'>   \n",
       "2  <class 'float'>  <class 'str'>    <class 'str'>    <class 'str'>   \n",
       "3  <class 'float'>  <class 'str'>    <class 'str'>    <class 'str'>   \n",
       "4    <class 'str'>  <class 'str'>    <class 'str'>    <class 'str'>   \n",
       "\n",
       "           Breed          Color     Age Number       Age Unit  \n",
       "0  <class 'str'>  <class 'str'>  <class 'str'>  <class 'str'>  \n",
       "1  <class 'str'>  <class 'str'>  <class 'str'>  <class 'str'>  \n",
       "2  <class 'str'>  <class 'str'>  <class 'str'>  <class 'str'>  \n",
       "3  <class 'str'>  <class 'str'>  <class 'str'>  <class 'str'>  \n",
       "4  <class 'str'>  <class 'str'>  <class 'str'>  <class 'str'>  "
      ]
     },
     "execution_count": 52,
     "metadata": {},
     "output_type": "execute_result"
    }
   ],
   "source": [
    "# This line will apply the base `type()` function to \n",
    "# all entries of the DataFrame.\n",
    "\n",
    "df.applymap(type).head()"
   ]
  },
  {
   "cell_type": "markdown",
   "metadata": {
    "heading_collapsed": true
   },
   "source": [
    "# Level Up: Faster NumPy Methods"
   ]
  },
  {
   "cell_type": "markdown",
   "metadata": {
    "hidden": true
   },
   "source": [
    "In general, `np.where()` and `np.select()` are faster than `map()`. This won't matter too much with reasonably-sized data but can be a consideration for ***big data***."
   ]
  },
  {
   "cell_type": "code",
   "execution_count": 53,
   "metadata": {
    "hidden": true
   },
   "outputs": [],
   "source": [
    "# Let's copy the dataframe to play around with\n",
    "level_up = df_clean.copy()"
   ]
  },
  {
   "cell_type": "code",
   "execution_count": 54,
   "metadata": {
    "hidden": true
   },
   "outputs": [
    {
     "data": {
      "text/html": [
       "<div>\n",
       "<style scoped>\n",
       "    .dataframe tbody tr th:only-of-type {\n",
       "        vertical-align: middle;\n",
       "    }\n",
       "\n",
       "    .dataframe tbody tr th {\n",
       "        vertical-align: top;\n",
       "    }\n",
       "\n",
       "    .dataframe thead th {\n",
       "        text-align: right;\n",
       "    }\n",
       "</style>\n",
       "<table border=\"1\" class=\"dataframe\">\n",
       "  <thead>\n",
       "    <tr style=\"text-align: right;\">\n",
       "      <th></th>\n",
       "      <th>Animal ID</th>\n",
       "      <th>Name</th>\n",
       "      <th>DateTime</th>\n",
       "      <th>MonthYear</th>\n",
       "      <th>Date of Birth</th>\n",
       "      <th>Outcome Type</th>\n",
       "      <th>Outcome Subtype</th>\n",
       "      <th>Animal Type</th>\n",
       "      <th>Sex upon Outcome</th>\n",
       "      <th>Age upon Outcome</th>\n",
       "      <th>Breed</th>\n",
       "      <th>Color</th>\n",
       "      <th>Age Number</th>\n",
       "      <th>Age Unit</th>\n",
       "      <th>Age in Days</th>\n",
       "      <th>Calculated Age</th>\n",
       "      <th>Grouped Sex</th>\n",
       "      <th>Name Missing</th>\n",
       "      <th>Mix Indicator</th>\n",
       "    </tr>\n",
       "  </thead>\n",
       "  <tbody>\n",
       "    <tr>\n",
       "      <th>0</th>\n",
       "      <td>A794011</td>\n",
       "      <td>Chunk</td>\n",
       "      <td>2019-05-08 18:20:00</td>\n",
       "      <td>May 2019</td>\n",
       "      <td>2017-05-02</td>\n",
       "      <td>Rto-Adopt</td>\n",
       "      <td>N/A</td>\n",
       "      <td>Cat</td>\n",
       "      <td>Neutered Male</td>\n",
       "      <td>2 years</td>\n",
       "      <td>Domestic Shorthair Mix</td>\n",
       "      <td>Brown Tabby/White</td>\n",
       "      <td>2</td>\n",
       "      <td>365</td>\n",
       "      <td>730</td>\n",
       "      <td>736 days</td>\n",
       "      <td>Fixed</td>\n",
       "      <td>False</td>\n",
       "      <td>True</td>\n",
       "    </tr>\n",
       "    <tr>\n",
       "      <th>1</th>\n",
       "      <td>A776359</td>\n",
       "      <td>Gizmo</td>\n",
       "      <td>2018-07-18 16:02:00</td>\n",
       "      <td>Jul 2018</td>\n",
       "      <td>2017-07-12</td>\n",
       "      <td>Adoption</td>\n",
       "      <td>N/A</td>\n",
       "      <td>Dog</td>\n",
       "      <td>Neutered Male</td>\n",
       "      <td>1 year</td>\n",
       "      <td>Chihuahua Shorthair Mix</td>\n",
       "      <td>White/Brown</td>\n",
       "      <td>1</td>\n",
       "      <td>365</td>\n",
       "      <td>365</td>\n",
       "      <td>371 days</td>\n",
       "      <td>Fixed</td>\n",
       "      <td>False</td>\n",
       "      <td>True</td>\n",
       "    </tr>\n",
       "    <tr>\n",
       "      <th>2</th>\n",
       "      <td>A821648</td>\n",
       "      <td>NaN</td>\n",
       "      <td>2020-08-16 11:38:00</td>\n",
       "      <td>Aug 2020</td>\n",
       "      <td>2019-08-16</td>\n",
       "      <td>Euthanasia</td>\n",
       "      <td>N/A</td>\n",
       "      <td>Other</td>\n",
       "      <td>Unknown</td>\n",
       "      <td>1 year</td>\n",
       "      <td>Raccoon</td>\n",
       "      <td>Gray</td>\n",
       "      <td>1</td>\n",
       "      <td>365</td>\n",
       "      <td>365</td>\n",
       "      <td>366 days</td>\n",
       "      <td>Unknown</td>\n",
       "      <td>True</td>\n",
       "      <td>False</td>\n",
       "    </tr>\n",
       "    <tr>\n",
       "      <th>3</th>\n",
       "      <td>A720371</td>\n",
       "      <td>Moose</td>\n",
       "      <td>2016-02-13 17:59:00</td>\n",
       "      <td>Feb 2016</td>\n",
       "      <td>2015-10-08</td>\n",
       "      <td>Adoption</td>\n",
       "      <td>N/A</td>\n",
       "      <td>Dog</td>\n",
       "      <td>Neutered Male</td>\n",
       "      <td>4 months</td>\n",
       "      <td>Anatol Shepherd/Labrador Retriever</td>\n",
       "      <td>Buff</td>\n",
       "      <td>4</td>\n",
       "      <td>30</td>\n",
       "      <td>120</td>\n",
       "      <td>128 days</td>\n",
       "      <td>Fixed</td>\n",
       "      <td>False</td>\n",
       "      <td>False</td>\n",
       "    </tr>\n",
       "    <tr>\n",
       "      <th>4</th>\n",
       "      <td>A674754</td>\n",
       "      <td>NaN</td>\n",
       "      <td>2014-03-18 11:47:00</td>\n",
       "      <td>Mar 2014</td>\n",
       "      <td>2014-03-12</td>\n",
       "      <td>Transfer</td>\n",
       "      <td>Partner</td>\n",
       "      <td>Cat</td>\n",
       "      <td>Intact Male</td>\n",
       "      <td>6 days</td>\n",
       "      <td>Domestic Shorthair Mix</td>\n",
       "      <td>Orange Tabby</td>\n",
       "      <td>6</td>\n",
       "      <td>1</td>\n",
       "      <td>6</td>\n",
       "      <td>6 days</td>\n",
       "      <td>Intact</td>\n",
       "      <td>True</td>\n",
       "      <td>True</td>\n",
       "    </tr>\n",
       "  </tbody>\n",
       "</table>\n",
       "</div>"
      ],
      "text/plain": [
       "  Animal ID   Name            DateTime MonthYear Date of Birth Outcome Type  \\\n",
       "0   A794011  Chunk 2019-05-08 18:20:00  May 2019    2017-05-02    Rto-Adopt   \n",
       "1   A776359  Gizmo 2018-07-18 16:02:00  Jul 2018    2017-07-12     Adoption   \n",
       "2   A821648    NaN 2020-08-16 11:38:00  Aug 2020    2019-08-16   Euthanasia   \n",
       "3   A720371  Moose 2016-02-13 17:59:00  Feb 2016    2015-10-08     Adoption   \n",
       "4   A674754    NaN 2014-03-18 11:47:00  Mar 2014    2014-03-12     Transfer   \n",
       "\n",
       "  Outcome Subtype Animal Type Sex upon Outcome Age upon Outcome  \\\n",
       "0             N/A         Cat    Neutered Male          2 years   \n",
       "1             N/A         Dog    Neutered Male           1 year   \n",
       "2             N/A       Other          Unknown           1 year   \n",
       "3             N/A         Dog    Neutered Male         4 months   \n",
       "4         Partner         Cat      Intact Male           6 days   \n",
       "\n",
       "                                Breed              Color  Age Number  \\\n",
       "0              Domestic Shorthair Mix  Brown Tabby/White           2   \n",
       "1             Chihuahua Shorthair Mix        White/Brown           1   \n",
       "2                             Raccoon               Gray           1   \n",
       "3  Anatol Shepherd/Labrador Retriever               Buff           4   \n",
       "4              Domestic Shorthair Mix       Orange Tabby           6   \n",
       "\n",
       "   Age Unit  Age in Days Calculated Age Grouped Sex  Name Missing  \\\n",
       "0       365          730       736 days       Fixed         False   \n",
       "1       365          365       371 days       Fixed         False   \n",
       "2       365          365       366 days     Unknown          True   \n",
       "3        30          120       128 days       Fixed         False   \n",
       "4         1            6         6 days      Intact          True   \n",
       "\n",
       "   Mix Indicator  \n",
       "0           True  \n",
       "1           True  \n",
       "2          False  \n",
       "3          False  \n",
       "4           True  "
      ]
     },
     "execution_count": 54,
     "metadata": {},
     "output_type": "execute_result"
    }
   ],
   "source": [
    "level_up.head()"
   ]
  },
  {
   "cell_type": "markdown",
   "metadata": {
    "heading_collapsed": true,
    "hidden": true
   },
   "source": [
    "## NumPy's `where()` Method"
   ]
  },
  {
   "cell_type": "code",
   "execution_count": 55,
   "metadata": {
    "hidden": true,
    "scrolled": false
   },
   "outputs": [
    {
     "data": {
      "text/html": [
       "<div>\n",
       "<style scoped>\n",
       "    .dataframe tbody tr th:only-of-type {\n",
       "        vertical-align: middle;\n",
       "    }\n",
       "\n",
       "    .dataframe tbody tr th {\n",
       "        vertical-align: top;\n",
       "    }\n",
       "\n",
       "    .dataframe thead th {\n",
       "        text-align: right;\n",
       "    }\n",
       "</style>\n",
       "<table border=\"1\" class=\"dataframe\">\n",
       "  <thead>\n",
       "    <tr style=\"text-align: right;\">\n",
       "      <th></th>\n",
       "      <th>Animal ID</th>\n",
       "      <th>Name</th>\n",
       "      <th>DateTime</th>\n",
       "      <th>MonthYear</th>\n",
       "      <th>Date of Birth</th>\n",
       "      <th>Outcome Type</th>\n",
       "      <th>Outcome Subtype</th>\n",
       "      <th>Animal Type</th>\n",
       "      <th>Sex upon Outcome</th>\n",
       "      <th>Age upon Outcome</th>\n",
       "      <th>Breed</th>\n",
       "      <th>Color</th>\n",
       "      <th>Age Number</th>\n",
       "      <th>Age Unit</th>\n",
       "      <th>Age in Days</th>\n",
       "      <th>Calculated Age</th>\n",
       "      <th>Grouped Sex</th>\n",
       "      <th>Name Missing</th>\n",
       "      <th>Mix Indicator</th>\n",
       "      <th>Adopted1</th>\n",
       "    </tr>\n",
       "  </thead>\n",
       "  <tbody>\n",
       "    <tr>\n",
       "      <th>0</th>\n",
       "      <td>A794011</td>\n",
       "      <td>Chunk</td>\n",
       "      <td>2019-05-08 18:20:00</td>\n",
       "      <td>May 2019</td>\n",
       "      <td>2017-05-02</td>\n",
       "      <td>Rto-Adopt</td>\n",
       "      <td>N/A</td>\n",
       "      <td>Cat</td>\n",
       "      <td>Neutered Male</td>\n",
       "      <td>2 years</td>\n",
       "      <td>Domestic Shorthair Mix</td>\n",
       "      <td>Brown Tabby/White</td>\n",
       "      <td>2</td>\n",
       "      <td>365</td>\n",
       "      <td>730</td>\n",
       "      <td>736 days</td>\n",
       "      <td>Fixed</td>\n",
       "      <td>False</td>\n",
       "      <td>True</td>\n",
       "      <td>False</td>\n",
       "    </tr>\n",
       "    <tr>\n",
       "      <th>1</th>\n",
       "      <td>A776359</td>\n",
       "      <td>Gizmo</td>\n",
       "      <td>2018-07-18 16:02:00</td>\n",
       "      <td>Jul 2018</td>\n",
       "      <td>2017-07-12</td>\n",
       "      <td>Adoption</td>\n",
       "      <td>N/A</td>\n",
       "      <td>Dog</td>\n",
       "      <td>Neutered Male</td>\n",
       "      <td>1 year</td>\n",
       "      <td>Chihuahua Shorthair Mix</td>\n",
       "      <td>White/Brown</td>\n",
       "      <td>1</td>\n",
       "      <td>365</td>\n",
       "      <td>365</td>\n",
       "      <td>371 days</td>\n",
       "      <td>Fixed</td>\n",
       "      <td>False</td>\n",
       "      <td>True</td>\n",
       "      <td>True</td>\n",
       "    </tr>\n",
       "    <tr>\n",
       "      <th>2</th>\n",
       "      <td>A821648</td>\n",
       "      <td>NaN</td>\n",
       "      <td>2020-08-16 11:38:00</td>\n",
       "      <td>Aug 2020</td>\n",
       "      <td>2019-08-16</td>\n",
       "      <td>Euthanasia</td>\n",
       "      <td>N/A</td>\n",
       "      <td>Other</td>\n",
       "      <td>Unknown</td>\n",
       "      <td>1 year</td>\n",
       "      <td>Raccoon</td>\n",
       "      <td>Gray</td>\n",
       "      <td>1</td>\n",
       "      <td>365</td>\n",
       "      <td>365</td>\n",
       "      <td>366 days</td>\n",
       "      <td>Unknown</td>\n",
       "      <td>True</td>\n",
       "      <td>False</td>\n",
       "      <td>False</td>\n",
       "    </tr>\n",
       "    <tr>\n",
       "      <th>3</th>\n",
       "      <td>A720371</td>\n",
       "      <td>Moose</td>\n",
       "      <td>2016-02-13 17:59:00</td>\n",
       "      <td>Feb 2016</td>\n",
       "      <td>2015-10-08</td>\n",
       "      <td>Adoption</td>\n",
       "      <td>N/A</td>\n",
       "      <td>Dog</td>\n",
       "      <td>Neutered Male</td>\n",
       "      <td>4 months</td>\n",
       "      <td>Anatol Shepherd/Labrador Retriever</td>\n",
       "      <td>Buff</td>\n",
       "      <td>4</td>\n",
       "      <td>30</td>\n",
       "      <td>120</td>\n",
       "      <td>128 days</td>\n",
       "      <td>Fixed</td>\n",
       "      <td>False</td>\n",
       "      <td>False</td>\n",
       "      <td>True</td>\n",
       "    </tr>\n",
       "    <tr>\n",
       "      <th>4</th>\n",
       "      <td>A674754</td>\n",
       "      <td>NaN</td>\n",
       "      <td>2014-03-18 11:47:00</td>\n",
       "      <td>Mar 2014</td>\n",
       "      <td>2014-03-12</td>\n",
       "      <td>Transfer</td>\n",
       "      <td>Partner</td>\n",
       "      <td>Cat</td>\n",
       "      <td>Intact Male</td>\n",
       "      <td>6 days</td>\n",
       "      <td>Domestic Shorthair Mix</td>\n",
       "      <td>Orange Tabby</td>\n",
       "      <td>6</td>\n",
       "      <td>1</td>\n",
       "      <td>6</td>\n",
       "      <td>6 days</td>\n",
       "      <td>Intact</td>\n",
       "      <td>True</td>\n",
       "      <td>True</td>\n",
       "      <td>False</td>\n",
       "    </tr>\n",
       "  </tbody>\n",
       "</table>\n",
       "</div>"
      ],
      "text/plain": [
       "  Animal ID   Name            DateTime MonthYear Date of Birth Outcome Type  \\\n",
       "0   A794011  Chunk 2019-05-08 18:20:00  May 2019    2017-05-02    Rto-Adopt   \n",
       "1   A776359  Gizmo 2018-07-18 16:02:00  Jul 2018    2017-07-12     Adoption   \n",
       "2   A821648    NaN 2020-08-16 11:38:00  Aug 2020    2019-08-16   Euthanasia   \n",
       "3   A720371  Moose 2016-02-13 17:59:00  Feb 2016    2015-10-08     Adoption   \n",
       "4   A674754    NaN 2014-03-18 11:47:00  Mar 2014    2014-03-12     Transfer   \n",
       "\n",
       "  Outcome Subtype Animal Type Sex upon Outcome Age upon Outcome  \\\n",
       "0             N/A         Cat    Neutered Male          2 years   \n",
       "1             N/A         Dog    Neutered Male           1 year   \n",
       "2             N/A       Other          Unknown           1 year   \n",
       "3             N/A         Dog    Neutered Male         4 months   \n",
       "4         Partner         Cat      Intact Male           6 days   \n",
       "\n",
       "                                Breed              Color  Age Number  \\\n",
       "0              Domestic Shorthair Mix  Brown Tabby/White           2   \n",
       "1             Chihuahua Shorthair Mix        White/Brown           1   \n",
       "2                             Raccoon               Gray           1   \n",
       "3  Anatol Shepherd/Labrador Retriever               Buff           4   \n",
       "4              Domestic Shorthair Mix       Orange Tabby           6   \n",
       "\n",
       "   Age Unit  Age in Days Calculated Age Grouped Sex  Name Missing  \\\n",
       "0       365          730       736 days       Fixed         False   \n",
       "1       365          365       371 days       Fixed         False   \n",
       "2       365          365       366 days     Unknown          True   \n",
       "3        30          120       128 days       Fixed         False   \n",
       "4         1            6         6 days      Intact          True   \n",
       "\n",
       "   Mix Indicator  Adopted1  \n",
       "0           True     False  \n",
       "1           True      True  \n",
       "2          False     False  \n",
       "3          False      True  \n",
       "4           True     False  "
      ]
     },
     "execution_count": 55,
     "metadata": {},
     "output_type": "execute_result"
    }
   ],
   "source": [
    "# First pass a condition\n",
    "level_up['Adopted1'] = np.where(level_up['Outcome Type'] == 'Adoption',\n",
    "                                True,  # What to fill with if the condition is true\n",
    "                                False)  # What to fill with if not true\n",
    "level_up.head()"
   ]
  },
  {
   "cell_type": "code",
   "execution_count": 56,
   "metadata": {
    "hidden": true
   },
   "outputs": [
    {
     "data": {
      "text/html": [
       "<div>\n",
       "<style scoped>\n",
       "    .dataframe tbody tr th:only-of-type {\n",
       "        vertical-align: middle;\n",
       "    }\n",
       "\n",
       "    .dataframe tbody tr th {\n",
       "        vertical-align: top;\n",
       "    }\n",
       "\n",
       "    .dataframe thead th {\n",
       "        text-align: right;\n",
       "    }\n",
       "</style>\n",
       "<table border=\"1\" class=\"dataframe\">\n",
       "  <thead>\n",
       "    <tr style=\"text-align: right;\">\n",
       "      <th></th>\n",
       "      <th>Animal ID</th>\n",
       "      <th>Name</th>\n",
       "      <th>DateTime</th>\n",
       "      <th>MonthYear</th>\n",
       "      <th>Date of Birth</th>\n",
       "      <th>Outcome Type</th>\n",
       "      <th>Outcome Subtype</th>\n",
       "      <th>Animal Type</th>\n",
       "      <th>Sex upon Outcome</th>\n",
       "      <th>Age upon Outcome</th>\n",
       "      <th>...</th>\n",
       "      <th>Color</th>\n",
       "      <th>Age Number</th>\n",
       "      <th>Age Unit</th>\n",
       "      <th>Age in Days</th>\n",
       "      <th>Calculated Age</th>\n",
       "      <th>Grouped Sex</th>\n",
       "      <th>Name Missing</th>\n",
       "      <th>Mix Indicator</th>\n",
       "      <th>Adopted1</th>\n",
       "      <th>Adopted2</th>\n",
       "    </tr>\n",
       "  </thead>\n",
       "  <tbody>\n",
       "    <tr>\n",
       "      <th>0</th>\n",
       "      <td>A794011</td>\n",
       "      <td>Chunk</td>\n",
       "      <td>2019-05-08 18:20:00</td>\n",
       "      <td>May 2019</td>\n",
       "      <td>2017-05-02</td>\n",
       "      <td>Rto-Adopt</td>\n",
       "      <td>N/A</td>\n",
       "      <td>Cat</td>\n",
       "      <td>Neutered Male</td>\n",
       "      <td>2 years</td>\n",
       "      <td>...</td>\n",
       "      <td>Brown Tabby/White</td>\n",
       "      <td>2</td>\n",
       "      <td>365</td>\n",
       "      <td>730</td>\n",
       "      <td>736 days</td>\n",
       "      <td>Fixed</td>\n",
       "      <td>False</td>\n",
       "      <td>True</td>\n",
       "      <td>False</td>\n",
       "      <td>False</td>\n",
       "    </tr>\n",
       "    <tr>\n",
       "      <th>1</th>\n",
       "      <td>A776359</td>\n",
       "      <td>Gizmo</td>\n",
       "      <td>2018-07-18 16:02:00</td>\n",
       "      <td>Jul 2018</td>\n",
       "      <td>2017-07-12</td>\n",
       "      <td>Adoption</td>\n",
       "      <td>N/A</td>\n",
       "      <td>Dog</td>\n",
       "      <td>Neutered Male</td>\n",
       "      <td>1 year</td>\n",
       "      <td>...</td>\n",
       "      <td>White/Brown</td>\n",
       "      <td>1</td>\n",
       "      <td>365</td>\n",
       "      <td>365</td>\n",
       "      <td>371 days</td>\n",
       "      <td>Fixed</td>\n",
       "      <td>False</td>\n",
       "      <td>True</td>\n",
       "      <td>True</td>\n",
       "      <td>True</td>\n",
       "    </tr>\n",
       "    <tr>\n",
       "      <th>2</th>\n",
       "      <td>A821648</td>\n",
       "      <td>NaN</td>\n",
       "      <td>2020-08-16 11:38:00</td>\n",
       "      <td>Aug 2020</td>\n",
       "      <td>2019-08-16</td>\n",
       "      <td>Euthanasia</td>\n",
       "      <td>N/A</td>\n",
       "      <td>Other</td>\n",
       "      <td>Unknown</td>\n",
       "      <td>1 year</td>\n",
       "      <td>...</td>\n",
       "      <td>Gray</td>\n",
       "      <td>1</td>\n",
       "      <td>365</td>\n",
       "      <td>365</td>\n",
       "      <td>366 days</td>\n",
       "      <td>Unknown</td>\n",
       "      <td>True</td>\n",
       "      <td>False</td>\n",
       "      <td>False</td>\n",
       "      <td>False</td>\n",
       "    </tr>\n",
       "    <tr>\n",
       "      <th>3</th>\n",
       "      <td>A720371</td>\n",
       "      <td>Moose</td>\n",
       "      <td>2016-02-13 17:59:00</td>\n",
       "      <td>Feb 2016</td>\n",
       "      <td>2015-10-08</td>\n",
       "      <td>Adoption</td>\n",
       "      <td>N/A</td>\n",
       "      <td>Dog</td>\n",
       "      <td>Neutered Male</td>\n",
       "      <td>4 months</td>\n",
       "      <td>...</td>\n",
       "      <td>Buff</td>\n",
       "      <td>4</td>\n",
       "      <td>30</td>\n",
       "      <td>120</td>\n",
       "      <td>128 days</td>\n",
       "      <td>Fixed</td>\n",
       "      <td>False</td>\n",
       "      <td>False</td>\n",
       "      <td>True</td>\n",
       "      <td>True</td>\n",
       "    </tr>\n",
       "    <tr>\n",
       "      <th>4</th>\n",
       "      <td>A674754</td>\n",
       "      <td>NaN</td>\n",
       "      <td>2014-03-18 11:47:00</td>\n",
       "      <td>Mar 2014</td>\n",
       "      <td>2014-03-12</td>\n",
       "      <td>Transfer</td>\n",
       "      <td>Partner</td>\n",
       "      <td>Cat</td>\n",
       "      <td>Intact Male</td>\n",
       "      <td>6 days</td>\n",
       "      <td>...</td>\n",
       "      <td>Orange Tabby</td>\n",
       "      <td>6</td>\n",
       "      <td>1</td>\n",
       "      <td>6</td>\n",
       "      <td>6 days</td>\n",
       "      <td>Intact</td>\n",
       "      <td>True</td>\n",
       "      <td>True</td>\n",
       "      <td>False</td>\n",
       "      <td>False</td>\n",
       "    </tr>\n",
       "  </tbody>\n",
       "</table>\n",
       "<p>5 rows × 21 columns</p>\n",
       "</div>"
      ],
      "text/plain": [
       "  Animal ID   Name            DateTime MonthYear Date of Birth Outcome Type  \\\n",
       "0   A794011  Chunk 2019-05-08 18:20:00  May 2019    2017-05-02    Rto-Adopt   \n",
       "1   A776359  Gizmo 2018-07-18 16:02:00  Jul 2018    2017-07-12     Adoption   \n",
       "2   A821648    NaN 2020-08-16 11:38:00  Aug 2020    2019-08-16   Euthanasia   \n",
       "3   A720371  Moose 2016-02-13 17:59:00  Feb 2016    2015-10-08     Adoption   \n",
       "4   A674754    NaN 2014-03-18 11:47:00  Mar 2014    2014-03-12     Transfer   \n",
       "\n",
       "  Outcome Subtype Animal Type Sex upon Outcome Age upon Outcome  ...  \\\n",
       "0             N/A         Cat    Neutered Male          2 years  ...   \n",
       "1             N/A         Dog    Neutered Male           1 year  ...   \n",
       "2             N/A       Other          Unknown           1 year  ...   \n",
       "3             N/A         Dog    Neutered Male         4 months  ...   \n",
       "4         Partner         Cat      Intact Male           6 days  ...   \n",
       "\n",
       "               Color Age Number  Age Unit  Age in Days  Calculated Age  \\\n",
       "0  Brown Tabby/White          2       365          730        736 days   \n",
       "1        White/Brown          1       365          365        371 days   \n",
       "2               Gray          1       365          365        366 days   \n",
       "3               Buff          4        30          120        128 days   \n",
       "4       Orange Tabby          6         1            6          6 days   \n",
       "\n",
       "  Grouped Sex Name Missing  Mix Indicator  Adopted1  Adopted2  \n",
       "0       Fixed        False           True     False     False  \n",
       "1       Fixed        False           True      True      True  \n",
       "2     Unknown         True          False     False     False  \n",
       "3       Fixed        False          False      True      True  \n",
       "4      Intact         True           True     False     False  \n",
       "\n",
       "[5 rows x 21 columns]"
      ]
     },
     "execution_count": 56,
     "metadata": {},
     "output_type": "execute_result"
    }
   ],
   "source": [
    "level_up['Adopted2'] = level_up['Outcome Type'].map(lambda x: True if x == 'Adoption' else False)\n",
    "level_up.head()"
   ]
  },
  {
   "cell_type": "code",
   "execution_count": 57,
   "metadata": {
    "hidden": true,
    "scrolled": true
   },
   "outputs": [
    {
     "name": "stdout",
     "output_type": "stream",
     "text": [
      "7.56 ms ± 30 µs per loop (mean ± std. dev. of 7 runs, 100 loops each)\n"
     ]
    }
   ],
   "source": [
    "# Let's time how long it takes np.where() to run by running it multiple times\n",
    "%timeit np.where(level_up['Outcome Type'] == 'Adoption', True, False)"
   ]
  },
  {
   "cell_type": "code",
   "execution_count": 58,
   "metadata": {
    "hidden": true
   },
   "outputs": [
    {
     "name": "stdout",
     "output_type": "stream",
     "text": [
      "19.7 ms ± 48.5 µs per loop (mean ± std. dev. of 7 runs, 100 loops each)\n"
     ]
    }
   ],
   "source": [
    "# Let's time how long it takes .map() to run by running it multiple times\n",
    "%timeit level_up['Outcome Type'].map(lambda x: True if x == 'Adoption' else False)"
   ]
  },
  {
   "cell_type": "markdown",
   "metadata": {
    "heading_collapsed": true,
    "hidden": true
   },
   "source": [
    "## NumPy's `select()` Method"
   ]
  },
  {
   "cell_type": "markdown",
   "metadata": {
    "hidden": true
   },
   "source": [
    "Again, `numpy` will be faster:"
   ]
  },
  {
   "cell_type": "code",
   "execution_count": 62,
   "metadata": {
    "hidden": true
   },
   "outputs": [],
   "source": [
    "# Define our list of conditions\n",
    "conditions = [level_up['Sex upon Outcome'] == 'Neutered Male',\n",
    "              level_up['Sex upon Outcome'] == 'Spayed Female',\n",
    "              level_up['Sex upon Outcome'] == 'Intact Male',\n",
    "              level_up['Sex upon Outcome'] == 'Intact Female',\n",
    "              level_up['Sex upon Outcome'] == 'Unknown',\n",
    "              level_up['Sex upon Outcome'].isna()]\n",
    "\n",
    "# Define a matching list of outcomes\n",
    "choices = ['Fixed', 'Fixed', 'Intact', 'Intact', 'Unknown', 'Unknown']"
   ]
  },
  {
   "cell_type": "code",
   "execution_count": 63,
   "metadata": {
    "hidden": true
   },
   "outputs": [
    {
     "data": {
      "text/plain": [
       "0           Fixed\n",
       "1           Fixed\n",
       "2         Unknown\n",
       "3           Fixed\n",
       "4          Intact\n",
       "           ...   \n",
       "137092     Intact\n",
       "137093      Fixed\n",
       "137094      Fixed\n",
       "137095      Fixed\n",
       "137096      Fixed\n",
       "Name: Grouped Sex upon Outcome1, Length: 137092, dtype: object"
      ]
     },
     "execution_count": 63,
     "metadata": {},
     "output_type": "execute_result"
    }
   ],
   "source": [
    "# Use np.select\n",
    "level_up['Grouped Sex upon Outcome1'] = np.select(conditions, choices)\n",
    "level_up['Grouped Sex upon Outcome1']"
   ]
  },
  {
   "cell_type": "code",
   "execution_count": 65,
   "metadata": {
    "hidden": true
   },
   "outputs": [
    {
     "data": {
      "text/plain": [
       "0"
      ]
     },
     "execution_count": 65,
     "metadata": {},
     "output_type": "execute_result"
    }
   ],
   "source": [
    "# Check we got the same results with np.where()\n",
    "(level_up['Grouped Sex upon Outcome1'] != level_up['Grouped Sex upon Outcome1']).sum()"
   ]
  },
  {
   "cell_type": "code",
   "execution_count": 66,
   "metadata": {
    "hidden": true
   },
   "outputs": [
    {
     "name": "stdout",
     "output_type": "stream",
     "text": [
      "22.9 ms ± 375 µs per loop (mean ± std. dev. of 7 runs, 10 loops each)\n"
     ]
    }
   ],
   "source": [
    "# Let's time how long it takes .map() to run by running it multiple times\n",
    "%timeit level_up['Sex upon Outcome'].map(fixed_mapper)"
   ]
  },
  {
   "cell_type": "code",
   "execution_count": 67,
   "metadata": {
    "hidden": true
   },
   "outputs": [
    {
     "name": "stdout",
     "output_type": "stream",
     "text": [
      "3.96 ms ± 54.6 µs per loop (mean ± std. dev. of 7 runs, 100 loops each)\n"
     ]
    }
   ],
   "source": [
    "# Let's time how long it takes np.select() to run by running it multiple times\n",
    "%timeit np.select(conditions, choices)"
   ]
  },
  {
   "cell_type": "code",
   "execution_count": null,
   "metadata": {},
   "outputs": [],
   "source": []
  }
 ],
 "metadata": {
  "kernelspec": {
   "display_name": "Python (learn-env)",
   "language": "python",
   "name": "learn-env"
  },
  "language_info": {
   "codemirror_mode": {
    "name": "ipython",
    "version": 3
   },
   "file_extension": ".py",
   "mimetype": "text/x-python",
   "name": "python",
   "nbconvert_exporter": "python",
   "pygments_lexer": "ipython3",
   "version": "3.8.5"
  },
  "toc": {
   "base_numbering": 1,
   "nav_menu": {},
   "number_sections": true,
   "sideBar": true,
   "skip_h1_title": false,
   "title_cell": "Table of Contents",
   "title_sidebar": "TOC",
   "toc_cell": true,
   "toc_position": {
    "height": "calc(100% - 180px)",
    "left": "10px",
    "top": "150px",
    "width": "267px"
   },
   "toc_section_display": true,
   "toc_window_display": true
  },
  "varInspector": {
   "cols": {
    "lenName": 16,
    "lenType": 16,
    "lenVar": 40
   },
   "kernels_config": {
    "python": {
     "delete_cmd_postfix": "",
     "delete_cmd_prefix": "del ",
     "library": "var_list.py",
     "varRefreshCmd": "print(var_dic_list())"
    },
    "r": {
     "delete_cmd_postfix": ") ",
     "delete_cmd_prefix": "rm(",
     "library": "var_list.r",
     "varRefreshCmd": "cat(var_dic_list()) "
    }
   },
   "types_to_exclude": [
    "module",
    "function",
    "builtin_function_or_method",
    "instance",
    "_Feature"
   ],
   "window_display": true
  }
 },
 "nbformat": 4,
 "nbformat_minor": 4
}
