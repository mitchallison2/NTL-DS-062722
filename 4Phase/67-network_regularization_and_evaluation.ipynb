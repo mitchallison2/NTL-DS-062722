{
 "cells": [
  {
   "cell_type": "markdown",
   "metadata": {
    "heading_collapsed": true,
    "slideshow": {
     "slide_type": "slide"
    }
   },
   "source": [
    "# Regularization and Evaluation of Neural Networks"
   ]
  },
  {
   "cell_type": "code",
   "execution_count": 2,
   "metadata": {
    "ExecuteTime": {
     "end_time": "2022-09-01T22:53:40.118236Z",
     "start_time": "2022-09-01T22:53:35.617420Z"
    },
    "hidden": true
   },
   "outputs": [
    {
     "name": "stdout",
     "output_type": "stream",
     "text": [
      "The autoreload extension is already loaded. To reload it, use:\n",
      "  %reload_ext autoreload\n"
     ]
    }
   ],
   "source": [
    "from sklearn.datasets import load_sample_images\n",
    "from sklearn.datasets import load_digits\n",
    "from sklearn.model_selection import train_test_split, cross_val_score\n",
    "from sklearn.preprocessing import OneHotEncoder\n",
    "from sklearn.metrics import accuracy_score, confusion_matrix\n",
    "import matplotlib.pyplot as plt\n",
    "import matplotlib.image as mpimg\n",
    "import numpy as np\n",
    "import seaborn as sns\n",
    "\n",
    "from tensorflow.keras.models import Sequential\n",
    "from tensorflow.keras.layers import Dense, Dropout\n",
    "from tensorflow.keras.regularizers import l2\n",
    "from tensorflow.keras.optimizers import SGD\n",
    "from tensorflow.keras.wrappers import scikit_learn\n",
    "from tensorflow.keras.callbacks import EarlyStopping\n",
    "\n",
    "import os\n",
    "import sys\n",
    "module_path = os.path.abspath(os.path.join(os.pardir, os.pardir))\n",
    "if module_path not in sys.path:\n",
    "    sys.path.append(module_path)\n",
    "    \n",
    "from src.confusion import plot_confusion_matrix\n",
    "    \n",
    "%load_ext autoreload\n",
    "%autoreload 2"
   ]
  },
  {
   "cell_type": "markdown",
   "metadata": {
    "heading_collapsed": true,
    "hidden": true
   },
   "source": [
    "## Learning Objectives"
   ]
  },
  {
   "cell_type": "markdown",
   "metadata": {
    "hidden": true
   },
   "source": [
    "- use `keras` to code up a neural network model;\n",
    "- explain dropout and early stopping as distinctive forms of regularization in neural networks;\n",
    "- use wrappers inside `keras` to make models that can jibe with `sklearn`."
   ]
  },
  {
   "cell_type": "markdown",
   "metadata": {
    "heading_collapsed": true,
    "hidden": true
   },
   "source": [
    "### From last time"
   ]
  },
  {
   "cell_type": "code",
   "execution_count": 3,
   "metadata": {
    "ExecuteTime": {
     "end_time": "2022-09-01T22:55:10.994176Z",
     "start_time": "2022-09-01T22:55:10.778648Z"
    },
    "hidden": true
   },
   "outputs": [],
   "source": [
    "digits = load_digits()\n",
    "X = digits.data.astype('float32')\n",
    "y = digits.target.astype('float32')\n",
    "\n",
    "y_binary = y % 2"
   ]
  },
  {
   "cell_type": "code",
   "execution_count": 4,
   "metadata": {
    "ExecuteTime": {
     "end_time": "2022-09-01T22:55:17.069199Z",
     "start_time": "2022-09-01T22:55:11.803492Z"
    },
    "hidden": true
   },
   "outputs": [
    {
     "name": "stdout",
     "output_type": "stream",
     "text": [
      "Epoch 1/50\n",
      "180/180 [==============================] - 0s 817us/step - loss: 0.7213 - accuracy: 0.6427\n",
      "Epoch 2/50\n",
      "180/180 [==============================] - 0s 761us/step - loss: 0.3260 - accuracy: 0.8603\n",
      "Epoch 3/50\n",
      "180/180 [==============================] - 0s 628us/step - loss: 0.2342 - accuracy: 0.9065\n",
      "Epoch 4/50\n",
      "180/180 [==============================] - 0s 606us/step - loss: 0.1874 - accuracy: 0.9210\n",
      "Epoch 5/50\n",
      "180/180 [==============================] - 0s 556us/step - loss: 0.1544 - accuracy: 0.9416\n",
      "Epoch 6/50\n",
      "180/180 [==============================] - 0s 778us/step - loss: 0.1305 - accuracy: 0.9527\n",
      "Epoch 7/50\n",
      "180/180 [==============================] - 0s 611us/step - loss: 0.1140 - accuracy: 0.9566\n",
      "Epoch 8/50\n",
      "180/180 [==============================] - 0s 667us/step - loss: 0.1000 - accuracy: 0.9627\n",
      "Epoch 9/50\n",
      "180/180 [==============================] - 0s 789us/step - loss: 0.0916 - accuracy: 0.9644\n",
      "Epoch 10/50\n",
      "180/180 [==============================] - 0s 750us/step - loss: 0.0802 - accuracy: 0.9672\n",
      "Epoch 11/50\n",
      "180/180 [==============================] - 0s 683us/step - loss: 0.0744 - accuracy: 0.9711\n",
      "Epoch 12/50\n",
      "180/180 [==============================] - 0s 589us/step - loss: 0.0679 - accuracy: 0.9755\n",
      "Epoch 13/50\n",
      "180/180 [==============================] - 0s 722us/step - loss: 0.0640 - accuracy: 0.9727\n",
      "Epoch 14/50\n",
      "180/180 [==============================] - ETA: 0s - loss: 0.0606 - accuracy: 0.97 - 0s 856us/step - loss: 0.0606 - accuracy: 0.9783\n",
      "Epoch 15/50\n",
      "180/180 [==============================] - 0s 806us/step - loss: 0.0551 - accuracy: 0.9777\n",
      "Epoch 16/50\n",
      "180/180 [==============================] - 0s 678us/step - loss: 0.0537 - accuracy: 0.9777\n",
      "Epoch 17/50\n",
      "180/180 [==============================] - 0s 644us/step - loss: 0.0486 - accuracy: 0.9833\n",
      "Epoch 18/50\n",
      "180/180 [==============================] - 0s 633us/step - loss: 0.0477 - accuracy: 0.9827\n",
      "Epoch 19/50\n",
      "180/180 [==============================] - 0s 650us/step - loss: 0.0443 - accuracy: 0.9833\n",
      "Epoch 20/50\n",
      "180/180 [==============================] - 0s 650us/step - loss: 0.0426 - accuracy: 0.9844\n",
      "Epoch 21/50\n",
      "180/180 [==============================] - 0s 611us/step - loss: 0.0374 - accuracy: 0.9861\n",
      "Epoch 22/50\n",
      "180/180 [==============================] - 0s 594us/step - loss: 0.0371 - accuracy: 0.9878\n",
      "Epoch 23/50\n",
      "180/180 [==============================] - 0s 600us/step - loss: 0.0346 - accuracy: 0.9866\n",
      "Epoch 24/50\n",
      "180/180 [==============================] - 0s 578us/step - loss: 0.0322 - accuracy: 0.9883\n",
      "Epoch 25/50\n",
      "180/180 [==============================] - 0s 817us/step - loss: 0.0329 - accuracy: 0.9883\n",
      "Epoch 26/50\n",
      "180/180 [==============================] - 0s 617us/step - loss: 0.0287 - accuracy: 0.9889\n",
      "Epoch 27/50\n",
      "180/180 [==============================] - 0s 594us/step - loss: 0.0307 - accuracy: 0.9889\n",
      "Epoch 28/50\n",
      "180/180 [==============================] - 0s 694us/step - loss: 0.0269 - accuracy: 0.9900\n",
      "Epoch 29/50\n",
      "180/180 [==============================] - 0s 867us/step - loss: 0.0246 - accuracy: 0.9911\n",
      "Epoch 30/50\n",
      "180/180 [==============================] - 0s 689us/step - loss: 0.0246 - accuracy: 0.9905\n",
      "Epoch 31/50\n",
      "180/180 [==============================] - 0s 911us/step - loss: 0.0240 - accuracy: 0.9900\n",
      "Epoch 32/50\n",
      "180/180 [==============================] - 0s 767us/step - loss: 0.0241 - accuracy: 0.9917\n",
      "Epoch 33/50\n",
      "180/180 [==============================] - 0s 617us/step - loss: 0.0232 - accuracy: 0.9917\n",
      "Epoch 34/50\n",
      "180/180 [==============================] - 0s 606us/step - loss: 0.0204 - accuracy: 0.9917\n",
      "Epoch 35/50\n",
      "180/180 [==============================] - 0s 744us/step - loss: 0.0217 - accuracy: 0.9917\n",
      "Epoch 36/50\n",
      "180/180 [==============================] - 0s 744us/step - loss: 0.0196 - accuracy: 0.9939\n",
      "Epoch 37/50\n",
      "180/180 [==============================] - 0s 722us/step - loss: 0.0189 - accuracy: 0.9939\n",
      "Epoch 38/50\n",
      "180/180 [==============================] - 0s 683us/step - loss: 0.0170 - accuracy: 0.9939\n",
      "Epoch 39/50\n",
      "180/180 [==============================] - 0s 606us/step - loss: 0.0177 - accuracy: 0.9939\n",
      "Epoch 40/50\n",
      "180/180 [==============================] - 0s 650us/step - loss: 0.0127 - accuracy: 0.9950\n",
      "Epoch 41/50\n",
      "180/180 [==============================] - 0s 617us/step - loss: 0.0139 - accuracy: 0.9950\n",
      "Epoch 42/50\n",
      "180/180 [==============================] - 0s 639us/step - loss: 0.0147 - accuracy: 0.9944\n",
      "Epoch 43/50\n",
      "180/180 [==============================] - 0s 706us/step - loss: 0.0119 - accuracy: 0.9967\n",
      "Epoch 44/50\n",
      "180/180 [==============================] - 0s 922us/step - loss: 0.0146 - accuracy: 0.9955\n",
      "Epoch 45/50\n",
      "180/180 [==============================] - 0s 689us/step - loss: 0.0114 - accuracy: 0.9955\n",
      "Epoch 46/50\n",
      "180/180 [==============================] - 0s 717us/step - loss: 0.0114 - accuracy: 0.9961\n",
      "Epoch 47/50\n",
      "180/180 [==============================] - 0s 650us/step - loss: 0.0104 - accuracy: 0.9955\n",
      "Epoch 48/50\n",
      "180/180 [==============================] - 0s 606us/step - loss: 0.0083 - accuracy: 0.9967\n",
      "Epoch 49/50\n",
      "180/180 [==============================] - 0s 622us/step - loss: 0.0087 - accuracy: 0.9978\n",
      "Epoch 50/50\n",
      "180/180 [==============================] - 0s 622us/step - loss: 0.0066 - accuracy: 0.9972\n"
     ]
    },
    {
     "data": {
      "text/plain": [
       "<tensorflow.python.keras.callbacks.History at 0x1f2a96a39a0>"
      ]
     },
     "execution_count": 4,
     "metadata": {},
     "output_type": "execute_result"
    }
   ],
   "source": [
    "model = Sequential()\n",
    "model.add(Dense(12, activation='relu', input_dim=64))\n",
    "model.add(Dense(8, activation='relu'))\n",
    "model.add(Dense(1, activation='sigmoid'))\n",
    "\n",
    "model.compile(optimizer='rmsprop',\n",
    "              loss='binary_crossentropy',\n",
    "              metrics=['accuracy'])\n",
    "\n",
    "model.fit(X, y_binary, epochs=50, batch_size=10)"
   ]
  },
  {
   "cell_type": "markdown",
   "metadata": {
    "heading_collapsed": true,
    "hidden": true
   },
   "source": [
    "### Things to know:"
   ]
  },
  {
   "cell_type": "markdown",
   "metadata": {
    "hidden": true
   },
   "source": [
    "- The data and labels in `fit()` need to be numpy arrays, not `pandas` dfs.\n",
    "- Scaling your data will have a large impact on your model.\n",
    "   > For our traditional input features, we would use a scaler object. For images, as long as the minimum value is 0, we can simply divide through by the maximum pixel intensity."
   ]
  },
  {
   "cell_type": "markdown",
   "metadata": {
    "heading_collapsed": true,
    "hidden": true
   },
   "source": [
    "#### Getting data ready for modeling"
   ]
  },
  {
   "cell_type": "markdown",
   "metadata": {
    "hidden": true
   },
   "source": [
    "**Preprocessing**:\n",
    "\n",
    "- use train_test_split to create X_train, y_train, X_test, and y_test\n",
    "- Split training data into pure_train and validation sets.\n",
    "- Scale the pixel intensity to a value between 0 and 1."
   ]
  },
  {
   "cell_type": "markdown",
   "metadata": {
    "hidden": true
   },
   "source": [
    "Scaling our input variables will help speed up our neural network.\n",
    "\n",
    "Since our minimum intensity is 0, we can normalize the inputs by dividing each value by the max value (16)."
   ]
  },
  {
   "cell_type": "code",
   "execution_count": 5,
   "metadata": {
    "ExecuteTime": {
     "end_time": "2022-09-01T22:55:20.561323Z",
     "start_time": "2022-09-01T22:55:20.422828Z"
    },
    "hidden": true
   },
   "outputs": [],
   "source": [
    "X_train, X_test, y_train, y_test =\\\n",
    "    train_test_split(X, y_binary, random_state=42, test_size=0.2)\n",
    "\n",
    "X_pure_train, X_val, y_pure_train, y_val =\\\n",
    "    train_test_split(X_train, y_train, random_state=42, test_size=0.2)\n",
    "\n",
    "X_pure_train, X_val, X_test = X_pure_train/16, X_val/16, X_test/16"
   ]
  },
  {
   "cell_type": "markdown",
   "metadata": {
    "heading_collapsed": true,
    "hidden": true
   },
   "source": [
    "### Sigmoid "
   ]
  },
  {
   "cell_type": "markdown",
   "metadata": {
    "hidden": true
   },
   "source": [
    "For activation, let's start with the familiar sigmoid function, and see how it performs."
   ]
  },
  {
   "cell_type": "code",
   "execution_count": 13,
   "metadata": {
    "ExecuteTime": {
     "end_time": "2022-09-01T22:57:05.467024Z",
     "start_time": "2022-09-01T22:57:04.979515Z"
    },
    "hidden": true
   },
   "outputs": [
    {
     "name": "stdout",
     "output_type": "stream",
     "text": [
      "Epoch 1/10\n",
      "12/12 - 0s - loss: 0.7529 - accuracy: 0.4961\n",
      "Epoch 2/10\n",
      "12/12 - 0s - loss: 0.7425 - accuracy: 0.4961\n",
      "Epoch 3/10\n",
      "12/12 - 0s - loss: 0.7340 - accuracy: 0.4961\n",
      "Epoch 4/10\n",
      "12/12 - 0s - loss: 0.7269 - accuracy: 0.4961\n",
      "Epoch 5/10\n",
      "12/12 - 0s - loss: 0.7208 - accuracy: 0.4961\n",
      "Epoch 6/10\n",
      "12/12 - 0s - loss: 0.7158 - accuracy: 0.4961\n",
      "Epoch 7/10\n",
      "12/12 - 0s - loss: 0.7117 - accuracy: 0.4961\n",
      "Epoch 8/10\n",
      "12/12 - 0s - loss: 0.7085 - accuracy: 0.4961\n",
      "Epoch 9/10\n",
      "12/12 - 0s - loss: 0.7058 - accuracy: 0.4961\n",
      "Epoch 10/10\n",
      "12/12 - 0s - loss: 0.7034 - accuracy: 0.4961\n"
     ]
    }
   ],
   "source": [
    "model = Sequential()\n",
    "# We will start with our trusty sigmoid function.\n",
    "# What does input dimension correspond to?\n",
    "model.add(Dense(12, activation='sigmoid', input_dim=64))\n",
    "model.add(Dense(8, activation='sigmoid'))\n",
    "model.add(Dense(1, activation='sigmoid'))\n",
    "\n",
    "model.compile(optimizer='SGD' ,\n",
    "              # We use binary_crossentropy for a binary loss function\n",
    "              loss='binary_crossentropy',\n",
    "              metrics=['accuracy'])\n",
    "\n",
    "# Assign the variable history to store the results,\n",
    "# and set verbose=1 so we can see the output. To see\n",
    "# only the metrics at the end of each epoch, set verbose=2.\n",
    "results = model.fit(X_pure_train, y_pure_train, epochs=10, batch_size=100, verbose=2)"
   ]
  },
  {
   "cell_type": "markdown",
   "metadata": {
    "hidden": true
   },
   "source": [
    "We can access the history of our model via `results.history`.\n",
    "Use __dict__ to take a tour."
   ]
  },
  {
   "cell_type": "code",
   "execution_count": 14,
   "metadata": {
    "ExecuteTime": {
     "end_time": "2022-09-01T22:57:15.315179Z",
     "start_time": "2022-09-01T22:57:15.185180Z"
    },
    "hidden": true
   },
   "outputs": [
    {
     "data": {
      "text/plain": [
       "{'validation_data': None,\n",
       " 'model': <tensorflow.python.keras.engine.sequential.Sequential at 0x1f2b30a1a90>,\n",
       " '_chief_worker_only': None,\n",
       " '_supports_tf_logs': False,\n",
       " 'history': {'loss': [0.7528722882270813,\n",
       "   0.742462158203125,\n",
       "   0.7340172529220581,\n",
       "   0.7268908619880676,\n",
       "   0.7208279967308044,\n",
       "   0.715839684009552,\n",
       "   0.711715579032898,\n",
       "   0.7084557414054871,\n",
       "   0.7057686448097229,\n",
       "   0.703377366065979],\n",
       "  'accuracy': [0.4960835576057434,\n",
       "   0.4960835576057434,\n",
       "   0.4960835576057434,\n",
       "   0.4960835576057434,\n",
       "   0.4960835576057434,\n",
       "   0.4960835576057434,\n",
       "   0.4960835576057434,\n",
       "   0.4960835576057434,\n",
       "   0.4960835576057434,\n",
       "   0.4960835576057434]},\n",
       " 'params': {'verbose': 2, 'epochs': 10, 'steps': 12},\n",
       " 'epoch': [0, 1, 2, 3, 4, 5, 6, 7, 8, 9]}"
      ]
     },
     "execution_count": 14,
     "metadata": {},
     "output_type": "execute_result"
    }
   ],
   "source": [
    "# dict\n",
    "results.__dict__"
   ]
  },
  {
   "cell_type": "code",
   "execution_count": 15,
   "metadata": {
    "ExecuteTime": {
     "end_time": "2022-09-01T22:55:21.553339Z",
     "start_time": "2022-09-01T22:55:21.182798Z"
    },
    "hidden": true
   },
   "outputs": [
    {
     "data": {
      "image/png": "[encoded data removed]",
      "text/plain": [
       "<Figure size 720x360 with 2 Axes>"
      ]
     },
     "metadata": {
      "needs_background": "light"
     },
     "output_type": "display_data"
    }
   ],
   "source": [
    "sigmoid_loss = results.history['loss']\n",
    "sigmoid_accuracy = results.history['accuracy']\n",
    "\n",
    "fig, (ax1, ax2) = plt.subplots(1, 2, figsize=(10, 5))\n",
    "sns.lineplot(x=results.epoch, y=sigmoid_loss, ax=ax1, label='loss')\n",
    "sns.lineplot(x=results.epoch, y=sigmoid_accuracy, ax=ax2, label='accuracy');"
   ]
  },
  {
   "cell_type": "markdown",
   "metadata": {
    "hidden": true
   },
   "source": [
    "We have two plots above both relating to the quality of our model.  The left-hand plot is our loss. It uses the probabilities associated with our predictions to judge how well our prediction fits reality. We want it to decrease as far as possible.\n",
    "\n",
    "The accuracy judges how well the predictions are after applying the threshold at the output layer.  We want accuracy to increase."
   ]
  },
  {
   "cell_type": "markdown",
   "metadata": {
    "hidden": true
   },
   "source": [
    "If we look at our loss, it is still decreasing. That is a signal that our model is **still learning**. If our model is still learning, we can allow it to get better by turning a few dials.\n",
    "\n",
    "Let's:\n",
    "- increase the number of epochs;\n",
    "- change sigmoid activation in the hidden layers to ReLU; and\n",
    "- decrease the batch size."
   ]
  },
  {
   "cell_type": "markdown",
   "metadata": {
    "heading_collapsed": true,
    "hidden": true
   },
   "source": [
    "## Basic Model Tuning"
   ]
  },
  {
   "cell_type": "markdown",
   "metadata": {
    "heading_collapsed": true,
    "hidden": true
   },
   "source": [
    "### Increase Epochs"
   ]
  },
  {
   "cell_type": "code",
   "execution_count": 22,
   "metadata": {
    "ExecuteTime": {
     "end_time": "2022-09-01T22:55:21.692954Z",
     "start_time": "2022-09-01T22:55:21.555340Z"
    },
    "hidden": true
   },
   "outputs": [],
   "source": [
    "model = Sequential()\n",
    "model.add(Dense(12, activation='sigmoid', input_dim=64))\n",
    "model.add(Dense(8, activation='sigmoid'))\n",
    "model.add(Dense(1, activation='sigmoid'))\n",
    "\n",
    "model.compile(optimizer='SGD',\n",
    "              loss='binary_crossentropy',\n",
    "              metrics=['accuracy'])\n",
    "\n",
    "# Assign the variable history to store the results,\n",
    "# and set verbose=1 so we can see the output.\n",
    "# increase epochs\n",
    "\n",
    "results = model.fit(X_pure_train, y_pure_train, epochs=100, batch_size=100, verbose=0)\n"
   ]
  },
  {
   "cell_type": "code",
   "execution_count": 23,
   "metadata": {
    "ExecuteTime": {
     "end_time": "2022-09-01T22:55:22.080455Z",
     "start_time": "2022-09-01T22:55:21.694454Z"
    },
    "hidden": true
   },
   "outputs": [
    {
     "data": {
      "image/png": "[encoded data removed]",
      "text/plain": [
       "<Figure size 720x360 with 2 Axes>"
      ]
     },
     "metadata": {
      "needs_background": "light"
     },
     "output_type": "display_data"
    }
   ],
   "source": [
    "sigmoid_loss = results.history['loss']\n",
    "sigmoid_accuracy = results.history['accuracy']\n",
    "\n",
    "fig, (ax1, ax2) = plt.subplots(1, 2, figsize=(10, 5))\n",
    "sns.lineplot(x=results.epoch, y=sigmoid_loss, ax=ax1, label='loss')\n",
    "sns.lineplot(x=results.epoch, y=sigmoid_accuracy, ax=ax2, label='accuracy')\n",
    "ax1.legend();"
   ]
  },
  {
   "cell_type": "markdown",
   "metadata": {
    "heading_collapsed": true,
    "hidden": true
   },
   "source": [
    "### Decrease Batch Size"
   ]
  },
  {
   "cell_type": "code",
   "execution_count": 26,
   "metadata": {
    "ExecuteTime": {
     "end_time": "2022-09-01T22:55:22.250954Z",
     "start_time": "2022-09-01T22:55:22.082454Z"
    },
    "hidden": true
   },
   "outputs": [],
   "source": [
    "model = Sequential()\n",
    "\n",
    "model.add(Dense(12, activation='sigmoid', input_dim=64))\n",
    "model.add(Dense(8, activation='sigmoid'))\n",
    "model.add(Dense(1, activation='sigmoid'))\n",
    "\n",
    "model.compile(optimizer='SGD',\n",
    "              loss='binary_crossentropy',\n",
    "              metrics=['accuracy'])\n",
    "\n",
    "# decrease batch size\n",
    "results = model.fit(X_pure_train, y_pure_train, epochs=10, batch_size=50, verbose=0)"
   ]
  },
  {
   "cell_type": "code",
   "execution_count": 27,
   "metadata": {
    "ExecuteTime": {
     "end_time": "2022-09-01T22:55:22.607453Z",
     "start_time": "2022-09-01T22:55:22.253955Z"
    },
    "hidden": true
   },
   "outputs": [
    {
     "data": {
      "image/png": "[encoded data removed]",
      "text/plain": [
       "<Figure size 720x360 with 2 Axes>"
      ]
     },
     "metadata": {
      "needs_background": "light"
     },
     "output_type": "display_data"
    }
   ],
   "source": [
    "relu_loss = results.history['loss']\n",
    "relu_accuracy = results.history['accuracy']\n",
    "\n",
    "fig, (ax1, ax2) = plt.subplots(1, 2, figsize=(10, 5))\n",
    "sns.lineplot(x=results.epoch, y=relu_loss, ax=ax1, label='loss')\n",
    "sns.lineplot(x=results.epoch, y=relu_accuracy, ax=ax2, label='accuracy')\n",
    "ax1.legend();"
   ]
  },
  {
   "cell_type": "markdown",
   "metadata": {
    "heading_collapsed": true,
    "hidden": true
   },
   "source": [
    "### Both"
   ]
  },
  {
   "cell_type": "code",
   "execution_count": 28,
   "metadata": {
    "ExecuteTime": {
     "end_time": "2022-09-01T22:55:22.746794Z",
     "start_time": "2022-09-01T22:55:22.609453Z"
    },
    "hidden": true
   },
   "outputs": [],
   "source": [
    "model = Sequential()\n",
    "\n",
    "model.add(Dense(12, activation='sigmoid', input_dim=64))\n",
    "model.add(Dense(8, activation='sigmoid'))\n",
    "model.add(Dense(1, activation='sigmoid'))\n",
    "\n",
    "model.compile(optimizer='SGD',\n",
    "              loss='binary_crossentropy',\n",
    "              metrics=['accuracy'])\n",
    "\n",
    "# increase epochs decrease batch size\n",
    "results = model.fit(X_pure_train, y_pure_train, epochs=100, batch_size=10, verbose=0)"
   ]
  },
  {
   "cell_type": "code",
   "execution_count": 29,
   "metadata": {
    "ExecuteTime": {
     "end_time": "2022-09-01T22:55:23.103299Z",
     "start_time": "2022-09-01T22:55:22.747798Z"
    },
    "hidden": true
   },
   "outputs": [
    {
     "data": {
      "image/png": "[encoded data removed]",
      "text/plain": [
       "<Figure size 720x360 with 2 Axes>"
      ]
     },
     "metadata": {
      "needs_background": "light"
     },
     "output_type": "display_data"
    }
   ],
   "source": [
    "relu_loss = results.history['loss']\n",
    "relu_accuracy = results.history['accuracy']\n",
    "\n",
    "fig, (ax1, ax2) = plt.subplots(1, 2, figsize=(10, 5))\n",
    "sns.lineplot(x=results.epoch, y=relu_loss, ax=ax1, label='loss')\n",
    "sns.lineplot(x=results.epoch, y=relu_accuracy, ax=ax2, label='accuracy')\n",
    "ax1.legend();"
   ]
  },
  {
   "cell_type": "markdown",
   "metadata": {
    "heading_collapsed": true,
    "hidden": true
   },
   "source": [
    "### Use Relu"
   ]
  },
  {
   "cell_type": "code",
   "execution_count": 32,
   "metadata": {
    "ExecuteTime": {
     "end_time": "2022-09-01T22:55:23.242797Z",
     "start_time": "2022-09-01T22:55:23.105318Z"
    },
    "hidden": true
   },
   "outputs": [
    {
     "name": "stdout",
     "output_type": "stream",
     "text": [
      "Epoch 1/100\n",
      "115/115 [==============================] - 0s 635us/step - loss: 0.6930 - accuracy: 0.5022\n",
      "Epoch 2/100\n",
      "115/115 [==============================] - 0s 722us/step - loss: 0.6750 - accuracy: 0.6153\n",
      "Epoch 3/100\n",
      "115/115 [==============================] - 0s 556us/step - loss: 0.6344 - accuracy: 0.6849\n",
      "Epoch 4/100\n",
      "115/115 [==============================] - 0s 983us/step - loss: 0.5866 - accuracy: 0.7728\n",
      "Epoch 5/100\n",
      "115/115 [==============================] - 0s 991us/step - loss: 0.5421 - accuracy: 0.8155\n",
      "Epoch 6/100\n",
      "115/115 [==============================] - 0s 783us/step - loss: 0.5014 - accuracy: 0.8372\n",
      "Epoch 7/100\n",
      "115/115 [==============================] - 0s 722us/step - loss: 0.4644 - accuracy: 0.8425\n",
      "Epoch 8/100\n",
      "115/115 [==============================] - 0s 791us/step - loss: 0.4302 - accuracy: 0.8547\n",
      "Epoch 9/100\n",
      "115/115 [==============================] - 0s 687us/step - loss: 0.3954 - accuracy: 0.8651\n",
      "Epoch 10/100\n",
      "115/115 [==============================] - 0s 765us/step - loss: 0.3612 - accuracy: 0.8764\n",
      "Epoch 11/100\n",
      "115/115 [==============================] - 0s 1ms/step - loss: 0.3286 - accuracy: 0.8930\n",
      "Epoch 12/100\n",
      "115/115 [==============================] - 0s 1ms/step - loss: 0.2990 - accuracy: 0.9008\n",
      "Epoch 13/100\n",
      "115/115 [==============================] - 0s 974us/step - loss: 0.2761 - accuracy: 0.9034\n",
      "Epoch 14/100\n",
      "115/115 [==============================] - 0s 1ms/step - loss: 0.2581 - accuracy: 0.9043\n",
      "Epoch 15/100\n",
      "115/115 [==============================] - 0s 748us/step - loss: 0.2441 - accuracy: 0.8982\n",
      "Epoch 16/100\n",
      "115/115 [==============================] - 0s 878us/step - loss: 0.2296 - accuracy: 0.9147\n",
      "Epoch 17/100\n",
      "115/115 [==============================] - 0s 870us/step - loss: 0.2182 - accuracy: 0.9086\n",
      "Epoch 18/100\n",
      "115/115 [==============================] - 0s 826us/step - loss: 0.2098 - accuracy: 0.9199\n",
      "Epoch 19/100\n",
      "115/115 [==============================] - 0s 783us/step - loss: 0.2046 - accuracy: 0.9130\n",
      "Epoch 20/100\n",
      "115/115 [==============================] - 0s 635us/step - loss: 0.1959 - accuracy: 0.9138\n",
      "Epoch 21/100\n",
      "115/115 [==============================] - 0s 591us/step - loss: 0.1908 - accuracy: 0.9208\n",
      "Epoch 22/100\n",
      "115/115 [==============================] - 0s 991us/step - loss: 0.1831 - accuracy: 0.9243\n",
      "Epoch 23/100\n",
      "115/115 [==============================] - 0s 791us/step - loss: 0.1811 - accuracy: 0.9225\n",
      "Epoch 24/100\n",
      "115/115 [==============================] - 0s 1ms/step - loss: 0.1728 - accuracy: 0.9347\n",
      "Epoch 25/100\n",
      "115/115 [==============================] - 0s 1ms/step - loss: 0.1724 - accuracy: 0.9278\n",
      "Epoch 26/100\n",
      "115/115 [==============================] - 0s 1ms/step - loss: 0.1666 - accuracy: 0.9295\n",
      "Epoch 27/100\n",
      "115/115 [==============================] - 0s 1ms/step - loss: 0.1654 - accuracy: 0.9252\n",
      "Epoch 28/100\n",
      "115/115 [==============================] - 0s 1ms/step - loss: 0.1589 - accuracy: 0.9339\n",
      "Epoch 29/100\n",
      "115/115 [==============================] - 0s 1ms/step - loss: 0.1577 - accuracy: 0.9347\n",
      "Epoch 30/100\n",
      "115/115 [==============================] - 0s 626us/step - loss: 0.1531 - accuracy: 0.9391\n",
      "Epoch 31/100\n",
      "115/115 [==============================] - 0s 687us/step - loss: 0.1500 - accuracy: 0.9408\n",
      "Epoch 32/100\n",
      "115/115 [==============================] - 0s 922us/step - loss: 0.1460 - accuracy: 0.93910s - loss: 0.1472 - accuracy: 0.93\n",
      "Epoch 33/100\n",
      "115/115 [==============================] - 0s 896us/step - loss: 0.1423 - accuracy: 0.9426\n",
      "Epoch 34/100\n",
      "115/115 [==============================] - 0s 974us/step - loss: 0.1397 - accuracy: 0.9443\n",
      "Epoch 35/100\n",
      "115/115 [==============================] - 0s 670us/step - loss: 0.1377 - accuracy: 0.9426\n",
      "Epoch 36/100\n",
      "115/115 [==============================] - 0s 939us/step - loss: 0.1354 - accuracy: 0.9417\n",
      "Epoch 37/100\n",
      "115/115 [==============================] - 0s 687us/step - loss: 0.1313 - accuracy: 0.9443\n",
      "Epoch 38/100\n",
      "115/115 [==============================] - 0s 626us/step - loss: 0.1289 - accuracy: 0.9495\n",
      "Epoch 39/100\n",
      "115/115 [==============================] - 0s 617us/step - loss: 0.1235 - accuracy: 0.9495\n",
      "Epoch 40/100\n",
      "115/115 [==============================] - 0s 609us/step - loss: 0.1238 - accuracy: 0.9521\n",
      "Epoch 41/100\n",
      "115/115 [==============================] - 0s 852us/step - loss: 0.1209 - accuracy: 0.9530\n",
      "Epoch 42/100\n",
      "115/115 [==============================] - 0s 722us/step - loss: 0.1166 - accuracy: 0.9547\n",
      "Epoch 43/100\n",
      "115/115 [==============================] - 0s 730us/step - loss: 0.1125 - accuracy: 0.9530\n",
      "Epoch 44/100\n",
      "115/115 [==============================] - 0s 739us/step - loss: 0.1112 - accuracy: 0.9574\n",
      "Epoch 45/100\n",
      "115/115 [==============================] - 0s 583us/step - loss: 0.1080 - accuracy: 0.9547\n",
      "Epoch 46/100\n",
      "115/115 [==============================] - 0s 696us/step - loss: 0.1023 - accuracy: 0.9600\n",
      "Epoch 47/100\n",
      "115/115 [==============================] - 0s 626us/step - loss: 0.1001 - accuracy: 0.9608\n",
      "Epoch 48/100\n",
      "115/115 [==============================] - 0s 722us/step - loss: 0.1034 - accuracy: 0.9591\n",
      "Epoch 49/100\n",
      "115/115 [==============================] - 0s 704us/step - loss: 0.0997 - accuracy: 0.9591\n",
      "Epoch 50/100\n",
      "115/115 [==============================] - 0s 948us/step - loss: 0.0980 - accuracy: 0.9643\n",
      "Epoch 51/100\n",
      "115/115 [==============================] - 0s 757us/step - loss: 0.0940 - accuracy: 0.9661\n",
      "Epoch 52/100\n",
      "115/115 [==============================] - 0s 670us/step - loss: 0.0936 - accuracy: 0.9678\n",
      "Epoch 53/100\n",
      "115/115 [==============================] - 0s 704us/step - loss: 0.0915 - accuracy: 0.9652\n",
      "Epoch 54/100\n",
      "115/115 [==============================] - 0s 861us/step - loss: 0.0881 - accuracy: 0.9713\n",
      "Epoch 55/100\n",
      "115/115 [==============================] - 0s 939us/step - loss: 0.0860 - accuracy: 0.9721\n",
      "Epoch 56/100\n",
      "115/115 [==============================] - 0s 643us/step - loss: 0.0832 - accuracy: 0.9721\n",
      "Epoch 57/100\n",
      "115/115 [==============================] - 0s 617us/step - loss: 0.0805 - accuracy: 0.9730\n",
      "Epoch 58/100\n",
      "115/115 [==============================] - 0s 652us/step - loss: 0.0794 - accuracy: 0.9704\n",
      "Epoch 59/100\n",
      "115/115 [==============================] - 0s 635us/step - loss: 0.0775 - accuracy: 0.9730\n",
      "Epoch 60/100\n",
      "115/115 [==============================] - 0s 574us/step - loss: 0.0781 - accuracy: 0.9704\n",
      "Epoch 61/100\n",
      "115/115 [==============================] - 0s 626us/step - loss: 0.0758 - accuracy: 0.9704\n",
      "Epoch 62/100\n",
      "115/115 [==============================] - 0s 739us/step - loss: 0.0751 - accuracy: 0.9739\n",
      "Epoch 63/100\n",
      "115/115 [==============================] - 0s 817us/step - loss: 0.0719 - accuracy: 0.9817\n",
      "Epoch 64/100\n",
      "115/115 [==============================] - 0s 852us/step - loss: 0.0704 - accuracy: 0.9782\n",
      "Epoch 65/100\n",
      "115/115 [==============================] - 0s 696us/step - loss: 0.0684 - accuracy: 0.9765\n",
      "Epoch 66/100\n",
      "115/115 [==============================] - 0s 617us/step - loss: 0.0659 - accuracy: 0.9782\n",
      "Epoch 67/100\n",
      "115/115 [==============================] - 0s 913us/step - loss: 0.0655 - accuracy: 0.9774\n",
      "Epoch 68/100\n",
      "115/115 [==============================] - 0s 739us/step - loss: 0.0655 - accuracy: 0.9809\n",
      "Epoch 69/100\n",
      "115/115 [==============================] - 0s 687us/step - loss: 0.0645 - accuracy: 0.9791\n",
      "Epoch 70/100\n",
      "115/115 [==============================] - 0s 609us/step - loss: 0.0625 - accuracy: 0.9782\n",
      "Epoch 71/100\n",
      "115/115 [==============================] - ETA: 0s - loss: 0.0605 - accuracy: 0.97 - 0s 643us/step - loss: 0.0619 - accuracy: 0.9782\n",
      "Epoch 72/100\n",
      "115/115 [==============================] - 0s 609us/step - loss: 0.0607 - accuracy: 0.9800\n",
      "Epoch 73/100\n",
      "115/115 [==============================] - 0s 661us/step - loss: 0.0592 - accuracy: 0.9782\n",
      "Epoch 74/100\n",
      "115/115 [==============================] - 0s 748us/step - loss: 0.0577 - accuracy: 0.9782\n",
      "Epoch 75/100\n",
      "115/115 [==============================] - 0s 678us/step - loss: 0.0564 - accuracy: 0.9826\n",
      "Epoch 76/100\n",
      "115/115 [==============================] - 0s 896us/step - loss: 0.0555 - accuracy: 0.9826\n",
      "Epoch 77/100\n",
      "115/115 [==============================] - 0s 896us/step - loss: 0.0541 - accuracy: 0.9817\n",
      "Epoch 78/100\n",
      "115/115 [==============================] - 0s 1ms/step - loss: 0.0557 - accuracy: 0.9800\n",
      "Epoch 79/100\n"
     ]
    },
    {
     "name": "stdout",
     "output_type": "stream",
     "text": [
      "115/115 [==============================] - 0s 730us/step - loss: 0.0552 - accuracy: 0.9809\n",
      "Epoch 80/100\n",
      "115/115 [==============================] - 0s 852us/step - loss: 0.0505 - accuracy: 0.9809\n",
      "Epoch 81/100\n",
      "115/115 [==============================] - 0s 791us/step - loss: 0.0477 - accuracy: 0.9852\n",
      "Epoch 82/100\n",
      "115/115 [==============================] - 0s 791us/step - loss: 0.0488 - accuracy: 0.9835\n",
      "Epoch 83/100\n",
      "115/115 [==============================] - 0s 852us/step - loss: 0.0475 - accuracy: 0.9861\n",
      "Epoch 84/100\n",
      "115/115 [==============================] - 0s 704us/step - loss: 0.0467 - accuracy: 0.9869\n",
      "Epoch 85/100\n",
      "115/115 [==============================] - 0s 643us/step - loss: 0.0448 - accuracy: 0.9887\n",
      "Epoch 86/100\n",
      "115/115 [==============================] - 0s 730us/step - loss: 0.0454 - accuracy: 0.9887\n",
      "Epoch 87/100\n",
      "115/115 [==============================] - 0s 800us/step - loss: 0.0450 - accuracy: 0.9843\n",
      "Epoch 88/100\n",
      "115/115 [==============================] - 0s 687us/step - loss: 0.0430 - accuracy: 0.9869\n",
      "Epoch 89/100\n",
      "115/115 [==============================] - 0s 652us/step - loss: 0.0421 - accuracy: 0.9878\n",
      "Epoch 90/100\n",
      "115/115 [==============================] - 0s 617us/step - loss: 0.0407 - accuracy: 0.9861\n",
      "Epoch 91/100\n",
      "115/115 [==============================] - 0s 687us/step - loss: 0.0411 - accuracy: 0.9887\n",
      "Epoch 92/100\n",
      "115/115 [==============================] - 0s 748us/step - loss: 0.0380 - accuracy: 0.9904\n",
      "Epoch 93/100\n",
      "115/115 [==============================] - 0s 643us/step - loss: 0.0379 - accuracy: 0.9896\n",
      "Epoch 94/100\n",
      "115/115 [==============================] - 0s 609us/step - loss: 0.0364 - accuracy: 0.9896\n",
      "Epoch 95/100\n",
      "115/115 [==============================] - 0s 678us/step - loss: 0.0376 - accuracy: 0.9896\n",
      "Epoch 96/100\n",
      "115/115 [==============================] - 0s 800us/step - loss: 0.0358 - accuracy: 0.9887\n",
      "Epoch 97/100\n",
      "115/115 [==============================] - 0s 809us/step - loss: 0.0346 - accuracy: 0.9913\n",
      "Epoch 98/100\n",
      "115/115 [==============================] - 0s 791us/step - loss: 0.0351 - accuracy: 0.9904\n",
      "Epoch 99/100\n",
      "115/115 [==============================] - 0s 2ms/step - loss: 0.0344 - accuracy: 0.9904\n",
      "Epoch 100/100\n",
      "115/115 [==============================] - 0s 643us/step - loss: 0.0321 - accuracy: 0.9922\n"
     ]
    }
   ],
   "source": [
    "model = Sequential()\n",
    "model.add(Dense(12, activation='relu', input_dim=64))\n",
    "model.add(Dense(8, activation='relu'))\n",
    "model.add(Dense(1, activation='sigmoid'))\n",
    "\n",
    "model.compile(optimizer='SGD',\n",
    "              loss='binary_crossentropy',\n",
    "              metrics=['accuracy'])\n",
    "\n",
    "# Assign the variable history to store the results,\n",
    "# and set verbose=1 so we can see the output.\n",
    "# increase epochs, decrease batchsize\n",
    "\n",
    "results = model.fit(X_pure_train, y_pure_train, epochs=100, batch_size=10, verbose=1)"
   ]
  },
  {
   "cell_type": "code",
   "execution_count": 33,
   "metadata": {
    "ExecuteTime": {
     "end_time": "2022-09-01T22:55:23.614828Z",
     "start_time": "2022-09-01T22:55:23.244798Z"
    },
    "hidden": true
   },
   "outputs": [
    {
     "data": {
      "image/png": "[encoded data removed]",
      "text/plain": [
       "<Figure size 720x360 with 2 Axes>"
      ]
     },
     "metadata": {
      "needs_background": "light"
     },
     "output_type": "display_data"
    }
   ],
   "source": [
    "relu_loss = results.history['loss']\n",
    "relu_accuracy = results.history['accuracy']\n",
    "\n",
    "fig, (ax1, ax2) = plt.subplots(1, 2, figsize=(10, 5))\n",
    "sns.lineplot(x=results.epoch, y=relu_loss, ax=ax1, label='loss')\n",
    "sns.lineplot(x=results.epoch, y=relu_accuracy, ax=ax2, label='accuracy')\n",
    "ax1.legend();"
   ]
  },
  {
   "cell_type": "markdown",
   "metadata": {
    "heading_collapsed": true,
    "hidden": true
   },
   "source": [
    "### All of it (epochs, batch, relu)"
   ]
  },
  {
   "cell_type": "code",
   "execution_count": 34,
   "metadata": {
    "ExecuteTime": {
     "end_time": "2022-09-01T22:55:23.754299Z",
     "start_time": "2022-09-01T22:55:23.616798Z"
    },
    "hidden": true
   },
   "outputs": [],
   "source": [
    "model = Sequential()\n",
    "model.add(Dense(12, activation='relu', input_dim=64))\n",
    "model.add(Dense(8, activation='relu'))\n",
    "model.add(Dense(1, activation='sigmoid'))\n",
    "\n",
    "model.compile(optimizer='SGD',\n",
    "              loss='binary_crossentropy',\n",
    "              metrics=['accuracy'])\n",
    "\n",
    "# Assign the variable history to store the results,\n",
    "# and set verbose=1 so we can see the output.\n",
    "# increase epochs\n",
    "\n",
    "results = model.fit(X_pure_train, y_pure_train, epochs=100, batch_size=10, verbose=0)\n"
   ]
  },
  {
   "cell_type": "code",
   "execution_count": 35,
   "metadata": {
    "ExecuteTime": {
     "end_time": "2022-09-01T22:55:24.126298Z",
     "start_time": "2022-09-01T22:55:23.755828Z"
    },
    "hidden": true
   },
   "outputs": [
    {
     "data": {
      "image/png": "[encoded data removed]",
      "text/plain": [
       "<Figure size 720x360 with 2 Axes>"
      ]
     },
     "metadata": {
      "needs_background": "light"
     },
     "output_type": "display_data"
    }
   ],
   "source": [
    "relu_loss = results.history['loss']\n",
    "relu_accuracy = results.history['accuracy']\n",
    "\n",
    "fig, (ax1, ax2) = plt.subplots(1, 2, figsize=(10, 5))\n",
    "sns.lineplot(x=results.epoch, y=relu_loss, ax=ax1, label='loss')\n",
    "sns.lineplot(x=results.epoch, y=relu_accuracy, ax=ax2, label='accuracy')\n",
    "ax1.legend();"
   ]
  },
  {
   "cell_type": "markdown",
   "metadata": {
    "heading_collapsed": true,
    "hidden": true
   },
   "source": [
    "### Side note: learning rate"
   ]
  },
  {
   "cell_type": "markdown",
   "metadata": {
    "hidden": true
   },
   "source": [
    "If we increase the learning rate to a very high number, we see that our model overshoots the minimum, and starts bouncing all around."
   ]
  },
  {
   "cell_type": "code",
   "execution_count": 36,
   "metadata": {
    "ExecuteTime": {
     "end_time": "2022-09-01T22:55:26.435857Z",
     "start_time": "2022-09-01T22:55:24.127798Z"
    },
    "hidden": true
   },
   "outputs": [
    {
     "name": "stdout",
     "output_type": "stream",
     "text": [
      "Epoch 1/30\n",
      "115/115 [==============================] - 0s 591us/step - loss: 1.0520 - accuracy: 0.4970\n",
      "Epoch 2/30\n",
      "115/115 [==============================] - 0s 626us/step - loss: 0.9984 - accuracy: 0.4961\n",
      "Epoch 3/30\n",
      "115/115 [==============================] - 0s 643us/step - loss: 0.9316 - accuracy: 0.4961\n",
      "Epoch 4/30\n",
      "115/115 [==============================] - 0s 687us/step - loss: 1.0558 - accuracy: 0.4978\n",
      "Epoch 5/30\n",
      "115/115 [==============================] - 0s 800us/step - loss: 1.0533 - accuracy: 0.4900\n",
      "Epoch 6/30\n",
      "115/115 [==============================] - 0s 965us/step - loss: 0.9219 - accuracy: 0.5135\n",
      "Epoch 7/30\n",
      "115/115 [==============================] - 0s 643us/step - loss: 0.9452 - accuracy: 0.4987\n",
      "Epoch 8/30\n",
      "115/115 [==============================] - 0s 765us/step - loss: 0.9819 - accuracy: 0.5022\n",
      "Epoch 9/30\n",
      "115/115 [==============================] - 0s 652us/step - loss: 0.9945 - accuracy: 0.4935\n",
      "Epoch 10/30\n",
      "115/115 [==============================] - 0s 748us/step - loss: 1.0893 - accuracy: 0.4891\n",
      "Epoch 11/30\n",
      "115/115 [==============================] - 0s 739us/step - loss: 0.9910 - accuracy: 0.5048\n",
      "Epoch 12/30\n",
      "115/115 [==============================] - 0s 817us/step - loss: 0.9920 - accuracy: 0.4978\n",
      "Epoch 13/30\n",
      "115/115 [==============================] - 0s 722us/step - loss: 0.9730 - accuracy: 0.5196\n",
      "Epoch 14/30\n",
      "115/115 [==============================] - 0s 696us/step - loss: 1.0111 - accuracy: 0.4926\n",
      "Epoch 15/30\n",
      "115/115 [==============================] - 0s 617us/step - loss: 0.9860 - accuracy: 0.5030\n",
      "Epoch 16/30\n",
      "115/115 [==============================] - 0s 713us/step - loss: 1.1355 - accuracy: 0.4656\n",
      "Epoch 17/30\n",
      "115/115 [==============================] - 0s 774us/step - loss: 1.0454 - accuracy: 0.4795\n",
      "Epoch 18/30\n",
      "115/115 [==============================] - 0s 809us/step - loss: 0.9833 - accuracy: 0.4996\n",
      "Epoch 19/30\n",
      "115/115 [==============================] - 0s 783us/step - loss: 0.9193 - accuracy: 0.5091\n",
      "Epoch 20/30\n",
      "115/115 [==============================] - 0s 704us/step - loss: 1.0400 - accuracy: 0.4830\n",
      "Epoch 21/30\n",
      "115/115 [==============================] - 0s 861us/step - loss: 1.0407 - accuracy: 0.48390s - loss: 1.0418 - accuracy: 0.49\n",
      "Epoch 22/30\n",
      "115/115 [==============================] - 0s 748us/step - loss: 0.9489 - accuracy: 0.5074\n",
      "Epoch 23/30\n",
      "115/115 [==============================] - 0s 591us/step - loss: 1.0446 - accuracy: 0.4952\n",
      "Epoch 24/30\n",
      "115/115 [==============================] - 0s 661us/step - loss: 1.0637 - accuracy: 0.4883\n",
      "Epoch 25/30\n",
      "115/115 [==============================] - 0s 643us/step - loss: 0.9740 - accuracy: 0.5057\n",
      "Epoch 26/30\n",
      "115/115 [==============================] - 0s 722us/step - loss: 1.0428 - accuracy: 0.4952\n",
      "Epoch 27/30\n",
      "115/115 [==============================] - 0s 835us/step - loss: 1.0773 - accuracy: 0.4795\n",
      "Epoch 28/30\n",
      "115/115 [==============================] - 0s 2ms/step - loss: 1.0235 - accuracy: 0.4900\n",
      "Epoch 29/30\n",
      "115/115 [==============================] - 0s 939us/step - loss: 1.1165 - accuracy: 0.4752\n",
      "Epoch 30/30\n",
      "115/115 [==============================] - 0s 809us/step - loss: 0.9866 - accuracy: 0.5083\n"
     ]
    },
    {
     "data": {
      "image/png": "[encoded data removed]",
      "text/plain": [
       "<Figure size 720x360 with 2 Axes>"
      ]
     },
     "metadata": {
      "needs_background": "light"
     },
     "output_type": "display_data"
    }
   ],
   "source": [
    "model = Sequential()\n",
    "\n",
    "sgd = SGD(lr=9)\n",
    "\n",
    "\n",
    "model.add(Dense(12, activation='relu', input_dim=64))\n",
    "model.add(Dense(8, activation='relu'))\n",
    "model.add(Dense(1, activation='sigmoid'))\n",
    "\n",
    "model.compile(optimizer=sgd,\n",
    "              loss='binary_crossentropy',\n",
    "              metrics=['accuracy'])\n",
    "\n",
    "results = model.fit(X_pure_train, y_pure_train,\n",
    "                    epochs=30, batch_size=10, verbose=1)\n",
    "\n",
    "relu_loss = results.history['loss']\n",
    "relu_accuracy = results.history['accuracy']\n",
    "\n",
    "fig, (ax1, ax2) = plt.subplots(1, 2, figsize=(10, 5))\n",
    "sns.lineplot(x=results.epoch, y=relu_loss, ax=ax1, label='loss')\n",
    "sns.lineplot(x=results.epoch, y=relu_accuracy, ax=ax2, label='accuracy')\n",
    "ax1.legend();\n"
   ]
  },
  {
   "cell_type": "markdown",
   "metadata": {
    "heading_collapsed": true,
    "hidden": true
   },
   "source": [
    "### Exercise"
   ]
  },
  {
   "cell_type": "markdown",
   "metadata": {
    "hidden": true
   },
   "source": [
    "We have been looking only at our training set. Let's add in our validation set to the picture. Check the docstring for the `.fit()` method and add in our validation data."
   ]
  },
  {
   "cell_type": "code",
   "execution_count": 37,
   "metadata": {
    "ExecuteTime": {
     "end_time": "2022-09-01T22:55:26.683799Z",
     "start_time": "2022-09-01T22:55:26.437799Z"
    },
    "hidden": true
   },
   "outputs": [
    {
     "data": {
      "image/png": "[encoded data removed]",
      "text/plain": [
       "<Figure size 720x360 with 2 Axes>"
      ]
     },
     "metadata": {
      "needs_background": "light"
     },
     "output_type": "display_data"
    }
   ],
   "source": [
    "model = Sequential()\n",
    "model.add(Dense(12, activation='relu', input_dim=64))\n",
    "model.add(Dense(8, activation='relu'))\n",
    "model.add(Dense(4, activation='relu'))\n",
    "model.add(Dense(1, activation='sigmoid'))\n",
    "\n",
    "model.compile(optimizer='adam',\n",
    "              loss='binary_crossentropy',\n",
    "              metrics=['accuracy'])\n",
    "\n",
    "\n",
    "## YOUR CODE HERE\n",
    "results = model.fit(\n",
    "    X_pure_train, y_pure_train,\n",
    "    validation_data = (X_val, y_val),\n",
    "    epochs=30,\n",
    "    batch_size=10,\n",
    "    verbose=0\n",
    ")\n",
    "\n",
    "\n",
    "train_loss = results.history['loss']\n",
    "train_acc = results.history['accuracy']\n",
    "val_loss = results.history['val_loss']\n",
    "val_acc = results.history['val_accuracy']\n",
    "\n",
    "fig, (ax1, ax2) = plt.subplots(1, 2, figsize=(10, 5))\n",
    "sns.lineplot(x=results.epoch, y=train_loss, ax=ax1, label='train_loss')\n",
    "sns.lineplot(x=results.epoch, y=train_acc, ax=ax2, label='train_accuracy')\n",
    "\n",
    "sns.lineplot(x=results.epoch, y=val_loss, ax=ax1, label='val_loss')\n",
    "sns.lineplot(x=results.epoch, y=val_acc, ax=ax2, label='val_accuracy')\n",
    "ax1.set_title('Loss')\n",
    "ax2.set_title('Accuracy')\n",
    "ax1.legend();"
   ]
  },
  {
   "cell_type": "code",
   "execution_count": 38,
   "metadata": {
    "ExecuteTime": {
     "end_time": "2022-09-01T22:55:26.688800Z",
     "start_time": "2022-09-01T22:55:20.445Z"
    },
    "hidden": true
   },
   "outputs": [
    {
     "data": {
      "text/plain": [
       "0.9652777910232544"
      ]
     },
     "execution_count": 38,
     "metadata": {},
     "output_type": "execute_result"
    }
   ],
   "source": [
    "results.history['val_accuracy'][-1]"
   ]
  },
  {
   "cell_type": "markdown",
   "metadata": {
    "heading_collapsed": true,
    "hidden": true
   },
   "source": [
    "## Connecting with `sklearn`"
   ]
  },
  {
   "cell_type": "markdown",
   "metadata": {
    "hidden": true
   },
   "source": [
    "The `keras.wrappers` submodule means that we can turn `keras` models into estimators that `sklearn` tools will recognize."
   ]
  },
  {
   "cell_type": "code",
   "execution_count": 39,
   "metadata": {
    "ExecuteTime": {
     "end_time": "2022-09-01T22:55:26.689798Z",
     "start_time": "2022-09-01T22:55:20.447Z"
    },
    "hidden": true
   },
   "outputs": [
    {
     "ename": "TypeError",
     "evalue": "If no scoring is specified, the estimator passed should have a 'score' method. The estimator <tensorflow.python.keras.engine.sequential.Sequential object at 0x000001F2B76769D0> does not.",
     "output_type": "error",
     "traceback": [
      "\u001b[1;31m---------------------------------------------------------------------------\u001b[0m",
      "\u001b[1;31mTypeError\u001b[0m                                 Traceback (most recent call last)",
      "\u001b[1;32m<ipython-input-39-440685741601>\u001b[0m in \u001b[0;36m<module>\u001b[1;34m\u001b[0m\n\u001b[0;32m      1\u001b[0m \u001b[1;31m# This will throw an error.\u001b[0m\u001b[1;33m\u001b[0m\u001b[1;33m\u001b[0m\u001b[1;33m\u001b[0m\u001b[0m\n\u001b[0;32m      2\u001b[0m \u001b[1;33m\u001b[0m\u001b[0m\n\u001b[1;32m----> 3\u001b[1;33m \u001b[0mcross_val_score\u001b[0m\u001b[1;33m(\u001b[0m\u001b[0mmodel\u001b[0m\u001b[1;33m,\u001b[0m \u001b[0mX_pure_train\u001b[0m\u001b[1;33m,\u001b[0m \u001b[0my_pure_train\u001b[0m\u001b[1;33m)\u001b[0m\u001b[1;33m\u001b[0m\u001b[1;33m\u001b[0m\u001b[0m\n\u001b[0m",
      "\u001b[1;32m~\\anaconda3\\envs\\learn-env\\lib\\site-packages\\sklearn\\utils\\validation.py\u001b[0m in \u001b[0;36minner_f\u001b[1;34m(*args, **kwargs)\u001b[0m\n\u001b[0;32m     70\u001b[0m                           FutureWarning)\n\u001b[0;32m     71\u001b[0m         \u001b[0mkwargs\u001b[0m\u001b[1;33m.\u001b[0m\u001b[0mupdate\u001b[0m\u001b[1;33m(\u001b[0m\u001b[1;33m{\u001b[0m\u001b[0mk\u001b[0m\u001b[1;33m:\u001b[0m \u001b[0marg\u001b[0m \u001b[1;32mfor\u001b[0m \u001b[0mk\u001b[0m\u001b[1;33m,\u001b[0m \u001b[0marg\u001b[0m \u001b[1;32min\u001b[0m \u001b[0mzip\u001b[0m\u001b[1;33m(\u001b[0m\u001b[0msig\u001b[0m\u001b[1;33m.\u001b[0m\u001b[0mparameters\u001b[0m\u001b[1;33m,\u001b[0m \u001b[0margs\u001b[0m\u001b[1;33m)\u001b[0m\u001b[1;33m}\u001b[0m\u001b[1;33m)\u001b[0m\u001b[1;33m\u001b[0m\u001b[1;33m\u001b[0m\u001b[0m\n\u001b[1;32m---> 72\u001b[1;33m         \u001b[1;32mreturn\u001b[0m \u001b[0mf\u001b[0m\u001b[1;33m(\u001b[0m\u001b[1;33m**\u001b[0m\u001b[0mkwargs\u001b[0m\u001b[1;33m)\u001b[0m\u001b[1;33m\u001b[0m\u001b[1;33m\u001b[0m\u001b[0m\n\u001b[0m\u001b[0;32m     73\u001b[0m     \u001b[1;32mreturn\u001b[0m \u001b[0minner_f\u001b[0m\u001b[1;33m\u001b[0m\u001b[1;33m\u001b[0m\u001b[0m\n\u001b[0;32m     74\u001b[0m \u001b[1;33m\u001b[0m\u001b[0m\n",
      "\u001b[1;32m~\\anaconda3\\envs\\learn-env\\lib\\site-packages\\sklearn\\model_selection\\_validation.py\u001b[0m in \u001b[0;36mcross_val_score\u001b[1;34m(estimator, X, y, groups, scoring, cv, n_jobs, verbose, fit_params, pre_dispatch, error_score)\u001b[0m\n\u001b[0;32m    397\u001b[0m     \"\"\"\n\u001b[0;32m    398\u001b[0m     \u001b[1;31m# To ensure multimetric format is not supported\u001b[0m\u001b[1;33m\u001b[0m\u001b[1;33m\u001b[0m\u001b[1;33m\u001b[0m\u001b[0m\n\u001b[1;32m--> 399\u001b[1;33m     \u001b[0mscorer\u001b[0m \u001b[1;33m=\u001b[0m \u001b[0mcheck_scoring\u001b[0m\u001b[1;33m(\u001b[0m\u001b[0mestimator\u001b[0m\u001b[1;33m,\u001b[0m \u001b[0mscoring\u001b[0m\u001b[1;33m=\u001b[0m\u001b[0mscoring\u001b[0m\u001b[1;33m)\u001b[0m\u001b[1;33m\u001b[0m\u001b[1;33m\u001b[0m\u001b[0m\n\u001b[0m\u001b[0;32m    400\u001b[0m \u001b[1;33m\u001b[0m\u001b[0m\n\u001b[0;32m    401\u001b[0m     cv_results = cross_validate(estimator=estimator, X=X, y=y, groups=groups,\n",
      "\u001b[1;32m~\\anaconda3\\envs\\learn-env\\lib\\site-packages\\sklearn\\utils\\validation.py\u001b[0m in \u001b[0;36minner_f\u001b[1;34m(*args, **kwargs)\u001b[0m\n\u001b[0;32m     70\u001b[0m                           FutureWarning)\n\u001b[0;32m     71\u001b[0m         \u001b[0mkwargs\u001b[0m\u001b[1;33m.\u001b[0m\u001b[0mupdate\u001b[0m\u001b[1;33m(\u001b[0m\u001b[1;33m{\u001b[0m\u001b[0mk\u001b[0m\u001b[1;33m:\u001b[0m \u001b[0marg\u001b[0m \u001b[1;32mfor\u001b[0m \u001b[0mk\u001b[0m\u001b[1;33m,\u001b[0m \u001b[0marg\u001b[0m \u001b[1;32min\u001b[0m \u001b[0mzip\u001b[0m\u001b[1;33m(\u001b[0m\u001b[0msig\u001b[0m\u001b[1;33m.\u001b[0m\u001b[0mparameters\u001b[0m\u001b[1;33m,\u001b[0m \u001b[0margs\u001b[0m\u001b[1;33m)\u001b[0m\u001b[1;33m}\u001b[0m\u001b[1;33m)\u001b[0m\u001b[1;33m\u001b[0m\u001b[1;33m\u001b[0m\u001b[0m\n\u001b[1;32m---> 72\u001b[1;33m         \u001b[1;32mreturn\u001b[0m \u001b[0mf\u001b[0m\u001b[1;33m(\u001b[0m\u001b[1;33m**\u001b[0m\u001b[0mkwargs\u001b[0m\u001b[1;33m)\u001b[0m\u001b[1;33m\u001b[0m\u001b[1;33m\u001b[0m\u001b[0m\n\u001b[0m\u001b[0;32m     73\u001b[0m     \u001b[1;32mreturn\u001b[0m \u001b[0minner_f\u001b[0m\u001b[1;33m\u001b[0m\u001b[1;33m\u001b[0m\u001b[0m\n\u001b[0;32m     74\u001b[0m \u001b[1;33m\u001b[0m\u001b[0m\n",
      "\u001b[1;32m~\\anaconda3\\envs\\learn-env\\lib\\site-packages\\sklearn\\metrics\\_scorer.py\u001b[0m in \u001b[0;36mcheck_scoring\u001b[1;34m(estimator, scoring, allow_none)\u001b[0m\n\u001b[0;32m    423\u001b[0m             \u001b[1;32mreturn\u001b[0m \u001b[1;32mNone\u001b[0m\u001b[1;33m\u001b[0m\u001b[1;33m\u001b[0m\u001b[0m\n\u001b[0;32m    424\u001b[0m         \u001b[1;32melse\u001b[0m\u001b[1;33m:\u001b[0m\u001b[1;33m\u001b[0m\u001b[1;33m\u001b[0m\u001b[0m\n\u001b[1;32m--> 425\u001b[1;33m             raise TypeError(\n\u001b[0m\u001b[0;32m    426\u001b[0m                 \u001b[1;34m\"If no scoring is specified, the estimator passed should \"\u001b[0m\u001b[1;33m\u001b[0m\u001b[1;33m\u001b[0m\u001b[0m\n\u001b[0;32m    427\u001b[0m                 \u001b[1;34m\"have a 'score' method. The estimator %r does not.\"\u001b[0m\u001b[1;33m\u001b[0m\u001b[1;33m\u001b[0m\u001b[0m\n",
      "\u001b[1;31mTypeError\u001b[0m: If no scoring is specified, the estimator passed should have a 'score' method. The estimator <tensorflow.python.keras.engine.sequential.Sequential object at 0x000001F2B76769D0> does not."
     ]
    }
   ],
   "source": [
    "# This will throw an error.\n",
    "\n",
    "cross_val_score(model, X_pure_train, y_pure_train)"
   ]
  },
  {
   "cell_type": "code",
   "execution_count": 40,
   "metadata": {
    "ExecuteTime": {
     "end_time": "2022-09-01T22:55:26.690300Z",
     "start_time": "2022-09-01T22:55:20.448Z"
    },
    "hidden": true
   },
   "outputs": [],
   "source": [
    "def build_model():\n",
    "    model = Sequential()\n",
    "    model.add(Dense(12, activation='relu', input_dim=64))\n",
    "    model.add(Dense(8, activation='relu'))\n",
    "    model.add(Dense(4, activation='relu'))\n",
    "    model.add(Dense(1, activation = 'sigmoid'))\n",
    "\n",
    "    model.compile(optimizer='adam',\n",
    "                  loss='binary_crossentropy',\n",
    "                  metrics=['accuracy'])\n",
    "    return model"
   ]
  },
  {
   "cell_type": "code",
   "execution_count": 41,
   "metadata": {
    "ExecuteTime": {
     "end_time": "2022-09-01T22:55:26.691300Z",
     "start_time": "2022-09-01T22:55:20.449Z"
    },
    "hidden": true
   },
   "outputs": [],
   "source": [
    "keras_model = scikit_learn.KerasClassifier(build_model,\n",
    "                                          epochs=10,\n",
    "                                          batch_size=32,\n",
    "                                          verbose=2)"
   ]
  },
  {
   "cell_type": "code",
   "execution_count": 42,
   "metadata": {
    "ExecuteTime": {
     "end_time": "2022-09-01T22:55:26.691799Z",
     "start_time": "2022-09-01T22:55:20.450Z"
    },
    "hidden": true
   },
   "outputs": [
    {
     "data": {
      "text/plain": [
       "tensorflow.python.keras.wrappers.scikit_learn.KerasClassifier"
      ]
     },
     "execution_count": 42,
     "metadata": {},
     "output_type": "execute_result"
    }
   ],
   "source": [
    "type(keras_model)"
   ]
  },
  {
   "cell_type": "code",
   "execution_count": 43,
   "metadata": {
    "ExecuteTime": {
     "end_time": "2022-09-01T22:55:26.692324Z",
     "start_time": "2022-09-01T22:55:20.452Z"
    },
    "hidden": true,
    "scrolled": true
   },
   "outputs": [
    {
     "name": "stdout",
     "output_type": "stream",
     "text": [
      "Epoch 1/10\n",
      "29/29 - 0s - loss: 0.6896 - accuracy: 0.5724\n",
      "Epoch 2/10\n",
      "29/29 - 0s - loss: 0.6500 - accuracy: 0.7008\n",
      "Epoch 3/10\n",
      "29/29 - 0s - loss: 0.6048 - accuracy: 0.7421\n",
      "Epoch 4/10\n",
      "29/29 - 0s - loss: 0.5464 - accuracy: 0.7824\n",
      "Epoch 5/10\n",
      "29/29 - 0s - loss: 0.4780 - accuracy: 0.8063\n",
      "Epoch 6/10\n",
      "29/29 - 0s - loss: 0.4085 - accuracy: 0.8585\n",
      "Epoch 7/10\n",
      "29/29 - 0s - loss: 0.3569 - accuracy: 0.8705\n",
      "Epoch 8/10\n",
      "29/29 - 0s - loss: 0.3130 - accuracy: 0.8814\n",
      "Epoch 9/10\n",
      "29/29 - 0s - loss: 0.2823 - accuracy: 0.8966\n",
      "Epoch 10/10\n",
      "29/29 - 0s - loss: 0.2504 - accuracy: 0.9075\n",
      "8/8 - 0s - loss: 0.2979 - accuracy: 0.8826\n",
      "Epoch 1/10\n",
      "29/29 - 0s - loss: 0.7973 - accuracy: 0.4799\n",
      "Epoch 2/10\n",
      "29/29 - 0s - loss: 0.6634 - accuracy: 0.6072\n",
      "Epoch 3/10\n",
      "29/29 - 0s - loss: 0.6253 - accuracy: 0.6921\n",
      "Epoch 4/10\n",
      "29/29 - 0s - loss: 0.5888 - accuracy: 0.7606\n",
      "Epoch 5/10\n",
      "29/29 - 0s - loss: 0.5483 - accuracy: 0.7933\n",
      "Epoch 6/10\n",
      "29/29 - 0s - loss: 0.5052 - accuracy: 0.8411\n",
      "Epoch 7/10\n",
      "29/29 - 0s - loss: 0.4641 - accuracy: 0.8803\n",
      "Epoch 8/10\n",
      "29/29 - 0s - loss: 0.4293 - accuracy: 0.8705\n",
      "Epoch 9/10\n",
      "29/29 - 0s - loss: 0.3876 - accuracy: 0.8966\n",
      "Epoch 10/10\n",
      "29/29 - 0s - loss: 0.3435 - accuracy: 0.9042\n",
      "8/8 - 0s - loss: 0.3189 - accuracy: 0.9000\n",
      "Epoch 1/10\n",
      "29/29 - 0s - loss: 0.6855 - accuracy: 0.5016\n",
      "Epoch 2/10\n",
      "29/29 - 0s - loss: 0.6637 - accuracy: 0.5136\n",
      "Epoch 3/10\n",
      "29/29 - 0s - loss: 0.6273 - accuracy: 0.5930\n",
      "Epoch 4/10\n",
      "29/29 - 0s - loss: 0.5823 - accuracy: 0.6910\n",
      "Epoch 5/10\n",
      "29/29 - 0s - loss: 0.5416 - accuracy: 0.7650\n",
      "Epoch 6/10\n",
      "29/29 - 0s - loss: 0.5093 - accuracy: 0.8139\n",
      "Epoch 7/10\n",
      "29/29 - 0s - loss: 0.4826 - accuracy: 0.8542\n",
      "Epoch 8/10\n",
      "29/29 - 0s - loss: 0.4617 - accuracy: 0.8738\n",
      "Epoch 9/10\n",
      "29/29 - 0s - loss: 0.4440 - accuracy: 0.8868\n",
      "Epoch 10/10\n",
      "29/29 - 0s - loss: 0.4294 - accuracy: 0.8945\n",
      "8/8 - 0s - loss: 0.4085 - accuracy: 0.9174\n",
      "Epoch 1/10\n",
      "29/29 - 0s - loss: 0.6048 - accuracy: 0.7214\n",
      "Epoch 2/10\n",
      "29/29 - 0s - loss: 0.5292 - accuracy: 0.7933\n",
      "Epoch 3/10\n",
      "29/29 - 0s - loss: 0.4589 - accuracy: 0.8324\n",
      "Epoch 4/10\n",
      "29/29 - 0s - loss: 0.3976 - accuracy: 0.8390\n",
      "Epoch 5/10\n",
      "29/29 - 0s - loss: 0.3478 - accuracy: 0.8575\n",
      "Epoch 6/10\n",
      "29/29 - 0s - loss: 0.3108 - accuracy: 0.8662\n",
      "Epoch 7/10\n",
      "29/29 - 0s - loss: 0.2824 - accuracy: 0.8857\n",
      "Epoch 8/10\n",
      "29/29 - 0s - loss: 0.2614 - accuracy: 0.8857\n",
      "Epoch 9/10\n",
      "29/29 - 0s - loss: 0.2423 - accuracy: 0.8901\n",
      "Epoch 10/10\n",
      "29/29 - 0s - loss: 0.2253 - accuracy: 0.9021\n",
      "8/8 - 0s - loss: 0.2088 - accuracy: 0.9261\n",
      "Epoch 1/10\n",
      "29/29 - 0s - loss: 0.7041 - accuracy: 0.4435\n",
      "Epoch 2/10\n",
      "29/29 - 0s - loss: 0.6683 - accuracy: 0.6163\n",
      "Epoch 3/10\n",
      "29/29 - 0s - loss: 0.6080 - accuracy: 0.7076\n",
      "Epoch 4/10\n",
      "29/29 - 0s - loss: 0.5134 - accuracy: 0.8163\n",
      "Epoch 5/10\n",
      "29/29 - 0s - loss: 0.4147 - accuracy: 0.8652\n",
      "Epoch 6/10\n",
      "29/29 - 0s - loss: 0.3427 - accuracy: 0.8804\n",
      "Epoch 7/10\n",
      "29/29 - 0s - loss: 0.2922 - accuracy: 0.8902\n",
      "Epoch 8/10\n",
      "29/29 - 0s - loss: 0.2648 - accuracy: 0.9011\n",
      "Epoch 9/10\n",
      "29/29 - 0s - loss: 0.2429 - accuracy: 0.9054\n",
      "Epoch 10/10\n",
      "29/29 - 0s - loss: 0.2251 - accuracy: 0.9098\n",
      "8/8 - 0s - loss: 0.3028 - accuracy: 0.8603\n"
     ]
    },
    {
     "data": {
      "text/plain": [
       "array([0.88260871, 0.89999998, 0.9173913 , 0.92608696, 0.86026204])"
      ]
     },
     "execution_count": 43,
     "metadata": {},
     "output_type": "execute_result"
    }
   ],
   "source": [
    "cross_val_score(keras_model, X_pure_train, y_pure_train)"
   ]
  },
  {
   "cell_type": "markdown",
   "metadata": {
    "heading_collapsed": true,
    "hidden": true
   },
   "source": [
    "## [Regularization](https://www.tensorflow.org/api_docs/python/tf/keras/regularizers/Regularizer)"
   ]
  },
  {
   "cell_type": "markdown",
   "metadata": {
    "hidden": true
   },
   "source": [
    "Does regularization make sense in the context of neural networks? <br/>\n",
    "\n",
    "Yes! We still have all of the salient ingredients: a loss function, overfitting vs. underfitting, and coefficients (weights) that could get too large.\n",
    "\n",
    "But there are now a few different flavors besides L1 and L2 regularization. (Note that L1 regularization is not common in the context of  neural networks.)\n",
    "\n",
    "We'll add a few more layers to give regularization a better chance of making a difference!"
   ]
  },
  {
   "cell_type": "code",
   "execution_count": 44,
   "metadata": {
    "ExecuteTime": {
     "end_time": "2022-09-01T22:55:26.693299Z",
     "start_time": "2022-09-01T22:55:20.454Z"
    },
    "hidden": true
   },
   "outputs": [
    {
     "data": {
      "image/png": "[encoded data removed]",
      "text/plain": [
       "<Figure size 720x360 with 2 Axes>"
      ]
     },
     "metadata": {
      "needs_background": "light"
     },
     "output_type": "display_data"
    }
   ],
   "source": [
    "model = Sequential()\n",
    "model.add(Dense(30, activation='relu', input_dim=64))\n",
    "\n",
    "# We can add L2 (or L1) regularization right into\n",
    "# the layer with the kernel_regularizer parameter.\n",
    "\n",
    "model.add(Dense(20, activation='relu',kernel_regularizer=l2(l=0.05)))\n",
    "\n",
    "# Note that there is also a bias_regularizer,\n",
    "# but this tends to have less effect.\n",
    "\n",
    "model.add(Dense(12, activation='relu'))\n",
    "model.add(Dense(12, activation='relu'))\n",
    "model.add(Dense(12, activation='relu'))\n",
    "model.add(Dense(8, activation='relu'))\n",
    "model.add(Dense(4, activation='relu'))\n",
    "model.add(Dense(1, activation ='sigmoid'))\n",
    "\n",
    "model.compile(optimizer='adam',\n",
    "              loss='binary_crossentropy',\n",
    "              metrics=['accuracy'])\n",
    "\n",
    "results = model.fit(X_pure_train, y_pure_train, epochs=20, batch_size=32,\n",
    "                    verbose=0, validation_data=(X_val, y_val))\n",
    "\n",
    "train_loss = results.history['loss']\n",
    "train_acc = results.history['accuracy']\n",
    "val_loss = results.history['val_loss']\n",
    "val_acc = results.history['val_accuracy']\n",
    "\n",
    "\n",
    "fig, (ax1, ax2) = plt.subplots(1, 2, figsize=(10, 5))\n",
    "sns.lineplot(x=results.epoch, y=train_loss, ax=ax1, label='train_loss')\n",
    "sns.lineplot(x=results.epoch, y=train_acc, ax=ax2, label='train_accuracy')\n",
    "\n",
    "sns.lineplot(x=results.epoch, y=val_loss, ax=ax1, label='val_loss')\n",
    "sns.lineplot(x=results.epoch, y=val_acc, ax=ax2, label='val_accuracy')\n",
    "ax1.set_title('Loss')\n",
    "ax2.set_title('Accuracy')\n",
    "ax1.legend();"
   ]
  },
  {
   "cell_type": "markdown",
   "metadata": {
    "hidden": true
   },
   "source": [
    "Adding L2 to multiple layers:"
   ]
  },
  {
   "cell_type": "code",
   "execution_count": 45,
   "metadata": {
    "ExecuteTime": {
     "end_time": "2022-09-01T22:55:26.694299Z",
     "start_time": "2022-09-01T22:55:20.456Z"
    },
    "hidden": true
   },
   "outputs": [
    {
     "data": {
      "image/png": "[encoded data removed]",
      "text/plain": [
       "<Figure size 720x360 with 2 Axes>"
      ]
     },
     "metadata": {
      "needs_background": "light"
     },
     "output_type": "display_data"
    }
   ],
   "source": [
    "model = Sequential()\n",
    "model.add(Dense(30, activation='relu',\n",
    "                input_dim=64))\n",
    "model.add(Dense(20, activation='relu',\n",
    "                kernel_regularizer=l2(l=0.01)))\n",
    "\n",
    "model.add(Dense(12, activation='relu',\n",
    "                kernel_regularizer=l2(l=0.01)))\n",
    "model.add(Dense(12, activation='relu',\n",
    "                kernel_regularizer=l2(l=0.01)))\n",
    "model.add(Dense(12, activation='relu',\n",
    "                kernel_regularizer=l2(l=0.01)))\n",
    "model.add(Dense(8, activation='relu',\n",
    "                kernel_regularizer=l2(l=0.01)))\n",
    "model.add(Dense(4, activation='relu',\n",
    "                kernel_regularizer=l2(l=0.01)))\n",
    "model.add(Dense(1, activation='sigmoid'))\n",
    "\n",
    "model.compile(optimizer='adam',\n",
    "              loss='binary_crossentropy',\n",
    "              metrics=['accuracy'])\n",
    "\n",
    "results = model.fit(X_pure_train, y_pure_train, epochs=20, batch_size=32,\n",
    "                    verbose=0, validation_data=(X_val, y_val))\n",
    "\n",
    "train_loss = results.history['loss']\n",
    "train_acc = results.history['accuracy']\n",
    "val_loss = results.history['val_loss']\n",
    "val_acc = results.history['val_accuracy']\n",
    "\n",
    "\n",
    "fig, (ax1, ax2) = plt.subplots(1, 2, figsize=(10, 5))\n",
    "sns.lineplot(x=results.epoch, y=train_loss, ax=ax1, label='train_loss')\n",
    "sns.lineplot(x=results.epoch, y=train_acc, ax=ax2, label='train_accuracy')\n",
    "\n",
    "sns.lineplot(x=results.epoch, y=val_loss, ax=ax1, label='val_loss')\n",
    "sns.lineplot(x=results.epoch, y=val_acc, ax=ax2, label='val_accuracy')\n",
    "ax1.set_title('Loss')\n",
    "ax2.set_title('Accuracy')\n",
    "ax1.legend();"
   ]
  },
  {
   "cell_type": "markdown",
   "metadata": {
    "heading_collapsed": true,
    "hidden": true
   },
   "source": [
    "### Dropout\n",
    "\n",
    "We can also specify a dropout layer in keras, which randomly shuts off different nodes during training. This can help to prevent overfitting."
   ]
  },
  {
   "cell_type": "markdown",
   "metadata": {
    "hidden": true
   },
   "source": [
    "![drop_out](images/drop_out.png)"
   ]
  },
  {
   "cell_type": "markdown",
   "metadata": {
    "heading_collapsed": true,
    "hidden": true
   },
   "source": [
    "### Exercise\n",
    "\n",
    "To add dropout to a `keras` network, simply add it as though it were a layer. It will apply to the immediately preceding layer.\n",
    "\n",
    "Add Dropout to one or more layers below."
   ]
  },
  {
   "cell_type": "code",
   "execution_count": 46,
   "metadata": {
    "ExecuteTime": {
     "end_time": "2022-09-01T22:55:26.695299Z",
     "start_time": "2022-09-01T22:55:20.459Z"
    },
    "hidden": true
   },
   "outputs": [
    {
     "data": {
      "image/png": "[encoded data removed]",
      "text/plain": [
       "<Figure size 720x360 with 2 Axes>"
      ]
     },
     "metadata": {
      "needs_background": "light"
     },
     "output_type": "display_data"
    }
   ],
   "source": [
    "model = Sequential()\n",
    "model.add(Dense(30, activation='relu', input_dim=64))\n",
    "model.add(Dense(20, activation='relu'))\n",
    "model.add(Dropout(0.5))\n",
    "model.add(Dense(12, activation='relu'))\n",
    "model.add(Dense(12, activation='relu'))\n",
    "model.add(Dropout(0.4))\n",
    "model.add(Dense(12, activation='relu'))\n",
    "model.add(Dense(8, activation='relu'))\n",
    "model.add(Dense(4, activation='relu'))\n",
    "model.add(Dropout(0.2))\n",
    "model.add(Dense(1, activation ='sigmoid'))\n",
    "\n",
    "model.compile(optimizer='adam',\n",
    "              loss='binary_crossentropy',\n",
    "              metrics=['accuracy'])\n",
    "\n",
    "results = model.fit(X_pure_train, y_pure_train, epochs=50,\n",
    "                    batch_size= 32, verbose=0,\n",
    "                    validation_data=(X_val, y_val))\n",
    "\n",
    "train_loss = results.history['loss']\n",
    "train_acc = results.history['accuracy']\n",
    "val_loss = results.history['val_loss']\n",
    "val_acc = results.history['val_accuracy']\n",
    "\n",
    "\n",
    "fig, (ax1, ax2) = plt.subplots(1, 2, figsize=(10, 5))\n",
    "sns.lineplot(x=results.epoch, y=train_loss, ax=ax1, label='train_loss')\n",
    "sns.lineplot(x=results.epoch, y=train_acc, ax=ax2, label='train_accuracy')\n",
    "\n",
    "sns.lineplot(x=results.epoch, y=val_loss, ax=ax1, label='val_loss')\n",
    "sns.lineplot(x=results.epoch, y=val_acc, ax=ax2, label='val_accuracy')\n",
    "ax1.set_title('Loss')\n",
    "ax2.set_title('Accuracy')\n",
    "ax1.legend();"
   ]
  },
  {
   "cell_type": "code",
   "execution_count": 47,
   "metadata": {
    "ExecuteTime": {
     "end_time": "2022-09-01T22:55:26.696299Z",
     "start_time": "2022-09-01T22:55:20.460Z"
    },
    "hidden": true
   },
   "outputs": [
    {
     "data": {
      "text/plain": [
       "0.9548611044883728"
      ]
     },
     "execution_count": 47,
     "metadata": {},
     "output_type": "execute_result"
    }
   ],
   "source": [
    "results.history['val_accuracy'][-1]"
   ]
  },
  {
   "cell_type": "markdown",
   "metadata": {
    "heading_collapsed": true,
    "hidden": true
   },
   "source": [
    "### Early Stopping"
   ]
  },
  {
   "cell_type": "markdown",
   "metadata": {
    "hidden": true
   },
   "source": [
    "We can also tell our neural network to stop once it stops realizing any gain.\n",
    "\n",
    "Here we tell it to stop once the a very small positive change in the validation loss occurs:"
   ]
  },
  {
   "cell_type": "code",
   "execution_count": null,
   "metadata": {
    "ExecuteTime": {
     "end_time": "2022-09-01T22:55:26.696798Z",
     "start_time": "2022-09-01T22:55:20.462Z"
    },
    "hidden": true
   },
   "outputs": [],
   "source": [
    "model = Sequential()\n",
    "model.add(Dense(30, activation='relu', input_dim=64))\n",
    "model.add(Dense(20, activation='relu'))\n",
    "model.add(Dropout(0.5))\n",
    "model.add(Dense(12, activation='relu'))\n",
    "model.add(Dense(12, activation='relu'))\n",
    "model.add(Dense(12, activation='relu'))\n",
    "model.add(Dense(8, activation='relu'))\n",
    "model.add(Dense(4, activation='relu'))\n",
    "model.add(Dense(1, activation ='sigmoid'))\n",
    "\n",
    "model.compile(optimizer='adam',\n",
    "              loss='binary_crossentropy',\n",
    "              metrics=['accuracy'])\n",
    "\n",
    "# Define the EarlyStopping object\n",
    "early_stop = EarlyStopping(monitor='val_loss', min_delta=1e-8,\n",
    "                           verbose=1,\n",
    "                           mode='min')\n",
    "\n",
    "# Place this in a list as the value of the `callbacks` parameter\n",
    "# in the `.fit()` method.\n",
    "results = model.fit(X_pure_train, y_pure_train,\n",
    "                    epochs=20, batch_size=32,\n",
    "                    verbose=0, validation_data=(X_val, y_val),\n",
    "                    callbacks=[early_stop])\n",
    "\n",
    "train_loss = results.history['loss']\n",
    "train_acc = results.history['accuracy']\n",
    "val_loss = results.history['val_loss']\n",
    "val_acc = results.history['val_accuracy']\n",
    "\n",
    "\n",
    "fig, (ax1, ax2) = plt.subplots(1, 2, figsize=(10, 5))\n",
    "sns.lineplot(x=results.epoch, y=train_loss, ax=ax1, label='train_loss')\n",
    "sns.lineplot(x=results.epoch, y=train_acc, ax=ax2, label='train_accuracy')\n",
    "\n",
    "sns.lineplot(x=results.epoch, y=val_loss, ax=ax1, label='val_loss')\n",
    "sns.lineplot(x=results.epoch, y=val_acc, ax=ax2, label='val_accuracy')\n",
    "ax1.set_title('Loss')\n",
    "ax2.set_title('Accuracy')\n",
    "ax1.legend();"
   ]
  },
  {
   "cell_type": "markdown",
   "metadata": {
    "heading_collapsed": true,
    "hidden": true
   },
   "source": [
    "### Exercise\n",
    "\n",
    "That probably stopped too early. We can specify the number of epochs in which it doesn't see decrease in the loss with the `patience` parameter. Modify the code below to include an Early Stop with a patience of 5 epochs."
   ]
  },
  {
   "cell_type": "code",
   "execution_count": 48,
   "metadata": {
    "ExecuteTime": {
     "end_time": "2022-09-01T22:55:26.697800Z",
     "start_time": "2022-09-01T22:55:20.464Z"
    },
    "hidden": true
   },
   "outputs": [
    {
     "name": "stdout",
     "output_type": "stream",
     "text": [
      "Epoch 00006: early stopping\n"
     ]
    },
    {
     "data": {
      "image/png": "[encoded data removed]",
      "text/plain": [
       "<Figure size 720x360 with 2 Axes>"
      ]
     },
     "metadata": {
      "needs_background": "light"
     },
     "output_type": "display_data"
    }
   ],
   "source": [
    "model = Sequential()\n",
    "model.add(Dense(30, activation='relu', input_dim=64))\n",
    "model.add(Dense(20, activation='relu'))\n",
    "model.add(Dropout(0.5))\n",
    "model.add(Dense(12, activation='relu'))\n",
    "model.add(Dense(12, activation='relu'))\n",
    "model.add(Dense(12, activation='relu'))\n",
    "model.add(Dense(8, activation='relu'))\n",
    "model.add(Dense(4, activation='relu'))\n",
    "model.add(Dense(1, activation ='sigmoid'))\n",
    "\n",
    "model.compile(optimizer='adam',\n",
    "              loss='binary_crossentropy',\n",
    "              metrics=['accuracy'])\n",
    "\n",
    "# Define the EarlyStopping object\n",
    "early_stop = EarlyStopping(monitor='val_loss', min_delta=1e-8,\n",
    "                           verbose=1,\n",
    "                           patience=5,\n",
    "                           mode='min')\n",
    "\n",
    "# Place this in a list as the value of the `callbacks` parameter\n",
    "# in the `.fit()` method.\n",
    "results = model.fit(X_pure_train, y_pure_train,\n",
    "                    epochs=50, batch_size= 32,\n",
    "                    verbose=0, validation_data=(X_val, y_val),\n",
    "                    callbacks=[early_stop])\n",
    "\n",
    "train_loss = results.history['loss']\n",
    "train_acc = results.history['accuracy']\n",
    "val_loss = results.history['val_loss']\n",
    "val_acc = results.history['val_accuracy']\n",
    "\n",
    "\n",
    "fig, (ax1, ax2) = plt.subplots(1, 2, figsize=(10, 5))\n",
    "sns.lineplot(x=results.epoch, y=train_loss, ax=ax1, label='train_loss')\n",
    "sns.lineplot(x=results.epoch, y=train_acc, ax=ax2, label='train_accuracy')\n",
    "\n",
    "sns.lineplot(x=results.epoch, y=val_loss, ax=ax1, label='val_loss')\n",
    "sns.lineplot(x=results.epoch, y=val_acc, ax=ax2, label='val_accuracy')\n",
    "ax1.set_title('Loss')\n",
    "ax2.set_title('Accuracy')\n",
    "ax1.legend();"
   ]
  },
  {
   "cell_type": "code",
   "execution_count": 49,
   "metadata": {
    "ExecuteTime": {
     "end_time": "2022-09-01T22:55:26.698800Z",
     "start_time": "2022-09-01T22:55:20.465Z"
    },
    "hidden": true
   },
   "outputs": [
    {
     "data": {
      "text/plain": [
       "0.46875"
      ]
     },
     "execution_count": 49,
     "metadata": {},
     "output_type": "execute_result"
    }
   ],
   "source": [
    "results.history['val_accuracy'][-1]"
   ]
  },
  {
   "cell_type": "markdown",
   "metadata": {
    "heading_collapsed": true,
    "hidden": true
   },
   "source": [
    "## Multiclass Classification and Softmax"
   ]
  },
  {
   "cell_type": "markdown",
   "metadata": {
    "hidden": true
   },
   "source": [
    "Now let's return to the problem of predicting digits 0 through 9."
   ]
  },
  {
   "cell_type": "code",
   "execution_count": 50,
   "metadata": {
    "ExecuteTime": {
     "end_time": "2022-09-01T22:55:26.699323Z",
     "start_time": "2022-09-01T22:55:20.467Z"
    },
    "hidden": true
   },
   "outputs": [],
   "source": [
    "digits = load_digits()\n",
    "X = digits.data\n",
    "y = digits.target"
   ]
  },
  {
   "cell_type": "code",
   "execution_count": 51,
   "metadata": {
    "ExecuteTime": {
     "end_time": "2022-09-01T22:55:26.700319Z",
     "start_time": "2022-09-01T22:55:20.469Z"
    },
    "hidden": true
   },
   "outputs": [],
   "source": [
    "X_train, X_test, y_train, y_test = train_test_split(X, y,\n",
    "                                                    random_state=42,\n",
    "                                                    test_size=0.2)\n",
    "X_pure_train, X_val, y_pure_train, y_val =\\\n",
    "    train_test_split(X_train, y_train,\n",
    "                     random_state=42, test_size=0.2)\n",
    "X_pure_train, X_val, X_test = X_pure_train/16, X_val/16, X_test/16"
   ]
  },
  {
   "cell_type": "markdown",
   "metadata": {
    "hidden": true
   },
   "source": [
    "For a multiclass output, our neural net expects our target to be in a certain form."
   ]
  },
  {
   "cell_type": "code",
   "execution_count": 52,
   "metadata": {
    "ExecuteTime": {
     "end_time": "2022-09-01T22:55:26.700824Z",
     "start_time": "2022-09-01T22:55:20.470Z"
    },
    "hidden": true
   },
   "outputs": [],
   "source": [
    "ohe = OneHotEncoder(sparse=False)\n",
    "y_pure_train = ohe.fit_transform(y_pure_train.reshape(-1,1))\n",
    "y_val = ohe.transform(y_val.reshape(-1,1))\n",
    "y_test = ohe.transform(y_test.reshape(-1,1))"
   ]
  },
  {
   "cell_type": "code",
   "execution_count": 53,
   "metadata": {
    "ExecuteTime": {
     "end_time": "2022-09-01T22:55:26.701818Z",
     "start_time": "2022-09-01T22:55:20.472Z"
    },
    "hidden": true
   },
   "outputs": [
    {
     "data": {
      "text/plain": [
       "array([[0., 0., 0., ..., 0., 0., 0.],\n",
       "       [0., 0., 0., ..., 0., 0., 1.],\n",
       "       [0., 0., 0., ..., 0., 0., 0.],\n",
       "       ...,\n",
       "       [0., 0., 0., ..., 0., 1., 0.],\n",
       "       [0., 0., 0., ..., 0., 0., 0.],\n",
       "       [0., 0., 0., ..., 0., 0., 0.]])"
      ]
     },
     "execution_count": 53,
     "metadata": {},
     "output_type": "execute_result"
    }
   ],
   "source": [
    "y_test"
   ]
  },
  {
   "cell_type": "code",
   "execution_count": 55,
   "metadata": {},
   "outputs": [
    {
     "data": {
      "text/plain": [
       "(360, 10)"
      ]
     },
     "execution_count": 55,
     "metadata": {},
     "output_type": "execute_result"
    }
   ],
   "source": [
    "y_test.shape"
   ]
  },
  {
   "cell_type": "code",
   "execution_count": 54,
   "metadata": {
    "ExecuteTime": {
     "end_time": "2022-09-01T22:55:26.702823Z",
     "start_time": "2022-09-01T22:55:20.473Z"
    },
    "hidden": true
   },
   "outputs": [
    {
     "name": "stdout",
     "output_type": "stream",
     "text": [
      "Epoch 1/50\n",
      "115/115 [==============================] - 0s 2ms/step - loss: 2.2553 - accuracy: 0.1775 - val_loss: 2.1762 - val_accuracy: 0.2326\n",
      "Epoch 2/50\n",
      "115/115 [==============================] - 0s 939us/step - loss: 2.0064 - accuracy: 0.3412 - val_loss: 1.9139 - val_accuracy: 0.3507\n",
      "Epoch 3/50\n",
      "115/115 [==============================] - 0s 1ms/step - loss: 1.7149 - accuracy: 0.4160 - val_loss: 1.6649 - val_accuracy: 0.4410\n",
      "Epoch 4/50\n",
      "115/115 [==============================] - 0s 2ms/step - loss: 1.4808 - accuracy: 0.4926 - val_loss: 1.4590 - val_accuracy: 0.5243\n",
      "Epoch 5/50\n",
      "115/115 [==============================] - 0s 2ms/step - loss: 1.2734 - accuracy: 0.5648 - val_loss: 1.2614 - val_accuracy: 0.6007\n",
      "Epoch 6/50\n",
      "115/115 [==============================] - 0s 1000us/step - loss: 1.0532 - accuracy: 0.6623 - val_loss: 1.0288 - val_accuracy: 0.6597\n",
      "Epoch 7/50\n",
      "115/115 [==============================] - 0s 1ms/step - loss: 0.8290 - accuracy: 0.7485 - val_loss: 0.8140 - val_accuracy: 0.7222\n",
      "Epoch 8/50\n",
      "115/115 [==============================] - 0s 1000us/step - loss: 0.6414 - accuracy: 0.8364 - val_loss: 0.6231 - val_accuracy: 0.8299\n",
      "Epoch 9/50\n",
      "115/115 [==============================] - 0s 1ms/step - loss: 0.5164 - accuracy: 0.8816 - val_loss: 0.5161 - val_accuracy: 0.8646\n",
      "Epoch 10/50\n",
      "115/115 [==============================] - 0s 1ms/step - loss: 0.4376 - accuracy: 0.8947 - val_loss: 0.4557 - val_accuracy: 0.8819\n",
      "Epoch 11/50\n",
      "115/115 [==============================] - 0s 1ms/step - loss: 0.3734 - accuracy: 0.9104 - val_loss: 0.4027 - val_accuracy: 0.8924\n",
      "Epoch 12/50\n",
      "115/115 [==============================] - 0s 1ms/step - loss: 0.3297 - accuracy: 0.9112 - val_loss: 0.3664 - val_accuracy: 0.8854\n",
      "Epoch 13/50\n",
      "115/115 [==============================] - 0s 1ms/step - loss: 0.2986 - accuracy: 0.9278 - val_loss: 0.3228 - val_accuracy: 0.9062\n",
      "Epoch 14/50\n",
      "115/115 [==============================] - 0s 965us/step - loss: 0.2699 - accuracy: 0.9278 - val_loss: 0.3135 - val_accuracy: 0.9097\n",
      "Epoch 15/50\n",
      "115/115 [==============================] - 0s 904us/step - loss: 0.2531 - accuracy: 0.9339 - val_loss: 0.2846 - val_accuracy: 0.9132\n",
      "Epoch 16/50\n",
      "115/115 [==============================] - 0s 835us/step - loss: 0.2297 - accuracy: 0.9382 - val_loss: 0.2781 - val_accuracy: 0.9167\n",
      "Epoch 17/50\n",
      "115/115 [==============================] - 0s 870us/step - loss: 0.2149 - accuracy: 0.9382 - val_loss: 0.2467 - val_accuracy: 0.9201\n",
      "Epoch 18/50\n",
      "115/115 [==============================] - 0s 826us/step - loss: 0.2022 - accuracy: 0.9478 - val_loss: 0.2365 - val_accuracy: 0.9375\n",
      "Epoch 19/50\n",
      "115/115 [==============================] - 0s 870us/step - loss: 0.1902 - accuracy: 0.9495 - val_loss: 0.2262 - val_accuracy: 0.9340\n",
      "Epoch 20/50\n",
      "115/115 [==============================] - 0s 1ms/step - loss: 0.1798 - accuracy: 0.9460 - val_loss: 0.2108 - val_accuracy: 0.9444\n",
      "Epoch 21/50\n",
      "115/115 [==============================] - 0s 956us/step - loss: 0.1691 - accuracy: 0.9539 - val_loss: 0.2104 - val_accuracy: 0.9340\n",
      "Epoch 22/50\n",
      "115/115 [==============================] - 0s 913us/step - loss: 0.1597 - accuracy: 0.9574 - val_loss: 0.2032 - val_accuracy: 0.9340\n",
      "Epoch 23/50\n",
      "115/115 [==============================] - 0s 852us/step - loss: 0.1517 - accuracy: 0.9617 - val_loss: 0.1985 - val_accuracy: 0.9271\n",
      "Epoch 24/50\n",
      "115/115 [==============================] - 0s 1ms/step - loss: 0.1448 - accuracy: 0.9652 - val_loss: 0.1755 - val_accuracy: 0.9340\n",
      "Epoch 25/50\n",
      "115/115 [==============================] - 0s 2ms/step - loss: 0.1395 - accuracy: 0.9695 - val_loss: 0.1772 - val_accuracy: 0.9444\n",
      "Epoch 26/50\n",
      "115/115 [==============================] - 0s 2ms/step - loss: 0.1329 - accuracy: 0.9643 - val_loss: 0.1726 - val_accuracy: 0.9306\n",
      "Epoch 27/50\n",
      "115/115 [==============================] - 0s 1ms/step - loss: 0.1260 - accuracy: 0.9695 - val_loss: 0.1661 - val_accuracy: 0.9410\n",
      "Epoch 28/50\n",
      "115/115 [==============================] - 0s 1ms/step - loss: 0.1226 - accuracy: 0.9730 - val_loss: 0.1732 - val_accuracy: 0.9340\n",
      "Epoch 29/50\n",
      "115/115 [==============================] - 0s 896us/step - loss: 0.1168 - accuracy: 0.9756 - val_loss: 0.1543 - val_accuracy: 0.9444\n",
      "Epoch 30/50\n",
      "115/115 [==============================] - 0s 878us/step - loss: 0.1122 - accuracy: 0.9774 - val_loss: 0.1540 - val_accuracy: 0.9444\n",
      "Epoch 31/50\n",
      "115/115 [==============================] - 0s 1ms/step - loss: 0.1065 - accuracy: 0.9739 - val_loss: 0.1531 - val_accuracy: 0.9410\n",
      "Epoch 32/50\n",
      "115/115 [==============================] - 0s 922us/step - loss: 0.1044 - accuracy: 0.9748 - val_loss: 0.1433 - val_accuracy: 0.9410\n",
      "Epoch 33/50\n",
      "115/115 [==============================] - 0s 922us/step - loss: 0.0982 - accuracy: 0.9791 - val_loss: 0.1368 - val_accuracy: 0.9444\n",
      "Epoch 34/50\n",
      "115/115 [==============================] - 0s 861us/step - loss: 0.0949 - accuracy: 0.9782 - val_loss: 0.1311 - val_accuracy: 0.9479\n",
      "Epoch 35/50\n",
      "115/115 [==============================] - 0s 913us/step - loss: 0.0910 - accuracy: 0.9843 - val_loss: 0.1320 - val_accuracy: 0.9549\n",
      "Epoch 36/50\n",
      "115/115 [==============================] - 0s 1ms/step - loss: 0.0901 - accuracy: 0.9817 - val_loss: 0.1311 - val_accuracy: 0.9514\n",
      "Epoch 37/50\n",
      "115/115 [==============================] - 0s 878us/step - loss: 0.0825 - accuracy: 0.9835 - val_loss: 0.1216 - val_accuracy: 0.9549\n",
      "Epoch 38/50\n",
      "115/115 [==============================] - 0s 887us/step - loss: 0.0820 - accuracy: 0.9861 - val_loss: 0.1314 - val_accuracy: 0.9479\n",
      "Epoch 39/50\n",
      "115/115 [==============================] - 0s 800us/step - loss: 0.0803 - accuracy: 0.9852 - val_loss: 0.1171 - val_accuracy: 0.9549\n",
      "Epoch 40/50\n",
      "115/115 [==============================] - 0s 939us/step - loss: 0.0777 - accuracy: 0.9835 - val_loss: 0.1236 - val_accuracy: 0.9618\n",
      "Epoch 41/50\n",
      "115/115 [==============================] - 0s 878us/step - loss: 0.0731 - accuracy: 0.9817 - val_loss: 0.1110 - val_accuracy: 0.9549\n",
      "Epoch 42/50\n",
      "115/115 [==============================] - 0s 826us/step - loss: 0.0725 - accuracy: 0.9861 - val_loss: 0.1144 - val_accuracy: 0.9549\n",
      "Epoch 43/50\n",
      "115/115 [==============================] - 0s 843us/step - loss: 0.0694 - accuracy: 0.9861 - val_loss: 0.1069 - val_accuracy: 0.9618\n",
      "Epoch 44/50\n",
      "115/115 [==============================] - 0s 896us/step - loss: 0.0654 - accuracy: 0.9878 - val_loss: 0.1068 - val_accuracy: 0.9549\n",
      "Epoch 45/50\n",
      "115/115 [==============================] - 0s 887us/step - loss: 0.0647 - accuracy: 0.9852 - val_loss: 0.1120 - val_accuracy: 0.9549\n",
      "Epoch 46/50\n",
      "115/115 [==============================] - 0s 922us/step - loss: 0.0619 - accuracy: 0.9878 - val_loss: 0.1064 - val_accuracy: 0.9583\n",
      "Epoch 47/50\n",
      "115/115 [==============================] - 0s 913us/step - loss: 0.0607 - accuracy: 0.9878 - val_loss: 0.1058 - val_accuracy: 0.9549\n",
      "Epoch 48/50\n",
      "115/115 [==============================] - 0s 983us/step - loss: 0.0595 - accuracy: 0.9861 - val_loss: 0.1081 - val_accuracy: 0.9618\n",
      "Epoch 49/50\n",
      "115/115 [==============================] - 0s 852us/step - loss: 0.0591 - accuracy: 0.9869 - val_loss: 0.1032 - val_accuracy: 0.9583\n",
      "Epoch 50/50\n",
      "115/115 [==============================] - 0s 904us/step - loss: 0.0539 - accuracy: 0.9904 - val_loss: 0.0989 - val_accuracy: 0.9583\n"
     ]
    }
   ],
   "source": [
    "# Model from above, but now with ten output neurons:\n",
    "\n",
    "model = Sequential()\n",
    "model.add(Dense(12, activation='relu', input_dim=64))\n",
    "model.add(Dense(8, activation='relu'))\n",
    "model.add(Dense(10, activation='softmax'))\n",
    "\n",
    "model.compile(optimizer='adam',\n",
    "              loss='categorical_crossentropy',\n",
    "              metrics=['accuracy'])\n",
    "\n",
    "results = model.fit(X_pure_train, y_pure_train,\n",
    "                   epochs=50, batch_size=10,\n",
    "                   validation_data=(X_val, y_val))"
   ]
  },
  {
   "cell_type": "markdown",
   "metadata": {
    "hidden": true
   },
   "source": [
    "$$\\large \\text{Softmax}(x_{i}) = \\frac{\\exp(x_i)}{\\sum_j \\exp(x_j)}$$\n",
    "\n",
    "The sofmax function outputs a number between 0 and 1 for each of our classes.  All of the probabilities of the classes sum up to 1.\n",
    "\n",
    "The number of nodes in our output layer equals the number of categories in our dataset.\n",
    "\n",
    "We also need a new loss function: **categorical crossentropy**, which calculates a separate loss for each label and then sums the results."
   ]
  },
  {
   "cell_type": "code",
   "execution_count": 56,
   "metadata": {
    "ExecuteTime": {
     "end_time": "2022-09-01T22:55:26.703326Z",
     "start_time": "2022-09-01T22:55:20.474Z"
    },
    "hidden": true
   },
   "outputs": [],
   "source": [
    "history = results.history\n",
    "training_loss = history['loss']\n",
    "val_loss = history['val_loss']\n",
    "training_accuracy = history['accuracy']\n",
    "val_accuracy = history['val_accuracy']"
   ]
  },
  {
   "cell_type": "code",
   "execution_count": 57,
   "metadata": {
    "ExecuteTime": {
     "end_time": "2022-09-01T22:55:26.704300Z",
     "start_time": "2022-09-01T22:55:20.476Z"
    },
    "hidden": true
   },
   "outputs": [
    {
     "data": {
      "image/png": "[encoded data removed]",
      "text/plain": [
       "<Figure size 1080x360 with 2 Axes>"
      ]
     },
     "metadata": {
      "needs_background": "light"
     },
     "output_type": "display_data"
    }
   ],
   "source": [
    "fig, (ax1,ax2) = plt.subplots(1,2,figsize=(15,5))\n",
    "\n",
    "\n",
    "sns.lineplot(x=list(range(len(training_loss))),\n",
    "             y=training_loss, color='r', label='training', ax=ax1)\n",
    "sns.lineplot(x=list(range(len(val_loss))),\n",
    "             y=val_loss, color='b', label='validation', ax=ax1)\n",
    "sns.lineplot(x=list(range(len(training_loss))),\n",
    "             y=training_accuracy, color='r', label='training',ax=ax2)\n",
    "sns.lineplot(x=list(range(len(val_loss))),\n",
    "             y=val_accuracy, color='b', label='validation',ax=ax2)\n",
    "\n",
    "ax1.set_title('Loss')\n",
    "ax2.set_title('Accuracy')\n",
    "ax1.legend();"
   ]
  },
  {
   "cell_type": "markdown",
   "metadata": {
    "hidden": true
   },
   "source": [
    "Wow, look at that performance!  \n",
    "\n",
    "That is great, but remember, we were dealing with simple black and white images.  With color, our basic neural net will have less success.\n",
    "\n",
    "We will explore more advanced tools in the coming days.\n"
   ]
  }
 ],
 "metadata": {
  "celltoolbar": "Raw Cell Format",
  "colab": {
   "collapsed_sections": [],
   "name": "intro-to-keras.ipynb",
   "provenance": []
  },
  "kernelspec": {
   "display_name": "Python (learn-env)",
   "language": "python",
   "name": "learn-env"
  },
  "language_info": {
   "codemirror_mode": {
    "name": "ipython",
    "version": 3
   },
   "file_extension": ".py",
   "mimetype": "text/x-python",
   "name": "python",
   "nbconvert_exporter": "python",
   "pygments_lexer": "ipython3",
   "version": "3.8.5"
  },
  "toc": {
   "base_numbering": 1,
   "nav_menu": {},
   "number_sections": true,
   "sideBar": true,
   "skip_h1_title": false,
   "title_cell": "Table of Contents",
   "title_sidebar": "Contents",
   "toc_cell": false,
   "toc_position": {},
   "toc_section_display": true,
   "toc_window_display": true
  },
  "varInspector": {
   "cols": {
    "lenName": 16,
    "lenType": 16,
    "lenVar": 40
   },
   "kernels_config": {
    "python": {
     "delete_cmd_postfix": "",
     "delete_cmd_prefix": "del ",
     "library": "var_list.py",
     "varRefreshCmd": "print(var_dic_list())"
    },
    "r": {
     "delete_cmd_postfix": ") ",
     "delete_cmd_prefix": "rm(",
     "library": "var_list.r",
     "varRefreshCmd": "cat(var_dic_list()) "
    }
   },
   "types_to_exclude": [
    "module",
    "function",
    "builtin_function_or_method",
    "instance",
    "_Feature"
   ],
   "window_display": false
  }
 },
 "nbformat": 4,
 "nbformat_minor": 4
}
