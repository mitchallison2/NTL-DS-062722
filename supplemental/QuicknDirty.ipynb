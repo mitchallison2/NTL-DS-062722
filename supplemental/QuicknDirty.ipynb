{
 "cells": [
  {
   "cell_type": "code",
   "execution_count": null,
   "id": "893b0bdc",
   "metadata": {
    "ExecuteTime": {
     "end_time": "2022-08-11T02:32:00.473441Z",
     "start_time": "2022-08-11T02:32:00.459440Z"
    }
   },
   "outputs": [],
   "source": [
    "import pandas as pd\n",
    "from pandas_profiling import ProfileReport\n",
    "from sklearn.linear_model import Ridge, LinearRegression\n",
    "from sklearn.model_selection import train_test_split, KFold\n",
    "from sklearn.metrics import mean_squared_error"
   ]
  },
  {
   "cell_type": "markdown",
   "id": "bb5e7fb7",
   "metadata": {},
   "source": [
    "First, a [new tool](https://pandas-profiling.ydata.ai/docs/master/pages/getting_started/overview.html)"
   ]
  },
  {
   "cell_type": "code",
   "execution_count": null,
   "id": "5977eb98",
   "metadata": {
    "ExecuteTime": {
     "end_time": "2022-08-11T00:01:49.648578Z",
     "start_time": "2022-08-11T00:01:49.637570Z"
    }
   },
   "outputs": [],
   "source": [
    "# You'll thank me later\n",
    "\n",
    "# pip install pandas-profiling==3.2.0\n",
    "\n",
    "#might through an error abou markupsafe, need to downgrade\n",
    "# pip install markupsafe==2.0.1"
   ]
  },
  {
   "cell_type": "markdown",
   "id": "5bfcacf1",
   "metadata": {},
   "source": [
    "Let's do a quick and dirty eval.\n",
    "\n",
    "Steps.\n",
    "\n",
    "1. Data check\n",
    "    - Type\n",
    "    - Describe\n",
    "    - Info\n",
    "\n",
    "\n",
    "2. Data Quality\n",
    "    - Nulls\n",
    "    - Duplicates\n",
    "    - Incorrect types\n",
    "  \n",
    "  \n",
    "3. TTS\n",
    "\n",
    "4. StandardScaler\n",
    "\n",
    "5. OHE\n",
    "\n",
    "6. Dummy\n",
    "\n",
    "7. FSM"
   ]
  },
  {
   "cell_type": "code",
   "execution_count": null,
   "id": "375bc08c",
   "metadata": {
    "ExecuteTime": {
     "end_time": "2022-08-11T00:01:50.789305Z",
     "start_time": "2022-08-11T00:01:50.770083Z"
    }
   },
   "outputs": [],
   "source": [
    "df = pd.read_csv('./data/imports-85.csv')"
   ]
  },
  {
   "cell_type": "code",
   "execution_count": null,
   "id": "ef9e1f98",
   "metadata": {
    "ExecuteTime": {
     "end_time": "2022-08-11T00:01:51.128947Z",
     "start_time": "2022-08-11T00:01:51.099949Z"
    }
   },
   "outputs": [],
   "source": [
    "df.head()"
   ]
  },
  {
   "cell_type": "code",
   "execution_count": null,
   "id": "ccb5bfee",
   "metadata": {
    "ExecuteTime": {
     "end_time": "2022-08-11T00:01:51.407947Z",
     "start_time": "2022-08-11T00:01:51.394417Z"
    }
   },
   "outputs": [],
   "source": [
    "profile = ProfileReport(df, title=\"cars\")"
   ]
  },
  {
   "cell_type": "code",
   "execution_count": null,
   "id": "2e165a36",
   "metadata": {
    "ExecuteTime": {
     "end_time": "2022-08-11T00:02:16.249614Z",
     "start_time": "2022-08-11T00:01:52.349966Z"
    },
    "scrolled": false
   },
   "outputs": [],
   "source": [
    "profile.to_notebook_iframe()"
   ]
  }
 ],
 "metadata": {
  "kernelspec": {
   "display_name": "learn-env",
   "language": "python",
   "name": "learn-env"
  },
  "language_info": {
   "codemirror_mode": {
    "name": "ipython",
    "version": 3
   },
   "file_extension": ".py",
   "mimetype": "text/x-python",
   "name": "python",
   "nbconvert_exporter": "python",
   "pygments_lexer": "ipython3",
   "version": "3.8.5"
  },
  "toc": {
   "base_numbering": 1,
   "nav_menu": {},
   "number_sections": true,
   "sideBar": true,
   "skip_h1_title": false,
   "title_cell": "Table of Contents",
   "title_sidebar": "Contents",
   "toc_cell": false,
   "toc_position": {},
   "toc_section_display": true,
   "toc_window_display": false
  },
  "varInspector": {
   "cols": {
    "lenName": 16,
    "lenType": 16,
    "lenVar": 40
   },
   "kernels_config": {
    "python": {
     "delete_cmd_postfix": "",
     "delete_cmd_prefix": "del ",
     "library": "var_list.py",
     "varRefreshCmd": "print(var_dic_list())"
    },
    "r": {
     "delete_cmd_postfix": ") ",
     "delete_cmd_prefix": "rm(",
     "library": "var_list.r",
     "varRefreshCmd": "cat(var_dic_list()) "
    }
   },
   "types_to_exclude": [
    "module",
    "function",
    "builtin_function_or_method",
    "instance",
    "_Feature"
   ],
   "window_display": false
  }
 },
 "nbformat": 4,
 "nbformat_minor": 5
}
